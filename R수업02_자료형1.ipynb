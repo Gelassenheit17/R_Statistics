{
  "nbformat": 4,
  "nbformat_minor": 0,
  "metadata": {
    "colab": {
      "name": "R수업02_자료형1.ipynb",
      "provenance": [],
      "authorship_tag": "ABX9TyPp8tsF6qm/FMbjAyYTpeey",
      "include_colab_link": true
    },
    "kernelspec": {
      "name": "ir",
      "display_name": "R"
    }
  },
  "cells": [
    {
      "cell_type": "markdown",
      "metadata": {
        "id": "view-in-github",
        "colab_type": "text"
      },
      "source": [
        "<a href=\"https://colab.research.google.com/github/Gelassenheit17/R_Statistics/blob/master/R%EC%88%98%EC%97%8502_%EC%9E%90%EB%A3%8C%ED%98%951.ipynb\" target=\"_parent\"><img src=\"https://colab.research.google.com/assets/colab-badge.svg\" alt=\"Open In Colab\"/></a>"
      ]
    },
    {
      "cell_type": "markdown",
      "metadata": {
        "id": "ith9MZCpj-Mi",
        "colab_type": "text"
      },
      "source": [
        "#R의 연산자"
      ]
    },
    {
      "cell_type": "code",
      "metadata": {
        "id": "-waldEePkKk7",
        "colab_type": "code",
        "colab": {
          "base_uri": "https://localhost:8080/",
          "height": 34
        },
        "outputId": "a73d0dc3-5612-4a18-ecf9-fee88dc70bd5"
      },
      "source": [
        "3+5+8"
      ],
      "execution_count": 1,
      "outputs": [
        {
          "output_type": "display_data",
          "data": {
            "text/plain": [
              "[1] 16"
            ],
            "text/latex": "16",
            "text/markdown": "16",
            "text/html": [
              "16"
            ]
          },
          "metadata": {
            "tags": []
          }
        }
      ]
    },
    {
      "cell_type": "code",
      "metadata": {
        "id": "0VexrUw6vb7i",
        "colab_type": "code",
        "colab": {}
      },
      "source": [
        "#산술연산자"
      ],
      "execution_count": 4,
      "outputs": []
    },
    {
      "cell_type": "code",
      "metadata": {
        "id": "03XV-oaUklUq",
        "colab_type": "code",
        "colab": {
          "base_uri": "https://localhost:8080/",
          "height": 125
        },
        "outputId": "8ce8f3e2-7623-46e2-f23f-cdda2dd25263"
      },
      "source": [
        "#산술연산자 : +-* / % ^\n",
        "print( 3 + 5 + 8 )\n",
        "print( 9 - 3 )\n",
        "print( 7 * 5 )\n",
        "print( 10 / 3 ) \n",
        "print( 10 %% 3)\n",
        "print( 2 ^ 4 )"
      ],
      "execution_count": 3,
      "outputs": [
        {
          "output_type": "stream",
          "text": [
            "[1] 16\n",
            "[1] 6\n",
            "[1] 35\n",
            "[1] 3.333333\n",
            "[1] 1\n",
            "[1] 16\n"
          ],
          "name": "stdout"
        }
      ]
    },
    {
      "cell_type": "code",
      "metadata": {
        "id": "5fP0TytJwynQ",
        "colab_type": "code",
        "colab": {
          "base_uri": "https://localhost:8080/",
          "height": 89
        },
        "outputId": "e2cc69cf-e6ba-4c0a-a28c-c66b57e93e53"
      },
      "source": [
        "# 리터럴 기반 연산\n",
        "print( 8 + 5 )\n",
        "print( 8 - 5 )\n",
        "print( 8 * 5 )\n",
        "print( 8 / 5 )"
      ],
      "execution_count": 5,
      "outputs": [
        {
          "output_type": "stream",
          "text": [
            "[1] 13\n",
            "[1] 3\n",
            "[1] 40\n",
            "[1] 1.6\n"
          ],
          "name": "stdout"
        }
      ]
    },
    {
      "cell_type": "code",
      "metadata": {
        "id": "F5Y-suiSxKUr",
        "colab_type": "code",
        "colab": {
          "base_uri": "https://localhost:8080/",
          "height": 89
        },
        "outputId": "0f172641-5126-4914-e3d4-31b246203507"
      },
      "source": [
        "# 변수 기반 연산\n",
        "a <- 8\n",
        "b <- 5\n",
        "print( a + b )\n",
        "print( a - b )\n",
        "print( a * b )\n",
        "print( a / b )"
      ],
      "execution_count": 6,
      "outputs": [
        {
          "output_type": "stream",
          "text": [
            "[1] 13\n",
            "[1] 3\n",
            "[1] 40\n",
            "[1] 1.6\n"
          ],
          "name": "stdout"
        }
      ]
    },
    {
      "cell_type": "code",
      "metadata": {
        "id": "Z4xYZ3__yC3b",
        "colab_type": "code",
        "colab": {
          "base_uri": "https://localhost:8080/",
          "height": 34
        },
        "outputId": "0ec4cac9-f24c-48a0-863b-f3d7a0fdb422"
      },
      "source": [
        "# 성적처리 (이름, 국어, 영어, 수학, 총점, 평균)\n",
        "# sprintf('출력형식'. 변수들....)\n",
        "# 출력형식 : %d(정수), %f(실수), %s(문자열)\n",
        "name <- '혜교'\n",
        "kor <- 98\n",
        "eng <- 56\n",
        "mat <- 78\n",
        "tot <- kor + eng + mat\n",
        "avg <- tot / 3\n",
        "sprintf('%s %d %d %d %d %.1f', name, kor, eng, mat, tot, avg)"
      ],
      "execution_count": 9,
      "outputs": [
        {
          "output_type": "display_data",
          "data": {
            "text/plain": [
              "[1] \"혜교 98 56 78 232 77.3\""
            ],
            "text/latex": "'혜교 98 56 78 232 77.3'",
            "text/markdown": "'혜교 98 56 78 232 77.3'",
            "text/html": [
              "'혜교 98 56 78 232 77.3'"
            ]
          },
          "metadata": {
            "tags": []
          }
        }
      ]
    },
    {
      "cell_type": "code",
      "metadata": {
        "id": "NfLeXPIo0Avq",
        "colab_type": "code",
        "colab": {
          "base_uri": "https://localhost:8080/",
          "height": 34
        },
        "outputId": "2e6d99e1-0aa7-4252-9e0e-904ef6b50d51"
      },
      "source": [
        "name <- '혜교'\n",
        "kor <- 98\n",
        "eng <- 56\n",
        "mat <- 78\n",
        "tot <- kor + eng + mat\n",
        "avg <- tot / 3\n",
        "sprintf('%s %d %d %d %d %f', name, kor, eng, mat, tot, avg)"
      ],
      "execution_count": 10,
      "outputs": [
        {
          "output_type": "display_data",
          "data": {
            "text/plain": [
              "[1] \"혜교 98 56 78 232 77.333333\""
            ],
            "text/latex": "'혜교 98 56 78 232 77.333333'",
            "text/markdown": "'혜교 98 56 78 232 77.333333'",
            "text/html": [
              "'혜교 98 56 78 232 77.333333'"
            ]
          },
          "metadata": {
            "tags": []
          }
        }
      ]
    },
    {
      "cell_type": "code",
      "metadata": {
        "id": "IwpoEhFW0V5Q",
        "colab_type": "code",
        "colab": {
          "base_uri": "https://localhost:8080/",
          "height": 89
        },
        "outputId": "c05787e3-0320-4045-d68a-fa3e1cd8e42a"
      },
      "source": [
        "# 벡터 : 1차원 배열 \n",
        "# 변수명 <- c(값, 값, 값, ...)\n",
        "names <- c('철수', '혜련', '재국', '원식', '대열')\n",
        "kors <- c(90,95,85,70,80)\n",
        "engs <- c(85,90,70,65,80)\n",
        "mats <- c(60,85,75,80,85)\n",
        "print(names)\n",
        "print(kors)\n",
        "print(engs)\n",
        "print(mats)"
      ],
      "execution_count": 16,
      "outputs": [
        {
          "output_type": "stream",
          "text": [
            "[1] \"철수\" \"혜련\" \"재국\" \"원식\" \"대열\"\n",
            "[1] 90 95 85 70 80\n",
            "[1] 85 90 70 65 80\n",
            "[1] 60 85 75 80 85\n"
          ],
          "name": "stdout"
        }
      ]
    },
    {
      "cell_type": "code",
      "metadata": {
        "id": "T2b1lsuT3c21",
        "colab_type": "code",
        "colab": {
          "base_uri": "https://localhost:8080/",
          "height": 53
        },
        "outputId": "e927f9ea-221e-4ce0-b4db-0c0569dff5ad"
      },
      "source": [
        "# 벡터 연산\n",
        "tots <- kors + engs + mats\n",
        "avgs <- tots / 3\n",
        "print(tots)\n",
        "print(avgs)"
      ],
      "execution_count": 18,
      "outputs": [
        {
          "output_type": "stream",
          "text": [
            "[1] 235 270 230 215 245\n",
            "[1] 78.33333 90.00000 76.66667 71.66667 81.66667\n"
          ],
          "name": "stdout"
        }
      ]
    },
    {
      "cell_type": "code",
      "metadata": {
        "id": "pvL7mknM4h8C",
        "colab_type": "code",
        "colab": {
          "base_uri": "https://localhost:8080/",
          "height": 136
        },
        "outputId": "cb19bbfa-0d78-48b4-c1f3-285aca5a1896"
      },
      "source": [
        "# 통계함수\n",
        "mkor <- mean(kors) # 평균\n",
        "mdkor <- median(kors) # 중앙값\n",
        "mxkor <- max(kors) # 최대값\n",
        "mnkor <- min(kors) #최소값\n",
        "sdkor <- sd(kors) # 표준편차\n",
        "rkor <- range(kors) # 범위\n",
        "# 범위\n",
        "# 데이터 갯수\n",
        " print(mkor)\n",
        " print\n",
        " print(mxkor)"
      ],
      "execution_count": 23,
      "outputs": [
        {
          "output_type": "stream",
          "text": [
            "[1] 84\n",
            "[1] 85\n"
          ],
          "name": "stdout"
        },
        {
          "output_type": "error",
          "ename": "ERROR",
          "evalue": "ignored",
          "traceback": [
            "Error in promt(meng): could not find function \"promt\"\nTraceback:\n"
          ]
        }
      ]
    },
    {
      "cell_type": "code",
      "metadata": {
        "id": "1MG_0Uh29QUj",
        "colab_type": "code",
        "colab": {
          "base_uri": "https://localhost:8080/",
          "height": 53
        },
        "outputId": "ac6231e5-b0de-493d-90c7-7caf50550d94"
      },
      "source": [
        "# 벡터에 논리연산 적용\n",
        "lg1 <- mean(kors) < mean(engs)\n",
        "lg2 <- mean(kors) < mean(engs) & mean(kors) < mean(mats)\n",
        "print(lg1)\n",
        "print(lg2)"
      ],
      "execution_count": 24,
      "outputs": [
        {
          "output_type": "stream",
          "text": [
            "[1] FALSE\n",
            "[1] FALSE\n"
          ],
          "name": "stdout"
        }
      ]
    },
    {
      "cell_type": "code",
      "metadata": {
        "id": "ijvciR1P8xTq",
        "colab_type": "code",
        "colab": {}
      },
      "source": [
        ""
      ],
      "execution_count": null,
      "outputs": []
    },
    {
      "cell_type": "code",
      "metadata": {
        "id": "4Cibxi3G-VVy",
        "colab_type": "code",
        "colab": {
          "base_uri": "https://localhost:8080/",
          "height": 542
        },
        "outputId": "bd3c6a09-d20a-4fc0-eb5f-14628b0e1e8e"
      },
      "source": [
        "# 신생아 월별 몸무게 변화\n",
        "ages <- c(1,3,5,2,11,9,3,9,12,3)\n",
        "weights <- c(4.4,5.3,7.2,5.2,8.5,7.3,6.0,10.4,10.2,6.1)\n",
        "print(ages)\n",
        "print(weights)\n",
        "\n",
        "#기술통계\n",
        "mean(ages)\n",
        "mean(weights)\n",
        "print (mean(ages))\n",
        "median(weights)\n",
        "# 시각화\n",
        "plot(ages, weights)\n",
        "# 회귀분석\n",
        "plot(ages, weights)\n",
        "m <- lm(weights~ages)\n",
        "abline(m, col='red')"
      ],
      "execution_count": 39,
      "outputs": [
        {
          "output_type": "stream",
          "text": [
            " [1]  1  3  5  2 11  9  3  9 12  3\n",
            " [1]  4.4  5.3  7.2  5.2  8.5  7.3  6.0 10.4 10.2  6.1\n"
          ],
          "name": "stdout"
        },
        {
          "output_type": "display_data",
          "data": {
            "text/plain": [
              "[1] 5.8"
            ],
            "text/latex": "5.8",
            "text/markdown": "5.8",
            "text/html": [
              "5.8"
            ]
          },
          "metadata": {
            "tags": []
          }
        },
        {
          "output_type": "display_data",
          "data": {
            "text/plain": [
              "[1] 7.06"
            ],
            "text/latex": "7.06",
            "text/markdown": "7.06",
            "text/html": [
              "7.06"
            ]
          },
          "metadata": {
            "tags": []
          }
        },
        {
          "output_type": "stream",
          "text": [
            "[1] 5.8\n"
          ],
          "name": "stdout"
        },
        {
          "output_type": "display_data",
          "data": {
            "text/plain": [
              "[1] 6.65"
            ],
            "text/latex": "6.65",
            "text/markdown": "6.65",
            "text/html": [
              "6.65"
            ]
          },
          "metadata": {
            "tags": []
          }
        },
        {
          "output_type": "display_data",
          "data": {
            "image/png": "[encoded data removed]",
            "text/plain": [
              "plot without title"
            ]
          },
          "metadata": {
            "tags": [],
            "image/png": {
              "width": 420,
              "height": 420
            }
          }
        }
      ]
    },
    {
      "cell_type": "code",
      "metadata": {
        "id": "jwSI0tlSAQWr",
        "colab_type": "code",
        "colab": {
          "base_uri": "https://localhost:8080/",
          "height": 89
        },
        "outputId": "a9802169-cdf7-4ed1-b4fe-e854a8c04781"
      },
      "source": [
        "# 환자별 약물 투여 결과\n",
        "pat <- c(1,2,3,4)\n",
        "date <- c('10.15.2014','11.01.2014','10.21.2014','10.28.2014')\n",
        "diabets <- c('T1','T2','T1','T1')\n",
        "Status <- c('P','I','E','P')\n",
        "print(pat)\n",
        "print(date)\n",
        "print(Status)\n",
        "print(diabets)\n"
      ],
      "execution_count": 32,
      "outputs": [
        {
          "output_type": "stream",
          "text": [
            "[1] 1 2 3 4\n",
            "[1] \"10.15.2014\" \"11.01.2014\" \"10.21.2014\" \"10.28.2014\"\n",
            "[1] \"P\" \"I\" \"E\" \"P\"\n",
            "[1] \"T1\" \"T2\" \"T1\" \"T1\"\n"
          ],
          "name": "stdout"
        }
      ]
    },
    {
      "cell_type": "code",
      "metadata": {
        "id": "MHGR17SyBob1",
        "colab_type": "code",
        "colab": {
          "base_uri": "https://localhost:8080/",
          "height": 437
        },
        "outputId": "e4db082e-88a4-4388-a9f9-86511ae890c9"
      },
      "source": [
        "# 매니저 평점 분석\n",
        "manager <- c(1,2,3,4,5)\n",
        "country <- c('US','US','UK','UK','UK')\n",
        "gender <- c('m','f','f','m','f')\n",
        "frq_c <- table(country)\n",
        "barplot(frq_c)\n",
        "date <- c('2014-10-24', '2014-10-28','2014-10-01','2014-10-12','2014-05-01')\n",
        "marage <- c(32,45,25,39,99)\n",
        "q1 <- c(5,3,3,3,2)\n",
        "q2 <- c(4,5,5,3,2)\n",
        "q3 <- c( 5,2,5,4,1)\n",
        "q4 <- c(5,5,5,NA,2)\n",
        "q5 <- c(5,5,2,NA,1)\n",
        "# na가 포함된 벡터에 통계함수 적용"
      ],
      "execution_count": 64,
      "outputs": [
        {
          "output_type": "display_data",
          "data": {
            "image/png": "[encoded data removed]",
            "text/plain": [
              "plot without title"
            ]
          },
          "metadata": {
            "tags": [],
            "image/png": {
              "width": 420,
              "height": 420
            }
          }
        }
      ]
    },
    {
      "cell_type": "code",
      "metadata": {
        "id": "Dem1X0eVGcC4",
        "colab_type": "code",
        "colab": {
          "base_uri": "https://localhost:8080/",
          "height": 68
        },
        "outputId": "4750cd07-6e17-4109-cbcc-d1e52f5a12af"
      },
      "source": [
        "q1 <- c(5,3,3,3,2)\n",
        "q2 <- c(4,5,5,3,2)\n",
        "q3 <- c(5,2,5,4,1)\n",
        "q4 <- c(5,5,5,NA,2)\n",
        "q5 <- c(5,5,2,NA,1)\n",
        "# na가 포함된 벡터에 통계함수 적용\n",
        "mean(q1)\n",
        "mean(q4)\n",
        "mean(q4, na.rm=T) # 결측치 제거후 평균 계산"
      ],
      "execution_count": 46,
      "outputs": [
        {
          "output_type": "display_data",
          "data": {
            "text/plain": [
              "[1] 3.2"
            ],
            "text/latex": "3.2",
            "text/markdown": "3.2",
            "text/html": [
              "3.2"
            ]
          },
          "metadata": {
            "tags": []
          }
        },
        {
          "output_type": "display_data",
          "data": {
            "text/plain": [
              "[1] NA"
            ],
            "text/latex": "<NA>",
            "text/markdown": "&lt;NA&gt;",
            "text/html": [
              "&lt;NA&gt;"
            ]
          },
          "metadata": {
            "tags": []
          }
        },
        {
          "output_type": "display_data",
          "data": {
            "text/plain": [
              "[1] 4.25"
            ],
            "text/latex": "4.25",
            "text/markdown": "4.25",
            "text/html": [
              "4.25"
            ]
          },
          "metadata": {
            "tags": []
          }
        }
      ]
    },
    {
      "cell_type": "code",
      "metadata": {
        "id": "rxz6kvIqGWjK",
        "colab_type": "code",
        "colab": {}
      },
      "source": [
        ""
      ],
      "execution_count": null,
      "outputs": []
    },
    {
      "cell_type": "code",
      "metadata": {
        "id": "xpyTcwNJDDxC",
        "colab_type": "code",
        "colab": {
          "base_uri": "https://localhost:8080/",
          "height": 51
        },
        "outputId": "f5d0a794-afc1-4ec9-f19f-7151357d9c29"
      },
      "source": [
        "mean(ages)\n",
        "mean(weights)"
      ],
      "execution_count": 38,
      "outputs": [
        {
          "output_type": "display_data",
          "data": {
            "text/plain": [
              "[1] 5.8"
            ],
            "text/latex": "5.8",
            "text/markdown": "5.8",
            "text/html": [
              "5.8"
            ]
          },
          "metadata": {
            "tags": []
          }
        },
        {
          "output_type": "display_data",
          "data": {
            "text/plain": [
              "[1] 7.06"
            ],
            "text/latex": "7.06",
            "text/markdown": "7.06",
            "text/html": [
              "7.06"
            ]
          },
          "metadata": {
            "tags": []
          }
        }
      ]
    },
    {
      "cell_type": "code",
      "metadata": {
        "id": "Vgn0Dl_ALMEP",
        "colab_type": "code",
        "colab": {
          "base_uri": "https://localhost:8080/",
          "height": 305
        },
        "outputId": "ba165bc0-c833-4307-f3ba-3715359939b8"
      },
      "source": [
        "# 데이터프레임\n",
        "# 서로 다른 유형의 벡터들을 하나의 자료구조로 묶은 것\n",
        "# 2차원 테이블형태로 저장\n",
        "#data.frame(벡터, 벡터, 벡터, 옵션)\n",
        "baby <- data.frame(ages, weights)\n",
        "baby"
      ],
      "execution_count": 51,
      "outputs": [
        {
          "output_type": "display_data",
          "data": {
            "text/plain": [
              "   ages weights\n",
              "1   1    4.4   \n",
              "2   3    5.3   \n",
              "3   5    7.2   \n",
              "4   2    5.2   \n",
              "5  11    8.5   \n",
              "6   9    7.3   \n",
              "7   3    6.0   \n",
              "8   9   10.4   \n",
              "9  12   10.2   \n",
              "10  3    6.1   "
            ],
            "text/latex": "A data.frame: 10 × 2\n\\begin{tabular}{ll}\n ages & weights\\\\\n <dbl> & <dbl>\\\\\n\\hline\n\t  1 &  4.4\\\\\n\t  3 &  5.3\\\\\n\t  5 &  7.2\\\\\n\t  2 &  5.2\\\\\n\t 11 &  8.5\\\\\n\t  9 &  7.3\\\\\n\t  3 &  6.0\\\\\n\t  9 & 10.4\\\\\n\t 12 & 10.2\\\\\n\t  3 &  6.1\\\\\n\\end{tabular}\n",
            "text/markdown": "\nA data.frame: 10 × 2\n\n| ages &lt;dbl&gt; | weights &lt;dbl&gt; |\n|---|---|\n|  1 |  4.4 |\n|  3 |  5.3 |\n|  5 |  7.2 |\n|  2 |  5.2 |\n| 11 |  8.5 |\n|  9 |  7.3 |\n|  3 |  6.0 |\n|  9 | 10.4 |\n| 12 | 10.2 |\n|  3 |  6.1 |\n\n",
            "text/html": [
              "<table>\n",
              "<caption>A data.frame: 10 × 2</caption>\n",
              "<thead>\n",
              "\t<tr><th scope=col>ages</th><th scope=col>weights</th></tr>\n",
              "\t<tr><th scope=col>&lt;dbl&gt;</th><th scope=col>&lt;dbl&gt;</th></tr>\n",
              "</thead>\n",
              "<tbody>\n",
              "\t<tr><td> 1</td><td> 4.4</td></tr>\n",
              "\t<tr><td> 3</td><td> 5.3</td></tr>\n",
              "\t<tr><td> 5</td><td> 7.2</td></tr>\n",
              "\t<tr><td> 2</td><td> 5.2</td></tr>\n",
              "\t<tr><td>11</td><td> 8.5</td></tr>\n",
              "\t<tr><td> 9</td><td> 7.3</td></tr>\n",
              "\t<tr><td> 3</td><td> 6.0</td></tr>\n",
              "\t<tr><td> 9</td><td>10.4</td></tr>\n",
              "\t<tr><td>12</td><td>10.2</td></tr>\n",
              "\t<tr><td> 3</td><td> 6.1</td></tr>\n",
              "</tbody>\n",
              "</table>\n"
            ]
          },
          "metadata": {
            "tags": []
          }
        }
      ]
    },
    {
      "cell_type": "code",
      "metadata": {
        "id": "hK2hWU6mL-3C",
        "colab_type": "code",
        "colab": {
          "base_uri": "https://localhost:8080/",
          "height": 136
        },
        "outputId": "6a77d5d7-e74d-453b-c5cb-ca54002aa819"
      },
      "source": [
        "데이터프레임 구조 파악\n",
        "str(baby)"
      ],
      "execution_count": 52,
      "outputs": [
        {
          "output_type": "error",
          "ename": "ERROR",
          "evalue": "ignored",
          "traceback": [
            "Error in parse(text = x, srcfile = src): <text>:1:8: unexpected symbol\n1: 데이터프레임 구조\n           ^\nTraceback:\n"
          ]
        }
      ]
    },
    {
      "cell_type": "code",
      "metadata": {
        "id": "1iSZ7hqPMMRA",
        "colab_type": "code",
        "colab": {
          "base_uri": "https://localhost:8080/",
          "height": 345
        },
        "outputId": "19f335c3-224e-481f-b9f5-110b23c9ab10"
      },
      "source": [
        "# 매니저 평점 분석 데이터프레임\n",
        "managers <- data.frame(manager, country, marage, q1,q2,q3,q4,q5)\n",
        "managers\n",
        "str(managers)\n",
        "\n"
      ],
      "execution_count": 70,
      "outputs": [
        {
          "output_type": "display_data",
          "data": {
            "text/plain": [
              "  manager country marage q1 q2 q3 q4 q5\n",
              "1 1       US      32     5  4  5   5  5\n",
              "2 2       US      45     3  5  2   5  5\n",
              "3 3       UK      25     3  5  5   5  2\n",
              "4 4       UK      39     3  3  4  NA NA\n",
              "5 5       UK      99     2  2  1   2  1"
            ],
            "text/latex": "A data.frame: 5 × 8\n\\begin{tabular}{llllllll}\n manager & country & marage & q1 & q2 & q3 & q4 & q5\\\\\n <dbl> & <fct> & <dbl> & <dbl> & <dbl> & <dbl> & <dbl> & <dbl>\\\\\n\\hline\n\t 1 & US & 32 & 5 & 4 & 5 &  5 &  5\\\\\n\t 2 & US & 45 & 3 & 5 & 2 &  5 &  5\\\\\n\t 3 & UK & 25 & 3 & 5 & 5 &  5 &  2\\\\\n\t 4 & UK & 39 & 3 & 3 & 4 & NA & NA\\\\\n\t 5 & UK & 99 & 2 & 2 & 1 &  2 &  1\\\\\n\\end{tabular}\n",
            "text/markdown": "\nA data.frame: 5 × 8\n\n| manager &lt;dbl&gt; | country &lt;fct&gt; | marage &lt;dbl&gt; | q1 &lt;dbl&gt; | q2 &lt;dbl&gt; | q3 &lt;dbl&gt; | q4 &lt;dbl&gt; | q5 &lt;dbl&gt; |\n|---|---|---|---|---|---|---|---|\n| 1 | US | 32 | 5 | 4 | 5 |  5 |  5 |\n| 2 | US | 45 | 3 | 5 | 2 |  5 |  5 |\n| 3 | UK | 25 | 3 | 5 | 5 |  5 |  2 |\n| 4 | UK | 39 | 3 | 3 | 4 | NA | NA |\n| 5 | UK | 99 | 2 | 2 | 1 |  2 |  1 |\n\n",
            "text/html": [
              "<table>\n",
              "<caption>A data.frame: 5 × 8</caption>\n",
              "<thead>\n",
              "\t<tr><th scope=col>manager</th><th scope=col>country</th><th scope=col>marage</th><th scope=col>q1</th><th scope=col>q2</th><th scope=col>q3</th><th scope=col>q4</th><th scope=col>q5</th></tr>\n",
              "\t<tr><th scope=col>&lt;dbl&gt;</th><th scope=col>&lt;fct&gt;</th><th scope=col>&lt;dbl&gt;</th><th scope=col>&lt;dbl&gt;</th><th scope=col>&lt;dbl&gt;</th><th scope=col>&lt;dbl&gt;</th><th scope=col>&lt;dbl&gt;</th><th scope=col>&lt;dbl&gt;</th></tr>\n",
              "</thead>\n",
              "<tbody>\n",
              "\t<tr><td>1</td><td>US</td><td>32</td><td>5</td><td>4</td><td>5</td><td> 5</td><td> 5</td></tr>\n",
              "\t<tr><td>2</td><td>US</td><td>45</td><td>3</td><td>5</td><td>2</td><td> 5</td><td> 5</td></tr>\n",
              "\t<tr><td>3</td><td>UK</td><td>25</td><td>3</td><td>5</td><td>5</td><td> 5</td><td> 2</td></tr>\n",
              "\t<tr><td>4</td><td>UK</td><td>39</td><td>3</td><td>3</td><td>4</td><td>NA</td><td>NA</td></tr>\n",
              "\t<tr><td>5</td><td>UK</td><td>99</td><td>2</td><td>2</td><td>1</td><td> 2</td><td> 1</td></tr>\n",
              "</tbody>\n",
              "</table>\n"
            ]
          },
          "metadata": {
            "tags": []
          }
        },
        {
          "output_type": "stream",
          "text": [
            "'data.frame':\t5 obs. of  8 variables:\n",
            " $ manager: num  1 2 3 4 5\n",
            " $ country: Factor w/ 2 levels \"UK\",\"US\": 2 2 1 1 1\n",
            " $ marage : num  32 45 25 39 99\n",
            " $ q1     : num  5 3 3 3 2\n",
            " $ q2     : num  4 5 5 3 2\n",
            " $ q3     : num  5 2 5 4 1\n",
            " $ q4     : num  5 5 5 NA 2\n",
            " $ q5     : num  5 5 2 NA 1\n"
          ],
          "name": "stdout"
        }
      ]
    },
    {
      "cell_type": "code",
      "metadata": {
        "id": "71A_nfDPQeXB",
        "colab_type": "code",
        "colab": {
          "base_uri": "https://localhost:8080/",
          "height": 190
        },
        "outputId": "4ff952db-ee24-450f-f9b5-d67383e1a374"
      },
      "source": [
        "#'입사일' 벡터가 범주형자료로 자동 설정\n",
        "managers$date <- as.character(managers$date)\n",
        "str(managers)"
      ],
      "execution_count": 76,
      "outputs": [
        {
          "output_type": "error",
          "ename": "ERROR",
          "evalue": "ignored",
          "traceback": [
            "Error in `$<-.data.frame`(`*tmp*`, date, value = character(0)): replacement has 0 rows, data has 5\nTraceback:\n",
            "1. `$<-`(`*tmp*`, date, value = character(0))",
            "2. `$<-.data.frame`(`*tmp*`, date, value = character(0))",
            "3. stop(sprintf(ngettext(N, \"replacement has %d row, data has %d\", \n .     \"replacement has %d rows, data has %d\"), N, nrows), domain = NA)"
          ]
        }
      ]
    },
    {
      "cell_type": "code",
      "metadata": {
        "id": "GOWtTPJCN6iZ",
        "colab_type": "code",
        "colab": {
          "base_uri": "https://localhost:8080/",
          "height": 215
        },
        "outputId": "263666e9-a5ae-4eb3-e92d-7805523727db"
      },
      "source": [
        "# 범주형 자료 자동 설정 금지\n",
        "managers <- data.frame(manager, date, country, gender, marage, q1,q2,q3,q4,q5, stringsAsFactors = F)\n",
        "str(managers)"
      ],
      "execution_count": 69,
      "outputs": [
        {
          "output_type": "stream",
          "text": [
            "'data.frame':\t5 obs. of  10 variables:\n",
            " $ manager: num  1 2 3 4 5\n",
            " $ date   : chr  \"2014-10-24\" \"2014-10-28\" \"2014-10-01\" \"2014-10-12\" ...\n",
            " $ country: chr  \"US\" \"US\" \"UK\" \"UK\" ...\n",
            " $ gender : chr  \"m\" \"f\" \"f\" \"m\" ...\n",
            " $ marage : num  32 45 25 39 99\n",
            " $ q1     : num  5 3 3 3 2\n",
            " $ q2     : num  4 5 5 3 2\n",
            " $ q3     : num  5 2 5 4 1\n",
            " $ q4     : num  5 5 5 NA 2\n",
            " $ q5     : num  5 5 2 NA 1\n"
          ],
          "name": "stdout"
        }
      ]
    },
    {
      "cell_type": "code",
      "metadata": {
        "id": "6sGTCX5OPH-B",
        "colab_type": "code",
        "colab": {
          "base_uri": "https://localhost:8080/",
          "height": 154
        },
        "outputId": "cb38bd10-5e32-4c07-9824-2a6f814e2883"
      },
      "source": [
        "# 문자형을 범주형으로 변환\n",
        "# '국적'과 '성별'을 범주형으로 변환\n",
        "데이터프레임의 특정 변수를 지정하려면 데이터프레임$변수명 로 사용\n",
        "managers$country <- as.factor(managers$country)\n",
        "managers$gender <- as.factor(managers$gender)\n",
        "str(managers)"
      ],
      "execution_count": 75,
      "outputs": [
        {
          "output_type": "error",
          "ename": "ERROR",
          "evalue": "ignored",
          "traceback": [
            "Error in parse(text = x, srcfile = src): <text>:3:9: unexpected symbol\n2: # '국적'과 '성별'을 범주형으로 변환\n3: 데이터프레임의 특정\n           ^\nTraceback:\n"
          ]
        }
      ]
    },
    {
      "cell_type": "code",
      "metadata": {
        "id": "iEXk3gVlS_L6",
        "colab_type": "code",
        "colab": {}
      },
      "source": [
        "# 외부 데이터 파일 읽어오기 (csv)\n",
        "titanic <- read.csv('https://raw.githubusercontent.com/Gelassenheit17/R_Statistics/master/datasets/titanic.csv')"
      ],
      "execution_count": 79,
      "outputs": []
    },
    {
      "cell_type": "code",
      "metadata": {
        "id": "oCFhsMe5TTdK",
        "colab_type": "code",
        "colab": {
          "base_uri": "https://localhost:8080/",
          "height": 233
        },
        "outputId": "717a5500-4d71-4e3f-d190-44c72bd70926"
      },
      "source": [
        "str(titanic)"
      ],
      "execution_count": 80,
      "outputs": [
        {
          "output_type": "stream",
          "text": [
            "'data.frame':\t1310 obs. of  11 variables:\n",
            " $ pclass  : int  1 1 1 1 1 1 1 1 1 1 ...\n",
            " $ survived: int  1 1 0 0 0 1 1 0 1 0 ...\n",
            " $ name    : Factor w/ 1308 levels \"\",\"Abbing, Mr. Anthony\",..: 23 25 26 27 28 32 47 48 52 56 ...\n",
            " $ sex     : Factor w/ 3 levels \"\",\"female\",\"male\": 2 3 2 3 2 3 2 3 2 3 ...\n",
            " $ age     : num  29 0.917 2 30 25 ...\n",
            " $ sibsp   : int  0 1 1 1 1 0 1 0 2 0 ...\n",
            " $ parch   : int  0 2 2 2 2 0 0 0 0 0 ...\n",
            " $ ticket  : Factor w/ 930 levels \"\",\"110152\",\"110413\",..: 189 51 51 51 51 126 94 17 78 827 ...\n",
            " $ fare    : num  211 152 152 152 152 ...\n",
            " $ cabin   : Factor w/ 187 levels \"\",\"A10\",\"A11\",..: 45 81 81 81 81 151 147 17 63 1 ...\n",
            " $ embarked: Factor w/ 4 levels \"\",\"C\",\"Q\",\"S\": 4 4 4 4 4 4 4 4 4 2 ...\n"
          ],
          "name": "stdout"
        }
      ]
    },
    {
      "cell_type": "code",
      "metadata": {
        "id": "iajWgirYTXbC",
        "colab_type": "code",
        "colab": {
          "base_uri": "https://localhost:8080/",
          "height": 449
        },
        "outputId": "37a53a46-1649-407b-eec6-5d6820761864"
      },
      "source": [
        "summary(titanic)"
      ],
      "execution_count": 81,
      "outputs": [
        {
          "output_type": "display_data",
          "data": {
            "text/plain": [
              "     pclass         survived                                name     \n",
              " Min.   :1.000   Min.   :0.000   Connolly, Miss. Kate         :   2  \n",
              " 1st Qu.:2.000   1st Qu.:0.000   Kelly, Mr. James             :   2  \n",
              " Median :3.000   Median :0.000                                :   1  \n",
              " Mean   :2.295   Mean   :0.382   Abbing, Mr. Anthony          :   1  \n",
              " 3rd Qu.:3.000   3rd Qu.:1.000   Abbott, Master. Eugene Joseph:   1  \n",
              " Max.   :3.000   Max.   :1.000   Abbott, Mr. Rossmore Edward  :   1  \n",
              " NA's   :1       NA's   :1       (Other)                      :1302  \n",
              "     sex           age              sibsp            parch      \n",
              "       :  1   Min.   : 0.1667   Min.   :0.0000   Min.   :0.000  \n",
              " female:466   1st Qu.:21.0000   1st Qu.:0.0000   1st Qu.:0.000  \n",
              " male  :843   Median :28.0000   Median :0.0000   Median :0.000  \n",
              "              Mean   :29.8811   Mean   :0.4989   Mean   :0.385  \n",
              "              3rd Qu.:39.0000   3rd Qu.:1.0000   3rd Qu.:0.000  \n",
              "              Max.   :80.0000   Max.   :8.0000   Max.   :9.000  \n",
              "              NA's   :264       NA's   :1        NA's   :1      \n",
              "      ticket          fare                     cabin      embarked\n",
              " CA. 2343:  11   Min.   :  0.000                  :1015    :  3   \n",
              " 1601    :   8   1st Qu.:  7.896   C23 C25 C27    :   6   C:270   \n",
              " CA 2144 :   8   Median : 14.454   B57 B59 B63 B66:   5   Q:123   \n",
              " 3101295 :   7   Mean   : 33.295   G6             :   5   S:914   \n",
              " 347077  :   7   3rd Qu.: 31.275   B96 B98        :   4           \n",
              " 347082  :   7   Max.   :512.329   C22 C26        :   4           \n",
              " (Other) :1262   NA's   :2         (Other)        : 271           "
            ]
          },
          "metadata": {
            "tags": []
          }
        }
      ]
    },
    {
      "cell_type": "code",
      "metadata": {
        "id": "ubJoFhjATbXP",
        "colab_type": "code",
        "colab": {
          "base_uri": "https://localhost:8080/",
          "height": 51
        },
        "outputId": "ba794cd1-f5cf-489c-b6dc-86b0fd30e91c"
      },
      "source": [
        "colSums(is.na(titanic)) #결측치 갯수 파악\n",
        "colSums(is.na(titanic))"
      ],
      "execution_count": 88,
      "outputs": [
        {
          "output_type": "display_data",
          "data": {
            "text/plain": [
              "  pclass survived     name      sex      age    sibsp    parch   ticket \n",
              "       1        1        0        0      264        1        1        0 \n",
              "    fare    cabin embarked \n",
              "       2        0        0 "
            ],
            "text/latex": "\\begin{description*}\n\\item[pclass] 1\n\\item[survived] 1\n\\item[name] 0\n\\item[sex] 0\n\\item[age] 264\n\\item[sibsp] 1\n\\item[parch] 1\n\\item[ticket] 0\n\\item[fare] 2\n\\item[cabin] 0\n\\item[embarked] 0\n\\end{description*}\n",
            "text/markdown": "pclass\n:   1survived\n:   1name\n:   0sex\n:   0age\n:   264sibsp\n:   1parch\n:   1ticket\n:   0fare\n:   2cabin\n:   0embarked\n:   0\n\n",
            "text/html": [
              "<style>\n",
              ".dl-inline {width: auto; margin:0; padding: 0}\n",
              ".dl-inline>dt, .dl-inline>dd {float: none; width: auto; display: inline-block}\n",
              ".dl-inline>dt::after {content: \":\\0020\"; padding-right: .5ex}\n",
              ".dl-inline>dt:not(:first-of-type) {padding-left: .5ex}\n",
              "</style><dl class=dl-inline><dt>pclass</dt><dd>1</dd><dt>survived</dt><dd>1</dd><dt>name</dt><dd>0</dd><dt>sex</dt><dd>0</dd><dt>age</dt><dd>264</dd><dt>sibsp</dt><dd>1</dd><dt>parch</dt><dd>1</dd><dt>ticket</dt><dd>0</dd><dt>fare</dt><dd>2</dd><dt>cabin</dt><dd>0</dd><dt>embarked</dt><dd>0</dd></dl>\n"
            ]
          },
          "metadata": {
            "tags": []
          }
        },
        {
          "output_type": "display_data",
          "data": {
            "text/plain": [
              "  pclass survived     name      sex      age    sibsp    parch   ticket \n",
              "       1        1        0        0      264        1        1        0 \n",
              "    fare    cabin embarked \n",
              "       2        0        0 "
            ],
            "text/latex": "\\begin{description*}\n\\item[pclass] 1\n\\item[survived] 1\n\\item[name] 0\n\\item[sex] 0\n\\item[age] 264\n\\item[sibsp] 1\n\\item[parch] 1\n\\item[ticket] 0\n\\item[fare] 2\n\\item[cabin] 0\n\\item[embarked] 0\n\\end{description*}\n",
            "text/markdown": "pclass\n:   1survived\n:   1name\n:   0sex\n:   0age\n:   264sibsp\n:   1parch\n:   1ticket\n:   0fare\n:   2cabin\n:   0embarked\n:   0\n\n",
            "text/html": [
              "<style>\n",
              ".dl-inline {width: auto; margin:0; padding: 0}\n",
              ".dl-inline>dt, .dl-inline>dd {float: none; width: auto; display: inline-block}\n",
              ".dl-inline>dt::after {content: \":\\0020\"; padding-right: .5ex}\n",
              ".dl-inline>dt:not(:first-of-type) {padding-left: .5ex}\n",
              "</style><dl class=dl-inline><dt>pclass</dt><dd>1</dd><dt>survived</dt><dd>1</dd><dt>name</dt><dd>0</dd><dt>sex</dt><dd>0</dd><dt>age</dt><dd>264</dd><dt>sibsp</dt><dd>1</dd><dt>parch</dt><dd>1</dd><dt>ticket</dt><dd>0</dd><dt>fare</dt><dd>2</dd><dt>cabin</dt><dd>0</dd><dt>embarked</dt><dd>0</dd></dl>\n"
            ]
          },
          "metadata": {
            "tags": []
          }
        }
      ]
    }
  ]
}