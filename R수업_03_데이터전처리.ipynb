{
  "nbformat": 4,
  "nbformat_minor": 0,
  "metadata": {
    "colab": {
      "name": "R수업_03_데이터전처리.ipynb",
      "provenance": [],
      "authorship_tag": "ABX9TyP7MSyZbCa+jCCHZWmiVDoC",
      "include_colab_link": true
    },
    "kernelspec": {
      "name": "ir",
      "display_name": "R"
    }
  },
  "cells": [
    {
      "cell_type": "markdown",
      "metadata": {
        "id": "view-in-github",
        "colab_type": "text"
      },
      "source": [
        "<a href=\"https://colab.research.google.com/github/Gelassenheit17/R_Statistics/blob/master/R%EC%88%98%EC%97%85_03_%EB%8D%B0%EC%9D%B4%ED%84%B0%EC%A0%84%EC%B2%98%EB%A6%AC.ipynb\" target=\"_parent\"><img src=\"https://colab.research.google.com/assets/colab-badge.svg\" alt=\"Open In Colab\"/></a>"
      ]
    },
    {
      "cell_type": "code",
      "metadata": {
        "id": "JmqewPld5_-u",
        "outputId": "a072c4b5-f1c6-455b-bfcb-58cb9d0739c4",
        "colab": {
          "base_uri": "https://localhost:8080/",
          "height": 235
        }
      },
      "source": [
        "titanic <- read.csv('https://raw.githubusercontent.com/Gelassenheit17/R_Statistics/master/datasets/titanic.csv')\n",
        "str(titanic)"
      ],
      "execution_count": 11,
      "outputs": [
        {
          "output_type": "stream",
          "text": [
            "'data.frame':\t1310 obs. of  11 variables:\n",
            " $ pclass  : int  1 1 1 1 1 1 1 1 1 1 ...\n",
            " $ survived: int  1 1 0 0 0 1 1 0 1 0 ...\n",
            " $ name    : Factor w/ 1308 levels \"\",\"Abbing, Mr. Anthony\",..: 23 25 26 27 28 32 47 48 52 56 ...\n",
            " $ sex     : Factor w/ 3 levels \"\",\"female\",\"male\": 2 3 2 3 2 3 2 3 2 3 ...\n",
            " $ age     : num  29 0.917 2 30 25 ...\n",
            " $ sibsp   : int  0 1 1 1 1 0 1 0 2 0 ...\n",
            " $ parch   : int  0 2 2 2 2 0 0 0 0 0 ...\n",
            " $ ticket  : Factor w/ 930 levels \"\",\"110152\",\"110413\",..: 189 51 51 51 51 126 94 17 78 827 ...\n",
            " $ fare    : num  211 152 152 152 152 ...\n",
            " $ cabin   : Factor w/ 187 levels \"\",\"A10\",\"A11\",..: 45 81 81 81 81 151 147 17 63 1 ...\n",
            " $ embarked: Factor w/ 4 levels \"\",\"C\",\"Q\",\"S\": 4 4 4 4 4 4 4 4 4 2 ...\n"
          ],
          "name": "stdout"
        }
      ]
    },
    {
      "cell_type": "code",
      "metadata": {
        "id": "lX-tmGNW6hZw",
        "outputId": "727574f8-d820-4683-d215-b15ce54984e4",
        "colab": {
          "base_uri": "https://localhost:8080/",
          "height": 465
        }
      },
      "source": [
        " summary(titanic)"
      ],
      "execution_count": 4,
      "outputs": [
        {
          "output_type": "display_data",
          "data": {
            "text/plain": [
              "     pclass         survived                                name     \n",
              " Min.   :1.000   Min.   :0.000   Connolly, Miss. Kate         :   2  \n",
              " 1st Qu.:2.000   1st Qu.:0.000   Kelly, Mr. James             :   2  \n",
              " Median :3.000   Median :0.000                                :   1  \n",
              " Mean   :2.295   Mean   :0.382   Abbing, Mr. Anthony          :   1  \n",
              " 3rd Qu.:3.000   3rd Qu.:1.000   Abbott, Master. Eugene Joseph:   1  \n",
              " Max.   :3.000   Max.   :1.000   Abbott, Mr. Rossmore Edward  :   1  \n",
              " NA's   :1       NA's   :1       (Other)                      :1302  \n",
              "     sex           age              sibsp            parch      \n",
              "       :  1   Min.   : 0.1667   Min.   :0.0000   Min.   :0.000  \n",
              " female:466   1st Qu.:21.0000   1st Qu.:0.0000   1st Qu.:0.000  \n",
              " male  :843   Median :28.0000   Median :0.0000   Median :0.000  \n",
              "              Mean   :29.8811   Mean   :0.4989   Mean   :0.385  \n",
              "              3rd Qu.:39.0000   3rd Qu.:1.0000   3rd Qu.:0.000  \n",
              "              Max.   :80.0000   Max.   :8.0000   Max.   :9.000  \n",
              "              NA's   :264       NA's   :1        NA's   :1      \n",
              "      ticket          fare                     cabin      embarked\n",
              " CA. 2343:  11   Min.   :  0.000                  :1015    :  3   \n",
              " 1601    :   8   1st Qu.:  7.896   C23 C25 C27    :   6   C:270   \n",
              " CA 2144 :   8   Median : 14.454   B57 B59 B63 B66:   5   Q:123   \n",
              " 3101295 :   7   Mean   : 33.295   G6             :   5   S:914   \n",
              " 347077  :   7   3rd Qu.: 31.275   B96 B98        :   4           \n",
              " 347082  :   7   Max.   :512.329   C22 C26        :   4           \n",
              " (Other) :1262   NA's   :2         (Other)        : 271           "
            ]
          },
          "metadata": {
            "tags": []
          }
        }
      ]
    },
    {
      "cell_type": "code",
      "metadata": {
        "id": "yBnt_Okj6l9o",
        "outputId": "717732f2-b90d-4fd7-a759-210aff07cafa",
        "colab": {
          "base_uri": "https://localhost:8080/",
          "height": 35
        }
      },
      "source": [
        "colSums(is.na(titanic))"
      ],
      "execution_count": 6,
      "outputs": [
        {
          "output_type": "display_data",
          "data": {
            "text/plain": [
              "  pclass survived     name      sex      age    sibsp    parch   ticket \n",
              "       1        1        0        0      264        1        1        0 \n",
              "    fare    cabin embarked \n",
              "       2        0        0 "
            ],
            "text/latex": "\\begin{description*}\n\\item[pclass] 1\n\\item[survived] 1\n\\item[name] 0\n\\item[sex] 0\n\\item[age] 264\n\\item[sibsp] 1\n\\item[parch] 1\n\\item[ticket] 0\n\\item[fare] 2\n\\item[cabin] 0\n\\item[embarked] 0\n\\end{description*}\n",
            "text/markdown": "pclass\n:   1survived\n:   1name\n:   0sex\n:   0age\n:   264sibsp\n:   1parch\n:   1ticket\n:   0fare\n:   2cabin\n:   0embarked\n:   0\n\n",
            "text/html": [
              "<style>\n",
              ".dl-inline {width: auto; margin:0; padding: 0}\n",
              ".dl-inline>dt, .dl-inline>dd {float: none; width: auto; display: inline-block}\n",
              ".dl-inline>dt::after {content: \":\\0020\"; padding-right: .5ex}\n",
              ".dl-inline>dt:not(:first-of-type) {padding-left: .5ex}\n",
              "</style><dl class=dl-inline><dt>pclass</dt><dd>1</dd><dt>survived</dt><dd>1</dd><dt>name</dt><dd>0</dd><dt>sex</dt><dd>0</dd><dt>age</dt><dd>264</dd><dt>sibsp</dt><dd>1</dd><dt>parch</dt><dd>1</dd><dt>ticket</dt><dd>0</dd><dt>fare</dt><dd>2</dd><dt>cabin</dt><dd>0</dd><dt>embarked</dt><dd>0</dd></dl>\n"
            ]
          },
          "metadata": {
            "tags": []
          }
        }
      ]
    },
    {
      "cell_type": "code",
      "metadata": {
        "id": "r_FojtA862DW",
        "outputId": "7e7b292d-5069-4627-b050-6b0bed4716eb",
        "colab": {
          "base_uri": "https://localhost:8080/",
          "height": 157
        }
      },
      "source": [
        "# 결측치 처리 1 - 제거\n",
        "# 결측치 제거 : na.omit()\n",
        "tatanic2 <- na.omit(titanic)\n",
        "colSums(is.na(titanic2))"
      ],
      "execution_count": 12,
      "outputs": [
        {
          "output_type": "error",
          "ename": "ERROR",
          "evalue": "ignored",
          "traceback": [
            "Error in is.data.frame(x): object 'titanic2' not found\nTraceback:\n",
            "1. colSums(is.na(titanic2))",
            "2. is.data.frame(x)"
          ]
        }
      ]
    },
    {
      "cell_type": "code",
      "metadata": {
        "id": "VCxZ-6es7l8w",
        "outputId": "8c912128-0029-4828-9198-aa3a1def7973",
        "colab": {
          "base_uri": "https://localhost:8080/",
          "height": 241
        }
      },
      "source": [
        "titanic <- read.csv('https://raw.githubusercontent.com/Gelassenheit17/R_Statistics/master/datasets/titanic.csv')\n",
        "str(titanic)"
      ],
      "execution_count": 13,
      "outputs": [
        {
          "output_type": "stream",
          "text": [
            "'data.frame':\t1310 obs. of  11 variables:\n",
            " $ pclass  : int  1 1 1 1 1 1 1 1 1 1 ...\n",
            " $ survived: int  1 1 0 0 0 1 1 0 1 0 ...\n",
            " $ name    : Factor w/ 1308 levels \"\",\"Abbing, Mr. Anthony\",..: 23 25 26 27 28 32 47 48 52 56 ...\n",
            " $ sex     : Factor w/ 3 levels \"\",\"female\",\"male\": 2 3 2 3 2 3 2 3 2 3 ...\n",
            " $ age     : num  29 0.917 2 30 25 ...\n",
            " $ sibsp   : int  0 1 1 1 1 0 1 0 2 0 ...\n",
            " $ parch   : int  0 2 2 2 2 0 0 0 0 0 ...\n",
            " $ ticket  : Factor w/ 930 levels \"\",\"110152\",\"110413\",..: 189 51 51 51 51 126 94 17 78 827 ...\n",
            " $ fare    : num  211 152 152 152 152 ...\n",
            " $ cabin   : Factor w/ 187 levels \"\",\"A10\",\"A11\",..: 45 81 81 81 81 151 147 17 63 1 ...\n",
            " $ embarked: Factor w/ 4 levels \"\",\"C\",\"Q\",\"S\": 4 4 4 4 4 4 4 4 4 2 ...\n"
          ],
          "name": "stdout"
        }
      ]
    },
    {
      "cell_type": "code",
      "metadata": {
        "id": "3BzlV8JF7pVf",
        "outputId": "1bdef140-0a66-4ea5-da80-0dec0f41a7ba",
        "colab": {
          "base_uri": "https://localhost:8080/",
          "height": 35
        }
      },
      "source": [
        "# 결측치 처리 1 - 제거\n",
        "# 결측치 제거 : na.omit()\n",
        "titanic2 <- na.omit(titanic)\n",
        "colSums(is.na(titanic2))"
      ],
      "execution_count": 21,
      "outputs": [
        {
          "output_type": "display_data",
          "data": {
            "text/plain": [
              "  pclass survived     name      sex      age    sibsp    parch   ticket \n",
              "       0        0        0        0        0        0        0        0 \n",
              "    fare    cabin embarked \n",
              "       0        0        0 "
            ],
            "text/latex": "\\begin{description*}\n\\item[pclass] 0\n\\item[survived] 0\n\\item[name] 0\n\\item[sex] 0\n\\item[age] 0\n\\item[sibsp] 0\n\\item[parch] 0\n\\item[ticket] 0\n\\item[fare] 0\n\\item[cabin] 0\n\\item[embarked] 0\n\\end{description*}\n",
            "text/markdown": "pclass\n:   0survived\n:   0name\n:   0sex\n:   0age\n:   0sibsp\n:   0parch\n:   0ticket\n:   0fare\n:   0cabin\n:   0embarked\n:   0\n\n",
            "text/html": [
              "<style>\n",
              ".dl-inline {width: auto; margin:0; padding: 0}\n",
              ".dl-inline>dt, .dl-inline>dd {float: none; width: auto; display: inline-block}\n",
              ".dl-inline>dt::after {content: \":\\0020\"; padding-right: .5ex}\n",
              ".dl-inline>dt:not(:first-of-type) {padding-left: .5ex}\n",
              "</style><dl class=dl-inline><dt>pclass</dt><dd>0</dd><dt>survived</dt><dd>0</dd><dt>name</dt><dd>0</dd><dt>sex</dt><dd>0</dd><dt>age</dt><dd>0</dd><dt>sibsp</dt><dd>0</dd><dt>parch</dt><dd>0</dd><dt>ticket</dt><dd>0</dd><dt>fare</dt><dd>0</dd><dt>cabin</dt><dd>0</dd><dt>embarked</dt><dd>0</dd></dl>\n"
            ]
          },
          "metadata": {
            "tags": []
          }
        }
      ]
    },
    {
      "cell_type": "code",
      "metadata": {
        "id": "FOOiws-67teO",
        "outputId": "df01284a-8b74-4ebc-e97d-7a555f6d7384",
        "colab": {
          "base_uri": "https://localhost:8080/",
          "height": 35
        }
      },
      "source": [
        "# 결측치 처리 2 - 대체값\n",
        "# age의 결측치는 중앙값으로 대체\n",
        "# 소수점 이하 처리 : round, floor(내림), ceil(올림)\n",
        "mv <- median(titanic$age,na.rm=T)\n",
        "mv"
      ],
      "execution_count": 16,
      "outputs": [
        {
          "output_type": "display_data",
          "data": {
            "text/plain": [
              "[1] 28"
            ],
            "text/latex": "28",
            "text/markdown": "28",
            "text/html": [
              "28"
            ]
          },
          "metadata": {
            "tags": []
          }
        }
      ]
    },
    {
      "cell_type": "code",
      "metadata": {
        "id": "WnogA4Px8TkT",
        "outputId": "f4a23c07-e065-4688-93db-8318c34cb4bc",
        "colab": {
          "base_uri": "https://localhost:8080/",
          "height": 1000
        }
      },
      "source": [
        "# titanic$age <- mv # 모든 나이컬럼에 중앙값 대입 (x)\n",
        "is.na(titanic$age) # age 컬럼에 결측치 여부 확인\n",
        "is.na(titanic$age)"
      ],
      "execution_count": 22,
      "outputs": [
        {
          "output_type": "display_data",
          "data": {
            "text/plain": [
              "   [1] FALSE FALSE FALSE FALSE FALSE FALSE FALSE FALSE FALSE FALSE FALSE FALSE\n",
              "  [13] FALSE FALSE FALSE  TRUE FALSE FALSE FALSE FALSE FALSE FALSE FALSE FALSE\n",
              "  [25] FALSE FALSE FALSE FALSE FALSE FALSE FALSE FALSE FALSE FALSE FALSE FALSE\n",
              "  [37] FALSE  TRUE FALSE FALSE  TRUE FALSE FALSE FALSE FALSE FALSE  TRUE FALSE\n",
              "  [49] FALSE FALSE FALSE FALSE FALSE FALSE FALSE FALSE FALSE FALSE FALSE  TRUE\n",
              "  [61] FALSE FALSE FALSE FALSE FALSE FALSE FALSE FALSE FALSE  TRUE  TRUE FALSE\n",
              "  [73] FALSE FALSE  TRUE FALSE FALSE FALSE FALSE FALSE  TRUE FALSE FALSE FALSE\n",
              "  [85] FALSE FALSE FALSE FALSE FALSE FALSE FALSE FALSE FALSE FALSE FALSE FALSE\n",
              "  [97] FALSE FALSE FALSE FALSE FALSE FALSE FALSE FALSE FALSE FALSE  TRUE  TRUE\n",
              " [109]  TRUE FALSE FALSE FALSE FALSE FALSE FALSE FALSE FALSE FALSE  TRUE FALSE\n",
              " [121] FALSE  TRUE FALSE FALSE FALSE  TRUE FALSE FALSE FALSE FALSE FALSE FALSE\n",
              " [133] FALSE FALSE  TRUE FALSE FALSE FALSE FALSE FALSE FALSE FALSE FALSE FALSE\n",
              " [145] FALSE FALSE FALSE  TRUE FALSE FALSE FALSE FALSE  TRUE FALSE FALSE FALSE\n",
              " [157] FALSE  TRUE FALSE FALSE FALSE FALSE FALSE FALSE FALSE FALSE  TRUE FALSE\n",
              " [169] FALSE FALSE FALSE FALSE FALSE FALSE FALSE FALSE  TRUE FALSE FALSE  TRUE\n",
              " [181] FALSE FALSE FALSE FALSE  TRUE FALSE FALSE FALSE FALSE FALSE FALSE FALSE\n",
              " [193] FALSE FALSE FALSE FALSE  TRUE FALSE FALSE FALSE FALSE FALSE FALSE FALSE\n",
              " [205]  TRUE FALSE FALSE FALSE FALSE FALSE FALSE FALSE FALSE FALSE FALSE FALSE\n",
              " [217] FALSE FALSE FALSE  TRUE FALSE FALSE FALSE  TRUE FALSE FALSE FALSE FALSE\n",
              " [229] FALSE FALSE FALSE FALSE FALSE FALSE FALSE  TRUE FALSE  TRUE FALSE FALSE\n",
              " [241] FALSE  TRUE FALSE FALSE FALSE FALSE FALSE FALSE FALSE FALSE FALSE FALSE\n",
              " [253] FALSE FALSE  TRUE FALSE  TRUE FALSE FALSE FALSE FALSE FALSE FALSE FALSE\n",
              " [265] FALSE FALSE FALSE FALSE FALSE  TRUE FALSE FALSE FALSE FALSE FALSE FALSE\n",
              " [277] FALSE  TRUE FALSE FALSE FALSE FALSE FALSE  TRUE FALSE FALSE FALSE FALSE\n",
              " [289] FALSE FALSE FALSE FALSE FALSE  TRUE FALSE FALSE FALSE  TRUE FALSE FALSE\n",
              " [301] FALSE FALSE FALSE FALSE FALSE FALSE FALSE FALSE FALSE FALSE FALSE FALSE\n",
              " [313] FALSE FALSE FALSE FALSE FALSE FALSE  TRUE FALSE  TRUE FALSE FALSE FALSE\n",
              " [325] FALSE FALSE FALSE FALSE FALSE FALSE FALSE FALSE FALSE FALSE FALSE FALSE\n",
              " [337] FALSE FALSE FALSE FALSE FALSE FALSE FALSE FALSE FALSE FALSE FALSE FALSE\n",
              " [349] FALSE FALSE FALSE FALSE FALSE FALSE FALSE FALSE FALSE FALSE FALSE FALSE\n",
              " [361] FALSE FALSE FALSE  TRUE FALSE FALSE FALSE FALSE FALSE FALSE FALSE FALSE\n",
              " [373] FALSE FALSE FALSE FALSE FALSE FALSE FALSE FALSE FALSE FALSE  TRUE FALSE\n",
              " [385]  TRUE FALSE FALSE FALSE FALSE FALSE FALSE FALSE FALSE FALSE FALSE FALSE\n",
              " [397] FALSE FALSE FALSE FALSE FALSE FALSE FALSE FALSE FALSE FALSE FALSE FALSE\n",
              " [409] FALSE FALSE  TRUE FALSE FALSE FALSE FALSE FALSE FALSE FALSE FALSE FALSE\n",
              " [421] FALSE FALSE FALSE FALSE FALSE FALSE FALSE FALSE FALSE FALSE FALSE FALSE\n",
              " [433] FALSE FALSE FALSE FALSE FALSE FALSE FALSE FALSE FALSE FALSE FALSE FALSE\n",
              " [445] FALSE FALSE FALSE FALSE FALSE FALSE FALSE FALSE FALSE FALSE FALSE FALSE\n",
              " [457] FALSE FALSE FALSE FALSE FALSE FALSE FALSE FALSE FALSE FALSE FALSE FALSE\n",
              " [469] FALSE  TRUE FALSE FALSE FALSE  TRUE FALSE FALSE FALSE  TRUE FALSE FALSE\n",
              " [481] FALSE FALSE FALSE  TRUE FALSE FALSE FALSE FALSE FALSE FALSE FALSE  TRUE\n",
              " [493] FALSE FALSE FALSE  TRUE FALSE FALSE FALSE FALSE FALSE FALSE FALSE FALSE\n",
              " [505] FALSE FALSE FALSE FALSE FALSE FALSE FALSE FALSE FALSE FALSE FALSE FALSE\n",
              " [517] FALSE FALSE FALSE FALSE FALSE FALSE FALSE FALSE  TRUE FALSE FALSE FALSE\n",
              " [529]  TRUE FALSE FALSE  TRUE FALSE FALSE FALSE FALSE FALSE FALSE FALSE FALSE\n",
              " [541] FALSE FALSE FALSE FALSE FALSE FALSE FALSE FALSE FALSE FALSE FALSE FALSE\n",
              " [553] FALSE FALSE FALSE FALSE FALSE FALSE FALSE FALSE FALSE FALSE FALSE FALSE\n",
              " [565] FALSE FALSE FALSE FALSE FALSE FALSE FALSE FALSE FALSE FALSE FALSE FALSE\n",
              " [577] FALSE FALSE FALSE FALSE FALSE  TRUE FALSE FALSE FALSE FALSE FALSE FALSE\n",
              " [589] FALSE FALSE FALSE FALSE FALSE FALSE FALSE  TRUE FALSE  TRUE FALSE FALSE\n",
              " [601] FALSE FALSE FALSE FALSE FALSE FALSE FALSE FALSE FALSE FALSE FALSE FALSE\n",
              " [613] FALSE FALSE FALSE FALSE FALSE FALSE FALSE FALSE FALSE FALSE FALSE FALSE\n",
              " [625] FALSE FALSE FALSE FALSE FALSE FALSE FALSE FALSE FALSE FALSE FALSE FALSE\n",
              " [637] FALSE FALSE FALSE FALSE FALSE FALSE FALSE FALSE FALSE FALSE FALSE FALSE\n",
              " [649] FALSE FALSE FALSE FALSE FALSE FALSE FALSE FALSE FALSE FALSE FALSE FALSE\n",
              " [661] FALSE FALSE FALSE FALSE FALSE FALSE FALSE FALSE FALSE FALSE FALSE FALSE\n",
              " [673]  TRUE FALSE FALSE FALSE FALSE FALSE FALSE FALSE  TRUE  TRUE  TRUE FALSE\n",
              " [685] FALSE FALSE FALSE FALSE FALSE FALSE FALSE FALSE FALSE FALSE FALSE FALSE\n",
              " [697] FALSE FALSE FALSE FALSE FALSE FALSE FALSE FALSE FALSE  TRUE  TRUE FALSE\n",
              " [709] FALSE FALSE FALSE FALSE FALSE FALSE FALSE FALSE FALSE FALSE FALSE FALSE\n",
              " [721] FALSE FALSE FALSE FALSE FALSE FALSE FALSE FALSE FALSE FALSE FALSE FALSE\n",
              " [733] FALSE FALSE FALSE FALSE FALSE FALSE FALSE FALSE FALSE FALSE FALSE FALSE\n",
              " [745] FALSE FALSE FALSE FALSE FALSE FALSE FALSE FALSE FALSE FALSE FALSE FALSE\n",
              " [757]  TRUE  TRUE FALSE FALSE FALSE FALSE FALSE FALSE FALSE FALSE FALSE  TRUE\n",
              " [769]  TRUE FALSE FALSE FALSE FALSE FALSE FALSE  TRUE FALSE FALSE FALSE FALSE\n",
              " [781] FALSE FALSE FALSE FALSE FALSE FALSE FALSE FALSE FALSE  TRUE FALSE FALSE\n",
              " [793] FALSE FALSE FALSE  TRUE FALSE FALSE  TRUE FALSE  TRUE  TRUE  TRUE FALSE\n",
              " [805]  TRUE  TRUE FALSE FALSE  TRUE FALSE FALSE FALSE  TRUE  TRUE FALSE  TRUE\n",
              " [817]  TRUE FALSE FALSE  TRUE FALSE FALSE FALSE FALSE FALSE FALSE FALSE FALSE\n",
              " [829] FALSE FALSE FALSE FALSE FALSE FALSE FALSE  TRUE FALSE FALSE FALSE FALSE\n",
              " [841] FALSE FALSE  TRUE  TRUE FALSE FALSE FALSE FALSE FALSE FALSE FALSE FALSE\n",
              " [853]  TRUE FALSE  TRUE FALSE  TRUE FALSE  TRUE FALSE FALSE FALSE FALSE FALSE\n",
              " [865] FALSE  TRUE FALSE FALSE FALSE FALSE FALSE  TRUE  TRUE FALSE  TRUE FALSE\n",
              " [877]  TRUE FALSE FALSE  TRUE FALSE FALSE  TRUE FALSE FALSE FALSE  TRUE  TRUE\n",
              " [889] FALSE FALSE FALSE FALSE FALSE FALSE FALSE FALSE FALSE FALSE FALSE FALSE\n",
              " [901]  TRUE  TRUE  TRUE  TRUE FALSE FALSE FALSE FALSE FALSE FALSE FALSE FALSE\n",
              " [913] FALSE FALSE FALSE FALSE FALSE FALSE  TRUE FALSE  TRUE  TRUE  TRUE  TRUE\n",
              " [925] FALSE FALSE  TRUE  TRUE  TRUE  TRUE  TRUE  TRUE FALSE FALSE FALSE FALSE\n",
              " [937] FALSE FALSE FALSE FALSE  TRUE FALSE  TRUE FALSE  TRUE  TRUE  TRUE FALSE\n",
              " [949]  TRUE FALSE FALSE FALSE FALSE FALSE  TRUE  TRUE  TRUE  TRUE  TRUE FALSE\n",
              " [961] FALSE  TRUE  TRUE FALSE FALSE FALSE FALSE FALSE FALSE FALSE FALSE  TRUE\n",
              " [973] FALSE  TRUE FALSE FALSE  TRUE FALSE FALSE FALSE FALSE FALSE  TRUE  TRUE\n",
              " [985]  TRUE FALSE FALSE  TRUE  TRUE  TRUE FALSE  TRUE FALSE  TRUE  TRUE FALSE\n",
              " [997] FALSE  TRUE  TRUE  TRUE  TRUE  TRUE  TRUE  TRUE  TRUE  TRUE  TRUE FALSE\n",
              "[1009] FALSE  TRUE FALSE FALSE  TRUE  TRUE  TRUE FALSE  TRUE FALSE  TRUE FALSE\n",
              "[1021] FALSE FALSE  TRUE  TRUE FALSE FALSE FALSE  TRUE  TRUE  TRUE  TRUE FALSE\n",
              "[1033]  TRUE  TRUE  TRUE  TRUE  TRUE  TRUE  TRUE  TRUE FALSE  TRUE  TRUE  TRUE\n",
              "[1045]  TRUE FALSE FALSE FALSE FALSE FALSE FALSE FALSE  TRUE  TRUE  TRUE  TRUE\n",
              "[1057] FALSE FALSE FALSE FALSE FALSE FALSE FALSE FALSE FALSE FALSE FALSE FALSE\n",
              "[1069] FALSE  TRUE  TRUE  TRUE  TRUE  TRUE  TRUE FALSE  TRUE  TRUE  TRUE FALSE\n",
              "[1081]  TRUE  TRUE FALSE FALSE FALSE  TRUE FALSE FALSE FALSE FALSE FALSE FALSE\n",
              "[1093] FALSE FALSE FALSE  TRUE FALSE FALSE FALSE FALSE FALSE FALSE FALSE FALSE\n",
              "[1105] FALSE FALSE FALSE FALSE FALSE  TRUE FALSE FALSE FALSE FALSE  TRUE  TRUE\n",
              "[1117]  TRUE FALSE FALSE FALSE FALSE  TRUE  TRUE  TRUE  TRUE FALSE FALSE FALSE\n",
              "[1129]  TRUE FALSE FALSE FALSE  TRUE FALSE FALSE  TRUE  TRUE  TRUE  TRUE FALSE\n",
              "[1141] FALSE FALSE FALSE FALSE FALSE FALSE FALSE FALSE FALSE  TRUE  TRUE  TRUE\n",
              "[1153] FALSE FALSE  TRUE  TRUE FALSE FALSE FALSE  TRUE FALSE FALSE  TRUE  TRUE\n",
              "[1165]  TRUE FALSE  TRUE  TRUE  TRUE FALSE  TRUE FALSE  TRUE  TRUE  TRUE  TRUE\n",
              "[1177]  TRUE  TRUE  TRUE  TRUE  TRUE FALSE FALSE FALSE  TRUE  TRUE  TRUE FALSE\n",
              "[1189] FALSE FALSE FALSE FALSE FALSE  TRUE  TRUE  TRUE FALSE  TRUE  TRUE  TRUE\n",
              "[1201]  TRUE FALSE  TRUE FALSE FALSE FALSE FALSE FALSE FALSE FALSE FALSE FALSE\n",
              "[1213]  TRUE  TRUE  TRUE  TRUE  TRUE FALSE FALSE  TRUE FALSE  TRUE FALSE FALSE\n",
              "[1225] FALSE FALSE FALSE FALSE FALSE FALSE FALSE FALSE FALSE FALSE FALSE FALSE\n",
              "[1237] FALSE FALSE FALSE FALSE FALSE  TRUE  TRUE  TRUE FALSE  TRUE  TRUE  TRUE\n",
              "[1249] FALSE  TRUE  TRUE FALSE FALSE  TRUE FALSE  TRUE FALSE FALSE FALSE FALSE\n",
              "[1261] FALSE FALSE  TRUE FALSE FALSE FALSE FALSE FALSE  TRUE FALSE FALSE FALSE\n",
              "[1273] FALSE FALSE FALSE FALSE FALSE FALSE FALSE FALSE FALSE FALSE  TRUE  TRUE\n",
              "[1285]  TRUE FALSE FALSE FALSE FALSE FALSE FALSE  TRUE  TRUE  TRUE FALSE FALSE\n",
              "[1297] FALSE  TRUE FALSE FALSE FALSE FALSE  TRUE  TRUE FALSE  TRUE FALSE FALSE\n",
              "[1309] FALSE  TRUE"
            ],
            "text/latex": "\\begin{enumerate*}\n\\item FALSE\n\\item FALSE\n\\item FALSE\n\\item FALSE\n\\item FALSE\n\\item FALSE\n\\item FALSE\n\\item FALSE\n\\item FALSE\n\\item FALSE\n\\item FALSE\n\\item FALSE\n\\item FALSE\n\\item FALSE\n\\item FALSE\n\\item TRUE\n\\item FALSE\n\\item FALSE\n\\item FALSE\n\\item FALSE\n\\item FALSE\n\\item FALSE\n\\item FALSE\n\\item FALSE\n\\item FALSE\n\\item FALSE\n\\item FALSE\n\\item FALSE\n\\item FALSE\n\\item FALSE\n\\item FALSE\n\\item FALSE\n\\item FALSE\n\\item FALSE\n\\item FALSE\n\\item FALSE\n\\item FALSE\n\\item TRUE\n\\item FALSE\n\\item FALSE\n\\item TRUE\n\\item FALSE\n\\item FALSE\n\\item FALSE\n\\item FALSE\n\\item FALSE\n\\item TRUE\n\\item FALSE\n\\item FALSE\n\\item FALSE\n\\item FALSE\n\\item FALSE\n\\item FALSE\n\\item FALSE\n\\item FALSE\n\\item FALSE\n\\item FALSE\n\\item FALSE\n\\item FALSE\n\\item TRUE\n\\item FALSE\n\\item FALSE\n\\item FALSE\n\\item FALSE\n\\item FALSE\n\\item FALSE\n\\item FALSE\n\\item FALSE\n\\item FALSE\n\\item TRUE\n\\item TRUE\n\\item FALSE\n\\item FALSE\n\\item FALSE\n\\item TRUE\n\\item FALSE\n\\item FALSE\n\\item FALSE\n\\item FALSE\n\\item FALSE\n\\item TRUE\n\\item FALSE\n\\item FALSE\n\\item FALSE\n\\item FALSE\n\\item FALSE\n\\item FALSE\n\\item FALSE\n\\item FALSE\n\\item FALSE\n\\item FALSE\n\\item FALSE\n\\item FALSE\n\\item FALSE\n\\item FALSE\n\\item FALSE\n\\item FALSE\n\\item FALSE\n\\item FALSE\n\\item FALSE\n\\item FALSE\n\\item FALSE\n\\item FALSE\n\\item FALSE\n\\item FALSE\n\\item FALSE\n\\item TRUE\n\\item TRUE\n\\item TRUE\n\\item FALSE\n\\item FALSE\n\\item FALSE\n\\item FALSE\n\\item FALSE\n\\item FALSE\n\\item FALSE\n\\item FALSE\n\\item FALSE\n\\item TRUE\n\\item FALSE\n\\item FALSE\n\\item TRUE\n\\item FALSE\n\\item FALSE\n\\item FALSE\n\\item TRUE\n\\item FALSE\n\\item FALSE\n\\item FALSE\n\\item FALSE\n\\item FALSE\n\\item FALSE\n\\item FALSE\n\\item FALSE\n\\item TRUE\n\\item FALSE\n\\item FALSE\n\\item FALSE\n\\item FALSE\n\\item FALSE\n\\item FALSE\n\\item FALSE\n\\item FALSE\n\\item FALSE\n\\item FALSE\n\\item FALSE\n\\item FALSE\n\\item TRUE\n\\item FALSE\n\\item FALSE\n\\item FALSE\n\\item FALSE\n\\item TRUE\n\\item FALSE\n\\item FALSE\n\\item FALSE\n\\item FALSE\n\\item TRUE\n\\item FALSE\n\\item FALSE\n\\item FALSE\n\\item FALSE\n\\item FALSE\n\\item FALSE\n\\item FALSE\n\\item FALSE\n\\item TRUE\n\\item FALSE\n\\item FALSE\n\\item FALSE\n\\item FALSE\n\\item FALSE\n\\item FALSE\n\\item FALSE\n\\item FALSE\n\\item FALSE\n\\item TRUE\n\\item FALSE\n\\item FALSE\n\\item TRUE\n\\item FALSE\n\\item FALSE\n\\item FALSE\n\\item FALSE\n\\item TRUE\n\\item FALSE\n\\item FALSE\n\\item FALSE\n\\item FALSE\n\\item FALSE\n\\item FALSE\n\\item FALSE\n\\item FALSE\n\\item FALSE\n\\item FALSE\n\\item FALSE\n\\item TRUE\n\\item FALSE\n\\item FALSE\n\\item FALSE\n\\item ⋯\n\\item FALSE\n\\item FALSE\n\\item FALSE\n\\item FALSE\n\\item TRUE\n\\item TRUE\n\\item TRUE\n\\item FALSE\n\\item FALSE\n\\item FALSE\n\\item FALSE\n\\item TRUE\n\\item TRUE\n\\item TRUE\n\\item TRUE\n\\item FALSE\n\\item FALSE\n\\item FALSE\n\\item TRUE\n\\item FALSE\n\\item FALSE\n\\item FALSE\n\\item TRUE\n\\item FALSE\n\\item FALSE\n\\item TRUE\n\\item TRUE\n\\item TRUE\n\\item TRUE\n\\item FALSE\n\\item FALSE\n\\item FALSE\n\\item FALSE\n\\item FALSE\n\\item FALSE\n\\item FALSE\n\\item FALSE\n\\item FALSE\n\\item FALSE\n\\item TRUE\n\\item TRUE\n\\item TRUE\n\\item FALSE\n\\item FALSE\n\\item TRUE\n\\item TRUE\n\\item FALSE\n\\item FALSE\n\\item FALSE\n\\item TRUE\n\\item FALSE\n\\item FALSE\n\\item TRUE\n\\item TRUE\n\\item TRUE\n\\item FALSE\n\\item TRUE\n\\item TRUE\n\\item TRUE\n\\item FALSE\n\\item TRUE\n\\item FALSE\n\\item TRUE\n\\item TRUE\n\\item TRUE\n\\item TRUE\n\\item TRUE\n\\item TRUE\n\\item TRUE\n\\item TRUE\n\\item TRUE\n\\item FALSE\n\\item FALSE\n\\item FALSE\n\\item TRUE\n\\item TRUE\n\\item TRUE\n\\item FALSE\n\\item FALSE\n\\item FALSE\n\\item FALSE\n\\item FALSE\n\\item FALSE\n\\item TRUE\n\\item TRUE\n\\item TRUE\n\\item FALSE\n\\item TRUE\n\\item TRUE\n\\item TRUE\n\\item TRUE\n\\item FALSE\n\\item TRUE\n\\item FALSE\n\\item FALSE\n\\item FALSE\n\\item FALSE\n\\item FALSE\n\\item FALSE\n\\item FALSE\n\\item FALSE\n\\item FALSE\n\\item TRUE\n\\item TRUE\n\\item TRUE\n\\item TRUE\n\\item TRUE\n\\item FALSE\n\\item FALSE\n\\item TRUE\n\\item FALSE\n\\item TRUE\n\\item FALSE\n\\item FALSE\n\\item FALSE\n\\item FALSE\n\\item FALSE\n\\item FALSE\n\\item FALSE\n\\item FALSE\n\\item FALSE\n\\item FALSE\n\\item FALSE\n\\item FALSE\n\\item FALSE\n\\item FALSE\n\\item FALSE\n\\item FALSE\n\\item FALSE\n\\item FALSE\n\\item FALSE\n\\item TRUE\n\\item TRUE\n\\item TRUE\n\\item FALSE\n\\item TRUE\n\\item TRUE\n\\item TRUE\n\\item FALSE\n\\item TRUE\n\\item TRUE\n\\item FALSE\n\\item FALSE\n\\item TRUE\n\\item FALSE\n\\item TRUE\n\\item FALSE\n\\item FALSE\n\\item FALSE\n\\item FALSE\n\\item FALSE\n\\item FALSE\n\\item TRUE\n\\item FALSE\n\\item FALSE\n\\item FALSE\n\\item FALSE\n\\item FALSE\n\\item TRUE\n\\item FALSE\n\\item FALSE\n\\item FALSE\n\\item FALSE\n\\item FALSE\n\\item FALSE\n\\item FALSE\n\\item FALSE\n\\item FALSE\n\\item FALSE\n\\item FALSE\n\\item FALSE\n\\item FALSE\n\\item TRUE\n\\item TRUE\n\\item TRUE\n\\item FALSE\n\\item FALSE\n\\item FALSE\n\\item FALSE\n\\item FALSE\n\\item FALSE\n\\item TRUE\n\\item TRUE\n\\item TRUE\n\\item FALSE\n\\item FALSE\n\\item FALSE\n\\item TRUE\n\\item FALSE\n\\item FALSE\n\\item FALSE\n\\item FALSE\n\\item TRUE\n\\item TRUE\n\\item FALSE\n\\item TRUE\n\\item FALSE\n\\item FALSE\n\\item FALSE\n\\item TRUE\n\\end{enumerate*}\n",
            "text/markdown": "1. FALSE\n2. FALSE\n3. FALSE\n4. FALSE\n5. FALSE\n6. FALSE\n7. FALSE\n8. FALSE\n9. FALSE\n10. FALSE\n11. FALSE\n12. FALSE\n13. FALSE\n14. FALSE\n15. FALSE\n16. TRUE\n17. FALSE\n18. FALSE\n19. FALSE\n20. FALSE\n21. FALSE\n22. FALSE\n23. FALSE\n24. FALSE\n25. FALSE\n26. FALSE\n27. FALSE\n28. FALSE\n29. FALSE\n30. FALSE\n31. FALSE\n32. FALSE\n33. FALSE\n34. FALSE\n35. FALSE\n36. FALSE\n37. FALSE\n38. TRUE\n39. FALSE\n40. FALSE\n41. TRUE\n42. FALSE\n43. FALSE\n44. FALSE\n45. FALSE\n46. FALSE\n47. TRUE\n48. FALSE\n49. FALSE\n50. FALSE\n51. FALSE\n52. FALSE\n53. FALSE\n54. FALSE\n55. FALSE\n56. FALSE\n57. FALSE\n58. FALSE\n59. FALSE\n60. TRUE\n61. FALSE\n62. FALSE\n63. FALSE\n64. FALSE\n65. FALSE\n66. FALSE\n67. FALSE\n68. FALSE\n69. FALSE\n70. TRUE\n71. TRUE\n72. FALSE\n73. FALSE\n74. FALSE\n75. TRUE\n76. FALSE\n77. FALSE\n78. FALSE\n79. FALSE\n80. FALSE\n81. TRUE\n82. FALSE\n83. FALSE\n84. FALSE\n85. FALSE\n86. FALSE\n87. FALSE\n88. FALSE\n89. FALSE\n90. FALSE\n91. FALSE\n92. FALSE\n93. FALSE\n94. FALSE\n95. FALSE\n96. FALSE\n97. FALSE\n98. FALSE\n99. FALSE\n100. FALSE\n101. FALSE\n102. FALSE\n103. FALSE\n104. FALSE\n105. FALSE\n106. FALSE\n107. TRUE\n108. TRUE\n109. TRUE\n110. FALSE\n111. FALSE\n112. FALSE\n113. FALSE\n114. FALSE\n115. FALSE\n116. FALSE\n117. FALSE\n118. FALSE\n119. TRUE\n120. FALSE\n121. FALSE\n122. TRUE\n123. FALSE\n124. FALSE\n125. FALSE\n126. TRUE\n127. FALSE\n128. FALSE\n129. FALSE\n130. FALSE\n131. FALSE\n132. FALSE\n133. FALSE\n134. FALSE\n135. TRUE\n136. FALSE\n137. FALSE\n138. FALSE\n139. FALSE\n140. FALSE\n141. FALSE\n142. FALSE\n143. FALSE\n144. FALSE\n145. FALSE\n146. FALSE\n147. FALSE\n148. TRUE\n149. FALSE\n150. FALSE\n151. FALSE\n152. FALSE\n153. TRUE\n154. FALSE\n155. FALSE\n156. FALSE\n157. FALSE\n158. TRUE\n159. FALSE\n160. FALSE\n161. FALSE\n162. FALSE\n163. FALSE\n164. FALSE\n165. FALSE\n166. FALSE\n167. TRUE\n168. FALSE\n169. FALSE\n170. FALSE\n171. FALSE\n172. FALSE\n173. FALSE\n174. FALSE\n175. FALSE\n176. FALSE\n177. TRUE\n178. FALSE\n179. FALSE\n180. TRUE\n181. FALSE\n182. FALSE\n183. FALSE\n184. FALSE\n185. TRUE\n186. FALSE\n187. FALSE\n188. FALSE\n189. FALSE\n190. FALSE\n191. FALSE\n192. FALSE\n193. FALSE\n194. FALSE\n195. FALSE\n196. FALSE\n197. TRUE\n198. FALSE\n199. FALSE\n200. FALSE\n201. ⋯\n202. FALSE\n203. FALSE\n204. FALSE\n205. FALSE\n206. TRUE\n207. TRUE\n208. TRUE\n209. FALSE\n210. FALSE\n211. FALSE\n212. FALSE\n213. TRUE\n214. TRUE\n215. TRUE\n216. TRUE\n217. FALSE\n218. FALSE\n219. FALSE\n220. TRUE\n221. FALSE\n222. FALSE\n223. FALSE\n224. TRUE\n225. FALSE\n226. FALSE\n227. TRUE\n228. TRUE\n229. TRUE\n230. TRUE\n231. FALSE\n232. FALSE\n233. FALSE\n234. FALSE\n235. FALSE\n236. FALSE\n237. FALSE\n238. FALSE\n239. FALSE\n240. FALSE\n241. TRUE\n242. TRUE\n243. TRUE\n244. FALSE\n245. FALSE\n246. TRUE\n247. TRUE\n248. FALSE\n249. FALSE\n250. FALSE\n251. TRUE\n252. FALSE\n253. FALSE\n254. TRUE\n255. TRUE\n256. TRUE\n257. FALSE\n258. TRUE\n259. TRUE\n260. TRUE\n261. FALSE\n262. TRUE\n263. FALSE\n264. TRUE\n265. TRUE\n266. TRUE\n267. TRUE\n268. TRUE\n269. TRUE\n270. TRUE\n271. TRUE\n272. TRUE\n273. FALSE\n274. FALSE\n275. FALSE\n276. TRUE\n277. TRUE\n278. TRUE\n279. FALSE\n280. FALSE\n281. FALSE\n282. FALSE\n283. FALSE\n284. FALSE\n285. TRUE\n286. TRUE\n287. TRUE\n288. FALSE\n289. TRUE\n290. TRUE\n291. TRUE\n292. TRUE\n293. FALSE\n294. TRUE\n295. FALSE\n296. FALSE\n297. FALSE\n298. FALSE\n299. FALSE\n300. FALSE\n301. FALSE\n302. FALSE\n303. FALSE\n304. TRUE\n305. TRUE\n306. TRUE\n307. TRUE\n308. TRUE\n309. FALSE\n310. FALSE\n311. TRUE\n312. FALSE\n313. TRUE\n314. FALSE\n315. FALSE\n316. FALSE\n317. FALSE\n318. FALSE\n319. FALSE\n320. FALSE\n321. FALSE\n322. FALSE\n323. FALSE\n324. FALSE\n325. FALSE\n326. FALSE\n327. FALSE\n328. FALSE\n329. FALSE\n330. FALSE\n331. FALSE\n332. FALSE\n333. TRUE\n334. TRUE\n335. TRUE\n336. FALSE\n337. TRUE\n338. TRUE\n339. TRUE\n340. FALSE\n341. TRUE\n342. TRUE\n343. FALSE\n344. FALSE\n345. TRUE\n346. FALSE\n347. TRUE\n348. FALSE\n349. FALSE\n350. FALSE\n351. FALSE\n352. FALSE\n353. FALSE\n354. TRUE\n355. FALSE\n356. FALSE\n357. FALSE\n358. FALSE\n359. FALSE\n360. TRUE\n361. FALSE\n362. FALSE\n363. FALSE\n364. FALSE\n365. FALSE\n366. FALSE\n367. FALSE\n368. FALSE\n369. FALSE\n370. FALSE\n371. FALSE\n372. FALSE\n373. FALSE\n374. TRUE\n375. TRUE\n376. TRUE\n377. FALSE\n378. FALSE\n379. FALSE\n380. FALSE\n381. FALSE\n382. FALSE\n383. TRUE\n384. TRUE\n385. TRUE\n386. FALSE\n387. FALSE\n388. FALSE\n389. TRUE\n390. FALSE\n391. FALSE\n392. FALSE\n393. FALSE\n394. TRUE\n395. TRUE\n396. FALSE\n397. TRUE\n398. FALSE\n399. FALSE\n400. FALSE\n401. TRUE\n\n\n",
            "text/html": [
              "<style>\n",
              ".list-inline {list-style: none; margin:0; padding: 0}\n",
              ".list-inline>li {display: inline-block}\n",
              ".list-inline>li:not(:last-child)::after {content: \"\\00b7\"; padding: 0 .5ex}\n",
              "</style>\n",
              "<ol class=list-inline><li>FALSE</li><li>FALSE</li><li>FALSE</li><li>FALSE</li><li>FALSE</li><li>FALSE</li><li>FALSE</li><li>FALSE</li><li>FALSE</li><li>FALSE</li><li>FALSE</li><li>FALSE</li><li>FALSE</li><li>FALSE</li><li>FALSE</li><li>TRUE</li><li>FALSE</li><li>FALSE</li><li>FALSE</li><li>FALSE</li><li>FALSE</li><li>FALSE</li><li>FALSE</li><li>FALSE</li><li>FALSE</li><li>FALSE</li><li>FALSE</li><li>FALSE</li><li>FALSE</li><li>FALSE</li><li>FALSE</li><li>FALSE</li><li>FALSE</li><li>FALSE</li><li>FALSE</li><li>FALSE</li><li>FALSE</li><li>TRUE</li><li>FALSE</li><li>FALSE</li><li>TRUE</li><li>FALSE</li><li>FALSE</li><li>FALSE</li><li>FALSE</li><li>FALSE</li><li>TRUE</li><li>FALSE</li><li>FALSE</li><li>FALSE</li><li>FALSE</li><li>FALSE</li><li>FALSE</li><li>FALSE</li><li>FALSE</li><li>FALSE</li><li>FALSE</li><li>FALSE</li><li>FALSE</li><li>TRUE</li><li>FALSE</li><li>FALSE</li><li>FALSE</li><li>FALSE</li><li>FALSE</li><li>FALSE</li><li>FALSE</li><li>FALSE</li><li>FALSE</li><li>TRUE</li><li>TRUE</li><li>FALSE</li><li>FALSE</li><li>FALSE</li><li>TRUE</li><li>FALSE</li><li>FALSE</li><li>FALSE</li><li>FALSE</li><li>FALSE</li><li>TRUE</li><li>FALSE</li><li>FALSE</li><li>FALSE</li><li>FALSE</li><li>FALSE</li><li>FALSE</li><li>FALSE</li><li>FALSE</li><li>FALSE</li><li>FALSE</li><li>FALSE</li><li>FALSE</li><li>FALSE</li><li>FALSE</li><li>FALSE</li><li>FALSE</li><li>FALSE</li><li>FALSE</li><li>FALSE</li><li>FALSE</li><li>FALSE</li><li>FALSE</li><li>FALSE</li><li>FALSE</li><li>FALSE</li><li>TRUE</li><li>TRUE</li><li>TRUE</li><li>FALSE</li><li>FALSE</li><li>FALSE</li><li>FALSE</li><li>FALSE</li><li>FALSE</li><li>FALSE</li><li>FALSE</li><li>FALSE</li><li>TRUE</li><li>FALSE</li><li>FALSE</li><li>TRUE</li><li>FALSE</li><li>FALSE</li><li>FALSE</li><li>TRUE</li><li>FALSE</li><li>FALSE</li><li>FALSE</li><li>FALSE</li><li>FALSE</li><li>FALSE</li><li>FALSE</li><li>FALSE</li><li>TRUE</li><li>FALSE</li><li>FALSE</li><li>FALSE</li><li>FALSE</li><li>FALSE</li><li>FALSE</li><li>FALSE</li><li>FALSE</li><li>FALSE</li><li>FALSE</li><li>FALSE</li><li>FALSE</li><li>TRUE</li><li>FALSE</li><li>FALSE</li><li>FALSE</li><li>FALSE</li><li>TRUE</li><li>FALSE</li><li>FALSE</li><li>FALSE</li><li>FALSE</li><li>TRUE</li><li>FALSE</li><li>FALSE</li><li>FALSE</li><li>FALSE</li><li>FALSE</li><li>FALSE</li><li>FALSE</li><li>FALSE</li><li>TRUE</li><li>FALSE</li><li>FALSE</li><li>FALSE</li><li>FALSE</li><li>FALSE</li><li>FALSE</li><li>FALSE</li><li>FALSE</li><li>FALSE</li><li>TRUE</li><li>FALSE</li><li>FALSE</li><li>TRUE</li><li>FALSE</li><li>FALSE</li><li>FALSE</li><li>FALSE</li><li>TRUE</li><li>FALSE</li><li>FALSE</li><li>FALSE</li><li>FALSE</li><li>FALSE</li><li>FALSE</li><li>FALSE</li><li>FALSE</li><li>FALSE</li><li>FALSE</li><li>FALSE</li><li>TRUE</li><li>FALSE</li><li>FALSE</li><li>FALSE</li><li>⋯</li><li>FALSE</li><li>FALSE</li><li>FALSE</li><li>FALSE</li><li>TRUE</li><li>TRUE</li><li>TRUE</li><li>FALSE</li><li>FALSE</li><li>FALSE</li><li>FALSE</li><li>TRUE</li><li>TRUE</li><li>TRUE</li><li>TRUE</li><li>FALSE</li><li>FALSE</li><li>FALSE</li><li>TRUE</li><li>FALSE</li><li>FALSE</li><li>FALSE</li><li>TRUE</li><li>FALSE</li><li>FALSE</li><li>TRUE</li><li>TRUE</li><li>TRUE</li><li>TRUE</li><li>FALSE</li><li>FALSE</li><li>FALSE</li><li>FALSE</li><li>FALSE</li><li>FALSE</li><li>FALSE</li><li>FALSE</li><li>FALSE</li><li>FALSE</li><li>TRUE</li><li>TRUE</li><li>TRUE</li><li>FALSE</li><li>FALSE</li><li>TRUE</li><li>TRUE</li><li>FALSE</li><li>FALSE</li><li>FALSE</li><li>TRUE</li><li>FALSE</li><li>FALSE</li><li>TRUE</li><li>TRUE</li><li>TRUE</li><li>FALSE</li><li>TRUE</li><li>TRUE</li><li>TRUE</li><li>FALSE</li><li>TRUE</li><li>FALSE</li><li>TRUE</li><li>TRUE</li><li>TRUE</li><li>TRUE</li><li>TRUE</li><li>TRUE</li><li>TRUE</li><li>TRUE</li><li>TRUE</li><li>FALSE</li><li>FALSE</li><li>FALSE</li><li>TRUE</li><li>TRUE</li><li>TRUE</li><li>FALSE</li><li>FALSE</li><li>FALSE</li><li>FALSE</li><li>FALSE</li><li>FALSE</li><li>TRUE</li><li>TRUE</li><li>TRUE</li><li>FALSE</li><li>TRUE</li><li>TRUE</li><li>TRUE</li><li>TRUE</li><li>FALSE</li><li>TRUE</li><li>FALSE</li><li>FALSE</li><li>FALSE</li><li>FALSE</li><li>FALSE</li><li>FALSE</li><li>FALSE</li><li>FALSE</li><li>FALSE</li><li>TRUE</li><li>TRUE</li><li>TRUE</li><li>TRUE</li><li>TRUE</li><li>FALSE</li><li>FALSE</li><li>TRUE</li><li>FALSE</li><li>TRUE</li><li>FALSE</li><li>FALSE</li><li>FALSE</li><li>FALSE</li><li>FALSE</li><li>FALSE</li><li>FALSE</li><li>FALSE</li><li>FALSE</li><li>FALSE</li><li>FALSE</li><li>FALSE</li><li>FALSE</li><li>FALSE</li><li>FALSE</li><li>FALSE</li><li>FALSE</li><li>FALSE</li><li>FALSE</li><li>TRUE</li><li>TRUE</li><li>TRUE</li><li>FALSE</li><li>TRUE</li><li>TRUE</li><li>TRUE</li><li>FALSE</li><li>TRUE</li><li>TRUE</li><li>FALSE</li><li>FALSE</li><li>TRUE</li><li>FALSE</li><li>TRUE</li><li>FALSE</li><li>FALSE</li><li>FALSE</li><li>FALSE</li><li>FALSE</li><li>FALSE</li><li>TRUE</li><li>FALSE</li><li>FALSE</li><li>FALSE</li><li>FALSE</li><li>FALSE</li><li>TRUE</li><li>FALSE</li><li>FALSE</li><li>FALSE</li><li>FALSE</li><li>FALSE</li><li>FALSE</li><li>FALSE</li><li>FALSE</li><li>FALSE</li><li>FALSE</li><li>FALSE</li><li>FALSE</li><li>FALSE</li><li>TRUE</li><li>TRUE</li><li>TRUE</li><li>FALSE</li><li>FALSE</li><li>FALSE</li><li>FALSE</li><li>FALSE</li><li>FALSE</li><li>TRUE</li><li>TRUE</li><li>TRUE</li><li>FALSE</li><li>FALSE</li><li>FALSE</li><li>TRUE</li><li>FALSE</li><li>FALSE</li><li>FALSE</li><li>FALSE</li><li>TRUE</li><li>TRUE</li><li>FALSE</li><li>TRUE</li><li>FALSE</li><li>FALSE</li><li>FALSE</li><li>TRUE</li></ol>\n"
            ]
          },
          "metadata": {
            "tags": []
          }
        },
        {
          "output_type": "display_data",
          "data": {
            "text/plain": [
              "   [1] FALSE FALSE FALSE FALSE FALSE FALSE FALSE FALSE FALSE FALSE FALSE FALSE\n",
              "  [13] FALSE FALSE FALSE  TRUE FALSE FALSE FALSE FALSE FALSE FALSE FALSE FALSE\n",
              "  [25] FALSE FALSE FALSE FALSE FALSE FALSE FALSE FALSE FALSE FALSE FALSE FALSE\n",
              "  [37] FALSE  TRUE FALSE FALSE  TRUE FALSE FALSE FALSE FALSE FALSE  TRUE FALSE\n",
              "  [49] FALSE FALSE FALSE FALSE FALSE FALSE FALSE FALSE FALSE FALSE FALSE  TRUE\n",
              "  [61] FALSE FALSE FALSE FALSE FALSE FALSE FALSE FALSE FALSE  TRUE  TRUE FALSE\n",
              "  [73] FALSE FALSE  TRUE FALSE FALSE FALSE FALSE FALSE  TRUE FALSE FALSE FALSE\n",
              "  [85] FALSE FALSE FALSE FALSE FALSE FALSE FALSE FALSE FALSE FALSE FALSE FALSE\n",
              "  [97] FALSE FALSE FALSE FALSE FALSE FALSE FALSE FALSE FALSE FALSE  TRUE  TRUE\n",
              " [109]  TRUE FALSE FALSE FALSE FALSE FALSE FALSE FALSE FALSE FALSE  TRUE FALSE\n",
              " [121] FALSE  TRUE FALSE FALSE FALSE  TRUE FALSE FALSE FALSE FALSE FALSE FALSE\n",
              " [133] FALSE FALSE  TRUE FALSE FALSE FALSE FALSE FALSE FALSE FALSE FALSE FALSE\n",
              " [145] FALSE FALSE FALSE  TRUE FALSE FALSE FALSE FALSE  TRUE FALSE FALSE FALSE\n",
              " [157] FALSE  TRUE FALSE FALSE FALSE FALSE FALSE FALSE FALSE FALSE  TRUE FALSE\n",
              " [169] FALSE FALSE FALSE FALSE FALSE FALSE FALSE FALSE  TRUE FALSE FALSE  TRUE\n",
              " [181] FALSE FALSE FALSE FALSE  TRUE FALSE FALSE FALSE FALSE FALSE FALSE FALSE\n",
              " [193] FALSE FALSE FALSE FALSE  TRUE FALSE FALSE FALSE FALSE FALSE FALSE FALSE\n",
              " [205]  TRUE FALSE FALSE FALSE FALSE FALSE FALSE FALSE FALSE FALSE FALSE FALSE\n",
              " [217] FALSE FALSE FALSE  TRUE FALSE FALSE FALSE  TRUE FALSE FALSE FALSE FALSE\n",
              " [229] FALSE FALSE FALSE FALSE FALSE FALSE FALSE  TRUE FALSE  TRUE FALSE FALSE\n",
              " [241] FALSE  TRUE FALSE FALSE FALSE FALSE FALSE FALSE FALSE FALSE FALSE FALSE\n",
              " [253] FALSE FALSE  TRUE FALSE  TRUE FALSE FALSE FALSE FALSE FALSE FALSE FALSE\n",
              " [265] FALSE FALSE FALSE FALSE FALSE  TRUE FALSE FALSE FALSE FALSE FALSE FALSE\n",
              " [277] FALSE  TRUE FALSE FALSE FALSE FALSE FALSE  TRUE FALSE FALSE FALSE FALSE\n",
              " [289] FALSE FALSE FALSE FALSE FALSE  TRUE FALSE FALSE FALSE  TRUE FALSE FALSE\n",
              " [301] FALSE FALSE FALSE FALSE FALSE FALSE FALSE FALSE FALSE FALSE FALSE FALSE\n",
              " [313] FALSE FALSE FALSE FALSE FALSE FALSE  TRUE FALSE  TRUE FALSE FALSE FALSE\n",
              " [325] FALSE FALSE FALSE FALSE FALSE FALSE FALSE FALSE FALSE FALSE FALSE FALSE\n",
              " [337] FALSE FALSE FALSE FALSE FALSE FALSE FALSE FALSE FALSE FALSE FALSE FALSE\n",
              " [349] FALSE FALSE FALSE FALSE FALSE FALSE FALSE FALSE FALSE FALSE FALSE FALSE\n",
              " [361] FALSE FALSE FALSE  TRUE FALSE FALSE FALSE FALSE FALSE FALSE FALSE FALSE\n",
              " [373] FALSE FALSE FALSE FALSE FALSE FALSE FALSE FALSE FALSE FALSE  TRUE FALSE\n",
              " [385]  TRUE FALSE FALSE FALSE FALSE FALSE FALSE FALSE FALSE FALSE FALSE FALSE\n",
              " [397] FALSE FALSE FALSE FALSE FALSE FALSE FALSE FALSE FALSE FALSE FALSE FALSE\n",
              " [409] FALSE FALSE  TRUE FALSE FALSE FALSE FALSE FALSE FALSE FALSE FALSE FALSE\n",
              " [421] FALSE FALSE FALSE FALSE FALSE FALSE FALSE FALSE FALSE FALSE FALSE FALSE\n",
              " [433] FALSE FALSE FALSE FALSE FALSE FALSE FALSE FALSE FALSE FALSE FALSE FALSE\n",
              " [445] FALSE FALSE FALSE FALSE FALSE FALSE FALSE FALSE FALSE FALSE FALSE FALSE\n",
              " [457] FALSE FALSE FALSE FALSE FALSE FALSE FALSE FALSE FALSE FALSE FALSE FALSE\n",
              " [469] FALSE  TRUE FALSE FALSE FALSE  TRUE FALSE FALSE FALSE  TRUE FALSE FALSE\n",
              " [481] FALSE FALSE FALSE  TRUE FALSE FALSE FALSE FALSE FALSE FALSE FALSE  TRUE\n",
              " [493] FALSE FALSE FALSE  TRUE FALSE FALSE FALSE FALSE FALSE FALSE FALSE FALSE\n",
              " [505] FALSE FALSE FALSE FALSE FALSE FALSE FALSE FALSE FALSE FALSE FALSE FALSE\n",
              " [517] FALSE FALSE FALSE FALSE FALSE FALSE FALSE FALSE  TRUE FALSE FALSE FALSE\n",
              " [529]  TRUE FALSE FALSE  TRUE FALSE FALSE FALSE FALSE FALSE FALSE FALSE FALSE\n",
              " [541] FALSE FALSE FALSE FALSE FALSE FALSE FALSE FALSE FALSE FALSE FALSE FALSE\n",
              " [553] FALSE FALSE FALSE FALSE FALSE FALSE FALSE FALSE FALSE FALSE FALSE FALSE\n",
              " [565] FALSE FALSE FALSE FALSE FALSE FALSE FALSE FALSE FALSE FALSE FALSE FALSE\n",
              " [577] FALSE FALSE FALSE FALSE FALSE  TRUE FALSE FALSE FALSE FALSE FALSE FALSE\n",
              " [589] FALSE FALSE FALSE FALSE FALSE FALSE FALSE  TRUE FALSE  TRUE FALSE FALSE\n",
              " [601] FALSE FALSE FALSE FALSE FALSE FALSE FALSE FALSE FALSE FALSE FALSE FALSE\n",
              " [613] FALSE FALSE FALSE FALSE FALSE FALSE FALSE FALSE FALSE FALSE FALSE FALSE\n",
              " [625] FALSE FALSE FALSE FALSE FALSE FALSE FALSE FALSE FALSE FALSE FALSE FALSE\n",
              " [637] FALSE FALSE FALSE FALSE FALSE FALSE FALSE FALSE FALSE FALSE FALSE FALSE\n",
              " [649] FALSE FALSE FALSE FALSE FALSE FALSE FALSE FALSE FALSE FALSE FALSE FALSE\n",
              " [661] FALSE FALSE FALSE FALSE FALSE FALSE FALSE FALSE FALSE FALSE FALSE FALSE\n",
              " [673]  TRUE FALSE FALSE FALSE FALSE FALSE FALSE FALSE  TRUE  TRUE  TRUE FALSE\n",
              " [685] FALSE FALSE FALSE FALSE FALSE FALSE FALSE FALSE FALSE FALSE FALSE FALSE\n",
              " [697] FALSE FALSE FALSE FALSE FALSE FALSE FALSE FALSE FALSE  TRUE  TRUE FALSE\n",
              " [709] FALSE FALSE FALSE FALSE FALSE FALSE FALSE FALSE FALSE FALSE FALSE FALSE\n",
              " [721] FALSE FALSE FALSE FALSE FALSE FALSE FALSE FALSE FALSE FALSE FALSE FALSE\n",
              " [733] FALSE FALSE FALSE FALSE FALSE FALSE FALSE FALSE FALSE FALSE FALSE FALSE\n",
              " [745] FALSE FALSE FALSE FALSE FALSE FALSE FALSE FALSE FALSE FALSE FALSE FALSE\n",
              " [757]  TRUE  TRUE FALSE FALSE FALSE FALSE FALSE FALSE FALSE FALSE FALSE  TRUE\n",
              " [769]  TRUE FALSE FALSE FALSE FALSE FALSE FALSE  TRUE FALSE FALSE FALSE FALSE\n",
              " [781] FALSE FALSE FALSE FALSE FALSE FALSE FALSE FALSE FALSE  TRUE FALSE FALSE\n",
              " [793] FALSE FALSE FALSE  TRUE FALSE FALSE  TRUE FALSE  TRUE  TRUE  TRUE FALSE\n",
              " [805]  TRUE  TRUE FALSE FALSE  TRUE FALSE FALSE FALSE  TRUE  TRUE FALSE  TRUE\n",
              " [817]  TRUE FALSE FALSE  TRUE FALSE FALSE FALSE FALSE FALSE FALSE FALSE FALSE\n",
              " [829] FALSE FALSE FALSE FALSE FALSE FALSE FALSE  TRUE FALSE FALSE FALSE FALSE\n",
              " [841] FALSE FALSE  TRUE  TRUE FALSE FALSE FALSE FALSE FALSE FALSE FALSE FALSE\n",
              " [853]  TRUE FALSE  TRUE FALSE  TRUE FALSE  TRUE FALSE FALSE FALSE FALSE FALSE\n",
              " [865] FALSE  TRUE FALSE FALSE FALSE FALSE FALSE  TRUE  TRUE FALSE  TRUE FALSE\n",
              " [877]  TRUE FALSE FALSE  TRUE FALSE FALSE  TRUE FALSE FALSE FALSE  TRUE  TRUE\n",
              " [889] FALSE FALSE FALSE FALSE FALSE FALSE FALSE FALSE FALSE FALSE FALSE FALSE\n",
              " [901]  TRUE  TRUE  TRUE  TRUE FALSE FALSE FALSE FALSE FALSE FALSE FALSE FALSE\n",
              " [913] FALSE FALSE FALSE FALSE FALSE FALSE  TRUE FALSE  TRUE  TRUE  TRUE  TRUE\n",
              " [925] FALSE FALSE  TRUE  TRUE  TRUE  TRUE  TRUE  TRUE FALSE FALSE FALSE FALSE\n",
              " [937] FALSE FALSE FALSE FALSE  TRUE FALSE  TRUE FALSE  TRUE  TRUE  TRUE FALSE\n",
              " [949]  TRUE FALSE FALSE FALSE FALSE FALSE  TRUE  TRUE  TRUE  TRUE  TRUE FALSE\n",
              " [961] FALSE  TRUE  TRUE FALSE FALSE FALSE FALSE FALSE FALSE FALSE FALSE  TRUE\n",
              " [973] FALSE  TRUE FALSE FALSE  TRUE FALSE FALSE FALSE FALSE FALSE  TRUE  TRUE\n",
              " [985]  TRUE FALSE FALSE  TRUE  TRUE  TRUE FALSE  TRUE FALSE  TRUE  TRUE FALSE\n",
              " [997] FALSE  TRUE  TRUE  TRUE  TRUE  TRUE  TRUE  TRUE  TRUE  TRUE  TRUE FALSE\n",
              "[1009] FALSE  TRUE FALSE FALSE  TRUE  TRUE  TRUE FALSE  TRUE FALSE  TRUE FALSE\n",
              "[1021] FALSE FALSE  TRUE  TRUE FALSE FALSE FALSE  TRUE  TRUE  TRUE  TRUE FALSE\n",
              "[1033]  TRUE  TRUE  TRUE  TRUE  TRUE  TRUE  TRUE  TRUE FALSE  TRUE  TRUE  TRUE\n",
              "[1045]  TRUE FALSE FALSE FALSE FALSE FALSE FALSE FALSE  TRUE  TRUE  TRUE  TRUE\n",
              "[1057] FALSE FALSE FALSE FALSE FALSE FALSE FALSE FALSE FALSE FALSE FALSE FALSE\n",
              "[1069] FALSE  TRUE  TRUE  TRUE  TRUE  TRUE  TRUE FALSE  TRUE  TRUE  TRUE FALSE\n",
              "[1081]  TRUE  TRUE FALSE FALSE FALSE  TRUE FALSE FALSE FALSE FALSE FALSE FALSE\n",
              "[1093] FALSE FALSE FALSE  TRUE FALSE FALSE FALSE FALSE FALSE FALSE FALSE FALSE\n",
              "[1105] FALSE FALSE FALSE FALSE FALSE  TRUE FALSE FALSE FALSE FALSE  TRUE  TRUE\n",
              "[1117]  TRUE FALSE FALSE FALSE FALSE  TRUE  TRUE  TRUE  TRUE FALSE FALSE FALSE\n",
              "[1129]  TRUE FALSE FALSE FALSE  TRUE FALSE FALSE  TRUE  TRUE  TRUE  TRUE FALSE\n",
              "[1141] FALSE FALSE FALSE FALSE FALSE FALSE FALSE FALSE FALSE  TRUE  TRUE  TRUE\n",
              "[1153] FALSE FALSE  TRUE  TRUE FALSE FALSE FALSE  TRUE FALSE FALSE  TRUE  TRUE\n",
              "[1165]  TRUE FALSE  TRUE  TRUE  TRUE FALSE  TRUE FALSE  TRUE  TRUE  TRUE  TRUE\n",
              "[1177]  TRUE  TRUE  TRUE  TRUE  TRUE FALSE FALSE FALSE  TRUE  TRUE  TRUE FALSE\n",
              "[1189] FALSE FALSE FALSE FALSE FALSE  TRUE  TRUE  TRUE FALSE  TRUE  TRUE  TRUE\n",
              "[1201]  TRUE FALSE  TRUE FALSE FALSE FALSE FALSE FALSE FALSE FALSE FALSE FALSE\n",
              "[1213]  TRUE  TRUE  TRUE  TRUE  TRUE FALSE FALSE  TRUE FALSE  TRUE FALSE FALSE\n",
              "[1225] FALSE FALSE FALSE FALSE FALSE FALSE FALSE FALSE FALSE FALSE FALSE FALSE\n",
              "[1237] FALSE FALSE FALSE FALSE FALSE  TRUE  TRUE  TRUE FALSE  TRUE  TRUE  TRUE\n",
              "[1249] FALSE  TRUE  TRUE FALSE FALSE  TRUE FALSE  TRUE FALSE FALSE FALSE FALSE\n",
              "[1261] FALSE FALSE  TRUE FALSE FALSE FALSE FALSE FALSE  TRUE FALSE FALSE FALSE\n",
              "[1273] FALSE FALSE FALSE FALSE FALSE FALSE FALSE FALSE FALSE FALSE  TRUE  TRUE\n",
              "[1285]  TRUE FALSE FALSE FALSE FALSE FALSE FALSE  TRUE  TRUE  TRUE FALSE FALSE\n",
              "[1297] FALSE  TRUE FALSE FALSE FALSE FALSE  TRUE  TRUE FALSE  TRUE FALSE FALSE\n",
              "[1309] FALSE  TRUE"
            ],
            "text/latex": "\\begin{enumerate*}\n\\item FALSE\n\\item FALSE\n\\item FALSE\n\\item FALSE\n\\item FALSE\n\\item FALSE\n\\item FALSE\n\\item FALSE\n\\item FALSE\n\\item FALSE\n\\item FALSE\n\\item FALSE\n\\item FALSE\n\\item FALSE\n\\item FALSE\n\\item TRUE\n\\item FALSE\n\\item FALSE\n\\item FALSE\n\\item FALSE\n\\item FALSE\n\\item FALSE\n\\item FALSE\n\\item FALSE\n\\item FALSE\n\\item FALSE\n\\item FALSE\n\\item FALSE\n\\item FALSE\n\\item FALSE\n\\item FALSE\n\\item FALSE\n\\item FALSE\n\\item FALSE\n\\item FALSE\n\\item FALSE\n\\item FALSE\n\\item TRUE\n\\item FALSE\n\\item FALSE\n\\item TRUE\n\\item FALSE\n\\item FALSE\n\\item FALSE\n\\item FALSE\n\\item FALSE\n\\item TRUE\n\\item FALSE\n\\item FALSE\n\\item FALSE\n\\item FALSE\n\\item FALSE\n\\item FALSE\n\\item FALSE\n\\item FALSE\n\\item FALSE\n\\item FALSE\n\\item FALSE\n\\item FALSE\n\\item TRUE\n\\item FALSE\n\\item FALSE\n\\item FALSE\n\\item FALSE\n\\item FALSE\n\\item FALSE\n\\item FALSE\n\\item FALSE\n\\item FALSE\n\\item TRUE\n\\item TRUE\n\\item FALSE\n\\item FALSE\n\\item FALSE\n\\item TRUE\n\\item FALSE\n\\item FALSE\n\\item FALSE\n\\item FALSE\n\\item FALSE\n\\item TRUE\n\\item FALSE\n\\item FALSE\n\\item FALSE\n\\item FALSE\n\\item FALSE\n\\item FALSE\n\\item FALSE\n\\item FALSE\n\\item FALSE\n\\item FALSE\n\\item FALSE\n\\item FALSE\n\\item FALSE\n\\item FALSE\n\\item FALSE\n\\item FALSE\n\\item FALSE\n\\item FALSE\n\\item FALSE\n\\item FALSE\n\\item FALSE\n\\item FALSE\n\\item FALSE\n\\item FALSE\n\\item FALSE\n\\item TRUE\n\\item TRUE\n\\item TRUE\n\\item FALSE\n\\item FALSE\n\\item FALSE\n\\item FALSE\n\\item FALSE\n\\item FALSE\n\\item FALSE\n\\item FALSE\n\\item FALSE\n\\item TRUE\n\\item FALSE\n\\item FALSE\n\\item TRUE\n\\item FALSE\n\\item FALSE\n\\item FALSE\n\\item TRUE\n\\item FALSE\n\\item FALSE\n\\item FALSE\n\\item FALSE\n\\item FALSE\n\\item FALSE\n\\item FALSE\n\\item FALSE\n\\item TRUE\n\\item FALSE\n\\item FALSE\n\\item FALSE\n\\item FALSE\n\\item FALSE\n\\item FALSE\n\\item FALSE\n\\item FALSE\n\\item FALSE\n\\item FALSE\n\\item FALSE\n\\item FALSE\n\\item TRUE\n\\item FALSE\n\\item FALSE\n\\item FALSE\n\\item FALSE\n\\item TRUE\n\\item FALSE\n\\item FALSE\n\\item FALSE\n\\item FALSE\n\\item TRUE\n\\item FALSE\n\\item FALSE\n\\item FALSE\n\\item FALSE\n\\item FALSE\n\\item FALSE\n\\item FALSE\n\\item FALSE\n\\item TRUE\n\\item FALSE\n\\item FALSE\n\\item FALSE\n\\item FALSE\n\\item FALSE\n\\item FALSE\n\\item FALSE\n\\item FALSE\n\\item FALSE\n\\item TRUE\n\\item FALSE\n\\item FALSE\n\\item TRUE\n\\item FALSE\n\\item FALSE\n\\item FALSE\n\\item FALSE\n\\item TRUE\n\\item FALSE\n\\item FALSE\n\\item FALSE\n\\item FALSE\n\\item FALSE\n\\item FALSE\n\\item FALSE\n\\item FALSE\n\\item FALSE\n\\item FALSE\n\\item FALSE\n\\item TRUE\n\\item FALSE\n\\item FALSE\n\\item FALSE\n\\item ⋯\n\\item FALSE\n\\item FALSE\n\\item FALSE\n\\item FALSE\n\\item TRUE\n\\item TRUE\n\\item TRUE\n\\item FALSE\n\\item FALSE\n\\item FALSE\n\\item FALSE\n\\item TRUE\n\\item TRUE\n\\item TRUE\n\\item TRUE\n\\item FALSE\n\\item FALSE\n\\item FALSE\n\\item TRUE\n\\item FALSE\n\\item FALSE\n\\item FALSE\n\\item TRUE\n\\item FALSE\n\\item FALSE\n\\item TRUE\n\\item TRUE\n\\item TRUE\n\\item TRUE\n\\item FALSE\n\\item FALSE\n\\item FALSE\n\\item FALSE\n\\item FALSE\n\\item FALSE\n\\item FALSE\n\\item FALSE\n\\item FALSE\n\\item FALSE\n\\item TRUE\n\\item TRUE\n\\item TRUE\n\\item FALSE\n\\item FALSE\n\\item TRUE\n\\item TRUE\n\\item FALSE\n\\item FALSE\n\\item FALSE\n\\item TRUE\n\\item FALSE\n\\item FALSE\n\\item TRUE\n\\item TRUE\n\\item TRUE\n\\item FALSE\n\\item TRUE\n\\item TRUE\n\\item TRUE\n\\item FALSE\n\\item TRUE\n\\item FALSE\n\\item TRUE\n\\item TRUE\n\\item TRUE\n\\item TRUE\n\\item TRUE\n\\item TRUE\n\\item TRUE\n\\item TRUE\n\\item TRUE\n\\item FALSE\n\\item FALSE\n\\item FALSE\n\\item TRUE\n\\item TRUE\n\\item TRUE\n\\item FALSE\n\\item FALSE\n\\item FALSE\n\\item FALSE\n\\item FALSE\n\\item FALSE\n\\item TRUE\n\\item TRUE\n\\item TRUE\n\\item FALSE\n\\item TRUE\n\\item TRUE\n\\item TRUE\n\\item TRUE\n\\item FALSE\n\\item TRUE\n\\item FALSE\n\\item FALSE\n\\item FALSE\n\\item FALSE\n\\item FALSE\n\\item FALSE\n\\item FALSE\n\\item FALSE\n\\item FALSE\n\\item TRUE\n\\item TRUE\n\\item TRUE\n\\item TRUE\n\\item TRUE\n\\item FALSE\n\\item FALSE\n\\item TRUE\n\\item FALSE\n\\item TRUE\n\\item FALSE\n\\item FALSE\n\\item FALSE\n\\item FALSE\n\\item FALSE\n\\item FALSE\n\\item FALSE\n\\item FALSE\n\\item FALSE\n\\item FALSE\n\\item FALSE\n\\item FALSE\n\\item FALSE\n\\item FALSE\n\\item FALSE\n\\item FALSE\n\\item FALSE\n\\item FALSE\n\\item FALSE\n\\item TRUE\n\\item TRUE\n\\item TRUE\n\\item FALSE\n\\item TRUE\n\\item TRUE\n\\item TRUE\n\\item FALSE\n\\item TRUE\n\\item TRUE\n\\item FALSE\n\\item FALSE\n\\item TRUE\n\\item FALSE\n\\item TRUE\n\\item FALSE\n\\item FALSE\n\\item FALSE\n\\item FALSE\n\\item FALSE\n\\item FALSE\n\\item TRUE\n\\item FALSE\n\\item FALSE\n\\item FALSE\n\\item FALSE\n\\item FALSE\n\\item TRUE\n\\item FALSE\n\\item FALSE\n\\item FALSE\n\\item FALSE\n\\item FALSE\n\\item FALSE\n\\item FALSE\n\\item FALSE\n\\item FALSE\n\\item FALSE\n\\item FALSE\n\\item FALSE\n\\item FALSE\n\\item TRUE\n\\item TRUE\n\\item TRUE\n\\item FALSE\n\\item FALSE\n\\item FALSE\n\\item FALSE\n\\item FALSE\n\\item FALSE\n\\item TRUE\n\\item TRUE\n\\item TRUE\n\\item FALSE\n\\item FALSE\n\\item FALSE\n\\item TRUE\n\\item FALSE\n\\item FALSE\n\\item FALSE\n\\item FALSE\n\\item TRUE\n\\item TRUE\n\\item FALSE\n\\item TRUE\n\\item FALSE\n\\item FALSE\n\\item FALSE\n\\item TRUE\n\\end{enumerate*}\n",
            "text/markdown": "1. FALSE\n2. FALSE\n3. FALSE\n4. FALSE\n5. FALSE\n6. FALSE\n7. FALSE\n8. FALSE\n9. FALSE\n10. FALSE\n11. FALSE\n12. FALSE\n13. FALSE\n14. FALSE\n15. FALSE\n16. TRUE\n17. FALSE\n18. FALSE\n19. FALSE\n20. FALSE\n21. FALSE\n22. FALSE\n23. FALSE\n24. FALSE\n25. FALSE\n26. FALSE\n27. FALSE\n28. FALSE\n29. FALSE\n30. FALSE\n31. FALSE\n32. FALSE\n33. FALSE\n34. FALSE\n35. FALSE\n36. FALSE\n37. FALSE\n38. TRUE\n39. FALSE\n40. FALSE\n41. TRUE\n42. FALSE\n43. FALSE\n44. FALSE\n45. FALSE\n46. FALSE\n47. TRUE\n48. FALSE\n49. FALSE\n50. FALSE\n51. FALSE\n52. FALSE\n53. FALSE\n54. FALSE\n55. FALSE\n56. FALSE\n57. FALSE\n58. FALSE\n59. FALSE\n60. TRUE\n61. FALSE\n62. FALSE\n63. FALSE\n64. FALSE\n65. FALSE\n66. FALSE\n67. FALSE\n68. FALSE\n69. FALSE\n70. TRUE\n71. TRUE\n72. FALSE\n73. FALSE\n74. FALSE\n75. TRUE\n76. FALSE\n77. FALSE\n78. FALSE\n79. FALSE\n80. FALSE\n81. TRUE\n82. FALSE\n83. FALSE\n84. FALSE\n85. FALSE\n86. FALSE\n87. FALSE\n88. FALSE\n89. FALSE\n90. FALSE\n91. FALSE\n92. FALSE\n93. FALSE\n94. FALSE\n95. FALSE\n96. FALSE\n97. FALSE\n98. FALSE\n99. FALSE\n100. FALSE\n101. FALSE\n102. FALSE\n103. FALSE\n104. FALSE\n105. FALSE\n106. FALSE\n107. TRUE\n108. TRUE\n109. TRUE\n110. FALSE\n111. FALSE\n112. FALSE\n113. FALSE\n114. FALSE\n115. FALSE\n116. FALSE\n117. FALSE\n118. FALSE\n119. TRUE\n120. FALSE\n121. FALSE\n122. TRUE\n123. FALSE\n124. FALSE\n125. FALSE\n126. TRUE\n127. FALSE\n128. FALSE\n129. FALSE\n130. FALSE\n131. FALSE\n132. FALSE\n133. FALSE\n134. FALSE\n135. TRUE\n136. FALSE\n137. FALSE\n138. FALSE\n139. FALSE\n140. FALSE\n141. FALSE\n142. FALSE\n143. FALSE\n144. FALSE\n145. FALSE\n146. FALSE\n147. FALSE\n148. TRUE\n149. FALSE\n150. FALSE\n151. FALSE\n152. FALSE\n153. TRUE\n154. FALSE\n155. FALSE\n156. FALSE\n157. FALSE\n158. TRUE\n159. FALSE\n160. FALSE\n161. FALSE\n162. FALSE\n163. FALSE\n164. FALSE\n165. FALSE\n166. FALSE\n167. TRUE\n168. FALSE\n169. FALSE\n170. FALSE\n171. FALSE\n172. FALSE\n173. FALSE\n174. FALSE\n175. FALSE\n176. FALSE\n177. TRUE\n178. FALSE\n179. FALSE\n180. TRUE\n181. FALSE\n182. FALSE\n183. FALSE\n184. FALSE\n185. TRUE\n186. FALSE\n187. FALSE\n188. FALSE\n189. FALSE\n190. FALSE\n191. FALSE\n192. FALSE\n193. FALSE\n194. FALSE\n195. FALSE\n196. FALSE\n197. TRUE\n198. FALSE\n199. FALSE\n200. FALSE\n201. ⋯\n202. FALSE\n203. FALSE\n204. FALSE\n205. FALSE\n206. TRUE\n207. TRUE\n208. TRUE\n209. FALSE\n210. FALSE\n211. FALSE\n212. FALSE\n213. TRUE\n214. TRUE\n215. TRUE\n216. TRUE\n217. FALSE\n218. FALSE\n219. FALSE\n220. TRUE\n221. FALSE\n222. FALSE\n223. FALSE\n224. TRUE\n225. FALSE\n226. FALSE\n227. TRUE\n228. TRUE\n229. TRUE\n230. TRUE\n231. FALSE\n232. FALSE\n233. FALSE\n234. FALSE\n235. FALSE\n236. FALSE\n237. FALSE\n238. FALSE\n239. FALSE\n240. FALSE\n241. TRUE\n242. TRUE\n243. TRUE\n244. FALSE\n245. FALSE\n246. TRUE\n247. TRUE\n248. FALSE\n249. FALSE\n250. FALSE\n251. TRUE\n252. FALSE\n253. FALSE\n254. TRUE\n255. TRUE\n256. TRUE\n257. FALSE\n258. TRUE\n259. TRUE\n260. TRUE\n261. FALSE\n262. TRUE\n263. FALSE\n264. TRUE\n265. TRUE\n266. TRUE\n267. TRUE\n268. TRUE\n269. TRUE\n270. TRUE\n271. TRUE\n272. TRUE\n273. FALSE\n274. FALSE\n275. FALSE\n276. TRUE\n277. TRUE\n278. TRUE\n279. FALSE\n280. FALSE\n281. FALSE\n282. FALSE\n283. FALSE\n284. FALSE\n285. TRUE\n286. TRUE\n287. TRUE\n288. FALSE\n289. TRUE\n290. TRUE\n291. TRUE\n292. TRUE\n293. FALSE\n294. TRUE\n295. FALSE\n296. FALSE\n297. FALSE\n298. FALSE\n299. FALSE\n300. FALSE\n301. FALSE\n302. FALSE\n303. FALSE\n304. TRUE\n305. TRUE\n306. TRUE\n307. TRUE\n308. TRUE\n309. FALSE\n310. FALSE\n311. TRUE\n312. FALSE\n313. TRUE\n314. FALSE\n315. FALSE\n316. FALSE\n317. FALSE\n318. FALSE\n319. FALSE\n320. FALSE\n321. FALSE\n322. FALSE\n323. FALSE\n324. FALSE\n325. FALSE\n326. FALSE\n327. FALSE\n328. FALSE\n329. FALSE\n330. FALSE\n331. FALSE\n332. FALSE\n333. TRUE\n334. TRUE\n335. TRUE\n336. FALSE\n337. TRUE\n338. TRUE\n339. TRUE\n340. FALSE\n341. TRUE\n342. TRUE\n343. FALSE\n344. FALSE\n345. TRUE\n346. FALSE\n347. TRUE\n348. FALSE\n349. FALSE\n350. FALSE\n351. FALSE\n352. FALSE\n353. FALSE\n354. TRUE\n355. FALSE\n356. FALSE\n357. FALSE\n358. FALSE\n359. FALSE\n360. TRUE\n361. FALSE\n362. FALSE\n363. FALSE\n364. FALSE\n365. FALSE\n366. FALSE\n367. FALSE\n368. FALSE\n369. FALSE\n370. FALSE\n371. FALSE\n372. FALSE\n373. FALSE\n374. TRUE\n375. TRUE\n376. TRUE\n377. FALSE\n378. FALSE\n379. FALSE\n380. FALSE\n381. FALSE\n382. FALSE\n383. TRUE\n384. TRUE\n385. TRUE\n386. FALSE\n387. FALSE\n388. FALSE\n389. TRUE\n390. FALSE\n391. FALSE\n392. FALSE\n393. FALSE\n394. TRUE\n395. TRUE\n396. FALSE\n397. TRUE\n398. FALSE\n399. FALSE\n400. FALSE\n401. TRUE\n\n\n",
            "text/html": [
              "<style>\n",
              ".list-inline {list-style: none; margin:0; padding: 0}\n",
              ".list-inline>li {display: inline-block}\n",
              ".list-inline>li:not(:last-child)::after {content: \"\\00b7\"; padding: 0 .5ex}\n",
              "</style>\n",
              "<ol class=list-inline><li>FALSE</li><li>FALSE</li><li>FALSE</li><li>FALSE</li><li>FALSE</li><li>FALSE</li><li>FALSE</li><li>FALSE</li><li>FALSE</li><li>FALSE</li><li>FALSE</li><li>FALSE</li><li>FALSE</li><li>FALSE</li><li>FALSE</li><li>TRUE</li><li>FALSE</li><li>FALSE</li><li>FALSE</li><li>FALSE</li><li>FALSE</li><li>FALSE</li><li>FALSE</li><li>FALSE</li><li>FALSE</li><li>FALSE</li><li>FALSE</li><li>FALSE</li><li>FALSE</li><li>FALSE</li><li>FALSE</li><li>FALSE</li><li>FALSE</li><li>FALSE</li><li>FALSE</li><li>FALSE</li><li>FALSE</li><li>TRUE</li><li>FALSE</li><li>FALSE</li><li>TRUE</li><li>FALSE</li><li>FALSE</li><li>FALSE</li><li>FALSE</li><li>FALSE</li><li>TRUE</li><li>FALSE</li><li>FALSE</li><li>FALSE</li><li>FALSE</li><li>FALSE</li><li>FALSE</li><li>FALSE</li><li>FALSE</li><li>FALSE</li><li>FALSE</li><li>FALSE</li><li>FALSE</li><li>TRUE</li><li>FALSE</li><li>FALSE</li><li>FALSE</li><li>FALSE</li><li>FALSE</li><li>FALSE</li><li>FALSE</li><li>FALSE</li><li>FALSE</li><li>TRUE</li><li>TRUE</li><li>FALSE</li><li>FALSE</li><li>FALSE</li><li>TRUE</li><li>FALSE</li><li>FALSE</li><li>FALSE</li><li>FALSE</li><li>FALSE</li><li>TRUE</li><li>FALSE</li><li>FALSE</li><li>FALSE</li><li>FALSE</li><li>FALSE</li><li>FALSE</li><li>FALSE</li><li>FALSE</li><li>FALSE</li><li>FALSE</li><li>FALSE</li><li>FALSE</li><li>FALSE</li><li>FALSE</li><li>FALSE</li><li>FALSE</li><li>FALSE</li><li>FALSE</li><li>FALSE</li><li>FALSE</li><li>FALSE</li><li>FALSE</li><li>FALSE</li><li>FALSE</li><li>FALSE</li><li>TRUE</li><li>TRUE</li><li>TRUE</li><li>FALSE</li><li>FALSE</li><li>FALSE</li><li>FALSE</li><li>FALSE</li><li>FALSE</li><li>FALSE</li><li>FALSE</li><li>FALSE</li><li>TRUE</li><li>FALSE</li><li>FALSE</li><li>TRUE</li><li>FALSE</li><li>FALSE</li><li>FALSE</li><li>TRUE</li><li>FALSE</li><li>FALSE</li><li>FALSE</li><li>FALSE</li><li>FALSE</li><li>FALSE</li><li>FALSE</li><li>FALSE</li><li>TRUE</li><li>FALSE</li><li>FALSE</li><li>FALSE</li><li>FALSE</li><li>FALSE</li><li>FALSE</li><li>FALSE</li><li>FALSE</li><li>FALSE</li><li>FALSE</li><li>FALSE</li><li>FALSE</li><li>TRUE</li><li>FALSE</li><li>FALSE</li><li>FALSE</li><li>FALSE</li><li>TRUE</li><li>FALSE</li><li>FALSE</li><li>FALSE</li><li>FALSE</li><li>TRUE</li><li>FALSE</li><li>FALSE</li><li>FALSE</li><li>FALSE</li><li>FALSE</li><li>FALSE</li><li>FALSE</li><li>FALSE</li><li>TRUE</li><li>FALSE</li><li>FALSE</li><li>FALSE</li><li>FALSE</li><li>FALSE</li><li>FALSE</li><li>FALSE</li><li>FALSE</li><li>FALSE</li><li>TRUE</li><li>FALSE</li><li>FALSE</li><li>TRUE</li><li>FALSE</li><li>FALSE</li><li>FALSE</li><li>FALSE</li><li>TRUE</li><li>FALSE</li><li>FALSE</li><li>FALSE</li><li>FALSE</li><li>FALSE</li><li>FALSE</li><li>FALSE</li><li>FALSE</li><li>FALSE</li><li>FALSE</li><li>FALSE</li><li>TRUE</li><li>FALSE</li><li>FALSE</li><li>FALSE</li><li>⋯</li><li>FALSE</li><li>FALSE</li><li>FALSE</li><li>FALSE</li><li>TRUE</li><li>TRUE</li><li>TRUE</li><li>FALSE</li><li>FALSE</li><li>FALSE</li><li>FALSE</li><li>TRUE</li><li>TRUE</li><li>TRUE</li><li>TRUE</li><li>FALSE</li><li>FALSE</li><li>FALSE</li><li>TRUE</li><li>FALSE</li><li>FALSE</li><li>FALSE</li><li>TRUE</li><li>FALSE</li><li>FALSE</li><li>TRUE</li><li>TRUE</li><li>TRUE</li><li>TRUE</li><li>FALSE</li><li>FALSE</li><li>FALSE</li><li>FALSE</li><li>FALSE</li><li>FALSE</li><li>FALSE</li><li>FALSE</li><li>FALSE</li><li>FALSE</li><li>TRUE</li><li>TRUE</li><li>TRUE</li><li>FALSE</li><li>FALSE</li><li>TRUE</li><li>TRUE</li><li>FALSE</li><li>FALSE</li><li>FALSE</li><li>TRUE</li><li>FALSE</li><li>FALSE</li><li>TRUE</li><li>TRUE</li><li>TRUE</li><li>FALSE</li><li>TRUE</li><li>TRUE</li><li>TRUE</li><li>FALSE</li><li>TRUE</li><li>FALSE</li><li>TRUE</li><li>TRUE</li><li>TRUE</li><li>TRUE</li><li>TRUE</li><li>TRUE</li><li>TRUE</li><li>TRUE</li><li>TRUE</li><li>FALSE</li><li>FALSE</li><li>FALSE</li><li>TRUE</li><li>TRUE</li><li>TRUE</li><li>FALSE</li><li>FALSE</li><li>FALSE</li><li>FALSE</li><li>FALSE</li><li>FALSE</li><li>TRUE</li><li>TRUE</li><li>TRUE</li><li>FALSE</li><li>TRUE</li><li>TRUE</li><li>TRUE</li><li>TRUE</li><li>FALSE</li><li>TRUE</li><li>FALSE</li><li>FALSE</li><li>FALSE</li><li>FALSE</li><li>FALSE</li><li>FALSE</li><li>FALSE</li><li>FALSE</li><li>FALSE</li><li>TRUE</li><li>TRUE</li><li>TRUE</li><li>TRUE</li><li>TRUE</li><li>FALSE</li><li>FALSE</li><li>TRUE</li><li>FALSE</li><li>TRUE</li><li>FALSE</li><li>FALSE</li><li>FALSE</li><li>FALSE</li><li>FALSE</li><li>FALSE</li><li>FALSE</li><li>FALSE</li><li>FALSE</li><li>FALSE</li><li>FALSE</li><li>FALSE</li><li>FALSE</li><li>FALSE</li><li>FALSE</li><li>FALSE</li><li>FALSE</li><li>FALSE</li><li>FALSE</li><li>TRUE</li><li>TRUE</li><li>TRUE</li><li>FALSE</li><li>TRUE</li><li>TRUE</li><li>TRUE</li><li>FALSE</li><li>TRUE</li><li>TRUE</li><li>FALSE</li><li>FALSE</li><li>TRUE</li><li>FALSE</li><li>TRUE</li><li>FALSE</li><li>FALSE</li><li>FALSE</li><li>FALSE</li><li>FALSE</li><li>FALSE</li><li>TRUE</li><li>FALSE</li><li>FALSE</li><li>FALSE</li><li>FALSE</li><li>FALSE</li><li>TRUE</li><li>FALSE</li><li>FALSE</li><li>FALSE</li><li>FALSE</li><li>FALSE</li><li>FALSE</li><li>FALSE</li><li>FALSE</li><li>FALSE</li><li>FALSE</li><li>FALSE</li><li>FALSE</li><li>FALSE</li><li>TRUE</li><li>TRUE</li><li>TRUE</li><li>FALSE</li><li>FALSE</li><li>FALSE</li><li>FALSE</li><li>FALSE</li><li>FALSE</li><li>TRUE</li><li>TRUE</li><li>TRUE</li><li>FALSE</li><li>FALSE</li><li>FALSE</li><li>TRUE</li><li>FALSE</li><li>FALSE</li><li>FALSE</li><li>FALSE</li><li>TRUE</li><li>TRUE</li><li>FALSE</li><li>TRUE</li><li>FALSE</li><li>FALSE</li><li>FALSE</li><li>TRUE</li></ol>\n"
            ]
          },
          "metadata": {
            "tags": []
          }
        }
      ]
    },
    {
      "cell_type": "code",
      "metadata": {
        "id": "L7xJm3989dFB"
      },
      "source": [
        "titanic$age[is.na(titanic$age)] <- mv\n",
        "# age 컬럼에 결측치가 포함된 항목을 찾아서 중앙값으로 대체"
      ],
      "execution_count": null,
      "outputs": []
    },
    {
      "cell_type": "code",
      "metadata": {
        "id": "FN7uFJkm9nj4",
        "outputId": "54b35348-7516-47dc-de35-48d6e6c8b8f7",
        "colab": {
          "base_uri": "https://localhost:8080/",
          "height": 52
        }
      },
      "source": [
        "colSums(is.na(titanic))\n",
        "# 중앙값 대체후 결측치 확인"
      ],
      "execution_count": 25,
      "outputs": [
        {
          "output_type": "display_data",
          "data": {
            "text/plain": [
              "  pclass survived     name      sex      age    sibsp    parch   ticket \n",
              "       1        1        0        0        0        1        1        0 \n",
              "    fare    cabin embarked \n",
              "       2        0        0 "
            ],
            "text/latex": "\\begin{description*}\n\\item[pclass] 1\n\\item[survived] 1\n\\item[name] 0\n\\item[sex] 0\n\\item[age] 0\n\\item[sibsp] 1\n\\item[parch] 1\n\\item[ticket] 0\n\\item[fare] 2\n\\item[cabin] 0\n\\item[embarked] 0\n\\end{description*}\n",
            "text/markdown": "pclass\n:   1survived\n:   1name\n:   0sex\n:   0age\n:   0sibsp\n:   1parch\n:   1ticket\n:   0fare\n:   2cabin\n:   0embarked\n:   0\n\n",
            "text/html": [
              "<style>\n",
              ".dl-inline {width: auto; margin:0; padding: 0}\n",
              ".dl-inline>dt, .dl-inline>dd {float: none; width: auto; display: inline-block}\n",
              ".dl-inline>dt::after {content: \":\\0020\"; padding-right: .5ex}\n",
              ".dl-inline>dt:not(:first-of-type) {padding-left: .5ex}\n",
              "</style><dl class=dl-inline><dt>pclass</dt><dd>1</dd><dt>survived</dt><dd>1</dd><dt>name</dt><dd>0</dd><dt>sex</dt><dd>0</dd><dt>age</dt><dd>0</dd><dt>sibsp</dt><dd>1</dd><dt>parch</dt><dd>1</dd><dt>ticket</dt><dd>0</dd><dt>fare</dt><dd>2</dd><dt>cabin</dt><dd>0</dd><dt>embarked</dt><dd>0</dd></dl>\n"
            ]
          },
          "metadata": {
            "tags": []
          }
        }
      ]
    },
    {
      "cell_type": "code",
      "metadata": {
        "id": "TXU-o01w-O4I",
        "outputId": "18f037cf-bd87-40e1-ff69-c45672eaca5e",
        "colab": {
          "base_uri": "https://localhost:8080/",
          "height": 52
        }
      },
      "source": [
        "titanic3 <- na.omit(titanic) # 나머지 결측치 제거\n",
        "colSums(is.na(titanic3))"
      ],
      "execution_count": 26,
      "outputs": [
        {
          "output_type": "display_data",
          "data": {
            "text/plain": [
              "  pclass survived     name      sex      age    sibsp    parch   ticket \n",
              "       0        0        0        0        0        0        0        0 \n",
              "    fare    cabin embarked \n",
              "       0        0        0 "
            ],
            "text/latex": "\\begin{description*}\n\\item[pclass] 0\n\\item[survived] 0\n\\item[name] 0\n\\item[sex] 0\n\\item[age] 0\n\\item[sibsp] 0\n\\item[parch] 0\n\\item[ticket] 0\n\\item[fare] 0\n\\item[cabin] 0\n\\item[embarked] 0\n\\end{description*}\n",
            "text/markdown": "pclass\n:   0survived\n:   0name\n:   0sex\n:   0age\n:   0sibsp\n:   0parch\n:   0ticket\n:   0fare\n:   0cabin\n:   0embarked\n:   0\n\n",
            "text/html": [
              "<style>\n",
              ".dl-inline {width: auto; margin:0; padding: 0}\n",
              ".dl-inline>dt, .dl-inline>dd {float: none; width: auto; display: inline-block}\n",
              ".dl-inline>dt::after {content: \":\\0020\"; padding-right: .5ex}\n",
              ".dl-inline>dt:not(:first-of-type) {padding-left: .5ex}\n",
              "</style><dl class=dl-inline><dt>pclass</dt><dd>0</dd><dt>survived</dt><dd>0</dd><dt>name</dt><dd>0</dd><dt>sex</dt><dd>0</dd><dt>age</dt><dd>0</dd><dt>sibsp</dt><dd>0</dd><dt>parch</dt><dd>0</dd><dt>ticket</dt><dd>0</dd><dt>fare</dt><dd>0</dd><dt>cabin</dt><dd>0</dd><dt>embarked</dt><dd>0</dd></dl>\n"
            ]
          },
          "metadata": {
            "tags": []
          }
        }
      ]
    },
    {
      "cell_type": "code",
      "metadata": {
        "id": "GbKa0GMB-k-o",
        "outputId": "91be7c82-2e7f-44d5-a995-25a86969694b",
        "colab": {
          "base_uri": "https://localhost:8080/",
          "height": 437
        }
      },
      "source": [
        "# 시각화\n",
        "# 성별 승선객 수 시각화\n",
        "frq_gdr <- table(titanic3$sex)\n",
        "barplot(frq_gdr) # 여전히 결과에 결측치가 있음"
      ],
      "execution_count": 27,
      "outputs": [
        {
          "output_type": "display_data",
          "data": {
            "image/png": "[encoded data removed]",
            "text/plain": [
              "plot without title"
            ]
          },
          "metadata": {
            "tags": [],
            "image/png": {
              "width": 420,
              "height": 420
            }
          }
        }
      ]
    },
    {
      "cell_type": "code",
      "metadata": {
        "id": "W2hxEBDF_NBJ"
      },
      "source": [
        "# read.csv 알아보기\n",
        "# csv로 작성된 파일을 R로 읽어들일 때 사용\n",
        "# read.csv('파일경로', 헤더여부, 구분자, 결측치처리, 인코딩)\n",
        "# read.csv('', header=F, sep=',' or ' ' or '/' or 't', \n",
        "# encoding='euc-kr', na.strings='')"
      ],
      "execution_count": null,
      "outputs": []
    },
    {
      "cell_type": "code",
      "metadata": {
        "id": "dqDpM6p4Fwfi",
        "outputId": "7eafe779-f141-4fbc-d27d-447daae5ce97",
        "colab": {
          "base_uri": "https://localhost:8080/",
          "height": 52
        }
      },
      "source": [
        "titanic <- read.csv('https://raw.githubusercontent.com/Gelassenheit17/R_Statistics/master/datasets/titanic.csv', na.strings='')\n",
        "# 빈 문자열이 존재하는 경우 NA로 대체\n",
        "\n",
        "colSums(is.na(titanic))"
      ],
      "execution_count": 11,
      "outputs": [
        {
          "output_type": "display_data",
          "data": {
            "text/plain": [
              "  pclass survived     name      sex      age    sibsp    parch   ticket \n",
              "       1        1        1        1      264        1        1        1 \n",
              "    fare    cabin embarked \n",
              "       2     1015        3 "
            ],
            "text/latex": "\\begin{description*}\n\\item[pclass] 1\n\\item[survived] 1\n\\item[name] 1\n\\item[sex] 1\n\\item[age] 264\n\\item[sibsp] 1\n\\item[parch] 1\n\\item[ticket] 1\n\\item[fare] 2\n\\item[cabin] 1015\n\\item[embarked] 3\n\\end{description*}\n",
            "text/markdown": "pclass\n:   1survived\n:   1name\n:   1sex\n:   1age\n:   264sibsp\n:   1parch\n:   1ticket\n:   1fare\n:   2cabin\n:   1015embarked\n:   3\n\n",
            "text/html": [
              "<style>\n",
              ".dl-inline {width: auto; margin:0; padding: 0}\n",
              ".dl-inline>dt, .dl-inline>dd {float: none; width: auto; display: inline-block}\n",
              ".dl-inline>dt::after {content: \":\\0020\"; padding-right: .5ex}\n",
              ".dl-inline>dt:not(:first-of-type) {padding-left: .5ex}\n",
              "</style><dl class=dl-inline><dt>pclass</dt><dd>1</dd><dt>survived</dt><dd>1</dd><dt>name</dt><dd>1</dd><dt>sex</dt><dd>1</dd><dt>age</dt><dd>264</dd><dt>sibsp</dt><dd>1</dd><dt>parch</dt><dd>1</dd><dt>ticket</dt><dd>1</dd><dt>fare</dt><dd>2</dd><dt>cabin</dt><dd>1015</dd><dt>embarked</dt><dd>3</dd></dl>\n"
            ]
          },
          "metadata": {
            "tags": []
          }
        }
      ]
    },
    {
      "cell_type": "code",
      "metadata": {
        "id": "yIgqztluGFfp",
        "outputId": "bbb47154-ff4b-4224-bb29-7e6e9361196f",
        "colab": {
          "base_uri": "https://localhost:8080/",
          "height": 52
        }
      },
      "source": [
        "# age 컬럼의 결측치는 평균으로 대체\n",
        "mm <- floor(mean(titanic$age, na.rm=T))\n",
        "titanic$age[is.na(titanic$age)] <- mean(titanic$age,na.rm=T)\n",
        "colSums(is.na(titanic))"
      ],
      "execution_count": 19,
      "outputs": [
        {
          "output_type": "display_data",
          "data": {
            "text/plain": [
              "  pclass survived     name      sex      age    sibsp    parch   ticket \n",
              "       1        1        1        1        0        1        1        1 \n",
              "    fare    cabin embarked \n",
              "       2     1015        3 "
            ],
            "text/latex": "\\begin{description*}\n\\item[pclass] 1\n\\item[survived] 1\n\\item[name] 1\n\\item[sex] 1\n\\item[age] 0\n\\item[sibsp] 1\n\\item[parch] 1\n\\item[ticket] 1\n\\item[fare] 2\n\\item[cabin] 1015\n\\item[embarked] 3\n\\end{description*}\n",
            "text/markdown": "pclass\n:   1survived\n:   1name\n:   1sex\n:   1age\n:   0sibsp\n:   1parch\n:   1ticket\n:   1fare\n:   2cabin\n:   1015embarked\n:   3\n\n",
            "text/html": [
              "<style>\n",
              ".dl-inline {width: auto; margin:0; padding: 0}\n",
              ".dl-inline>dt, .dl-inline>dd {float: none; width: auto; display: inline-block}\n",
              ".dl-inline>dt::after {content: \":\\0020\"; padding-right: .5ex}\n",
              ".dl-inline>dt:not(:first-of-type) {padding-left: .5ex}\n",
              "</style><dl class=dl-inline><dt>pclass</dt><dd>1</dd><dt>survived</dt><dd>1</dd><dt>name</dt><dd>1</dd><dt>sex</dt><dd>1</dd><dt>age</dt><dd>0</dd><dt>sibsp</dt><dd>1</dd><dt>parch</dt><dd>1</dd><dt>ticket</dt><dd>1</dd><dt>fare</dt><dd>2</dd><dt>cabin</dt><dd>1015</dd><dt>embarked</dt><dd>3</dd></dl>\n"
            ]
          },
          "metadata": {
            "tags": []
          }
        }
      ]
    },
    {
      "cell_type": "code",
      "metadata": {
        "id": "2lxSjXPeJD2h"
      },
      "source": [
        "titanic$age[is.na(titanic$age)] <- mm"
      ],
      "execution_count": 20,
      "outputs": []
    },
    {
      "cell_type": "code",
      "metadata": {
        "id": "sKhEMkplGJM7",
        "outputId": "55892440-ff4b-4820-c037-1eca99447cd1",
        "colab": {
          "base_uri": "https://localhost:8080/",
          "height": 52
        }
      },
      "source": [
        "# 나머지 결측치 컬럼은 제거\n",
        "titanic5 <- na.omit(titanic)\n",
        "colSums(is.na(titanic))"
      ],
      "execution_count": 21,
      "outputs": [
        {
          "output_type": "display_data",
          "data": {
            "text/plain": [
              "  pclass survived     name      sex      age    sibsp    parch   ticket \n",
              "       1        1        1        1        0        1        1        1 \n",
              "    fare    cabin embarked \n",
              "       2     1015        3 "
            ],
            "text/latex": "\\begin{description*}\n\\item[pclass] 1\n\\item[survived] 1\n\\item[name] 1\n\\item[sex] 1\n\\item[age] 0\n\\item[sibsp] 1\n\\item[parch] 1\n\\item[ticket] 1\n\\item[fare] 2\n\\item[cabin] 1015\n\\item[embarked] 3\n\\end{description*}\n",
            "text/markdown": "pclass\n:   1survived\n:   1name\n:   1sex\n:   1age\n:   0sibsp\n:   1parch\n:   1ticket\n:   1fare\n:   2cabin\n:   1015embarked\n:   3\n\n",
            "text/html": [
              "<style>\n",
              ".dl-inline {width: auto; margin:0; padding: 0}\n",
              ".dl-inline>dt, .dl-inline>dd {float: none; width: auto; display: inline-block}\n",
              ".dl-inline>dt::after {content: \":\\0020\"; padding-right: .5ex}\n",
              ".dl-inline>dt:not(:first-of-type) {padding-left: .5ex}\n",
              "</style><dl class=dl-inline><dt>pclass</dt><dd>1</dd><dt>survived</dt><dd>1</dd><dt>name</dt><dd>1</dd><dt>sex</dt><dd>1</dd><dt>age</dt><dd>0</dd><dt>sibsp</dt><dd>1</dd><dt>parch</dt><dd>1</dd><dt>ticket</dt><dd>1</dd><dt>fare</dt><dd>2</dd><dt>cabin</dt><dd>1015</dd><dt>embarked</dt><dd>3</dd></dl>\n"
            ]
          },
          "metadata": {
            "tags": []
          }
        }
      ]
    },
    {
      "cell_type": "code",
      "metadata": {
        "id": "0eEDkfYuGLsm",
        "outputId": "3b548741-11ba-4290-e562-45c79385d899",
        "colab": {
          "base_uri": "https://localhost:8080/",
          "height": 437
        }
      },
      "source": [
        "# 나이별 승선객 수 시각화\n",
        "frq_gdr <- table(titanic$sex)\n",
        "barplot(frq_gdr)"
      ],
      "execution_count": 23,
      "outputs": [
        {
          "output_type": "display_data",
          "data": {
            "image/png": "[encoded data removed]",
            "text/plain": [
              "plot without title"
            ]
          },
          "metadata": {
            "tags": [],
            "image/png": {
              "width": 420,
              "height": 420
            }
          }
        }
      ]
    },
    {
      "cell_type": "code",
      "metadata": {
        "id": "BWYM8dyfJtkv"
      },
      "source": [
        "# 작업한 내용을 파일에 저장하기\n",
        "# write.csv('저장경로', row.names=F) : csv파일로 저장\n",
        "# save(객체, '저장경로') : R용 data파일로 저장"
      ],
      "execution_count": null,
      "outputs": []
    },
    {
      "cell_type": "code",
      "metadata": {
        "id": "j5Lx6Y-5KkES"
      },
      "source": [
        " write.csv(titanic, 'titanic.csv')\n",
        " # 타이타닉 데이터프레임을  titanic.csv이라는 파일로 저장\n",
        "  write.csv(titanic, 'titanic.csv')\n",
        "  # 행번호 없이 titanic. csv 이라는 파일로 저장\n",
        "    write.csv(titanic, 'titanic.csv', row.names=F)"
      ],
      "execution_count": 28,
      "outputs": []
    },
    {
      "cell_type": "code",
      "metadata": {
        "id": "oFxut7ZJLf0n"
      },
      "source": [
        "save(titanic, file='titanic.rdata')\n",
        "# 타이타닉 데이터프레임을  R전용 데이터파일로 저장"
      ],
      "execution_count": 31,
      "outputs": []
    },
    {
      "cell_type": "code",
      "metadata": {
        "id": "uM59GR3MQcLU",
        "outputId": "fa4fe66f-8f6f-409b-97c7-5347cd231845",
        "colab": {
          "base_uri": "https://localhost:8080/",
          "height": 1000
        }
      },
      "source": [
        "# 우편번호 데이터 읽어보기\n",
        "zipcode <- read.csv('https://raw.githubusercontent.com/Gelassenheit17/R_Statistics/e262d3169b677c26d7716ffc28b40f6d28d9ad8f/datasets/zipcode_2013.txt')\n",
        "head(zipcode, 10)\n",
        "# 한글이 제대로 출력되지 않음\n",
        "# 코랩을 통해 데이터파일을 읽어오는 경우\n",
        "# 파일의 인코딩은 반드시  UTF-8로 설정할 것!\n"
      ],
      "execution_count": 34,
      "outputs": [
        {
          "output_type": "stream",
          "text": [
            "Warning message in FUN(X[[i]], ...):\n",
            "“input string 1 is invalid in this locale”\n",
            "Warning message in FUN(X[[i]], ...):\n",
            "“input string 1 is invalid in this locale”\n",
            "Warning message in FUN(X[[i]], ...):\n",
            "“input string 1 is invalid in this locale”\n",
            "Warning message in FUN(X[[i]], ...):\n",
            "“input string 1 is invalid in this locale”\n",
            "Warning message in FUN(X[[i]], ...):\n",
            "“input string 1 is invalid in this locale”\n",
            "Warning message in FUN(X[[i]], ...):\n",
            "“input string 1 is invalid in this locale”\n",
            "Warning message in FUN(X[[i]], ...):\n",
            "“input string 1 is invalid in this locale”\n",
            "Warning message in FUN(X[[i]], ...):\n",
            "“input string 1 is invalid in this locale”\n",
            "Warning message in FUN(X[[i]], ...):\n",
            "“input string 1 is invalid in this locale”\n",
            "Warning message in FUN(X[[i]], ...):\n",
            "“input string 1 is invalid in this locale”\n",
            "Warning message in FUN(X[[i]], ...):\n",
            "“input string 1 is invalid in this locale”\n",
            "Warning message in FUN(X[[i]], ...):\n",
            "“input string 1 is invalid in this locale”\n",
            "Warning message in FUN(X[[i]], ...):\n",
            "“input string 1 is invalid in this locale”\n",
            "Warning message in FUN(X[[i]], ...):\n",
            "“input string 1 is invalid in this locale”\n",
            "Warning message in FUN(X[[i]], ...):\n",
            "“input string 1 is invalid in this locale”\n",
            "Warning message in FUN(X[[i]], ...):\n",
            "“input string 1 is invalid in this locale”\n",
            "Warning message in FUN(X[[i]], ...):\n",
            "“input string 1 is invalid in this locale”\n",
            "Warning message in FUN(X[[i]], ...):\n",
            "“input string 1 is invalid in this locale”\n",
            "Warning message in FUN(X[[i]], ...):\n",
            "“input string 1 is invalid in this locale”\n",
            "Warning message in FUN(X[[i]], ...):\n",
            "“input string 1 is invalid in this locale”\n",
            "Warning message in FUN(X[[i]], ...):\n",
            "“input string 1 is invalid in this locale”\n",
            "Warning message in FUN(X[[i]], ...):\n",
            "“input string 1 is invalid in this locale”\n",
            "Warning message in FUN(X[[i]], ...):\n",
            "“input string 1 is invalid in this locale”\n",
            "Warning message in FUN(X[[i]], ...):\n",
            "“input string 1 is invalid in this locale”\n",
            "Warning message in FUN(X[[i]], ...):\n",
            "“input string 1 is invalid in this locale”\n",
            "Warning message in FUN(X[[i]], ...):\n",
            "“input string 1 is invalid in this locale”\n",
            "Warning message in FUN(X[[i]], ...):\n",
            "“input string 1 is invalid in this locale”\n",
            "Warning message in FUN(X[[i]], ...):\n",
            "“input string 1 is invalid in this locale”\n",
            "Warning message in FUN(X[[i]], ...):\n",
            "“input string 1 is invalid in this locale”\n",
            "Warning message in FUN(X[[i]], ...):\n",
            "“input string 1 is invalid in this locale”\n",
            "ERROR while rich displaying an object: Error in gsub(chr, html_specials[[chr]], text, fixed = TRUE): input string 1 is invalid in this locale\n",
            "\n",
            "Traceback:\n",
            "1. FUN(X[[i]], ...)\n",
            "2. tryCatch(withCallingHandlers({\n",
            " .     if (!mime %in% names(repr::mime2repr)) \n",
            " .         stop(\"No repr_* for mimetype \", mime, \" in repr::mime2repr\")\n",
            " .     rpr <- repr::mime2repr[[mime]](obj)\n",
            " .     if (is.null(rpr)) \n",
            " .         return(NULL)\n",
            " .     prepare_content(is.raw(rpr), rpr)\n",
            " . }, error = error_handler), error = outer_handler)\n",
            "3. tryCatchList(expr, classes, parentenv, handlers)\n",
            "4. tryCatchOne(expr, names, parentenv, handlers[[1L]])\n",
            "5. doTryCatch(return(expr), name, parentenv, handler)\n",
            "6. withCallingHandlers({\n",
            " .     if (!mime %in% names(repr::mime2repr)) \n",
            " .         stop(\"No repr_* for mimetype \", mime, \" in repr::mime2repr\")\n",
            " .     rpr <- repr::mime2repr[[mime]](obj)\n",
            " .     if (is.null(rpr)) \n",
            " .         return(NULL)\n",
            " .     prepare_content(is.raw(rpr), rpr)\n",
            " . }, error = error_handler)\n",
            "7. repr::mime2repr[[mime]](obj)\n",
            "8. repr_markdown.data.frame(obj)\n",
            "9. repr_matrix_generic(obj, \"\\n%s\\n\\n%s%s\\n\", sprintf(\"|%%s\\n|%s|\\n\", \n",
            " .     underline), NULL, \" <!--/--> |\", \" %s |\", \"%s\", \"|%s\\n\", \n",
            " .     \" %s |\", \" %s |\", escape_fun = markdown_escape, rows = rows, \n",
            " .     cols = cols, ...)\n",
            "10. lapply(seq_len(nrow(x)), function(r) {\n",
            "  .     row <- escape_fun(slice_row(x, r))\n",
            "  .     cells <- sprintf(cell, row)\n",
            "  .     if (has_rownames) {\n",
            "  .         row_head <- sprintf(row_head, escape_fun(rownames(x)[[r]]))\n",
            "  .         cells <- c(row_head, cells)\n",
            "  .     }\n",
            "  .     sprintf(row_wrap, paste(cells, collapse = \"\"))\n",
            "  . })\n",
            "11. FUN(X[[i]], ...)\n",
            "12. escape_fun(slice_row(x, r))\n",
            "13. html_escape(values, do_spaces = FALSE)\n",
            "14. gsub(chr, html_specials[[chr]], text, fixed = TRUE)\n",
            "Warning message in FUN(X[[i]], ...):\n",
            "“input string 1 is invalid in this locale”\n",
            "Warning message in FUN(X[[i]], ...):\n",
            "“input string 1 is invalid in this locale”\n",
            "Warning message in FUN(X[[i]], ...):\n",
            "“input string 1 is invalid in this locale”\n",
            "Warning message in FUN(X[[i]], ...):\n",
            "“input string 1 is invalid in this locale”\n",
            "Warning message in FUN(X[[i]], ...):\n",
            "“input string 1 is invalid in this locale”\n",
            "Warning message in FUN(X[[i]], ...):\n",
            "“input string 1 is invalid in this locale”\n",
            "Warning message in FUN(X[[i]], ...):\n",
            "“input string 1 is invalid in this locale”\n",
            "Warning message in FUN(X[[i]], ...):\n",
            "“input string 1 is invalid in this locale”\n",
            "Warning message in FUN(X[[i]], ...):\n",
            "“input string 1 is invalid in this locale”\n",
            "Warning message in FUN(X[[i]], ...):\n",
            "“input string 1 is invalid in this locale”\n",
            "Warning message in FUN(X[[i]], ...):\n",
            "“input string 1 is invalid in this locale”\n",
            "Warning message in FUN(X[[i]], ...):\n",
            "“input string 1 is invalid in this locale”\n",
            "Warning message in FUN(X[[i]], ...):\n",
            "“input string 1 is invalid in this locale”\n",
            "Warning message in FUN(X[[i]], ...):\n",
            "“input string 1 is invalid in this locale”\n",
            "Warning message in FUN(X[[i]], ...):\n",
            "“input string 1 is invalid in this locale”\n",
            "Warning message in FUN(X[[i]], ...):\n",
            "“input string 1 is invalid in this locale”\n",
            "Warning message in FUN(X[[i]], ...):\n",
            "“input string 1 is invalid in this locale”\n",
            "Warning message in FUN(X[[i]], ...):\n",
            "“input string 1 is invalid in this locale”\n",
            "Warning message in FUN(X[[i]], ...):\n",
            "“input string 1 is invalid in this locale”\n",
            "Warning message in FUN(X[[i]], ...):\n",
            "“input string 1 is invalid in this locale”\n",
            "Warning message in FUN(X[[i]], ...):\n",
            "“input string 1 is invalid in this locale”\n",
            "Warning message in FUN(X[[i]], ...):\n",
            "“input string 1 is invalid in this locale”\n",
            "Warning message in FUN(X[[i]], ...):\n",
            "“input string 1 is invalid in this locale”\n",
            "Warning message in FUN(X[[i]], ...):\n",
            "“input string 1 is invalid in this locale”\n",
            "Warning message in FUN(X[[i]], ...):\n",
            "“input string 1 is invalid in this locale”\n",
            "Warning message in FUN(X[[i]], ...):\n",
            "“input string 1 is invalid in this locale”\n",
            "Warning message in FUN(X[[i]], ...):\n",
            "“input string 1 is invalid in this locale”\n",
            "Warning message in FUN(X[[i]], ...):\n",
            "“input string 1 is invalid in this locale”\n",
            "Warning message in FUN(X[[i]], ...):\n",
            "“input string 1 is invalid in this locale”\n",
            "Warning message in FUN(X[[i]], ...):\n",
            "“input string 1 is invalid in this locale”\n",
            "Warning message in FUN(X[[i]], ...):\n",
            "“input string 1 is invalid in this locale”\n",
            "Warning message in FUN(X[[i]], ...):\n",
            "“input string 1 is invalid in this locale”\n",
            "Warning message in FUN(X[[i]], ...):\n",
            "“input string 1 is invalid in this locale”\n",
            "Warning message in FUN(X[[i]], ...):\n",
            "“input string 1 is invalid in this locale”\n",
            "Warning message in FUN(X[[i]], ...):\n",
            "“input string 1 is invalid in this locale”\n",
            "Warning message in FUN(X[[i]], ...):\n",
            "“input string 1 is invalid in this locale”\n",
            "Warning message in FUN(X[[i]], ...):\n",
            "“input string 1 is invalid in this locale”\n",
            "Warning message in FUN(X[[i]], ...):\n",
            "“input string 1 is invalid in this locale”\n",
            "Warning message in FUN(X[[i]], ...):\n",
            "“input string 1 is invalid in this locale”\n",
            "Warning message in FUN(X[[i]], ...):\n",
            "“input string 1 is invalid in this locale”\n",
            "Warning message in FUN(X[[i]], ...):\n",
            "“input string 1 is invalid in this locale”\n",
            "Warning message in FUN(X[[i]], ...):\n",
            "“input string 1 is invalid in this locale”\n",
            "Warning message in FUN(X[[i]], ...):\n",
            "“input string 1 is invalid in this locale”\n",
            "Warning message in FUN(X[[i]], ...):\n",
            "“input string 1 is invalid in this locale”\n",
            "Warning message in FUN(X[[i]], ...):\n",
            "“input string 1 is invalid in this locale”\n",
            "Warning message in FUN(X[[i]], ...):\n",
            "“input string 1 is invalid in this locale”\n",
            "Warning message in FUN(X[[i]], ...):\n",
            "“input string 1 is invalid in this locale”\n",
            "Warning message in FUN(X[[i]], ...):\n",
            "“input string 1 is invalid in this locale”\n",
            "Warning message in FUN(X[[i]], ...):\n",
            "“input string 1 is invalid in this locale”\n",
            "Warning message in FUN(X[[i]], ...):\n",
            "“input string 1 is invalid in this locale”\n",
            "Warning message in FUN(X[[i]], ...):\n",
            "“input string 1 is invalid in this locale”\n",
            "Warning message in FUN(X[[i]], ...):\n",
            "“input string 1 is invalid in this locale”\n",
            "Warning message in FUN(X[[i]], ...):\n",
            "“input string 1 is invalid in this locale”\n",
            "Warning message in FUN(X[[i]], ...):\n",
            "“input string 1 is invalid in this locale”\n",
            "Warning message in FUN(X[[i]], ...):\n",
            "“input string 1 is invalid in this locale”\n",
            "Warning message in FUN(X[[i]], ...):\n",
            "“input string 1 is invalid in this locale”\n",
            "Warning message in FUN(X[[i]], ...):\n",
            "“input string 1 is invalid in this locale”\n",
            "Warning message in FUN(X[[i]], ...):\n",
            "“input string 1 is invalid in this locale”\n",
            "Warning message in FUN(X[[i]], ...):\n",
            "“input string 1 is invalid in this locale”\n",
            "Warning message in FUN(X[[i]], ...):\n",
            "“input string 1 is invalid in this locale”\n",
            "Warning message in FUN(X[[i]], ...):\n",
            "“input string 1 is invalid in this locale”\n",
            "Warning message in FUN(X[[i]], ...):\n",
            "“input string 1 is invalid in this locale”\n",
            "Warning message in FUN(X[[i]], ...):\n",
            "“input string 1 is invalid in this locale”\n",
            "Warning message in FUN(X[[i]], ...):\n",
            "“input string 1 is invalid in this locale”\n",
            "Warning message in FUN(X[[i]], ...):\n",
            "“input string 1 is invalid in this locale”\n",
            "Warning message in FUN(X[[i]], ...):\n",
            "“input string 1 is invalid in this locale”\n",
            "Warning message in FUN(X[[i]], ...):\n",
            "“input string 1 is invalid in this locale”\n",
            "Warning message in FUN(X[[i]], ...):\n",
            "“input string 1 is invalid in this locale”\n",
            "Warning message in FUN(X[[i]], ...):\n",
            "“input string 1 is invalid in this locale”\n",
            "Warning message in FUN(X[[i]], ...):\n",
            "“input string 1 is invalid in this locale”\n",
            "Warning message in FUN(X[[i]], ...):\n",
            "“input string 1 is invalid in this locale”\n",
            "Warning message in FUN(X[[i]], ...):\n",
            "“input string 1 is invalid in this locale”\n",
            "Warning message in FUN(X[[i]], ...):\n",
            "“input string 1 is invalid in this locale”\n",
            "Warning message in FUN(X[[i]], ...):\n",
            "“input string 1 is invalid in this locale”\n",
            "Warning message in FUN(X[[i]], ...):\n",
            "“input string 1 is invalid in this locale”\n",
            "Warning message in FUN(X[[i]], ...):\n",
            "“input string 1 is invalid in this locale”\n",
            "Warning message in FUN(X[[i]], ...):\n",
            "“input string 1 is invalid in this locale”\n",
            "Warning message in FUN(X[[i]], ...):\n",
            "“input string 1 is invalid in this locale”\n",
            "Warning message in FUN(X[[i]], ...):\n",
            "“input string 1 is invalid in this locale”\n",
            "Warning message in FUN(X[[i]], ...):\n",
            "“input string 1 is invalid in this locale”\n",
            "Warning message in FUN(X[[i]], ...):\n",
            "“input string 1 is invalid in this locale”\n",
            "Warning message in FUN(X[[i]], ...):\n",
            "“input string 1 is invalid in this locale”\n",
            "Warning message in FUN(X[[i]], ...):\n",
            "“input string 1 is invalid in this locale”\n",
            "Warning message in FUN(X[[i]], ...):\n",
            "“input string 1 is invalid in this locale”\n",
            "Warning message in FUN(X[[i]], ...):\n",
            "“input string 1 is invalid in this locale”\n",
            "Warning message in FUN(X[[i]], ...):\n",
            "“input string 1 is invalid in this locale”\n",
            "Warning message in FUN(X[[i]], ...):\n",
            "“input string 1 is invalid in this locale”\n",
            "Warning message in FUN(X[[i]], ...):\n",
            "“input string 1 is invalid in this locale”\n",
            "Warning message in FUN(X[[i]], ...):\n",
            "“input string 1 is invalid in this locale”\n",
            "Warning message in FUN(X[[i]], ...):\n",
            "“input string 1 is invalid in this locale”\n",
            "Warning message in FUN(X[[i]], ...):\n",
            "“input string 1 is invalid in this locale”\n",
            "Warning message in FUN(X[[i]], ...):\n",
            "“input string 1 is invalid in this locale”\n",
            "Warning message in FUN(X[[i]], ...):\n",
            "“input string 1 is invalid in this locale”\n",
            "Warning message in FUN(X[[i]], ...):\n",
            "“input string 1 is invalid in this locale”\n",
            "Warning message in FUN(X[[i]], ...):\n",
            "“input string 1 is invalid in this locale”\n",
            "Warning message in FUN(X[[i]], ...):\n",
            "“input string 1 is invalid in this locale”\n",
            "Warning message in FUN(X[[i]], ...):\n",
            "“input string 1 is invalid in this locale”\n",
            "Warning message in FUN(X[[i]], ...):\n",
            "“input string 1 is invalid in this locale”\n",
            "Warning message in FUN(X[[i]], ...):\n",
            "“input string 1 is invalid in this locale”\n",
            "Warning message in FUN(X[[i]], ...):\n",
            "“input string 1 is invalid in this locale”\n",
            "Warning message in FUN(X[[i]], ...):\n",
            "“input string 1 is invalid in this locale”\n",
            "Warning message in FUN(X[[i]], ...):\n",
            "“input string 1 is invalid in this locale”\n",
            "Warning message in FUN(X[[i]], ...):\n",
            "“input string 1 is invalid in this locale”\n",
            "Warning message in FUN(X[[i]], ...):\n",
            "“input string 1 is invalid in this locale”\n",
            "Warning message in FUN(X[[i]], ...):\n",
            "“input string 1 is invalid in this locale”\n",
            "Warning message in FUN(X[[i]], ...):\n",
            "“input string 1 is invalid in this locale”\n",
            "Warning message in FUN(X[[i]], ...):\n",
            "“input string 1 is invalid in this locale”\n",
            "Warning message in FUN(X[[i]], ...):\n",
            "“input string 1 is invalid in this locale”\n",
            "Warning message in FUN(X[[i]], ...):\n",
            "“input string 1 is invalid in this locale”\n",
            "Warning message in FUN(X[[i]], ...):\n",
            "“input string 1 is invalid in this locale”\n",
            "Warning message in FUN(X[[i]], ...):\n",
            "“input string 1 is invalid in this locale”\n",
            "Warning message in FUN(X[[i]], ...):\n",
            "“input string 1 is invalid in this locale”\n",
            "Warning message in FUN(X[[i]], ...):\n",
            "“input string 1 is invalid in this locale”\n",
            "Warning message in FUN(X[[i]], ...):\n",
            "“input string 1 is invalid in this locale”\n",
            "Warning message in FUN(X[[i]], ...):\n",
            "“input string 1 is invalid in this locale”\n",
            "Warning message in FUN(X[[i]], ...):\n",
            "“input string 1 is invalid in this locale”\n",
            "Warning message in FUN(X[[i]], ...):\n",
            "“input string 1 is invalid in this locale”\n",
            "Warning message in FUN(X[[i]], ...):\n",
            "“input string 1 is invalid in this locale”\n",
            "Warning message in FUN(X[[i]], ...):\n",
            "“input string 1 is invalid in this locale”\n",
            "Warning message in FUN(X[[i]], ...):\n",
            "“input string 1 is invalid in this locale”\n",
            "Warning message in FUN(X[[i]], ...):\n",
            "“input string 1 is invalid in this locale”\n",
            "Warning message in FUN(X[[i]], ...):\n",
            "“input string 1 is invalid in this locale”\n",
            "Warning message in FUN(X[[i]], ...):\n",
            "“input string 1 is invalid in this locale”\n",
            "Warning message in FUN(X[[i]], ...):\n",
            "“input string 1 is invalid in this locale”\n",
            "Warning message in FUN(X[[i]], ...):\n",
            "“input string 1 is invalid in this locale”\n",
            "Warning message in FUN(X[[i]], ...):\n",
            "“input string 1 is invalid in this locale”\n",
            "Warning message in FUN(X[[i]], ...):\n",
            "“input string 1 is invalid in this locale”\n",
            "Warning message in FUN(X[[i]], ...):\n",
            "“input string 1 is invalid in this locale”\n",
            "Warning message in FUN(X[[i]], ...):\n",
            "“input string 1 is invalid in this locale”\n",
            "Warning message in FUN(X[[i]], ...):\n",
            "“input string 1 is invalid in this locale”\n"
          ],
          "name": "stderr"
        },
        {
          "output_type": "display_data",
          "data": {
            "text/plain": [
              "   ZIPCODE.SIDO.GUGUN.DONG.RI.BUNJI.SEQ                                                                                                                   \n",
              "1  135-806\\t\\xbc\\xad\\xbf\\xef\\t\\xb0\\xad\\xb3\\xb2\\xb1\\xb8\\t\\xb0\\xb3\\xc6\\xf71\\xb5\\xbf\\t\\xb0泲\\xbe\\xc6\\xc6\\xc4Ʈ\\t\\t1                                           \n",
              "2  135-807\\t\\xbc\\xad\\xbf\\xef\\t\\xb0\\xad\\xb3\\xb2\\xb1\\xb8\\t\\xb0\\xb3\\xc6\\xf71\\xb5\\xbf\\t\\xbf켺3\\xc2\\xf7\\xbe\\xc6\\xc6\\xc4Ʈ\\t(1\\xa1\\xad6\\xb5\\xbf)\\t2              \n",
              "3  135-806\\t\\xbc\\xad\\xbf\\xef\\t\\xb0\\xad\\xb3\\xb2\\xb1\\xb8\\t\\xb0\\xb3\\xc6\\xf71\\xb5\\xbf\\t\\xbf켺9\\xc2\\xf7\\xbe\\xc6\\xc6\\xc4Ʈ\\t(901\\xa1\\xad902\\xb5\\xbf)\\t3          \n",
              "4  135-770\\t\\xbc\\xad\\xbf\\xef\\t\\xb0\\xad\\xb3\\xb2\\xb1\\xb8\\t\\xb0\\xb3\\xc6\\xf71\\xb5\\xbf\\t\\xc1ְ\\xf8\\xbe\\xc6\\xc6\\xc4Ʈ\\t(1\\xa1\\xad16\\xb5\\xbf)\\t4                    \n",
              "5  135-805\\t\\xbc\\xad\\xbf\\xef\\t\\xb0\\xad\\xb3\\xb2\\xb1\\xb8\\t\\xb0\\xb3\\xc6\\xf71\\xb5\\xbf\\t\\xc1ְ\\xf8\\xbe\\xc6\\xc6\\xc4Ʈ\\t(17\\xa1\\xad40\\xb5\\xbf)\\t5                   \n",
              "6  135-966\\t\\xbc\\xad\\xbf\\xef\\t\\xb0\\xad\\xb3\\xb2\\xb1\\xb8\\t\\xb0\\xb3\\xc6\\xf71\\xb5\\xbf\\t\\xc1ְ\\xf8\\xbe\\xc6\\xc6\\xc4Ʈ\\t(41\\xa1\\xad85\\xb5\\xbf)\\t6                   \n",
              "7  135-807\\t\\xbc\\xad\\xbf\\xef\\t\\xb0\\xad\\xb3\\xb2\\xb1\\xb8\\t\\xb0\\xb3\\xc6\\xf71\\xb5\\xbf\\t\\xc1ְ\\xf8\\xbe\\xc6\\xc6\\xc4Ʈ\\t(86\\xa1\\xad103\\xb5\\xbf)\\t7                  \n",
              "8  135-805\\t\\xbc\\xad\\xbf\\xef\\t\\xb0\\xad\\xb3\\xb2\\xb1\\xb8\\t\\xb0\\xb3\\xc6\\xf71\\xb5\\xbf\\t\\xc1ְ\\xf8\\xbe\\xc6\\xc6\\xc4Ʈ\\t(104\\xa1\\xad125\\xb5\\xbf)\\t8                 \n",
              "9  135-807\\t\\xbc\\xad\\xbf\\xef\\t\\xb0\\xad\\xb3\\xb2\\xb1\\xb8\\t\\xb0\\xb3\\xc6\\xf71\\xb5\\xbf\\t\\xc7\\xf6\\xb4\\xeb1\\xc2\\xf7\\xbe\\xc6\\xc6\\xc4Ʈ\\t(101\\xa1\\xad106\\xb5\\xbf)\\t9\n",
              "10 135-805\\t\\xbc\\xad\\xbf\\xef\\t\\xb0\\xad\\xb3\\xb2\\xb1\\xb8\\t\\xb0\\xb3\\xc6\\xf71\\xb5\\xbf\\t\\t565\\t10                                                              "
            ],
            "text/latex": "A data.frame: 10 × 1\n\\begin{tabular}{r|l}\n  & ZIPCODE.SIDO.GUGUN.DONG.RI.BUNJI.SEQ\\\\\n  & <fct>\\\\\n\\hline\n\t1 & 135-806\t<bc><ad><bf><ef>\t<b0><ad><b3><b2><b1><b8>\t<b0><b3><c6><f7>1<b5><bf>\t<b0>泲<be><c6><c6><c4>Ʈ\t\t1                                           \\\\\n\t2 & 135-807\t<bc><ad><bf><ef>\t<b0><ad><b3><b2><b1><b8>\t<b0><b3><c6><f7>1<b5><bf>\t<bf>켺3<c2><f7><be><c6><c6><c4>Ʈ\t(1<a1><ad>6<b5><bf>)\t2              \\\\\n\t3 & 135-806\t<bc><ad><bf><ef>\t<b0><ad><b3><b2><b1><b8>\t<b0><b3><c6><f7>1<b5><bf>\t<bf>켺9<c2><f7><be><c6><c6><c4>Ʈ\t(901<a1><ad>902<b5><bf>)\t3          \\\\\n\t4 & 135-770\t<bc><ad><bf><ef>\t<b0><ad><b3><b2><b1><b8>\t<b0><b3><c6><f7>1<b5><bf>\t<c1>ְ<f8><be><c6><c6><c4>Ʈ\t(1<a1><ad>16<b5><bf>)\t4                    \\\\\n\t5 & 135-805\t<bc><ad><bf><ef>\t<b0><ad><b3><b2><b1><b8>\t<b0><b3><c6><f7>1<b5><bf>\t<c1>ְ<f8><be><c6><c6><c4>Ʈ\t(17<a1><ad>40<b5><bf>)\t5                   \\\\\n\t6 & 135-966\t<bc><ad><bf><ef>\t<b0><ad><b3><b2><b1><b8>\t<b0><b3><c6><f7>1<b5><bf>\t<c1>ְ<f8><be><c6><c6><c4>Ʈ\t(41<a1><ad>85<b5><bf>)\t6                   \\\\\n\t7 & 135-807\t<bc><ad><bf><ef>\t<b0><ad><b3><b2><b1><b8>\t<b0><b3><c6><f7>1<b5><bf>\t<c1>ְ<f8><be><c6><c6><c4>Ʈ\t(86<a1><ad>103<b5><bf>)\t7                  \\\\\n\t8 & 135-805\t<bc><ad><bf><ef>\t<b0><ad><b3><b2><b1><b8>\t<b0><b3><c6><f7>1<b5><bf>\t<c1>ְ<f8><be><c6><c6><c4>Ʈ\t(104<a1><ad>125<b5><bf>)\t8                 \\\\\n\t9 & 135-807\t<bc><ad><bf><ef>\t<b0><ad><b3><b2><b1><b8>\t<b0><b3><c6><f7>1<b5><bf>\t<c7><f6><b4><eb>1<c2><f7><be><c6><c6><c4>Ʈ\t(101<a1><ad>106<b5><bf>)\t9\\\\\n\t10 & 135-805\t<bc><ad><bf><ef>\t<b0><ad><b3><b2><b1><b8>\t<b0><b3><c6><f7>1<b5><bf>\t\t565\t10                                                              \\\\\n\\end{tabular}\n",
            "text/html": [
              "<table>\n",
              "<caption>A data.frame: 10 × 1</caption>\n",
              "<thead>\n",
              "\t<tr><th></th><th scope=col>ZIPCODE.SIDO.GUGUN.DONG.RI.BUNJI.SEQ</th></tr>\n",
              "\t<tr><th></th><th scope=col>&lt;fct&gt;</th></tr>\n",
              "</thead>\n",
              "<tbody>\n",
              "\t<tr><th scope=row>1</th><td>135-806\t<bc><ad><bf><ef>\t<b0><ad><b3><b2><b1><b8>\t<b0><b3><c6><f7>1<b5><bf>\t<b0>泲<be><c6><c6><c4>Ʈ\t\t1                                           </td></tr>\n",
              "\t<tr><th scope=row>2</th><td>135-807\t<bc><ad><bf><ef>\t<b0><ad><b3><b2><b1><b8>\t<b0><b3><c6><f7>1<b5><bf>\t<bf>켺3<c2><f7><be><c6><c6><c4>Ʈ\t(1<a1><ad>6<b5><bf>)\t2              </td></tr>\n",
              "\t<tr><th scope=row>3</th><td>135-806\t<bc><ad><bf><ef>\t<b0><ad><b3><b2><b1><b8>\t<b0><b3><c6><f7>1<b5><bf>\t<bf>켺9<c2><f7><be><c6><c6><c4>Ʈ\t(901<a1><ad>902<b5><bf>)\t3          </td></tr>\n",
              "\t<tr><th scope=row>4</th><td>135-770\t<bc><ad><bf><ef>\t<b0><ad><b3><b2><b1><b8>\t<b0><b3><c6><f7>1<b5><bf>\t<c1>ְ<f8><be><c6><c6><c4>Ʈ\t(1<a1><ad>16<b5><bf>)\t4                    </td></tr>\n",
              "\t<tr><th scope=row>5</th><td>135-805\t<bc><ad><bf><ef>\t<b0><ad><b3><b2><b1><b8>\t<b0><b3><c6><f7>1<b5><bf>\t<c1>ְ<f8><be><c6><c6><c4>Ʈ\t(17<a1><ad>40<b5><bf>)\t5                   </td></tr>\n",
              "\t<tr><th scope=row>6</th><td>135-966\t<bc><ad><bf><ef>\t<b0><ad><b3><b2><b1><b8>\t<b0><b3><c6><f7>1<b5><bf>\t<c1>ְ<f8><be><c6><c6><c4>Ʈ\t(41<a1><ad>85<b5><bf>)\t6                   </td></tr>\n",
              "\t<tr><th scope=row>7</th><td>135-807\t<bc><ad><bf><ef>\t<b0><ad><b3><b2><b1><b8>\t<b0><b3><c6><f7>1<b5><bf>\t<c1>ְ<f8><be><c6><c6><c4>Ʈ\t(86<a1><ad>103<b5><bf>)\t7                  </td></tr>\n",
              "\t<tr><th scope=row>8</th><td>135-805\t<bc><ad><bf><ef>\t<b0><ad><b3><b2><b1><b8>\t<b0><b3><c6><f7>1<b5><bf>\t<c1>ְ<f8><be><c6><c6><c4>Ʈ\t(104<a1><ad>125<b5><bf>)\t8                 </td></tr>\n",
              "\t<tr><th scope=row>9</th><td>135-807\t<bc><ad><bf><ef>\t<b0><ad><b3><b2><b1><b8>\t<b0><b3><c6><f7>1<b5><bf>\t<c7><f6><b4><eb>1<c2><f7><be><c6><c6><c4>Ʈ\t(101<a1><ad>106<b5><bf>)\t9</td></tr>\n",
              "\t<tr><th scope=row>10</th><td>135-805\t<bc><ad><bf><ef>\t<b0><ad><b3><b2><b1><b8>\t<b0><b3><c6><f7>1<b5><bf>\t\t565\t10                                                              </td></tr>\n",
              "</tbody>\n",
              "</table>\n"
            ]
          },
          "metadata": {
            "tags": []
          }
        }
      ]
    },
    {
      "cell_type": "code",
      "metadata": {
        "id": "lbYVbZjHSWHZ"
      },
      "source": [
        "# notepad-plus-plus.org\n",
        "zipcode <- read.csv('https://raw.githubusercontent.com/Gelassenheit17/R_Statistics/master/datasets/zipcode_2013.txt',sep='\\t')\n"
      ],
      "execution_count": 42,
      "outputs": []
    },
    {
      "cell_type": "code",
      "metadata": {
        "id": "2q1dN4Y8VIZy",
        "outputId": "124f6183-72f8-4844-c41b-9a8fa8c394b6",
        "colab": {
          "base_uri": "https://localhost:8080/",
          "height": 375
        }
      },
      "source": [
        "head(zipcode, 15)\n",
        "zip <- na.omit(zipcode)"
      ],
      "execution_count": 45,
      "outputs": [
        {
          "output_type": "display_data",
          "data": {
            "text/plain": [
              "   ZIPCODE SIDO GUGUN  DONG    RI            BUNJI       SEQ\n",
              "1  135-806 서울 강남구 개포1동 경남아파트                 1 \n",
              "2  135-807 서울 강남구 개포1동 우성3차아파트 (1∼6동)      2 \n",
              "3  135-806 서울 강남구 개포1동 우성9차아파트 (901∼902동)  3 \n",
              "4  135-770 서울 강남구 개포1동 주공아파트    (1∼16동)     4 \n",
              "5  135-805 서울 강남구 개포1동 주공아파트    (17∼40동)    5 \n",
              "6  135-966 서울 강남구 개포1동 주공아파트    (41∼85동)    6 \n",
              "7  135-807 서울 강남구 개포1동 주공아파트    (86∼103동)   7 \n",
              "8  135-805 서울 강남구 개포1동 주공아파트    (104∼125동)  8 \n",
              "9  135-807 서울 강남구 개포1동 현대1차아파트 (101∼106동)  9 \n",
              "10 135-805 서울 강남구 개포1동               565         10 \n",
              "11 135-806 서울 강남구 개포1동               649∼651     11 \n",
              "12 135-807 서울 강남구 개포1동               652∼653     12 \n",
              "13 135-810 서울 강남구 개포1동               660         13 \n",
              "14 135-241 서울 강남구 개포1동                           14 \n",
              "15 135-800 서울 강남구 개포2동 우성8차아파트 (801∼803동) 15 "
            ],
            "text/latex": "A data.frame: 15 × 7\n\\begin{tabular}{r|lllllll}\n  & ZIPCODE & SIDO & GUGUN & DONG & RI & BUNJI & SEQ\\\\\n  & <fct> & <fct> & <fct> & <fct> & <fct> & <fct> & <int>\\\\\n\\hline\n\t1 & 135-806 & 서울 & 강남구 & 개포1동 & 경남아파트    &             &  1\\\\\n\t2 & 135-807 & 서울 & 강남구 & 개포1동 & 우성3차아파트 & (1∼6동)     &  2\\\\\n\t3 & 135-806 & 서울 & 강남구 & 개포1동 & 우성9차아파트 & (901∼902동) &  3\\\\\n\t4 & 135-770 & 서울 & 강남구 & 개포1동 & 주공아파트    & (1∼16동)    &  4\\\\\n\t5 & 135-805 & 서울 & 강남구 & 개포1동 & 주공아파트    & (17∼40동)   &  5\\\\\n\t6 & 135-966 & 서울 & 강남구 & 개포1동 & 주공아파트    & (41∼85동)   &  6\\\\\n\t7 & 135-807 & 서울 & 강남구 & 개포1동 & 주공아파트    & (86∼103동)  &  7\\\\\n\t8 & 135-805 & 서울 & 강남구 & 개포1동 & 주공아파트    & (104∼125동) &  8\\\\\n\t9 & 135-807 & 서울 & 강남구 & 개포1동 & 현대1차아파트 & (101∼106동) &  9\\\\\n\t10 & 135-805 & 서울 & 강남구 & 개포1동 &               & 565         & 10\\\\\n\t11 & 135-806 & 서울 & 강남구 & 개포1동 &               & 649∼651     & 11\\\\\n\t12 & 135-807 & 서울 & 강남구 & 개포1동 &               & 652∼653     & 12\\\\\n\t13 & 135-810 & 서울 & 강남구 & 개포1동 &               & 660         & 13\\\\\n\t14 & 135-241 & 서울 & 강남구 & 개포1동 &               &             & 14\\\\\n\t15 & 135-800 & 서울 & 강남구 & 개포2동 & 우성8차아파트 & (801∼803동) & 15\\\\\n\\end{tabular}\n",
            "text/markdown": "\nA data.frame: 15 × 7\n\n| <!--/--> | ZIPCODE &lt;fct&gt; | SIDO &lt;fct&gt; | GUGUN &lt;fct&gt; | DONG &lt;fct&gt; | RI &lt;fct&gt; | BUNJI &lt;fct&gt; | SEQ &lt;int&gt; |\n|---|---|---|---|---|---|---|---|\n| 1 | 135-806 | 서울 | 강남구 | 개포1동 | 경남아파트    | <!----> |  1 |\n| 2 | 135-807 | 서울 | 강남구 | 개포1동 | 우성3차아파트 | (1∼6동)     |  2 |\n| 3 | 135-806 | 서울 | 강남구 | 개포1동 | 우성9차아파트 | (901∼902동) |  3 |\n| 4 | 135-770 | 서울 | 강남구 | 개포1동 | 주공아파트    | (1∼16동)    |  4 |\n| 5 | 135-805 | 서울 | 강남구 | 개포1동 | 주공아파트    | (17∼40동)   |  5 |\n| 6 | 135-966 | 서울 | 강남구 | 개포1동 | 주공아파트    | (41∼85동)   |  6 |\n| 7 | 135-807 | 서울 | 강남구 | 개포1동 | 주공아파트    | (86∼103동)  |  7 |\n| 8 | 135-805 | 서울 | 강남구 | 개포1동 | 주공아파트    | (104∼125동) |  8 |\n| 9 | 135-807 | 서울 | 강남구 | 개포1동 | 현대1차아파트 | (101∼106동) |  9 |\n| 10 | 135-805 | 서울 | 강남구 | 개포1동 | <!----> | 565         | 10 |\n| 11 | 135-806 | 서울 | 강남구 | 개포1동 | <!----> | 649∼651     | 11 |\n| 12 | 135-807 | 서울 | 강남구 | 개포1동 | <!----> | 652∼653     | 12 |\n| 13 | 135-810 | 서울 | 강남구 | 개포1동 | <!----> | 660         | 13 |\n| 14 | 135-241 | 서울 | 강남구 | 개포1동 | <!----> | <!----> | 14 |\n| 15 | 135-800 | 서울 | 강남구 | 개포2동 | 우성8차아파트 | (801∼803동) | 15 |\n\n",
            "text/html": [
              "<table>\n",
              "<caption>A data.frame: 15 × 7</caption>\n",
              "<thead>\n",
              "\t<tr><th></th><th scope=col>ZIPCODE</th><th scope=col>SIDO</th><th scope=col>GUGUN</th><th scope=col>DONG</th><th scope=col>RI</th><th scope=col>BUNJI</th><th scope=col>SEQ</th></tr>\n",
              "\t<tr><th></th><th scope=col>&lt;fct&gt;</th><th scope=col>&lt;fct&gt;</th><th scope=col>&lt;fct&gt;</th><th scope=col>&lt;fct&gt;</th><th scope=col>&lt;fct&gt;</th><th scope=col>&lt;fct&gt;</th><th scope=col>&lt;int&gt;</th></tr>\n",
              "</thead>\n",
              "<tbody>\n",
              "\t<tr><th scope=row>1</th><td>135-806</td><td>서울</td><td>강남구</td><td>개포1동</td><td>경남아파트   </td><td>           </td><td> 1</td></tr>\n",
              "\t<tr><th scope=row>2</th><td>135-807</td><td>서울</td><td>강남구</td><td>개포1동</td><td>우성3차아파트</td><td>(1∼6동)    </td><td> 2</td></tr>\n",
              "\t<tr><th scope=row>3</th><td>135-806</td><td>서울</td><td>강남구</td><td>개포1동</td><td>우성9차아파트</td><td>(901∼902동)</td><td> 3</td></tr>\n",
              "\t<tr><th scope=row>4</th><td>135-770</td><td>서울</td><td>강남구</td><td>개포1동</td><td>주공아파트   </td><td>(1∼16동)   </td><td> 4</td></tr>\n",
              "\t<tr><th scope=row>5</th><td>135-805</td><td>서울</td><td>강남구</td><td>개포1동</td><td>주공아파트   </td><td>(17∼40동)  </td><td> 5</td></tr>\n",
              "\t<tr><th scope=row>6</th><td>135-966</td><td>서울</td><td>강남구</td><td>개포1동</td><td>주공아파트   </td><td>(41∼85동)  </td><td> 6</td></tr>\n",
              "\t<tr><th scope=row>7</th><td>135-807</td><td>서울</td><td>강남구</td><td>개포1동</td><td>주공아파트   </td><td>(86∼103동) </td><td> 7</td></tr>\n",
              "\t<tr><th scope=row>8</th><td>135-805</td><td>서울</td><td>강남구</td><td>개포1동</td><td>주공아파트   </td><td>(104∼125동)</td><td> 8</td></tr>\n",
              "\t<tr><th scope=row>9</th><td>135-807</td><td>서울</td><td>강남구</td><td>개포1동</td><td>현대1차아파트</td><td>(101∼106동)</td><td> 9</td></tr>\n",
              "\t<tr><th scope=row>10</th><td>135-805</td><td>서울</td><td>강남구</td><td>개포1동</td><td>             </td><td>565        </td><td>10</td></tr>\n",
              "\t<tr><th scope=row>11</th><td>135-806</td><td>서울</td><td>강남구</td><td>개포1동</td><td>             </td><td>649∼651    </td><td>11</td></tr>\n",
              "\t<tr><th scope=row>12</th><td>135-807</td><td>서울</td><td>강남구</td><td>개포1동</td><td>             </td><td>652∼653    </td><td>12</td></tr>\n",
              "\t<tr><th scope=row>13</th><td>135-810</td><td>서울</td><td>강남구</td><td>개포1동</td><td>             </td><td>660        </td><td>13</td></tr>\n",
              "\t<tr><th scope=row>14</th><td>135-241</td><td>서울</td><td>강남구</td><td>개포1동</td><td>             </td><td>           </td><td>14</td></tr>\n",
              "\t<tr><th scope=row>15</th><td>135-800</td><td>서울</td><td>강남구</td><td>개포2동</td><td>우성8차아파트</td><td>(801∼803동)</td><td>15</td></tr>\n",
              "</tbody>\n",
              "</table>\n"
            ]
          },
          "metadata": {
            "tags": []
          }
        }
      ]
    },
    {
      "cell_type": "code",
      "metadata": {
        "id": "OrASf_h1Vt8J",
        "outputId": "fbc35e3b-e1a3-4970-974c-beabab7db899",
        "colab": {
          "base_uri": "https://localhost:8080/",
          "height": 392
        }
      },
      "source": [
        "zipcode2 <- read.csv('https://raw.githubusercontent.com/Gelassenheit17/R_Statistics/master/datasets/zipcode_2013.txt',sep='\\t', na.strings='')\n",
        "colSums(is.na(zipcode2))\n",
        "head(zipcode2, 15)"
      ],
      "execution_count": 50,
      "outputs": [
        {
          "output_type": "display_data",
          "data": {
            "text/plain": [
              "ZIPCODE    SIDO   GUGUN    DONG      RI   BUNJI     SEQ \n",
              "      0       0     186       0   20489   31541       0 "
            ],
            "text/latex": "\\begin{description*}\n\\item[ZIPCODE] 0\n\\item[SIDO] 0\n\\item[GUGUN] 186\n\\item[DONG] 0\n\\item[RI] 20489\n\\item[BUNJI] 31541\n\\item[SEQ] 0\n\\end{description*}\n",
            "text/markdown": "ZIPCODE\n:   0SIDO\n:   0GUGUN\n:   186DONG\n:   0RI\n:   20489BUNJI\n:   31541SEQ\n:   0\n\n",
            "text/html": [
              "<style>\n",
              ".dl-inline {width: auto; margin:0; padding: 0}\n",
              ".dl-inline>dt, .dl-inline>dd {float: none; width: auto; display: inline-block}\n",
              ".dl-inline>dt::after {content: \":\\0020\"; padding-right: .5ex}\n",
              ".dl-inline>dt:not(:first-of-type) {padding-left: .5ex}\n",
              "</style><dl class=dl-inline><dt>ZIPCODE</dt><dd>0</dd><dt>SIDO</dt><dd>0</dd><dt>GUGUN</dt><dd>186</dd><dt>DONG</dt><dd>0</dd><dt>RI</dt><dd>20489</dd><dt>BUNJI</dt><dd>31541</dd><dt>SEQ</dt><dd>0</dd></dl>\n"
            ]
          },
          "metadata": {
            "tags": []
          }
        },
        {
          "output_type": "display_data",
          "data": {
            "text/plain": [
              "   ZIPCODE SIDO GUGUN  DONG    RI            BUNJI       SEQ\n",
              "1  135-806 서울 강남구 개포1동 경남아파트    NA           1 \n",
              "2  135-807 서울 강남구 개포1동 우성3차아파트 (1∼6동)      2 \n",
              "3  135-806 서울 강남구 개포1동 우성9차아파트 (901∼902동)  3 \n",
              "4  135-770 서울 강남구 개포1동 주공아파트    (1∼16동)     4 \n",
              "5  135-805 서울 강남구 개포1동 주공아파트    (17∼40동)    5 \n",
              "6  135-966 서울 강남구 개포1동 주공아파트    (41∼85동)    6 \n",
              "7  135-807 서울 강남구 개포1동 주공아파트    (86∼103동)   7 \n",
              "8  135-805 서울 강남구 개포1동 주공아파트    (104∼125동)  8 \n",
              "9  135-807 서울 강남구 개포1동 현대1차아파트 (101∼106동)  9 \n",
              "10 135-805 서울 강남구 개포1동 NA            565         10 \n",
              "11 135-806 서울 강남구 개포1동 NA            649∼651     11 \n",
              "12 135-807 서울 강남구 개포1동 NA            652∼653     12 \n",
              "13 135-810 서울 강남구 개포1동 NA            660         13 \n",
              "14 135-241 서울 강남구 개포1동 NA            NA          14 \n",
              "15 135-800 서울 강남구 개포2동 우성8차아파트 (801∼803동) 15 "
            ],
            "text/latex": "A data.frame: 15 × 7\n\\begin{tabular}{r|lllllll}\n  & ZIPCODE & SIDO & GUGUN & DONG & RI & BUNJI & SEQ\\\\\n  & <fct> & <fct> & <fct> & <fct> & <fct> & <fct> & <int>\\\\\n\\hline\n\t1 & 135-806 & 서울 & 강남구 & 개포1동 & 경남아파트    & NA          &  1\\\\\n\t2 & 135-807 & 서울 & 강남구 & 개포1동 & 우성3차아파트 & (1∼6동)     &  2\\\\\n\t3 & 135-806 & 서울 & 강남구 & 개포1동 & 우성9차아파트 & (901∼902동) &  3\\\\\n\t4 & 135-770 & 서울 & 강남구 & 개포1동 & 주공아파트    & (1∼16동)    &  4\\\\\n\t5 & 135-805 & 서울 & 강남구 & 개포1동 & 주공아파트    & (17∼40동)   &  5\\\\\n\t6 & 135-966 & 서울 & 강남구 & 개포1동 & 주공아파트    & (41∼85동)   &  6\\\\\n\t7 & 135-807 & 서울 & 강남구 & 개포1동 & 주공아파트    & (86∼103동)  &  7\\\\\n\t8 & 135-805 & 서울 & 강남구 & 개포1동 & 주공아파트    & (104∼125동) &  8\\\\\n\t9 & 135-807 & 서울 & 강남구 & 개포1동 & 현대1차아파트 & (101∼106동) &  9\\\\\n\t10 & 135-805 & 서울 & 강남구 & 개포1동 & NA            & 565         & 10\\\\\n\t11 & 135-806 & 서울 & 강남구 & 개포1동 & NA            & 649∼651     & 11\\\\\n\t12 & 135-807 & 서울 & 강남구 & 개포1동 & NA            & 652∼653     & 12\\\\\n\t13 & 135-810 & 서울 & 강남구 & 개포1동 & NA            & 660         & 13\\\\\n\t14 & 135-241 & 서울 & 강남구 & 개포1동 & NA            & NA          & 14\\\\\n\t15 & 135-800 & 서울 & 강남구 & 개포2동 & 우성8차아파트 & (801∼803동) & 15\\\\\n\\end{tabular}\n",
            "text/markdown": "\nA data.frame: 15 × 7\n\n| <!--/--> | ZIPCODE &lt;fct&gt; | SIDO &lt;fct&gt; | GUGUN &lt;fct&gt; | DONG &lt;fct&gt; | RI &lt;fct&gt; | BUNJI &lt;fct&gt; | SEQ &lt;int&gt; |\n|---|---|---|---|---|---|---|---|\n| 1 | 135-806 | 서울 | 강남구 | 개포1동 | 경남아파트    | NA          |  1 |\n| 2 | 135-807 | 서울 | 강남구 | 개포1동 | 우성3차아파트 | (1∼6동)     |  2 |\n| 3 | 135-806 | 서울 | 강남구 | 개포1동 | 우성9차아파트 | (901∼902동) |  3 |\n| 4 | 135-770 | 서울 | 강남구 | 개포1동 | 주공아파트    | (1∼16동)    |  4 |\n| 5 | 135-805 | 서울 | 강남구 | 개포1동 | 주공아파트    | (17∼40동)   |  5 |\n| 6 | 135-966 | 서울 | 강남구 | 개포1동 | 주공아파트    | (41∼85동)   |  6 |\n| 7 | 135-807 | 서울 | 강남구 | 개포1동 | 주공아파트    | (86∼103동)  |  7 |\n| 8 | 135-805 | 서울 | 강남구 | 개포1동 | 주공아파트    | (104∼125동) |  8 |\n| 9 | 135-807 | 서울 | 강남구 | 개포1동 | 현대1차아파트 | (101∼106동) |  9 |\n| 10 | 135-805 | 서울 | 강남구 | 개포1동 | NA            | 565         | 10 |\n| 11 | 135-806 | 서울 | 강남구 | 개포1동 | NA            | 649∼651     | 11 |\n| 12 | 135-807 | 서울 | 강남구 | 개포1동 | NA            | 652∼653     | 12 |\n| 13 | 135-810 | 서울 | 강남구 | 개포1동 | NA            | 660         | 13 |\n| 14 | 135-241 | 서울 | 강남구 | 개포1동 | NA            | NA          | 14 |\n| 15 | 135-800 | 서울 | 강남구 | 개포2동 | 우성8차아파트 | (801∼803동) | 15 |\n\n",
            "text/html": [
              "<table>\n",
              "<caption>A data.frame: 15 × 7</caption>\n",
              "<thead>\n",
              "\t<tr><th></th><th scope=col>ZIPCODE</th><th scope=col>SIDO</th><th scope=col>GUGUN</th><th scope=col>DONG</th><th scope=col>RI</th><th scope=col>BUNJI</th><th scope=col>SEQ</th></tr>\n",
              "\t<tr><th></th><th scope=col>&lt;fct&gt;</th><th scope=col>&lt;fct&gt;</th><th scope=col>&lt;fct&gt;</th><th scope=col>&lt;fct&gt;</th><th scope=col>&lt;fct&gt;</th><th scope=col>&lt;fct&gt;</th><th scope=col>&lt;int&gt;</th></tr>\n",
              "</thead>\n",
              "<tbody>\n",
              "\t<tr><th scope=row>1</th><td>135-806</td><td>서울</td><td>강남구</td><td>개포1동</td><td>경남아파트   </td><td>NA         </td><td> 1</td></tr>\n",
              "\t<tr><th scope=row>2</th><td>135-807</td><td>서울</td><td>강남구</td><td>개포1동</td><td>우성3차아파트</td><td>(1∼6동)    </td><td> 2</td></tr>\n",
              "\t<tr><th scope=row>3</th><td>135-806</td><td>서울</td><td>강남구</td><td>개포1동</td><td>우성9차아파트</td><td>(901∼902동)</td><td> 3</td></tr>\n",
              "\t<tr><th scope=row>4</th><td>135-770</td><td>서울</td><td>강남구</td><td>개포1동</td><td>주공아파트   </td><td>(1∼16동)   </td><td> 4</td></tr>\n",
              "\t<tr><th scope=row>5</th><td>135-805</td><td>서울</td><td>강남구</td><td>개포1동</td><td>주공아파트   </td><td>(17∼40동)  </td><td> 5</td></tr>\n",
              "\t<tr><th scope=row>6</th><td>135-966</td><td>서울</td><td>강남구</td><td>개포1동</td><td>주공아파트   </td><td>(41∼85동)  </td><td> 6</td></tr>\n",
              "\t<tr><th scope=row>7</th><td>135-807</td><td>서울</td><td>강남구</td><td>개포1동</td><td>주공아파트   </td><td>(86∼103동) </td><td> 7</td></tr>\n",
              "\t<tr><th scope=row>8</th><td>135-805</td><td>서울</td><td>강남구</td><td>개포1동</td><td>주공아파트   </td><td>(104∼125동)</td><td> 8</td></tr>\n",
              "\t<tr><th scope=row>9</th><td>135-807</td><td>서울</td><td>강남구</td><td>개포1동</td><td>현대1차아파트</td><td>(101∼106동)</td><td> 9</td></tr>\n",
              "\t<tr><th scope=row>10</th><td>135-805</td><td>서울</td><td>강남구</td><td>개포1동</td><td>NA           </td><td>565        </td><td>10</td></tr>\n",
              "\t<tr><th scope=row>11</th><td>135-806</td><td>서울</td><td>강남구</td><td>개포1동</td><td>NA           </td><td>649∼651    </td><td>11</td></tr>\n",
              "\t<tr><th scope=row>12</th><td>135-807</td><td>서울</td><td>강남구</td><td>개포1동</td><td>NA           </td><td>652∼653    </td><td>12</td></tr>\n",
              "\t<tr><th scope=row>13</th><td>135-810</td><td>서울</td><td>강남구</td><td>개포1동</td><td>NA           </td><td>660        </td><td>13</td></tr>\n",
              "\t<tr><th scope=row>14</th><td>135-241</td><td>서울</td><td>강남구</td><td>개포1동</td><td>NA           </td><td>NA         </td><td>14</td></tr>\n",
              "\t<tr><th scope=row>15</th><td>135-800</td><td>서울</td><td>강남구</td><td>개포2동</td><td>우성8차아파트</td><td>(801∼803동)</td><td>15</td></tr>\n",
              "</tbody>\n",
              "</table>\n"
            ]
          },
          "metadata": {
            "tags": []
          }
        }
      ]
    },
    {
      "cell_type": "code",
      "metadata": {
        "id": "a8egoXSeWZZ4",
        "outputId": "b489f55e-f111-4c5d-ef0c-062462a5bc1e",
        "colab": {
          "base_uri": "https://localhost:8080/",
          "height": 375
        }
      },
      "source": [
        "# 사원(Employees) 데이터 읽어오기\n",
        "Employees <- read.csv('https://raw.githubusercontent.com/Gelassenheit17/R_Statistics/master/EMPLOYEES.csv')\n",
        "head(Employees, 15)\n"
      ],
      "execution_count": 54,
      "outputs": [
        {
          "output_type": "display_data",
          "data": {
            "text/plain": [
              "   EMPLOYEE_ID FIRST_NAME  LAST_NAME EMAIL    PHONE_NUMBER HIRE_DATE \n",
              "1  100         Steven      King      SKING    515.123.4567 2003-06-17\n",
              "2  101         Neena       Kochhar   NKOCHHAR 515.123.4568 2005-09-21\n",
              "3  102         Lex         De Haan   LDEHAAN  515.123.4569 2001-01-13\n",
              "4  103         Alexander   Hunold    AHUNOLD  590.423.4567 2006-01-03\n",
              "5  104         Bruce       Ernst     BERNST   590.423.4568 2007-05-21\n",
              "6  105         David       Austin    DAUSTIN  590.423.4569 2005-06-25\n",
              "7  106         Valli       Pataballa VPATABAL 590.423.4560 2006-02-05\n",
              "8  107         Diana       Lorentz   DLORENTZ 590.423.5567 2007-02-07\n",
              "9  108         Nancy       Greenberg NGREENBE 515.124.4569 2002-08-17\n",
              "10 109         Daniel      Faviet    DFAVIET  515.124.4169 2002-08-16\n",
              "11 110         John        Chen      JCHEN    515.124.4269 2005-09-28\n",
              "12 111         Ismael      Sciarra   ISCIARRA 515.124.4369 2005-09-30\n",
              "13 112         Jose Manuel Urman     JMURMAN  515.124.4469 2006-03-07\n",
              "14 113         Luis        Popp      LPOPP    515.124.4567 2007-12-07\n",
              "15 114         Den         Raphaely  DRAPHEAL 515.127.4561 2002-12-07\n",
              "   JOB_ID     SALARY COMMISSION_PCT MANAGER_ID DEPARTMENT_ID\n",
              "1  AD_PRES    24000  NA              NA         90          \n",
              "2  AD_VP      17000  NA             100         90          \n",
              "3  AD_VP      17000  NA             100         90          \n",
              "4  IT_PROG     9000  NA             102         60          \n",
              "5  IT_PROG     6000  NA             103         60          \n",
              "6  IT_PROG     4800  NA             103         60          \n",
              "7  IT_PROG     4800  NA             103         60          \n",
              "8  IT_PROG     4200  NA             103         60          \n",
              "9  FI_MGR     12008  NA             101        100          \n",
              "10 FI_ACCOUNT  9000  NA             108        100          \n",
              "11 FI_ACCOUNT  8200  NA             108        100          \n",
              "12 FI_ACCOUNT  7700  NA             108        100          \n",
              "13 FI_ACCOUNT  7800  NA             108        100          \n",
              "14 FI_ACCOUNT  6900  NA             108        100          \n",
              "15 PU_MAN     11000  NA             100         30          "
            ],
            "text/latex": "A data.frame: 15 × 11\n\\begin{tabular}{r|lllllllllll}\n  & EMPLOYEE\\_ID & FIRST\\_NAME & LAST\\_NAME & EMAIL & PHONE\\_NUMBER & HIRE\\_DATE & JOB\\_ID & SALARY & COMMISSION\\_PCT & MANAGER\\_ID & DEPARTMENT\\_ID\\\\\n  & <int> & <fct> & <fct> & <fct> & <fct> & <fct> & <fct> & <int> & <dbl> & <int> & <int>\\\\\n\\hline\n\t1 & 100 & Steven      & King      & SKING    & 515.123.4567 & 2003-06-17 & AD\\_PRES    & 24000 & NA &  NA &  90\\\\\n\t2 & 101 & Neena       & Kochhar   & NKOCHHAR & 515.123.4568 & 2005-09-21 & AD\\_VP      & 17000 & NA & 100 &  90\\\\\n\t3 & 102 & Lex         & De Haan   & LDEHAAN  & 515.123.4569 & 2001-01-13 & AD\\_VP      & 17000 & NA & 100 &  90\\\\\n\t4 & 103 & Alexander   & Hunold    & AHUNOLD  & 590.423.4567 & 2006-01-03 & IT\\_PROG    &  9000 & NA & 102 &  60\\\\\n\t5 & 104 & Bruce       & Ernst     & BERNST   & 590.423.4568 & 2007-05-21 & IT\\_PROG    &  6000 & NA & 103 &  60\\\\\n\t6 & 105 & David       & Austin    & DAUSTIN  & 590.423.4569 & 2005-06-25 & IT\\_PROG    &  4800 & NA & 103 &  60\\\\\n\t7 & 106 & Valli       & Pataballa & VPATABAL & 590.423.4560 & 2006-02-05 & IT\\_PROG    &  4800 & NA & 103 &  60\\\\\n\t8 & 107 & Diana       & Lorentz   & DLORENTZ & 590.423.5567 & 2007-02-07 & IT\\_PROG    &  4200 & NA & 103 &  60\\\\\n\t9 & 108 & Nancy       & Greenberg & NGREENBE & 515.124.4569 & 2002-08-17 & FI\\_MGR     & 12008 & NA & 101 & 100\\\\\n\t10 & 109 & Daniel      & Faviet    & DFAVIET  & 515.124.4169 & 2002-08-16 & FI\\_ACCOUNT &  9000 & NA & 108 & 100\\\\\n\t11 & 110 & John        & Chen      & JCHEN    & 515.124.4269 & 2005-09-28 & FI\\_ACCOUNT &  8200 & NA & 108 & 100\\\\\n\t12 & 111 & Ismael      & Sciarra   & ISCIARRA & 515.124.4369 & 2005-09-30 & FI\\_ACCOUNT &  7700 & NA & 108 & 100\\\\\n\t13 & 112 & Jose Manuel & Urman     & JMURMAN  & 515.124.4469 & 2006-03-07 & FI\\_ACCOUNT &  7800 & NA & 108 & 100\\\\\n\t14 & 113 & Luis        & Popp      & LPOPP    & 515.124.4567 & 2007-12-07 & FI\\_ACCOUNT &  6900 & NA & 108 & 100\\\\\n\t15 & 114 & Den         & Raphaely  & DRAPHEAL & 515.127.4561 & 2002-12-07 & PU\\_MAN     & 11000 & NA & 100 &  30\\\\\n\\end{tabular}\n",
            "text/markdown": "\nA data.frame: 15 × 11\n\n| <!--/--> | EMPLOYEE_ID &lt;int&gt; | FIRST_NAME &lt;fct&gt; | LAST_NAME &lt;fct&gt; | EMAIL &lt;fct&gt; | PHONE_NUMBER &lt;fct&gt; | HIRE_DATE &lt;fct&gt; | JOB_ID &lt;fct&gt; | SALARY &lt;int&gt; | COMMISSION_PCT &lt;dbl&gt; | MANAGER_ID &lt;int&gt; | DEPARTMENT_ID &lt;int&gt; |\n|---|---|---|---|---|---|---|---|---|---|---|---|\n| 1 | 100 | Steven      | King      | SKING    | 515.123.4567 | 2003-06-17 | AD_PRES    | 24000 | NA |  NA |  90 |\n| 2 | 101 | Neena       | Kochhar   | NKOCHHAR | 515.123.4568 | 2005-09-21 | AD_VP      | 17000 | NA | 100 |  90 |\n| 3 | 102 | Lex         | De Haan   | LDEHAAN  | 515.123.4569 | 2001-01-13 | AD_VP      | 17000 | NA | 100 |  90 |\n| 4 | 103 | Alexander   | Hunold    | AHUNOLD  | 590.423.4567 | 2006-01-03 | IT_PROG    |  9000 | NA | 102 |  60 |\n| 5 | 104 | Bruce       | Ernst     | BERNST   | 590.423.4568 | 2007-05-21 | IT_PROG    |  6000 | NA | 103 |  60 |\n| 6 | 105 | David       | Austin    | DAUSTIN  | 590.423.4569 | 2005-06-25 | IT_PROG    |  4800 | NA | 103 |  60 |\n| 7 | 106 | Valli       | Pataballa | VPATABAL | 590.423.4560 | 2006-02-05 | IT_PROG    |  4800 | NA | 103 |  60 |\n| 8 | 107 | Diana       | Lorentz   | DLORENTZ | 590.423.5567 | 2007-02-07 | IT_PROG    |  4200 | NA | 103 |  60 |\n| 9 | 108 | Nancy       | Greenberg | NGREENBE | 515.124.4569 | 2002-08-17 | FI_MGR     | 12008 | NA | 101 | 100 |\n| 10 | 109 | Daniel      | Faviet    | DFAVIET  | 515.124.4169 | 2002-08-16 | FI_ACCOUNT |  9000 | NA | 108 | 100 |\n| 11 | 110 | John        | Chen      | JCHEN    | 515.124.4269 | 2005-09-28 | FI_ACCOUNT |  8200 | NA | 108 | 100 |\n| 12 | 111 | Ismael      | Sciarra   | ISCIARRA | 515.124.4369 | 2005-09-30 | FI_ACCOUNT |  7700 | NA | 108 | 100 |\n| 13 | 112 | Jose Manuel | Urman     | JMURMAN  | 515.124.4469 | 2006-03-07 | FI_ACCOUNT |  7800 | NA | 108 | 100 |\n| 14 | 113 | Luis        | Popp      | LPOPP    | 515.124.4567 | 2007-12-07 | FI_ACCOUNT |  6900 | NA | 108 | 100 |\n| 15 | 114 | Den         | Raphaely  | DRAPHEAL | 515.127.4561 | 2002-12-07 | PU_MAN     | 11000 | NA | 100 |  30 |\n\n",
            "text/html": [
              "<table>\n",
              "<caption>A data.frame: 15 × 11</caption>\n",
              "<thead>\n",
              "\t<tr><th></th><th scope=col>EMPLOYEE_ID</th><th scope=col>FIRST_NAME</th><th scope=col>LAST_NAME</th><th scope=col>EMAIL</th><th scope=col>PHONE_NUMBER</th><th scope=col>HIRE_DATE</th><th scope=col>JOB_ID</th><th scope=col>SALARY</th><th scope=col>COMMISSION_PCT</th><th scope=col>MANAGER_ID</th><th scope=col>DEPARTMENT_ID</th></tr>\n",
              "\t<tr><th></th><th scope=col>&lt;int&gt;</th><th scope=col>&lt;fct&gt;</th><th scope=col>&lt;fct&gt;</th><th scope=col>&lt;fct&gt;</th><th scope=col>&lt;fct&gt;</th><th scope=col>&lt;fct&gt;</th><th scope=col>&lt;fct&gt;</th><th scope=col>&lt;int&gt;</th><th scope=col>&lt;dbl&gt;</th><th scope=col>&lt;int&gt;</th><th scope=col>&lt;int&gt;</th></tr>\n",
              "</thead>\n",
              "<tbody>\n",
              "\t<tr><th scope=row>1</th><td>100</td><td>Steven     </td><td>King     </td><td>SKING   </td><td>515.123.4567</td><td>2003-06-17</td><td>AD_PRES   </td><td>24000</td><td>NA</td><td> NA</td><td> 90</td></tr>\n",
              "\t<tr><th scope=row>2</th><td>101</td><td>Neena      </td><td>Kochhar  </td><td>NKOCHHAR</td><td>515.123.4568</td><td>2005-09-21</td><td>AD_VP     </td><td>17000</td><td>NA</td><td>100</td><td> 90</td></tr>\n",
              "\t<tr><th scope=row>3</th><td>102</td><td>Lex        </td><td>De Haan  </td><td>LDEHAAN </td><td>515.123.4569</td><td>2001-01-13</td><td>AD_VP     </td><td>17000</td><td>NA</td><td>100</td><td> 90</td></tr>\n",
              "\t<tr><th scope=row>4</th><td>103</td><td>Alexander  </td><td>Hunold   </td><td>AHUNOLD </td><td>590.423.4567</td><td>2006-01-03</td><td>IT_PROG   </td><td> 9000</td><td>NA</td><td>102</td><td> 60</td></tr>\n",
              "\t<tr><th scope=row>5</th><td>104</td><td>Bruce      </td><td>Ernst    </td><td>BERNST  </td><td>590.423.4568</td><td>2007-05-21</td><td>IT_PROG   </td><td> 6000</td><td>NA</td><td>103</td><td> 60</td></tr>\n",
              "\t<tr><th scope=row>6</th><td>105</td><td>David      </td><td>Austin   </td><td>DAUSTIN </td><td>590.423.4569</td><td>2005-06-25</td><td>IT_PROG   </td><td> 4800</td><td>NA</td><td>103</td><td> 60</td></tr>\n",
              "\t<tr><th scope=row>7</th><td>106</td><td>Valli      </td><td>Pataballa</td><td>VPATABAL</td><td>590.423.4560</td><td>2006-02-05</td><td>IT_PROG   </td><td> 4800</td><td>NA</td><td>103</td><td> 60</td></tr>\n",
              "\t<tr><th scope=row>8</th><td>107</td><td>Diana      </td><td>Lorentz  </td><td>DLORENTZ</td><td>590.423.5567</td><td>2007-02-07</td><td>IT_PROG   </td><td> 4200</td><td>NA</td><td>103</td><td> 60</td></tr>\n",
              "\t<tr><th scope=row>9</th><td>108</td><td>Nancy      </td><td>Greenberg</td><td>NGREENBE</td><td>515.124.4569</td><td>2002-08-17</td><td>FI_MGR    </td><td>12008</td><td>NA</td><td>101</td><td>100</td></tr>\n",
              "\t<tr><th scope=row>10</th><td>109</td><td>Daniel     </td><td>Faviet   </td><td>DFAVIET </td><td>515.124.4169</td><td>2002-08-16</td><td>FI_ACCOUNT</td><td> 9000</td><td>NA</td><td>108</td><td>100</td></tr>\n",
              "\t<tr><th scope=row>11</th><td>110</td><td>John       </td><td>Chen     </td><td>JCHEN   </td><td>515.124.4269</td><td>2005-09-28</td><td>FI_ACCOUNT</td><td> 8200</td><td>NA</td><td>108</td><td>100</td></tr>\n",
              "\t<tr><th scope=row>12</th><td>111</td><td>Ismael     </td><td>Sciarra  </td><td>ISCIARRA</td><td>515.124.4369</td><td>2005-09-30</td><td>FI_ACCOUNT</td><td> 7700</td><td>NA</td><td>108</td><td>100</td></tr>\n",
              "\t<tr><th scope=row>13</th><td>112</td><td>Jose Manuel</td><td>Urman    </td><td>JMURMAN </td><td>515.124.4469</td><td>2006-03-07</td><td>FI_ACCOUNT</td><td> 7800</td><td>NA</td><td>108</td><td>100</td></tr>\n",
              "\t<tr><th scope=row>14</th><td>113</td><td>Luis       </td><td>Popp     </td><td>LPOPP   </td><td>515.124.4567</td><td>2007-12-07</td><td>FI_ACCOUNT</td><td> 6900</td><td>NA</td><td>108</td><td>100</td></tr>\n",
              "\t<tr><th scope=row>15</th><td>114</td><td>Den        </td><td>Raphaely </td><td>DRAPHEAL</td><td>515.127.4561</td><td>2002-12-07</td><td>PU_MAN    </td><td>11000</td><td>NA</td><td>100</td><td> 30</td></tr>\n",
              "</tbody>\n",
              "</table>\n"
            ]
          },
          "metadata": {
            "tags": []
          }
        }
      ]
    },
    {
      "cell_type": "code",
      "metadata": {
        "id": "2ZmXC4hVYavA",
        "outputId": "faa58778-6d7c-4950-a86e-9cc0bd707449",
        "colab": {
          "base_uri": "https://localhost:8080/",
          "height": 375
        }
      },
      "source": [
        "Employees$COMMISSION_PCT[is.na(Employees$COMMISSION_PCT)] <- 0\n",
        "head(Employees, 15)"
      ],
      "execution_count": 57,
      "outputs": [
        {
          "output_type": "display_data",
          "data": {
            "text/plain": [
              "   EMPLOYEE_ID FIRST_NAME  LAST_NAME EMAIL    PHONE_NUMBER HIRE_DATE \n",
              "1  100         Steven      King      SKING    515.123.4567 2003-06-17\n",
              "2  101         Neena       Kochhar   NKOCHHAR 515.123.4568 2005-09-21\n",
              "3  102         Lex         De Haan   LDEHAAN  515.123.4569 2001-01-13\n",
              "4  103         Alexander   Hunold    AHUNOLD  590.423.4567 2006-01-03\n",
              "5  104         Bruce       Ernst     BERNST   590.423.4568 2007-05-21\n",
              "6  105         David       Austin    DAUSTIN  590.423.4569 2005-06-25\n",
              "7  106         Valli       Pataballa VPATABAL 590.423.4560 2006-02-05\n",
              "8  107         Diana       Lorentz   DLORENTZ 590.423.5567 2007-02-07\n",
              "9  108         Nancy       Greenberg NGREENBE 515.124.4569 2002-08-17\n",
              "10 109         Daniel      Faviet    DFAVIET  515.124.4169 2002-08-16\n",
              "11 110         John        Chen      JCHEN    515.124.4269 2005-09-28\n",
              "12 111         Ismael      Sciarra   ISCIARRA 515.124.4369 2005-09-30\n",
              "13 112         Jose Manuel Urman     JMURMAN  515.124.4469 2006-03-07\n",
              "14 113         Luis        Popp      LPOPP    515.124.4567 2007-12-07\n",
              "15 114         Den         Raphaely  DRAPHEAL 515.127.4561 2002-12-07\n",
              "   JOB_ID     SALARY COMMISSION_PCT MANAGER_ID DEPARTMENT_ID\n",
              "1  AD_PRES    24000  0               NA         90          \n",
              "2  AD_VP      17000  0              100         90          \n",
              "3  AD_VP      17000  0              100         90          \n",
              "4  IT_PROG     9000  0              102         60          \n",
              "5  IT_PROG     6000  0              103         60          \n",
              "6  IT_PROG     4800  0              103         60          \n",
              "7  IT_PROG     4800  0              103         60          \n",
              "8  IT_PROG     4200  0              103         60          \n",
              "9  FI_MGR     12008  0              101        100          \n",
              "10 FI_ACCOUNT  9000  0              108        100          \n",
              "11 FI_ACCOUNT  8200  0              108        100          \n",
              "12 FI_ACCOUNT  7700  0              108        100          \n",
              "13 FI_ACCOUNT  7800  0              108        100          \n",
              "14 FI_ACCOUNT  6900  0              108        100          \n",
              "15 PU_MAN     11000  0              100         30          "
            ],
            "text/latex": "A data.frame: 15 × 11\n\\begin{tabular}{r|lllllllllll}\n  & EMPLOYEE\\_ID & FIRST\\_NAME & LAST\\_NAME & EMAIL & PHONE\\_NUMBER & HIRE\\_DATE & JOB\\_ID & SALARY & COMMISSION\\_PCT & MANAGER\\_ID & DEPARTMENT\\_ID\\\\\n  & <int> & <fct> & <fct> & <fct> & <fct> & <fct> & <fct> & <int> & <dbl> & <int> & <int>\\\\\n\\hline\n\t1 & 100 & Steven      & King      & SKING    & 515.123.4567 & 2003-06-17 & AD\\_PRES    & 24000 & 0 &  NA &  90\\\\\n\t2 & 101 & Neena       & Kochhar   & NKOCHHAR & 515.123.4568 & 2005-09-21 & AD\\_VP      & 17000 & 0 & 100 &  90\\\\\n\t3 & 102 & Lex         & De Haan   & LDEHAAN  & 515.123.4569 & 2001-01-13 & AD\\_VP      & 17000 & 0 & 100 &  90\\\\\n\t4 & 103 & Alexander   & Hunold    & AHUNOLD  & 590.423.4567 & 2006-01-03 & IT\\_PROG    &  9000 & 0 & 102 &  60\\\\\n\t5 & 104 & Bruce       & Ernst     & BERNST   & 590.423.4568 & 2007-05-21 & IT\\_PROG    &  6000 & 0 & 103 &  60\\\\\n\t6 & 105 & David       & Austin    & DAUSTIN  & 590.423.4569 & 2005-06-25 & IT\\_PROG    &  4800 & 0 & 103 &  60\\\\\n\t7 & 106 & Valli       & Pataballa & VPATABAL & 590.423.4560 & 2006-02-05 & IT\\_PROG    &  4800 & 0 & 103 &  60\\\\\n\t8 & 107 & Diana       & Lorentz   & DLORENTZ & 590.423.5567 & 2007-02-07 & IT\\_PROG    &  4200 & 0 & 103 &  60\\\\\n\t9 & 108 & Nancy       & Greenberg & NGREENBE & 515.124.4569 & 2002-08-17 & FI\\_MGR     & 12008 & 0 & 101 & 100\\\\\n\t10 & 109 & Daniel      & Faviet    & DFAVIET  & 515.124.4169 & 2002-08-16 & FI\\_ACCOUNT &  9000 & 0 & 108 & 100\\\\\n\t11 & 110 & John        & Chen      & JCHEN    & 515.124.4269 & 2005-09-28 & FI\\_ACCOUNT &  8200 & 0 & 108 & 100\\\\\n\t12 & 111 & Ismael      & Sciarra   & ISCIARRA & 515.124.4369 & 2005-09-30 & FI\\_ACCOUNT &  7700 & 0 & 108 & 100\\\\\n\t13 & 112 & Jose Manuel & Urman     & JMURMAN  & 515.124.4469 & 2006-03-07 & FI\\_ACCOUNT &  7800 & 0 & 108 & 100\\\\\n\t14 & 113 & Luis        & Popp      & LPOPP    & 515.124.4567 & 2007-12-07 & FI\\_ACCOUNT &  6900 & 0 & 108 & 100\\\\\n\t15 & 114 & Den         & Raphaely  & DRAPHEAL & 515.127.4561 & 2002-12-07 & PU\\_MAN     & 11000 & 0 & 100 &  30\\\\\n\\end{tabular}\n",
            "text/markdown": "\nA data.frame: 15 × 11\n\n| <!--/--> | EMPLOYEE_ID &lt;int&gt; | FIRST_NAME &lt;fct&gt; | LAST_NAME &lt;fct&gt; | EMAIL &lt;fct&gt; | PHONE_NUMBER &lt;fct&gt; | HIRE_DATE &lt;fct&gt; | JOB_ID &lt;fct&gt; | SALARY &lt;int&gt; | COMMISSION_PCT &lt;dbl&gt; | MANAGER_ID &lt;int&gt; | DEPARTMENT_ID &lt;int&gt; |\n|---|---|---|---|---|---|---|---|---|---|---|---|\n| 1 | 100 | Steven      | King      | SKING    | 515.123.4567 | 2003-06-17 | AD_PRES    | 24000 | 0 |  NA |  90 |\n| 2 | 101 | Neena       | Kochhar   | NKOCHHAR | 515.123.4568 | 2005-09-21 | AD_VP      | 17000 | 0 | 100 |  90 |\n| 3 | 102 | Lex         | De Haan   | LDEHAAN  | 515.123.4569 | 2001-01-13 | AD_VP      | 17000 | 0 | 100 |  90 |\n| 4 | 103 | Alexander   | Hunold    | AHUNOLD  | 590.423.4567 | 2006-01-03 | IT_PROG    |  9000 | 0 | 102 |  60 |\n| 5 | 104 | Bruce       | Ernst     | BERNST   | 590.423.4568 | 2007-05-21 | IT_PROG    |  6000 | 0 | 103 |  60 |\n| 6 | 105 | David       | Austin    | DAUSTIN  | 590.423.4569 | 2005-06-25 | IT_PROG    |  4800 | 0 | 103 |  60 |\n| 7 | 106 | Valli       | Pataballa | VPATABAL | 590.423.4560 | 2006-02-05 | IT_PROG    |  4800 | 0 | 103 |  60 |\n| 8 | 107 | Diana       | Lorentz   | DLORENTZ | 590.423.5567 | 2007-02-07 | IT_PROG    |  4200 | 0 | 103 |  60 |\n| 9 | 108 | Nancy       | Greenberg | NGREENBE | 515.124.4569 | 2002-08-17 | FI_MGR     | 12008 | 0 | 101 | 100 |\n| 10 | 109 | Daniel      | Faviet    | DFAVIET  | 515.124.4169 | 2002-08-16 | FI_ACCOUNT |  9000 | 0 | 108 | 100 |\n| 11 | 110 | John        | Chen      | JCHEN    | 515.124.4269 | 2005-09-28 | FI_ACCOUNT |  8200 | 0 | 108 | 100 |\n| 12 | 111 | Ismael      | Sciarra   | ISCIARRA | 515.124.4369 | 2005-09-30 | FI_ACCOUNT |  7700 | 0 | 108 | 100 |\n| 13 | 112 | Jose Manuel | Urman     | JMURMAN  | 515.124.4469 | 2006-03-07 | FI_ACCOUNT |  7800 | 0 | 108 | 100 |\n| 14 | 113 | Luis        | Popp      | LPOPP    | 515.124.4567 | 2007-12-07 | FI_ACCOUNT |  6900 | 0 | 108 | 100 |\n| 15 | 114 | Den         | Raphaely  | DRAPHEAL | 515.127.4561 | 2002-12-07 | PU_MAN     | 11000 | 0 | 100 |  30 |\n\n",
            "text/html": [
              "<table>\n",
              "<caption>A data.frame: 15 × 11</caption>\n",
              "<thead>\n",
              "\t<tr><th></th><th scope=col>EMPLOYEE_ID</th><th scope=col>FIRST_NAME</th><th scope=col>LAST_NAME</th><th scope=col>EMAIL</th><th scope=col>PHONE_NUMBER</th><th scope=col>HIRE_DATE</th><th scope=col>JOB_ID</th><th scope=col>SALARY</th><th scope=col>COMMISSION_PCT</th><th scope=col>MANAGER_ID</th><th scope=col>DEPARTMENT_ID</th></tr>\n",
              "\t<tr><th></th><th scope=col>&lt;int&gt;</th><th scope=col>&lt;fct&gt;</th><th scope=col>&lt;fct&gt;</th><th scope=col>&lt;fct&gt;</th><th scope=col>&lt;fct&gt;</th><th scope=col>&lt;fct&gt;</th><th scope=col>&lt;fct&gt;</th><th scope=col>&lt;int&gt;</th><th scope=col>&lt;dbl&gt;</th><th scope=col>&lt;int&gt;</th><th scope=col>&lt;int&gt;</th></tr>\n",
              "</thead>\n",
              "<tbody>\n",
              "\t<tr><th scope=row>1</th><td>100</td><td>Steven     </td><td>King     </td><td>SKING   </td><td>515.123.4567</td><td>2003-06-17</td><td>AD_PRES   </td><td>24000</td><td>0</td><td> NA</td><td> 90</td></tr>\n",
              "\t<tr><th scope=row>2</th><td>101</td><td>Neena      </td><td>Kochhar  </td><td>NKOCHHAR</td><td>515.123.4568</td><td>2005-09-21</td><td>AD_VP     </td><td>17000</td><td>0</td><td>100</td><td> 90</td></tr>\n",
              "\t<tr><th scope=row>3</th><td>102</td><td>Lex        </td><td>De Haan  </td><td>LDEHAAN </td><td>515.123.4569</td><td>2001-01-13</td><td>AD_VP     </td><td>17000</td><td>0</td><td>100</td><td> 90</td></tr>\n",
              "\t<tr><th scope=row>4</th><td>103</td><td>Alexander  </td><td>Hunold   </td><td>AHUNOLD </td><td>590.423.4567</td><td>2006-01-03</td><td>IT_PROG   </td><td> 9000</td><td>0</td><td>102</td><td> 60</td></tr>\n",
              "\t<tr><th scope=row>5</th><td>104</td><td>Bruce      </td><td>Ernst    </td><td>BERNST  </td><td>590.423.4568</td><td>2007-05-21</td><td>IT_PROG   </td><td> 6000</td><td>0</td><td>103</td><td> 60</td></tr>\n",
              "\t<tr><th scope=row>6</th><td>105</td><td>David      </td><td>Austin   </td><td>DAUSTIN </td><td>590.423.4569</td><td>2005-06-25</td><td>IT_PROG   </td><td> 4800</td><td>0</td><td>103</td><td> 60</td></tr>\n",
              "\t<tr><th scope=row>7</th><td>106</td><td>Valli      </td><td>Pataballa</td><td>VPATABAL</td><td>590.423.4560</td><td>2006-02-05</td><td>IT_PROG   </td><td> 4800</td><td>0</td><td>103</td><td> 60</td></tr>\n",
              "\t<tr><th scope=row>8</th><td>107</td><td>Diana      </td><td>Lorentz  </td><td>DLORENTZ</td><td>590.423.5567</td><td>2007-02-07</td><td>IT_PROG   </td><td> 4200</td><td>0</td><td>103</td><td> 60</td></tr>\n",
              "\t<tr><th scope=row>9</th><td>108</td><td>Nancy      </td><td>Greenberg</td><td>NGREENBE</td><td>515.124.4569</td><td>2002-08-17</td><td>FI_MGR    </td><td>12008</td><td>0</td><td>101</td><td>100</td></tr>\n",
              "\t<tr><th scope=row>10</th><td>109</td><td>Daniel     </td><td>Faviet   </td><td>DFAVIET </td><td>515.124.4169</td><td>2002-08-16</td><td>FI_ACCOUNT</td><td> 9000</td><td>0</td><td>108</td><td>100</td></tr>\n",
              "\t<tr><th scope=row>11</th><td>110</td><td>John       </td><td>Chen     </td><td>JCHEN   </td><td>515.124.4269</td><td>2005-09-28</td><td>FI_ACCOUNT</td><td> 8200</td><td>0</td><td>108</td><td>100</td></tr>\n",
              "\t<tr><th scope=row>12</th><td>111</td><td>Ismael     </td><td>Sciarra  </td><td>ISCIARRA</td><td>515.124.4369</td><td>2005-09-30</td><td>FI_ACCOUNT</td><td> 7700</td><td>0</td><td>108</td><td>100</td></tr>\n",
              "\t<tr><th scope=row>13</th><td>112</td><td>Jose Manuel</td><td>Urman    </td><td>JMURMAN </td><td>515.124.4469</td><td>2006-03-07</td><td>FI_ACCOUNT</td><td> 7800</td><td>0</td><td>108</td><td>100</td></tr>\n",
              "\t<tr><th scope=row>14</th><td>113</td><td>Luis       </td><td>Popp     </td><td>LPOPP   </td><td>515.124.4567</td><td>2007-12-07</td><td>FI_ACCOUNT</td><td> 6900</td><td>0</td><td>108</td><td>100</td></tr>\n",
              "\t<tr><th scope=row>15</th><td>114</td><td>Den        </td><td>Raphaely </td><td>DRAPHEAL</td><td>515.127.4561</td><td>2002-12-07</td><td>PU_MAN    </td><td>11000</td><td>0</td><td>100</td><td> 30</td></tr>\n",
              "</tbody>\n",
              "</table>\n"
            ]
          },
          "metadata": {
            "tags": []
          }
        }
      ]
    },
    {
      "cell_type": "code",
      "metadata": {
        "id": "isoqYVWvZPV_",
        "outputId": "642a4c8f-6eee-4981-bff9-1bc851731532",
        "colab": {
          "base_uri": "https://localhost:8080/",
          "height": 50
        }
      },
      "source": [
        "colSums(is.na(Employees))"
      ],
      "execution_count": 59,
      "outputs": [
        {
          "output_type": "display_data",
          "data": {
            "text/plain": [
              "   EMPLOYEE_ID     FIRST_NAME      LAST_NAME          EMAIL   PHONE_NUMBER \n",
              "             0              0              0              0              0 \n",
              "     HIRE_DATE         JOB_ID         SALARY COMMISSION_PCT     MANAGER_ID \n",
              "             0              0              0              0              1 \n",
              " DEPARTMENT_ID \n",
              "             1 "
            ],
            "text/latex": "\\begin{description*}\n\\item[EMPLOYEE\\textbackslash{}\\_ID] 0\n\\item[FIRST\\textbackslash{}\\_NAME] 0\n\\item[LAST\\textbackslash{}\\_NAME] 0\n\\item[EMAIL] 0\n\\item[PHONE\\textbackslash{}\\_NUMBER] 0\n\\item[HIRE\\textbackslash{}\\_DATE] 0\n\\item[JOB\\textbackslash{}\\_ID] 0\n\\item[SALARY] 0\n\\item[COMMISSION\\textbackslash{}\\_PCT] 0\n\\item[MANAGER\\textbackslash{}\\_ID] 1\n\\item[DEPARTMENT\\textbackslash{}\\_ID] 1\n\\end{description*}\n",
            "text/markdown": "EMPLOYEE_ID\n:   0FIRST_NAME\n:   0LAST_NAME\n:   0EMAIL\n:   0PHONE_NUMBER\n:   0HIRE_DATE\n:   0JOB_ID\n:   0SALARY\n:   0COMMISSION_PCT\n:   0MANAGER_ID\n:   1DEPARTMENT_ID\n:   1\n\n",
            "text/html": [
              "<style>\n",
              ".dl-inline {width: auto; margin:0; padding: 0}\n",
              ".dl-inline>dt, .dl-inline>dd {float: none; width: auto; display: inline-block}\n",
              ".dl-inline>dt::after {content: \":\\0020\"; padding-right: .5ex}\n",
              ".dl-inline>dt:not(:first-of-type) {padding-left: .5ex}\n",
              "</style><dl class=dl-inline><dt>EMPLOYEE_ID</dt><dd>0</dd><dt>FIRST_NAME</dt><dd>0</dd><dt>LAST_NAME</dt><dd>0</dd><dt>EMAIL</dt><dd>0</dd><dt>PHONE_NUMBER</dt><dd>0</dd><dt>HIRE_DATE</dt><dd>0</dd><dt>JOB_ID</dt><dd>0</dd><dt>SALARY</dt><dd>0</dd><dt>COMMISSION_PCT</dt><dd>0</dd><dt>MANAGER_ID</dt><dd>1</dd><dt>DEPARTMENT_ID</dt><dd>1</dd></dl>\n"
            ]
          },
          "metadata": {
            "tags": []
          }
        }
      ]
    },
    {
      "cell_type": "code",
      "metadata": {
        "id": "wDWb9rDoZwNI",
        "outputId": "1f2d2ad9-1fbb-4a3e-e62c-20cf95fd8983",
        "colab": {
          "base_uri": "https://localhost:8080/",
          "height": 295
        }
      },
      "source": [
        "tail(Employees, 10)"
      ],
      "execution_count": 60,
      "outputs": [
        {
          "output_type": "display_data",
          "data": {
            "text/plain": [
              "    EMPLOYEE_ID FIRST_NAME LAST_NAME EMAIL    PHONE_NUMBER HIRE_DATE \n",
              "98  197         Kevin      Feeney    KFEENEY  650.507.9822 2006-05-23\n",
              "99  198         Donald     OConnell  DOCONNEL 650.507.9833 2007-06-21\n",
              "100 199         Douglas    Grant     DGRANT   650.507.9844 2008-01-13\n",
              "101 200         Jennifer   Whalen    JWHALEN  515.123.4444 2003-09-17\n",
              "102 201         Michael    Hartstein MHARTSTE 515.123.5555 2004-02-17\n",
              "103 202         Pat        Fay       PFAY     603.123.6666 2005-08-17\n",
              "104 203         Susan      Mavris    SMAVRIS  515.123.7777 2002-06-07\n",
              "105 204         Hermann    Baer      HBAER    515.123.8888 2002-06-07\n",
              "106 205         Shelley    Higgins   SHIGGINS 515.123.8080 2002-06-07\n",
              "107 206         William    Gietz     WGIETZ   515.123.8181 2002-06-07\n",
              "    JOB_ID     SALARY COMMISSION_PCT MANAGER_ID DEPARTMENT_ID\n",
              "98  SH_CLERK    3000  0              124         50          \n",
              "99  SH_CLERK    2600  0              124         50          \n",
              "100 SH_CLERK    2600  0              124         50          \n",
              "101 AD_ASST     4400  0              101         10          \n",
              "102 MK_MAN     13000  0              100         20          \n",
              "103 MK_REP      6000  0              201         20          \n",
              "104 HR_REP      6500  0              101         40          \n",
              "105 PR_REP     10000  0              101         70          \n",
              "106 AC_MGR     12008  0              101        110          \n",
              "107 AC_ACCOUNT  8300  0              205        110          "
            ],
            "text/latex": "A data.frame: 10 × 11\n\\begin{tabular}{r|lllllllllll}\n  & EMPLOYEE\\_ID & FIRST\\_NAME & LAST\\_NAME & EMAIL & PHONE\\_NUMBER & HIRE\\_DATE & JOB\\_ID & SALARY & COMMISSION\\_PCT & MANAGER\\_ID & DEPARTMENT\\_ID\\\\\n  & <int> & <fct> & <fct> & <fct> & <fct> & <fct> & <fct> & <int> & <dbl> & <int> & <int>\\\\\n\\hline\n\t98 & 197 & Kevin    & Feeney    & KFEENEY  & 650.507.9822 & 2006-05-23 & SH\\_CLERK   &  3000 & 0 & 124 &  50\\\\\n\t99 & 198 & Donald   & OConnell  & DOCONNEL & 650.507.9833 & 2007-06-21 & SH\\_CLERK   &  2600 & 0 & 124 &  50\\\\\n\t100 & 199 & Douglas  & Grant     & DGRANT   & 650.507.9844 & 2008-01-13 & SH\\_CLERK   &  2600 & 0 & 124 &  50\\\\\n\t101 & 200 & Jennifer & Whalen    & JWHALEN  & 515.123.4444 & 2003-09-17 & AD\\_ASST    &  4400 & 0 & 101 &  10\\\\\n\t102 & 201 & Michael  & Hartstein & MHARTSTE & 515.123.5555 & 2004-02-17 & MK\\_MAN     & 13000 & 0 & 100 &  20\\\\\n\t103 & 202 & Pat      & Fay       & PFAY     & 603.123.6666 & 2005-08-17 & MK\\_REP     &  6000 & 0 & 201 &  20\\\\\n\t104 & 203 & Susan    & Mavris    & SMAVRIS  & 515.123.7777 & 2002-06-07 & HR\\_REP     &  6500 & 0 & 101 &  40\\\\\n\t105 & 204 & Hermann  & Baer      & HBAER    & 515.123.8888 & 2002-06-07 & PR\\_REP     & 10000 & 0 & 101 &  70\\\\\n\t106 & 205 & Shelley  & Higgins   & SHIGGINS & 515.123.8080 & 2002-06-07 & AC\\_MGR     & 12008 & 0 & 101 & 110\\\\\n\t107 & 206 & William  & Gietz     & WGIETZ   & 515.123.8181 & 2002-06-07 & AC\\_ACCOUNT &  8300 & 0 & 205 & 110\\\\\n\\end{tabular}\n",
            "text/markdown": "\nA data.frame: 10 × 11\n\n| <!--/--> | EMPLOYEE_ID &lt;int&gt; | FIRST_NAME &lt;fct&gt; | LAST_NAME &lt;fct&gt; | EMAIL &lt;fct&gt; | PHONE_NUMBER &lt;fct&gt; | HIRE_DATE &lt;fct&gt; | JOB_ID &lt;fct&gt; | SALARY &lt;int&gt; | COMMISSION_PCT &lt;dbl&gt; | MANAGER_ID &lt;int&gt; | DEPARTMENT_ID &lt;int&gt; |\n|---|---|---|---|---|---|---|---|---|---|---|---|\n| 98 | 197 | Kevin    | Feeney    | KFEENEY  | 650.507.9822 | 2006-05-23 | SH_CLERK   |  3000 | 0 | 124 |  50 |\n| 99 | 198 | Donald   | OConnell  | DOCONNEL | 650.507.9833 | 2007-06-21 | SH_CLERK   |  2600 | 0 | 124 |  50 |\n| 100 | 199 | Douglas  | Grant     | DGRANT   | 650.507.9844 | 2008-01-13 | SH_CLERK   |  2600 | 0 | 124 |  50 |\n| 101 | 200 | Jennifer | Whalen    | JWHALEN  | 515.123.4444 | 2003-09-17 | AD_ASST    |  4400 | 0 | 101 |  10 |\n| 102 | 201 | Michael  | Hartstein | MHARTSTE | 515.123.5555 | 2004-02-17 | MK_MAN     | 13000 | 0 | 100 |  20 |\n| 103 | 202 | Pat      | Fay       | PFAY     | 603.123.6666 | 2005-08-17 | MK_REP     |  6000 | 0 | 201 |  20 |\n| 104 | 203 | Susan    | Mavris    | SMAVRIS  | 515.123.7777 | 2002-06-07 | HR_REP     |  6500 | 0 | 101 |  40 |\n| 105 | 204 | Hermann  | Baer      | HBAER    | 515.123.8888 | 2002-06-07 | PR_REP     | 10000 | 0 | 101 |  70 |\n| 106 | 205 | Shelley  | Higgins   | SHIGGINS | 515.123.8080 | 2002-06-07 | AC_MGR     | 12008 | 0 | 101 | 110 |\n| 107 | 206 | William  | Gietz     | WGIETZ   | 515.123.8181 | 2002-06-07 | AC_ACCOUNT |  8300 | 0 | 205 | 110 |\n\n",
            "text/html": [
              "<table>\n",
              "<caption>A data.frame: 10 × 11</caption>\n",
              "<thead>\n",
              "\t<tr><th></th><th scope=col>EMPLOYEE_ID</th><th scope=col>FIRST_NAME</th><th scope=col>LAST_NAME</th><th scope=col>EMAIL</th><th scope=col>PHONE_NUMBER</th><th scope=col>HIRE_DATE</th><th scope=col>JOB_ID</th><th scope=col>SALARY</th><th scope=col>COMMISSION_PCT</th><th scope=col>MANAGER_ID</th><th scope=col>DEPARTMENT_ID</th></tr>\n",
              "\t<tr><th></th><th scope=col>&lt;int&gt;</th><th scope=col>&lt;fct&gt;</th><th scope=col>&lt;fct&gt;</th><th scope=col>&lt;fct&gt;</th><th scope=col>&lt;fct&gt;</th><th scope=col>&lt;fct&gt;</th><th scope=col>&lt;fct&gt;</th><th scope=col>&lt;int&gt;</th><th scope=col>&lt;dbl&gt;</th><th scope=col>&lt;int&gt;</th><th scope=col>&lt;int&gt;</th></tr>\n",
              "</thead>\n",
              "<tbody>\n",
              "\t<tr><th scope=row>98</th><td>197</td><td>Kevin   </td><td>Feeney   </td><td>KFEENEY </td><td>650.507.9822</td><td>2006-05-23</td><td>SH_CLERK  </td><td> 3000</td><td>0</td><td>124</td><td> 50</td></tr>\n",
              "\t<tr><th scope=row>99</th><td>198</td><td>Donald  </td><td>OConnell </td><td>DOCONNEL</td><td>650.507.9833</td><td>2007-06-21</td><td>SH_CLERK  </td><td> 2600</td><td>0</td><td>124</td><td> 50</td></tr>\n",
              "\t<tr><th scope=row>100</th><td>199</td><td>Douglas </td><td>Grant    </td><td>DGRANT  </td><td>650.507.9844</td><td>2008-01-13</td><td>SH_CLERK  </td><td> 2600</td><td>0</td><td>124</td><td> 50</td></tr>\n",
              "\t<tr><th scope=row>101</th><td>200</td><td>Jennifer</td><td>Whalen   </td><td>JWHALEN </td><td>515.123.4444</td><td>2003-09-17</td><td>AD_ASST   </td><td> 4400</td><td>0</td><td>101</td><td> 10</td></tr>\n",
              "\t<tr><th scope=row>102</th><td>201</td><td>Michael </td><td>Hartstein</td><td>MHARTSTE</td><td>515.123.5555</td><td>2004-02-17</td><td>MK_MAN    </td><td>13000</td><td>0</td><td>100</td><td> 20</td></tr>\n",
              "\t<tr><th scope=row>103</th><td>202</td><td>Pat     </td><td>Fay      </td><td>PFAY    </td><td>603.123.6666</td><td>2005-08-17</td><td>MK_REP    </td><td> 6000</td><td>0</td><td>201</td><td> 20</td></tr>\n",
              "\t<tr><th scope=row>104</th><td>203</td><td>Susan   </td><td>Mavris   </td><td>SMAVRIS </td><td>515.123.7777</td><td>2002-06-07</td><td>HR_REP    </td><td> 6500</td><td>0</td><td>101</td><td> 40</td></tr>\n",
              "\t<tr><th scope=row>105</th><td>204</td><td>Hermann </td><td>Baer     </td><td>HBAER   </td><td>515.123.8888</td><td>2002-06-07</td><td>PR_REP    </td><td>10000</td><td>0</td><td>101</td><td> 70</td></tr>\n",
              "\t<tr><th scope=row>106</th><td>205</td><td>Shelley </td><td>Higgins  </td><td>SHIGGINS</td><td>515.123.8080</td><td>2002-06-07</td><td>AC_MGR    </td><td>12008</td><td>0</td><td>101</td><td>110</td></tr>\n",
              "\t<tr><th scope=row>107</th><td>206</td><td>William </td><td>Gietz    </td><td>WGIETZ  </td><td>515.123.8181</td><td>2002-06-07</td><td>AC_ACCOUNT</td><td> 8300</td><td>0</td><td>205</td><td>110</td></tr>\n",
              "</tbody>\n",
              "</table>\n"
            ]
          },
          "metadata": {
            "tags": []
          }
        }
      ]
    },
    {
      "cell_type": "code",
      "metadata": {
        "id": "pNhtGq-8Z9m9",
        "outputId": "3a7e2dc5-7ac4-40d3-ee97-f249c267d171",
        "colab": {
          "base_uri": "https://localhost:8080/",
          "height": 275
        }
      },
      "source": [
        "# 수당이 없는 사원을 대상으로 NA를 0으로 변경\n",
        "cnd <- is.na(Employees$COMMISSION_PCT)\n",
        "Employees$COMMISSION_PCT[cnd] <- 0\n",
        "head(Employees, 10)"
      ],
      "execution_count": 63,
      "outputs": [
        {
          "output_type": "display_data",
          "data": {
            "text/plain": [
              "   EMPLOYEE_ID FIRST_NAME LAST_NAME EMAIL    PHONE_NUMBER HIRE_DATE  JOB_ID    \n",
              "1  100         Steven     King      SKING    515.123.4567 2003-06-17 AD_PRES   \n",
              "2  101         Neena      Kochhar   NKOCHHAR 515.123.4568 2005-09-21 AD_VP     \n",
              "3  102         Lex        De Haan   LDEHAAN  515.123.4569 2001-01-13 AD_VP     \n",
              "4  103         Alexander  Hunold    AHUNOLD  590.423.4567 2006-01-03 IT_PROG   \n",
              "5  104         Bruce      Ernst     BERNST   590.423.4568 2007-05-21 IT_PROG   \n",
              "6  105         David      Austin    DAUSTIN  590.423.4569 2005-06-25 IT_PROG   \n",
              "7  106         Valli      Pataballa VPATABAL 590.423.4560 2006-02-05 IT_PROG   \n",
              "8  107         Diana      Lorentz   DLORENTZ 590.423.5567 2007-02-07 IT_PROG   \n",
              "9  108         Nancy      Greenberg NGREENBE 515.124.4569 2002-08-17 FI_MGR    \n",
              "10 109         Daniel     Faviet    DFAVIET  515.124.4169 2002-08-16 FI_ACCOUNT\n",
              "   SALARY COMMISSION_PCT MANAGER_ID DEPARTMENT_ID\n",
              "1  24000  0               NA         90          \n",
              "2  17000  0              100         90          \n",
              "3  17000  0              100         90          \n",
              "4   9000  0              102         60          \n",
              "5   6000  0              103         60          \n",
              "6   4800  0              103         60          \n",
              "7   4800  0              103         60          \n",
              "8   4200  0              103         60          \n",
              "9  12008  0              101        100          \n",
              "10  9000  0              108        100          "
            ],
            "text/latex": "A data.frame: 10 × 11\n\\begin{tabular}{r|lllllllllll}\n  & EMPLOYEE\\_ID & FIRST\\_NAME & LAST\\_NAME & EMAIL & PHONE\\_NUMBER & HIRE\\_DATE & JOB\\_ID & SALARY & COMMISSION\\_PCT & MANAGER\\_ID & DEPARTMENT\\_ID\\\\\n  & <int> & <fct> & <fct> & <fct> & <fct> & <fct> & <fct> & <int> & <dbl> & <int> & <int>\\\\\n\\hline\n\t1 & 100 & Steven    & King      & SKING    & 515.123.4567 & 2003-06-17 & AD\\_PRES    & 24000 & 0 &  NA &  90\\\\\n\t2 & 101 & Neena     & Kochhar   & NKOCHHAR & 515.123.4568 & 2005-09-21 & AD\\_VP      & 17000 & 0 & 100 &  90\\\\\n\t3 & 102 & Lex       & De Haan   & LDEHAAN  & 515.123.4569 & 2001-01-13 & AD\\_VP      & 17000 & 0 & 100 &  90\\\\\n\t4 & 103 & Alexander & Hunold    & AHUNOLD  & 590.423.4567 & 2006-01-03 & IT\\_PROG    &  9000 & 0 & 102 &  60\\\\\n\t5 & 104 & Bruce     & Ernst     & BERNST   & 590.423.4568 & 2007-05-21 & IT\\_PROG    &  6000 & 0 & 103 &  60\\\\\n\t6 & 105 & David     & Austin    & DAUSTIN  & 590.423.4569 & 2005-06-25 & IT\\_PROG    &  4800 & 0 & 103 &  60\\\\\n\t7 & 106 & Valli     & Pataballa & VPATABAL & 590.423.4560 & 2006-02-05 & IT\\_PROG    &  4800 & 0 & 103 &  60\\\\\n\t8 & 107 & Diana     & Lorentz   & DLORENTZ & 590.423.5567 & 2007-02-07 & IT\\_PROG    &  4200 & 0 & 103 &  60\\\\\n\t9 & 108 & Nancy     & Greenberg & NGREENBE & 515.124.4569 & 2002-08-17 & FI\\_MGR     & 12008 & 0 & 101 & 100\\\\\n\t10 & 109 & Daniel    & Faviet    & DFAVIET  & 515.124.4169 & 2002-08-16 & FI\\_ACCOUNT &  9000 & 0 & 108 & 100\\\\\n\\end{tabular}\n",
            "text/markdown": "\nA data.frame: 10 × 11\n\n| <!--/--> | EMPLOYEE_ID &lt;int&gt; | FIRST_NAME &lt;fct&gt; | LAST_NAME &lt;fct&gt; | EMAIL &lt;fct&gt; | PHONE_NUMBER &lt;fct&gt; | HIRE_DATE &lt;fct&gt; | JOB_ID &lt;fct&gt; | SALARY &lt;int&gt; | COMMISSION_PCT &lt;dbl&gt; | MANAGER_ID &lt;int&gt; | DEPARTMENT_ID &lt;int&gt; |\n|---|---|---|---|---|---|---|---|---|---|---|---|\n| 1 | 100 | Steven    | King      | SKING    | 515.123.4567 | 2003-06-17 | AD_PRES    | 24000 | 0 |  NA |  90 |\n| 2 | 101 | Neena     | Kochhar   | NKOCHHAR | 515.123.4568 | 2005-09-21 | AD_VP      | 17000 | 0 | 100 |  90 |\n| 3 | 102 | Lex       | De Haan   | LDEHAAN  | 515.123.4569 | 2001-01-13 | AD_VP      | 17000 | 0 | 100 |  90 |\n| 4 | 103 | Alexander | Hunold    | AHUNOLD  | 590.423.4567 | 2006-01-03 | IT_PROG    |  9000 | 0 | 102 |  60 |\n| 5 | 104 | Bruce     | Ernst     | BERNST   | 590.423.4568 | 2007-05-21 | IT_PROG    |  6000 | 0 | 103 |  60 |\n| 6 | 105 | David     | Austin    | DAUSTIN  | 590.423.4569 | 2005-06-25 | IT_PROG    |  4800 | 0 | 103 |  60 |\n| 7 | 106 | Valli     | Pataballa | VPATABAL | 590.423.4560 | 2006-02-05 | IT_PROG    |  4800 | 0 | 103 |  60 |\n| 8 | 107 | Diana     | Lorentz   | DLORENTZ | 590.423.5567 | 2007-02-07 | IT_PROG    |  4200 | 0 | 103 |  60 |\n| 9 | 108 | Nancy     | Greenberg | NGREENBE | 515.124.4569 | 2002-08-17 | FI_MGR     | 12008 | 0 | 101 | 100 |\n| 10 | 109 | Daniel    | Faviet    | DFAVIET  | 515.124.4169 | 2002-08-16 | FI_ACCOUNT |  9000 | 0 | 108 | 100 |\n\n",
            "text/html": [
              "<table>\n",
              "<caption>A data.frame: 10 × 11</caption>\n",
              "<thead>\n",
              "\t<tr><th></th><th scope=col>EMPLOYEE_ID</th><th scope=col>FIRST_NAME</th><th scope=col>LAST_NAME</th><th scope=col>EMAIL</th><th scope=col>PHONE_NUMBER</th><th scope=col>HIRE_DATE</th><th scope=col>JOB_ID</th><th scope=col>SALARY</th><th scope=col>COMMISSION_PCT</th><th scope=col>MANAGER_ID</th><th scope=col>DEPARTMENT_ID</th></tr>\n",
              "\t<tr><th></th><th scope=col>&lt;int&gt;</th><th scope=col>&lt;fct&gt;</th><th scope=col>&lt;fct&gt;</th><th scope=col>&lt;fct&gt;</th><th scope=col>&lt;fct&gt;</th><th scope=col>&lt;fct&gt;</th><th scope=col>&lt;fct&gt;</th><th scope=col>&lt;int&gt;</th><th scope=col>&lt;dbl&gt;</th><th scope=col>&lt;int&gt;</th><th scope=col>&lt;int&gt;</th></tr>\n",
              "</thead>\n",
              "<tbody>\n",
              "\t<tr><th scope=row>1</th><td>100</td><td>Steven   </td><td>King     </td><td>SKING   </td><td>515.123.4567</td><td>2003-06-17</td><td>AD_PRES   </td><td>24000</td><td>0</td><td> NA</td><td> 90</td></tr>\n",
              "\t<tr><th scope=row>2</th><td>101</td><td>Neena    </td><td>Kochhar  </td><td>NKOCHHAR</td><td>515.123.4568</td><td>2005-09-21</td><td>AD_VP     </td><td>17000</td><td>0</td><td>100</td><td> 90</td></tr>\n",
              "\t<tr><th scope=row>3</th><td>102</td><td>Lex      </td><td>De Haan  </td><td>LDEHAAN </td><td>515.123.4569</td><td>2001-01-13</td><td>AD_VP     </td><td>17000</td><td>0</td><td>100</td><td> 90</td></tr>\n",
              "\t<tr><th scope=row>4</th><td>103</td><td>Alexander</td><td>Hunold   </td><td>AHUNOLD </td><td>590.423.4567</td><td>2006-01-03</td><td>IT_PROG   </td><td> 9000</td><td>0</td><td>102</td><td> 60</td></tr>\n",
              "\t<tr><th scope=row>5</th><td>104</td><td>Bruce    </td><td>Ernst    </td><td>BERNST  </td><td>590.423.4568</td><td>2007-05-21</td><td>IT_PROG   </td><td> 6000</td><td>0</td><td>103</td><td> 60</td></tr>\n",
              "\t<tr><th scope=row>6</th><td>105</td><td>David    </td><td>Austin   </td><td>DAUSTIN </td><td>590.423.4569</td><td>2005-06-25</td><td>IT_PROG   </td><td> 4800</td><td>0</td><td>103</td><td> 60</td></tr>\n",
              "\t<tr><th scope=row>7</th><td>106</td><td>Valli    </td><td>Pataballa</td><td>VPATABAL</td><td>590.423.4560</td><td>2006-02-05</td><td>IT_PROG   </td><td> 4800</td><td>0</td><td>103</td><td> 60</td></tr>\n",
              "\t<tr><th scope=row>8</th><td>107</td><td>Diana    </td><td>Lorentz  </td><td>DLORENTZ</td><td>590.423.5567</td><td>2007-02-07</td><td>IT_PROG   </td><td> 4200</td><td>0</td><td>103</td><td> 60</td></tr>\n",
              "\t<tr><th scope=row>9</th><td>108</td><td>Nancy    </td><td>Greenberg</td><td>NGREENBE</td><td>515.124.4569</td><td>2002-08-17</td><td>FI_MGR    </td><td>12008</td><td>0</td><td>101</td><td>100</td></tr>\n",
              "\t<tr><th scope=row>10</th><td>109</td><td>Daniel   </td><td>Faviet   </td><td>DFAVIET </td><td>515.124.4169</td><td>2002-08-16</td><td>FI_ACCOUNT</td><td> 9000</td><td>0</td><td>108</td><td>100</td></tr>\n",
              "</tbody>\n",
              "</table>\n"
            ]
          },
          "metadata": {
            "tags": []
          }
        }
      ]
    },
    {
      "cell_type": "code",
      "metadata": {
        "id": "8O-pjHMNamnI"
      },
      "source": [
        "# 1973년, 뉴욕에서 수집한 일간 대기질 데이터인\n",
        "# airquality를 이용해서 결측치를 알아보고 적절한 값으로 대체해보세요\n",
        "?airquality"
      ],
      "execution_count": 64,
      "outputs": []
    },
    {
      "cell_type": "code",
      "metadata": {
        "id": "PAn7lvd3a8f3",
        "outputId": "5137d16a-c4d4-4855-8792-e90fcdedeec1",
        "colab": {
          "base_uri": "https://localhost:8080/",
          "height": 392
        }
      },
      "source": [
        "colSums(is.na(airquality))\n",
        "head(airquality, 15)"
      ],
      "execution_count": 75,
      "outputs": [
        {
          "output_type": "display_data",
          "data": {
            "text/plain": [
              "  Ozone Solar.R    Wind    Temp   Month     Day \n",
              "      0       7       0       0       0       0 "
            ],
            "text/latex": "\\begin{description*}\n\\item[Ozone] 0\n\\item[Solar.R] 7\n\\item[Wind] 0\n\\item[Temp] 0\n\\item[Month] 0\n\\item[Day] 0\n\\end{description*}\n",
            "text/markdown": "Ozone\n:   0Solar.R\n:   7Wind\n:   0Temp\n:   0Month\n:   0Day\n:   0\n\n",
            "text/html": [
              "<style>\n",
              ".dl-inline {width: auto; margin:0; padding: 0}\n",
              ".dl-inline>dt, .dl-inline>dd {float: none; width: auto; display: inline-block}\n",
              ".dl-inline>dt::after {content: \":\\0020\"; padding-right: .5ex}\n",
              ".dl-inline>dt:not(:first-of-type) {padding-left: .5ex}\n",
              "</style><dl class=dl-inline><dt>Ozone</dt><dd>0</dd><dt>Solar.R</dt><dd>7</dd><dt>Wind</dt><dd>0</dd><dt>Temp</dt><dd>0</dd><dt>Month</dt><dd>0</dd><dt>Day</dt><dd>0</dd></dl>\n"
            ]
          },
          "metadata": {
            "tags": []
          }
        },
        {
          "output_type": "display_data",
          "data": {
            "text/plain": [
              "   Ozone Solar.R Wind Temp Month Day\n",
              "1  41    190      7.4 67   5      1 \n",
              "2  36    118      8.0 72   5      2 \n",
              "3  12    149     12.6 74   5      3 \n",
              "4  18    313     11.5 62   5      4 \n",
              "5  42     NA     14.3 56   5      5 \n",
              "6  28     NA     14.9 66   5      6 \n",
              "7  23    299      8.6 65   5      7 \n",
              "8  19     99     13.8 59   5      8 \n",
              "9   8     19     20.1 61   5      9 \n",
              "10 42    194      8.6 69   5     10 \n",
              "11  7     NA      6.9 74   5     11 \n",
              "12 16    256      9.7 69   5     12 \n",
              "13 11    290      9.2 66   5     13 \n",
              "14 14    274     10.9 68   5     14 \n",
              "15 18     65     13.2 58   5     15 "
            ],
            "text/latex": "A data.frame: 15 × 6\n\\begin{tabular}{r|llllll}\n  & Ozone & Solar.R & Wind & Temp & Month & Day\\\\\n  & <dbl> & <int> & <dbl> & <int> & <int> & <int>\\\\\n\\hline\n\t1 & 41 & 190 &  7.4 & 67 & 5 &  1\\\\\n\t2 & 36 & 118 &  8.0 & 72 & 5 &  2\\\\\n\t3 & 12 & 149 & 12.6 & 74 & 5 &  3\\\\\n\t4 & 18 & 313 & 11.5 & 62 & 5 &  4\\\\\n\t5 & 42 &  NA & 14.3 & 56 & 5 &  5\\\\\n\t6 & 28 &  NA & 14.9 & 66 & 5 &  6\\\\\n\t7 & 23 & 299 &  8.6 & 65 & 5 &  7\\\\\n\t8 & 19 &  99 & 13.8 & 59 & 5 &  8\\\\\n\t9 &  8 &  19 & 20.1 & 61 & 5 &  9\\\\\n\t10 & 42 & 194 &  8.6 & 69 & 5 & 10\\\\\n\t11 &  7 &  NA &  6.9 & 74 & 5 & 11\\\\\n\t12 & 16 & 256 &  9.7 & 69 & 5 & 12\\\\\n\t13 & 11 & 290 &  9.2 & 66 & 5 & 13\\\\\n\t14 & 14 & 274 & 10.9 & 68 & 5 & 14\\\\\n\t15 & 18 &  65 & 13.2 & 58 & 5 & 15\\\\\n\\end{tabular}\n",
            "text/markdown": "\nA data.frame: 15 × 6\n\n| <!--/--> | Ozone &lt;dbl&gt; | Solar.R &lt;int&gt; | Wind &lt;dbl&gt; | Temp &lt;int&gt; | Month &lt;int&gt; | Day &lt;int&gt; |\n|---|---|---|---|---|---|---|\n| 1 | 41 | 190 |  7.4 | 67 | 5 |  1 |\n| 2 | 36 | 118 |  8.0 | 72 | 5 |  2 |\n| 3 | 12 | 149 | 12.6 | 74 | 5 |  3 |\n| 4 | 18 | 313 | 11.5 | 62 | 5 |  4 |\n| 5 | 42 |  NA | 14.3 | 56 | 5 |  5 |\n| 6 | 28 |  NA | 14.9 | 66 | 5 |  6 |\n| 7 | 23 | 299 |  8.6 | 65 | 5 |  7 |\n| 8 | 19 |  99 | 13.8 | 59 | 5 |  8 |\n| 9 |  8 |  19 | 20.1 | 61 | 5 |  9 |\n| 10 | 42 | 194 |  8.6 | 69 | 5 | 10 |\n| 11 |  7 |  NA |  6.9 | 74 | 5 | 11 |\n| 12 | 16 | 256 |  9.7 | 69 | 5 | 12 |\n| 13 | 11 | 290 |  9.2 | 66 | 5 | 13 |\n| 14 | 14 | 274 | 10.9 | 68 | 5 | 14 |\n| 15 | 18 |  65 | 13.2 | 58 | 5 | 15 |\n\n",
            "text/html": [
              "<table>\n",
              "<caption>A data.frame: 15 × 6</caption>\n",
              "<thead>\n",
              "\t<tr><th></th><th scope=col>Ozone</th><th scope=col>Solar.R</th><th scope=col>Wind</th><th scope=col>Temp</th><th scope=col>Month</th><th scope=col>Day</th></tr>\n",
              "\t<tr><th></th><th scope=col>&lt;dbl&gt;</th><th scope=col>&lt;int&gt;</th><th scope=col>&lt;dbl&gt;</th><th scope=col>&lt;int&gt;</th><th scope=col>&lt;int&gt;</th><th scope=col>&lt;int&gt;</th></tr>\n",
              "</thead>\n",
              "<tbody>\n",
              "\t<tr><th scope=row>1</th><td>41</td><td>190</td><td> 7.4</td><td>67</td><td>5</td><td> 1</td></tr>\n",
              "\t<tr><th scope=row>2</th><td>36</td><td>118</td><td> 8.0</td><td>72</td><td>5</td><td> 2</td></tr>\n",
              "\t<tr><th scope=row>3</th><td>12</td><td>149</td><td>12.6</td><td>74</td><td>5</td><td> 3</td></tr>\n",
              "\t<tr><th scope=row>4</th><td>18</td><td>313</td><td>11.5</td><td>62</td><td>5</td><td> 4</td></tr>\n",
              "\t<tr><th scope=row>5</th><td>42</td><td> NA</td><td>14.3</td><td>56</td><td>5</td><td> 5</td></tr>\n",
              "\t<tr><th scope=row>6</th><td>28</td><td> NA</td><td>14.9</td><td>66</td><td>5</td><td> 6</td></tr>\n",
              "\t<tr><th scope=row>7</th><td>23</td><td>299</td><td> 8.6</td><td>65</td><td>5</td><td> 7</td></tr>\n",
              "\t<tr><th scope=row>8</th><td>19</td><td> 99</td><td>13.8</td><td>59</td><td>5</td><td> 8</td></tr>\n",
              "\t<tr><th scope=row>9</th><td> 8</td><td> 19</td><td>20.1</td><td>61</td><td>5</td><td> 9</td></tr>\n",
              "\t<tr><th scope=row>10</th><td>42</td><td>194</td><td> 8.6</td><td>69</td><td>5</td><td>10</td></tr>\n",
              "\t<tr><th scope=row>11</th><td> 7</td><td> NA</td><td> 6.9</td><td>74</td><td>5</td><td>11</td></tr>\n",
              "\t<tr><th scope=row>12</th><td>16</td><td>256</td><td> 9.7</td><td>69</td><td>5</td><td>12</td></tr>\n",
              "\t<tr><th scope=row>13</th><td>11</td><td>290</td><td> 9.2</td><td>66</td><td>5</td><td>13</td></tr>\n",
              "\t<tr><th scope=row>14</th><td>14</td><td>274</td><td>10.9</td><td>68</td><td>5</td><td>14</td></tr>\n",
              "\t<tr><th scope=row>15</th><td>18</td><td> 65</td><td>13.2</td><td>58</td><td>5</td><td>15</td></tr>\n",
              "</tbody>\n",
              "</table>\n"
            ]
          },
          "metadata": {
            "tags": []
          }
        }
      ]
    },
    {
      "cell_type": "code",
      "metadata": {
        "id": "L2qxyCYpbf4o",
        "outputId": "667f1729-62a2-44bb-a62f-d3d42195a85f",
        "colab": {
          "base_uri": "https://localhost:8080/",
          "height": 375
        }
      },
      "source": [
        "mm <- floor(mean(airquality$Ozone, na.rm=T))\n",
        "airquality$Ozone[is.na(airquality$Ozone)] <- mean(airquality$Ozone, na.rm=T)\n",
        "airquality$Ozone[is.na(airquality$Ozone)] <- mm\n",
        "head(airquality, 15)"
      ],
      "execution_count": 74,
      "outputs": [
        {
          "output_type": "display_data",
          "data": {
            "text/plain": [
              "   Ozone Solar.R Wind Temp Month Day\n",
              "1  41    190      7.4 67   5      1 \n",
              "2  36    118      8.0 72   5      2 \n",
              "3  12    149     12.6 74   5      3 \n",
              "4  18    313     11.5 62   5      4 \n",
              "5  42     NA     14.3 56   5      5 \n",
              "6  28     NA     14.9 66   5      6 \n",
              "7  23    299      8.6 65   5      7 \n",
              "8  19     99     13.8 59   5      8 \n",
              "9   8     19     20.1 61   5      9 \n",
              "10 42    194      8.6 69   5     10 \n",
              "11  7     NA      6.9 74   5     11 \n",
              "12 16    256      9.7 69   5     12 \n",
              "13 11    290      9.2 66   5     13 \n",
              "14 14    274     10.9 68   5     14 \n",
              "15 18     65     13.2 58   5     15 "
            ],
            "text/latex": "A data.frame: 15 × 6\n\\begin{tabular}{r|llllll}\n  & Ozone & Solar.R & Wind & Temp & Month & Day\\\\\n  & <dbl> & <int> & <dbl> & <int> & <int> & <int>\\\\\n\\hline\n\t1 & 41 & 190 &  7.4 & 67 & 5 &  1\\\\\n\t2 & 36 & 118 &  8.0 & 72 & 5 &  2\\\\\n\t3 & 12 & 149 & 12.6 & 74 & 5 &  3\\\\\n\t4 & 18 & 313 & 11.5 & 62 & 5 &  4\\\\\n\t5 & 42 &  NA & 14.3 & 56 & 5 &  5\\\\\n\t6 & 28 &  NA & 14.9 & 66 & 5 &  6\\\\\n\t7 & 23 & 299 &  8.6 & 65 & 5 &  7\\\\\n\t8 & 19 &  99 & 13.8 & 59 & 5 &  8\\\\\n\t9 &  8 &  19 & 20.1 & 61 & 5 &  9\\\\\n\t10 & 42 & 194 &  8.6 & 69 & 5 & 10\\\\\n\t11 &  7 &  NA &  6.9 & 74 & 5 & 11\\\\\n\t12 & 16 & 256 &  9.7 & 69 & 5 & 12\\\\\n\t13 & 11 & 290 &  9.2 & 66 & 5 & 13\\\\\n\t14 & 14 & 274 & 10.9 & 68 & 5 & 14\\\\\n\t15 & 18 &  65 & 13.2 & 58 & 5 & 15\\\\\n\\end{tabular}\n",
            "text/markdown": "\nA data.frame: 15 × 6\n\n| <!--/--> | Ozone &lt;dbl&gt; | Solar.R &lt;int&gt; | Wind &lt;dbl&gt; | Temp &lt;int&gt; | Month &lt;int&gt; | Day &lt;int&gt; |\n|---|---|---|---|---|---|---|\n| 1 | 41 | 190 |  7.4 | 67 | 5 |  1 |\n| 2 | 36 | 118 |  8.0 | 72 | 5 |  2 |\n| 3 | 12 | 149 | 12.6 | 74 | 5 |  3 |\n| 4 | 18 | 313 | 11.5 | 62 | 5 |  4 |\n| 5 | 42 |  NA | 14.3 | 56 | 5 |  5 |\n| 6 | 28 |  NA | 14.9 | 66 | 5 |  6 |\n| 7 | 23 | 299 |  8.6 | 65 | 5 |  7 |\n| 8 | 19 |  99 | 13.8 | 59 | 5 |  8 |\n| 9 |  8 |  19 | 20.1 | 61 | 5 |  9 |\n| 10 | 42 | 194 |  8.6 | 69 | 5 | 10 |\n| 11 |  7 |  NA |  6.9 | 74 | 5 | 11 |\n| 12 | 16 | 256 |  9.7 | 69 | 5 | 12 |\n| 13 | 11 | 290 |  9.2 | 66 | 5 | 13 |\n| 14 | 14 | 274 | 10.9 | 68 | 5 | 14 |\n| 15 | 18 |  65 | 13.2 | 58 | 5 | 15 |\n\n",
            "text/html": [
              "<table>\n",
              "<caption>A data.frame: 15 × 6</caption>\n",
              "<thead>\n",
              "\t<tr><th></th><th scope=col>Ozone</th><th scope=col>Solar.R</th><th scope=col>Wind</th><th scope=col>Temp</th><th scope=col>Month</th><th scope=col>Day</th></tr>\n",
              "\t<tr><th></th><th scope=col>&lt;dbl&gt;</th><th scope=col>&lt;int&gt;</th><th scope=col>&lt;dbl&gt;</th><th scope=col>&lt;int&gt;</th><th scope=col>&lt;int&gt;</th><th scope=col>&lt;int&gt;</th></tr>\n",
              "</thead>\n",
              "<tbody>\n",
              "\t<tr><th scope=row>1</th><td>41</td><td>190</td><td> 7.4</td><td>67</td><td>5</td><td> 1</td></tr>\n",
              "\t<tr><th scope=row>2</th><td>36</td><td>118</td><td> 8.0</td><td>72</td><td>5</td><td> 2</td></tr>\n",
              "\t<tr><th scope=row>3</th><td>12</td><td>149</td><td>12.6</td><td>74</td><td>5</td><td> 3</td></tr>\n",
              "\t<tr><th scope=row>4</th><td>18</td><td>313</td><td>11.5</td><td>62</td><td>5</td><td> 4</td></tr>\n",
              "\t<tr><th scope=row>5</th><td>42</td><td> NA</td><td>14.3</td><td>56</td><td>5</td><td> 5</td></tr>\n",
              "\t<tr><th scope=row>6</th><td>28</td><td> NA</td><td>14.9</td><td>66</td><td>5</td><td> 6</td></tr>\n",
              "\t<tr><th scope=row>7</th><td>23</td><td>299</td><td> 8.6</td><td>65</td><td>5</td><td> 7</td></tr>\n",
              "\t<tr><th scope=row>8</th><td>19</td><td> 99</td><td>13.8</td><td>59</td><td>5</td><td> 8</td></tr>\n",
              "\t<tr><th scope=row>9</th><td> 8</td><td> 19</td><td>20.1</td><td>61</td><td>5</td><td> 9</td></tr>\n",
              "\t<tr><th scope=row>10</th><td>42</td><td>194</td><td> 8.6</td><td>69</td><td>5</td><td>10</td></tr>\n",
              "\t<tr><th scope=row>11</th><td> 7</td><td> NA</td><td> 6.9</td><td>74</td><td>5</td><td>11</td></tr>\n",
              "\t<tr><th scope=row>12</th><td>16</td><td>256</td><td> 9.7</td><td>69</td><td>5</td><td>12</td></tr>\n",
              "\t<tr><th scope=row>13</th><td>11</td><td>290</td><td> 9.2</td><td>66</td><td>5</td><td>13</td></tr>\n",
              "\t<tr><th scope=row>14</th><td>14</td><td>274</td><td>10.9</td><td>68</td><td>5</td><td>14</td></tr>\n",
              "\t<tr><th scope=row>15</th><td>18</td><td> 65</td><td>13.2</td><td>58</td><td>5</td><td>15</td></tr>\n",
              "</tbody>\n",
              "</table>\n"
            ]
          },
          "metadata": {
            "tags": []
          }
        }
      ]
    },
    {
      "cell_type": "code",
      "metadata": {
        "id": "gp5adx0Ed6Zw"
      },
      "source": [
        ""
      ],
      "execution_count": null,
      "outputs": []
    }
  ]
}