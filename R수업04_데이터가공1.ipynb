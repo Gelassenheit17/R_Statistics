{
  "nbformat": 4,
  "nbformat_minor": 0,
  "metadata": {
    "colab": {
      "name": "R수업04_데이터가공1.ipynb",
      "provenance": [],
      "authorship_tag": "ABX9TyNvpGktH8s3O8ZUjwFyKPS4",
      "include_colab_link": true
    },
    "kernelspec": {
      "name": "ir",
      "display_name": "R"
    }
  },
  "cells": [
    {
      "cell_type": "markdown",
      "metadata": {
        "id": "view-in-github",
        "colab_type": "text"
      },
      "source": [
        "<a href=\"https://colab.research.google.com/github/Gelassenheit17/R_Statistics/blob/master/R%EC%88%98%EC%97%8504_%EB%8D%B0%EC%9D%B4%ED%84%B0%EA%B0%80%EA%B3%B51.ipynb\" target=\"_parent\"><img src=\"https://colab.research.google.com/assets/colab-badge.svg\" alt=\"Open In Colab\"/></a>"
      ]
    },
    {
      "cell_type": "code",
      "metadata": {
        "id": "sIJswOB2fcYJ"
      },
      "source": [
        "# 성적데이터 읽어오기\n",
        "# 코렙에 sungjuk.rdata 파일을 업로드한 후 실습함"
      ],
      "execution_count": null,
      "outputs": []
    },
    {
      "cell_type": "code",
      "metadata": {
        "id": "VM3oOHdWf93n",
        "outputId": "f0866b2d-3ef6-4f74-fe04-27bed0ecf228",
        "colab": {
          "base_uri": "https://localhost:8080/",
          "height": 161
        }
      },
      "source": [
        "load('sungjuk.rdata') # R 전용 데이터파일을 읽어옴\n",
        "sungjuk"
      ],
      "execution_count": 2,
      "outputs": [
        {
          "output_type": "display_data",
          "data": {
            "text/plain": [
              "  name eng mat sci\n",
              "1 John 90  85  90 \n",
              "2 Tom  95  96  80 \n",
              "3 Mark 69  49  70 \n",
              "4 Jane 78  95  60 "
            ],
            "text/latex": "A data.frame: 4 × 4\n\\begin{tabular}{llll}\n name & eng & mat & sci\\\\\n <fct> & <dbl> & <dbl> & <dbl>\\\\\n\\hline\n\t John & 90 & 85 & 90\\\\\n\t Tom  & 95 & 96 & 80\\\\\n\t Mark & 69 & 49 & 70\\\\\n\t Jane & 78 & 95 & 60\\\\\n\\end{tabular}\n",
            "text/markdown": "\nA data.frame: 4 × 4\n\n| name &lt;fct&gt; | eng &lt;dbl&gt; | mat &lt;dbl&gt; | sci &lt;dbl&gt; |\n|---|---|---|---|\n| John | 90 | 85 | 90 |\n| Tom  | 95 | 96 | 80 |\n| Mark | 69 | 49 | 70 |\n| Jane | 78 | 95 | 60 |\n\n",
            "text/html": [
              "<table>\n",
              "<caption>A data.frame: 4 × 4</caption>\n",
              "<thead>\n",
              "\t<tr><th scope=col>name</th><th scope=col>eng</th><th scope=col>mat</th><th scope=col>sci</th></tr>\n",
              "\t<tr><th scope=col>&lt;fct&gt;</th><th scope=col>&lt;dbl&gt;</th><th scope=col>&lt;dbl&gt;</th><th scope=col>&lt;dbl&gt;</th></tr>\n",
              "</thead>\n",
              "<tbody>\n",
              "\t<tr><td>John</td><td>90</td><td>85</td><td>90</td></tr>\n",
              "\t<tr><td>Tom </td><td>95</td><td>96</td><td>80</td></tr>\n",
              "\t<tr><td>Mark</td><td>69</td><td>49</td><td>70</td></tr>\n",
              "\t<tr><td>Jane</td><td>78</td><td>95</td><td>60</td></tr>\n",
              "</tbody>\n",
              "</table>\n"
            ]
          },
          "metadata": {
            "tags": []
          }
        }
      ]
    },
    {
      "cell_type": "code",
      "metadata": {
        "id": "vHTatDXtgHyl"
      },
      "source": [
        "# 총점과 평균을 계산해서  tot, avg 라는 컬럼 생성\n",
        "sungjuk$tot <- sungjuk$eng + sungjuk$mat + sungjuk$sci\n",
        "sungjuk$avg <- sungjuk$tot / 3"
      ],
      "execution_count": 4,
      "outputs": []
    },
    {
      "cell_type": "code",
      "metadata": {
        "id": "oW0hyifohIuy",
        "outputId": "329fb51c-6492-42a3-83db-4cff6c28c21c",
        "colab": {
          "base_uri": "https://localhost:8080/",
          "height": 161
        }
      },
      "source": [
        "sungjuk <- within(sungjuk, {\n",
        "  tot <- eng + mat + sci\n",
        "  avg < - tot / 3\n",
        "  })\n",
        "sungjuk"
      ],
      "execution_count": 8,
      "outputs": [
        {
          "output_type": "display_data",
          "data": {
            "text/plain": [
              "  name eng mat sci tot avg     \n",
              "1 John 90  85  90  265 88.33333\n",
              "2 Tom  95  96  80  271 90.33333\n",
              "3 Mark 69  49  70  188 62.66667\n",
              "4 Jane 78  95  60  233 77.66667"
            ],
            "text/latex": "A data.frame: 4 × 6\n\\begin{tabular}{llllll}\n name & eng & mat & sci & tot & avg\\\\\n <fct> & <dbl> & <dbl> & <dbl> & <dbl> & <dbl>\\\\\n\\hline\n\t John & 90 & 85 & 90 & 265 & 88.33333\\\\\n\t Tom  & 95 & 96 & 80 & 271 & 90.33333\\\\\n\t Mark & 69 & 49 & 70 & 188 & 62.66667\\\\\n\t Jane & 78 & 95 & 60 & 233 & 77.66667\\\\\n\\end{tabular}\n",
            "text/markdown": "\nA data.frame: 4 × 6\n\n| name &lt;fct&gt; | eng &lt;dbl&gt; | mat &lt;dbl&gt; | sci &lt;dbl&gt; | tot &lt;dbl&gt; | avg &lt;dbl&gt; |\n|---|---|---|---|---|---|\n| John | 90 | 85 | 90 | 265 | 88.33333 |\n| Tom  | 95 | 96 | 80 | 271 | 90.33333 |\n| Mark | 69 | 49 | 70 | 188 | 62.66667 |\n| Jane | 78 | 95 | 60 | 233 | 77.66667 |\n\n",
            "text/html": [
              "<table>\n",
              "<caption>A data.frame: 4 × 6</caption>\n",
              "<thead>\n",
              "\t<tr><th scope=col>name</th><th scope=col>eng</th><th scope=col>mat</th><th scope=col>sci</th><th scope=col>tot</th><th scope=col>avg</th></tr>\n",
              "\t<tr><th scope=col>&lt;fct&gt;</th><th scope=col>&lt;dbl&gt;</th><th scope=col>&lt;dbl&gt;</th><th scope=col>&lt;dbl&gt;</th><th scope=col>&lt;dbl&gt;</th><th scope=col>&lt;dbl&gt;</th></tr>\n",
              "</thead>\n",
              "<tbody>\n",
              "\t<tr><td>John</td><td>90</td><td>85</td><td>90</td><td>265</td><td>88.33333</td></tr>\n",
              "\t<tr><td>Tom </td><td>95</td><td>96</td><td>80</td><td>271</td><td>90.33333</td></tr>\n",
              "\t<tr><td>Mark</td><td>69</td><td>49</td><td>70</td><td>188</td><td>62.66667</td></tr>\n",
              "\t<tr><td>Jane</td><td>78</td><td>95</td><td>60</td><td>233</td><td>77.66667</td></tr>\n",
              "</tbody>\n",
              "</table>\n"
            ]
          },
          "metadata": {
            "tags": []
          }
        }
      ]
    },
    {
      "cell_type": "code",
      "metadata": {
        "id": "T7-TB8K4iAdP",
        "outputId": "0f189c80-c1e5-425d-8bd8-467c64b6a090",
        "colab": {
          "base_uri": "https://localhost:8080/",
          "height": 161
        }
      },
      "source": [
        "sungjuk <- within(sungjuk, {\n",
        "  tot <- eng + mat + sci\n",
        "  avg <- tot / 3 \n",
        "})\n",
        "sungjuk"
      ],
      "execution_count": 9,
      "outputs": [
        {
          "output_type": "display_data",
          "data": {
            "text/plain": [
              "  name eng mat sci tot avg     \n",
              "1 John 90  85  90  265 88.33333\n",
              "2 Tom  95  96  80  271 90.33333\n",
              "3 Mark 69  49  70  188 62.66667\n",
              "4 Jane 78  95  60  233 77.66667"
            ],
            "text/latex": "A data.frame: 4 × 6\n\\begin{tabular}{llllll}\n name & eng & mat & sci & tot & avg\\\\\n <fct> & <dbl> & <dbl> & <dbl> & <dbl> & <dbl>\\\\\n\\hline\n\t John & 90 & 85 & 90 & 265 & 88.33333\\\\\n\t Tom  & 95 & 96 & 80 & 271 & 90.33333\\\\\n\t Mark & 69 & 49 & 70 & 188 & 62.66667\\\\\n\t Jane & 78 & 95 & 60 & 233 & 77.66667\\\\\n\\end{tabular}\n",
            "text/markdown": "\nA data.frame: 4 × 6\n\n| name &lt;fct&gt; | eng &lt;dbl&gt; | mat &lt;dbl&gt; | sci &lt;dbl&gt; | tot &lt;dbl&gt; | avg &lt;dbl&gt; |\n|---|---|---|---|---|---|\n| John | 90 | 85 | 90 | 265 | 88.33333 |\n| Tom  | 95 | 96 | 80 | 271 | 90.33333 |\n| Mark | 69 | 49 | 70 | 188 | 62.66667 |\n| Jane | 78 | 95 | 60 | 233 | 77.66667 |\n\n",
            "text/html": [
              "<table>\n",
              "<caption>A data.frame: 4 × 6</caption>\n",
              "<thead>\n",
              "\t<tr><th scope=col>name</th><th scope=col>eng</th><th scope=col>mat</th><th scope=col>sci</th><th scope=col>tot</th><th scope=col>avg</th></tr>\n",
              "\t<tr><th scope=col>&lt;fct&gt;</th><th scope=col>&lt;dbl&gt;</th><th scope=col>&lt;dbl&gt;</th><th scope=col>&lt;dbl&gt;</th><th scope=col>&lt;dbl&gt;</th><th scope=col>&lt;dbl&gt;</th></tr>\n",
              "</thead>\n",
              "<tbody>\n",
              "\t<tr><td>John</td><td>90</td><td>85</td><td>90</td><td>265</td><td>88.33333</td></tr>\n",
              "\t<tr><td>Tom </td><td>95</td><td>96</td><td>80</td><td>271</td><td>90.33333</td></tr>\n",
              "\t<tr><td>Mark</td><td>69</td><td>49</td><td>70</td><td>188</td><td>62.66667</td></tr>\n",
              "\t<tr><td>Jane</td><td>78</td><td>95</td><td>60</td><td>233</td><td>77.66667</td></tr>\n",
              "</tbody>\n",
              "</table>\n"
            ]
          },
          "metadata": {
            "tags": []
          }
        }
      ]
    },
    {
      "cell_type": "code",
      "metadata": {
        "id": "BTNmRIDzithA",
        "outputId": "388c664e-5c36-45c9-a12a-dca9a74f62d7",
        "colab": {
          "base_uri": "https://localhost:8080/",
          "height": 35
        }
      },
      "source": [
        "# 정렬 : order(컬럼명, ...)\n",
        "# 성적 데이터를 평균을 기준으로 정렬해 봄\n",
        "order(sungjuk$avg) # 각 데이터별 정렬순번 출력"
      ],
      "execution_count": 11,
      "outputs": [
        {
          "output_type": "display_data",
          "data": {
            "text/plain": [
              "[1] 3 4 1 2"
            ],
            "text/latex": "\\begin{enumerate*}\n\\item 3\n\\item 4\n\\item 1\n\\item 2\n\\end{enumerate*}\n",
            "text/markdown": "1. 3\n2. 4\n3. 1\n4. 2\n\n\n",
            "text/html": [
              "<style>\n",
              ".list-inline {list-style: none; margin:0; padding: 0}\n",
              ".list-inline>li {display: inline-block}\n",
              ".list-inline>li:not(:last-child)::after {content: \"\\00b7\"; padding: 0 .5ex}\n",
              "</style>\n",
              "<ol class=list-inline><li>3</li><li>4</li><li>1</li><li>2</li></ol>\n"
            ]
          },
          "metadata": {
            "tags": []
          }
        }
      ]
    },
    {
      "cell_type": "code",
      "metadata": {
        "id": "3pyhcnetjSCu",
        "outputId": "a220a62c-fa20-40b3-c650-8c0d6ab47201",
        "colab": {
          "base_uri": "https://localhost:8080/",
          "height": 161
        }
      },
      "source": [
        "rn <- order(sungjuk$avg)\n",
        "sungjuk[rn, ]"
      ],
      "execution_count": 13,
      "outputs": [
        {
          "output_type": "display_data",
          "data": {
            "text/plain": [
              "  name eng mat sci tot avg     \n",
              "3 Mark 69  49  70  188 62.66667\n",
              "4 Jane 78  95  60  233 77.66667\n",
              "1 John 90  85  90  265 88.33333\n",
              "2 Tom  95  96  80  271 90.33333"
            ],
            "text/latex": "A data.frame: 4 × 6\n\\begin{tabular}{r|llllll}\n  & name & eng & mat & sci & tot & avg\\\\\n  & <fct> & <dbl> & <dbl> & <dbl> & <dbl> & <dbl>\\\\\n\\hline\n\t3 & Mark & 69 & 49 & 70 & 188 & 62.66667\\\\\n\t4 & Jane & 78 & 95 & 60 & 233 & 77.66667\\\\\n\t1 & John & 90 & 85 & 90 & 265 & 88.33333\\\\\n\t2 & Tom  & 95 & 96 & 80 & 271 & 90.33333\\\\\n\\end{tabular}\n",
            "text/markdown": "\nA data.frame: 4 × 6\n\n| <!--/--> | name &lt;fct&gt; | eng &lt;dbl&gt; | mat &lt;dbl&gt; | sci &lt;dbl&gt; | tot &lt;dbl&gt; | avg &lt;dbl&gt; |\n|---|---|---|---|---|---|---|\n| 3 | Mark | 69 | 49 | 70 | 188 | 62.66667 |\n| 4 | Jane | 78 | 95 | 60 | 233 | 77.66667 |\n| 1 | John | 90 | 85 | 90 | 265 | 88.33333 |\n| 2 | Tom  | 95 | 96 | 80 | 271 | 90.33333 |\n\n",
            "text/html": [
              "<table>\n",
              "<caption>A data.frame: 4 × 6</caption>\n",
              "<thead>\n",
              "\t<tr><th></th><th scope=col>name</th><th scope=col>eng</th><th scope=col>mat</th><th scope=col>sci</th><th scope=col>tot</th><th scope=col>avg</th></tr>\n",
              "\t<tr><th></th><th scope=col>&lt;fct&gt;</th><th scope=col>&lt;dbl&gt;</th><th scope=col>&lt;dbl&gt;</th><th scope=col>&lt;dbl&gt;</th><th scope=col>&lt;dbl&gt;</th><th scope=col>&lt;dbl&gt;</th></tr>\n",
              "</thead>\n",
              "<tbody>\n",
              "\t<tr><th scope=row>3</th><td>Mark</td><td>69</td><td>49</td><td>70</td><td>188</td><td>62.66667</td></tr>\n",
              "\t<tr><th scope=row>4</th><td>Jane</td><td>78</td><td>95</td><td>60</td><td>233</td><td>77.66667</td></tr>\n",
              "\t<tr><th scope=row>1</th><td>John</td><td>90</td><td>85</td><td>90</td><td>265</td><td>88.33333</td></tr>\n",
              "\t<tr><th scope=row>2</th><td>Tom </td><td>95</td><td>96</td><td>80</td><td>271</td><td>90.33333</td></tr>\n",
              "</tbody>\n",
              "</table>\n"
            ]
          },
          "metadata": {
            "tags": []
          }
        }
      ]
    },
    {
      "cell_type": "code",
      "metadata": {
        "id": "ZfcW9aa3jo8_",
        "outputId": "01a9982b-dccf-4601-b49f-45169a1299ee",
        "colab": {
          "base_uri": "https://localhost:8080/",
          "height": 161
        }
      },
      "source": [
        "rn <- order(-sungjuk$avg) # 내림차순\n",
        "sungjuk[rn, ]"
      ],
      "execution_count": 14,
      "outputs": [
        {
          "output_type": "display_data",
          "data": {
            "text/plain": [
              "  name eng mat sci tot avg     \n",
              "2 Tom  95  96  80  271 90.33333\n",
              "1 John 90  85  90  265 88.33333\n",
              "4 Jane 78  95  60  233 77.66667\n",
              "3 Mark 69  49  70  188 62.66667"
            ],
            "text/latex": "A data.frame: 4 × 6\n\\begin{tabular}{r|llllll}\n  & name & eng & mat & sci & tot & avg\\\\\n  & <fct> & <dbl> & <dbl> & <dbl> & <dbl> & <dbl>\\\\\n\\hline\n\t2 & Tom  & 95 & 96 & 80 & 271 & 90.33333\\\\\n\t1 & John & 90 & 85 & 90 & 265 & 88.33333\\\\\n\t4 & Jane & 78 & 95 & 60 & 233 & 77.66667\\\\\n\t3 & Mark & 69 & 49 & 70 & 188 & 62.66667\\\\\n\\end{tabular}\n",
            "text/markdown": "\nA data.frame: 4 × 6\n\n| <!--/--> | name &lt;fct&gt; | eng &lt;dbl&gt; | mat &lt;dbl&gt; | sci &lt;dbl&gt; | tot &lt;dbl&gt; | avg &lt;dbl&gt; |\n|---|---|---|---|---|---|---|\n| 2 | Tom  | 95 | 96 | 80 | 271 | 90.33333 |\n| 1 | John | 90 | 85 | 90 | 265 | 88.33333 |\n| 4 | Jane | 78 | 95 | 60 | 233 | 77.66667 |\n| 3 | Mark | 69 | 49 | 70 | 188 | 62.66667 |\n\n",
            "text/html": [
              "<table>\n",
              "<caption>A data.frame: 4 × 6</caption>\n",
              "<thead>\n",
              "\t<tr><th></th><th scope=col>name</th><th scope=col>eng</th><th scope=col>mat</th><th scope=col>sci</th><th scope=col>tot</th><th scope=col>avg</th></tr>\n",
              "\t<tr><th></th><th scope=col>&lt;fct&gt;</th><th scope=col>&lt;dbl&gt;</th><th scope=col>&lt;dbl&gt;</th><th scope=col>&lt;dbl&gt;</th><th scope=col>&lt;dbl&gt;</th><th scope=col>&lt;dbl&gt;</th></tr>\n",
              "</thead>\n",
              "<tbody>\n",
              "\t<tr><th scope=row>2</th><td>Tom </td><td>95</td><td>96</td><td>80</td><td>271</td><td>90.33333</td></tr>\n",
              "\t<tr><th scope=row>1</th><td>John</td><td>90</td><td>85</td><td>90</td><td>265</td><td>88.33333</td></tr>\n",
              "\t<tr><th scope=row>4</th><td>Jane</td><td>78</td><td>95</td><td>60</td><td>233</td><td>77.66667</td></tr>\n",
              "\t<tr><th scope=row>3</th><td>Mark</td><td>69</td><td>49</td><td>70</td><td>188</td><td>62.66667</td></tr>\n",
              "</tbody>\n",
              "</table>\n"
            ]
          },
          "metadata": {
            "tags": []
          }
        }
      ]
    },
    {
      "cell_type": "code",
      "metadata": {
        "id": "bcnGCgSVkZVB",
        "outputId": "343e2526-d125-49ba-e88f-569721aba592",
        "colab": {
          "base_uri": "https://localhost:8080/",
          "height": 161
        }
      },
      "source": [
        "# 성적 데이터에 반(클래스) 변수 추가 \n",
        "sungjuk$class <- c(1,2,1,2)\n",
        "sungjuk"
      ],
      "execution_count": 15,
      "outputs": [
        {
          "output_type": "display_data",
          "data": {
            "text/plain": [
              "  name eng mat sci tot avg      class\n",
              "1 John 90  85  90  265 88.33333 1    \n",
              "2 Tom  95  96  80  271 90.33333 2    \n",
              "3 Mark 69  49  70  188 62.66667 1    \n",
              "4 Jane 78  95  60  233 77.66667 2    "
            ],
            "text/latex": "A data.frame: 4 × 7\n\\begin{tabular}{lllllll}\n name & eng & mat & sci & tot & avg & class\\\\\n <fct> & <dbl> & <dbl> & <dbl> & <dbl> & <dbl> & <dbl>\\\\\n\\hline\n\t John & 90 & 85 & 90 & 265 & 88.33333 & 1\\\\\n\t Tom  & 95 & 96 & 80 & 271 & 90.33333 & 2\\\\\n\t Mark & 69 & 49 & 70 & 188 & 62.66667 & 1\\\\\n\t Jane & 78 & 95 & 60 & 233 & 77.66667 & 2\\\\\n\\end{tabular}\n",
            "text/markdown": "\nA data.frame: 4 × 7\n\n| name &lt;fct&gt; | eng &lt;dbl&gt; | mat &lt;dbl&gt; | sci &lt;dbl&gt; | tot &lt;dbl&gt; | avg &lt;dbl&gt; | class &lt;dbl&gt; |\n|---|---|---|---|---|---|---|\n| John | 90 | 85 | 90 | 265 | 88.33333 | 1 |\n| Tom  | 95 | 96 | 80 | 271 | 90.33333 | 2 |\n| Mark | 69 | 49 | 70 | 188 | 62.66667 | 1 |\n| Jane | 78 | 95 | 60 | 233 | 77.66667 | 2 |\n\n",
            "text/html": [
              "<table>\n",
              "<caption>A data.frame: 4 × 7</caption>\n",
              "<thead>\n",
              "\t<tr><th scope=col>name</th><th scope=col>eng</th><th scope=col>mat</th><th scope=col>sci</th><th scope=col>tot</th><th scope=col>avg</th><th scope=col>class</th></tr>\n",
              "\t<tr><th scope=col>&lt;fct&gt;</th><th scope=col>&lt;dbl&gt;</th><th scope=col>&lt;dbl&gt;</th><th scope=col>&lt;dbl&gt;</th><th scope=col>&lt;dbl&gt;</th><th scope=col>&lt;dbl&gt;</th><th scope=col>&lt;dbl&gt;</th></tr>\n",
              "</thead>\n",
              "<tbody>\n",
              "\t<tr><td>John</td><td>90</td><td>85</td><td>90</td><td>265</td><td>88.33333</td><td>1</td></tr>\n",
              "\t<tr><td>Tom </td><td>95</td><td>96</td><td>80</td><td>271</td><td>90.33333</td><td>2</td></tr>\n",
              "\t<tr><td>Mark</td><td>69</td><td>49</td><td>70</td><td>188</td><td>62.66667</td><td>1</td></tr>\n",
              "\t<tr><td>Jane</td><td>78</td><td>95</td><td>60</td><td>233</td><td>77.66667</td><td>2</td></tr>\n",
              "</tbody>\n",
              "</table>\n"
            ]
          },
          "metadata": {
            "tags": []
          }
        }
      ]
    },
    {
      "cell_type": "code",
      "metadata": {
        "id": "oXgKgV2KklQF",
        "outputId": "13941b8e-2959-4ba8-af28-fe8e43c0391a",
        "colab": {
          "base_uri": "https://localhost:8080/",
          "height": 137
        }
      },
      "source": [
        "# 클래스별 최고/최저 영어점수는?\n",
        "# aggregate(대상, 그룹조건, 집계함수)\n",
        "aggregate(sungjuk$eng, by=list(sungjuk$class), FUN=max)"
      ],
      "execution_count": 16,
      "outputs": [
        {
          "output_type": "display_data",
          "data": {
            "text/plain": [
              "  Group.1 x \n",
              "1 1       90\n",
              "2 2       95"
            ],
            "text/latex": "A data.frame: 2 × 2\n\\begin{tabular}{ll}\n Group.1 & x\\\\\n <dbl> & <dbl>\\\\\n\\hline\n\t 1 & 90\\\\\n\t 2 & 95\\\\\n\\end{tabular}\n",
            "text/markdown": "\nA data.frame: 2 × 2\n\n| Group.1 &lt;dbl&gt; | x &lt;dbl&gt; |\n|---|---|\n| 1 | 90 |\n| 2 | 95 |\n\n",
            "text/html": [
              "<table>\n",
              "<caption>A data.frame: 2 × 2</caption>\n",
              "<thead>\n",
              "\t<tr><th scope=col>Group.1</th><th scope=col>x</th></tr>\n",
              "\t<tr><th scope=col>&lt;dbl&gt;</th><th scope=col>&lt;dbl&gt;</th></tr>\n",
              "</thead>\n",
              "<tbody>\n",
              "\t<tr><td>1</td><td>90</td></tr>\n",
              "\t<tr><td>2</td><td>95</td></tr>\n",
              "</tbody>\n",
              "</table>\n"
            ]
          },
          "metadata": {
            "tags": []
          }
        }
      ]
    },
    {
      "cell_type": "code",
      "metadata": {
        "id": "3c9a6grclQ1v",
        "outputId": "c8a464ba-ede4-46b3-bc1d-fbab0cc9591e",
        "colab": {
          "base_uri": "https://localhost:8080/",
          "height": 137
        }
      },
      "source": [
        "aggregate(sungjuk$eng, by=list(sungjuk$class), FUN=min)"
      ],
      "execution_count": 17,
      "outputs": [
        {
          "output_type": "display_data",
          "data": {
            "text/plain": [
              "  Group.1 x \n",
              "1 1       69\n",
              "2 2       78"
            ],
            "text/latex": "A data.frame: 2 × 2\n\\begin{tabular}{ll}\n Group.1 & x\\\\\n <dbl> & <dbl>\\\\\n\\hline\n\t 1 & 69\\\\\n\t 2 & 78\\\\\n\\end{tabular}\n",
            "text/markdown": "\nA data.frame: 2 × 2\n\n| Group.1 &lt;dbl&gt; | x &lt;dbl&gt; |\n|---|---|\n| 1 | 69 |\n| 2 | 78 |\n\n",
            "text/html": [
              "<table>\n",
              "<caption>A data.frame: 2 × 2</caption>\n",
              "<thead>\n",
              "\t<tr><th scope=col>Group.1</th><th scope=col>x</th></tr>\n",
              "\t<tr><th scope=col>&lt;dbl&gt;</th><th scope=col>&lt;dbl&gt;</th></tr>\n",
              "</thead>\n",
              "<tbody>\n",
              "\t<tr><td>1</td><td>69</td></tr>\n",
              "\t<tr><td>2</td><td>78</td></tr>\n",
              "</tbody>\n",
              "</table>\n"
            ]
          },
          "metadata": {
            "tags": []
          }
        }
      ]
    },
    {
      "cell_type": "code",
      "metadata": {
        "id": "horCTlA9lUiW",
        "outputId": "3064cae8-4d9e-471e-828e-ac0309af3dfc",
        "colab": {
          "base_uri": "https://localhost:8080/",
          "height": 194
        }
      },
      "source": [
        "# 클래스별 평균 영어/수학/과학 점수는?\n",
        "aggregate(sungjuk, by=list(sungjuk$class), FUN=mean)"
      ],
      "execution_count": 18,
      "outputs": [
        {
          "output_type": "stream",
          "text": [
            "Warning message in mean.default(X[[i]], ...):\n",
            "“argument is not numeric or logical: returning NA”\n",
            "Warning message in mean.default(X[[i]], ...):\n",
            "“argument is not numeric or logical: returning NA”\n"
          ],
          "name": "stderr"
        },
        {
          "output_type": "display_data",
          "data": {
            "text/plain": [
              "  Group.1 name eng  mat  sci tot   avg  class\n",
              "1 1       NA   79.5 67.0 80  226.5 75.5 1    \n",
              "2 2       NA   86.5 95.5 70  252.0 84.0 2    "
            ],
            "text/latex": "A data.frame: 2 × 8\n\\begin{tabular}{llllllll}\n Group.1 & name & eng & mat & sci & tot & avg & class\\\\\n <dbl> & <dbl> & <dbl> & <dbl> & <dbl> & <dbl> & <dbl> & <dbl>\\\\\n\\hline\n\t 1 & NA & 79.5 & 67.0 & 80 & 226.5 & 75.5 & 1\\\\\n\t 2 & NA & 86.5 & 95.5 & 70 & 252.0 & 84.0 & 2\\\\\n\\end{tabular}\n",
            "text/markdown": "\nA data.frame: 2 × 8\n\n| Group.1 &lt;dbl&gt; | name &lt;dbl&gt; | eng &lt;dbl&gt; | mat &lt;dbl&gt; | sci &lt;dbl&gt; | tot &lt;dbl&gt; | avg &lt;dbl&gt; | class &lt;dbl&gt; |\n|---|---|---|---|---|---|---|---|\n| 1 | NA | 79.5 | 67.0 | 80 | 226.5 | 75.5 | 1 |\n| 2 | NA | 86.5 | 95.5 | 70 | 252.0 | 84.0 | 2 |\n\n",
            "text/html": [
              "<table>\n",
              "<caption>A data.frame: 2 × 8</caption>\n",
              "<thead>\n",
              "\t<tr><th scope=col>Group.1</th><th scope=col>name</th><th scope=col>eng</th><th scope=col>mat</th><th scope=col>sci</th><th scope=col>tot</th><th scope=col>avg</th><th scope=col>class</th></tr>\n",
              "\t<tr><th scope=col>&lt;dbl&gt;</th><th scope=col>&lt;dbl&gt;</th><th scope=col>&lt;dbl&gt;</th><th scope=col>&lt;dbl&gt;</th><th scope=col>&lt;dbl&gt;</th><th scope=col>&lt;dbl&gt;</th><th scope=col>&lt;dbl&gt;</th><th scope=col>&lt;dbl&gt;</th></tr>\n",
              "</thead>\n",
              "<tbody>\n",
              "\t<tr><td>1</td><td>NA</td><td>79.5</td><td>67.0</td><td>80</td><td>226.5</td><td>75.5</td><td>1</td></tr>\n",
              "\t<tr><td>2</td><td>NA</td><td>86.5</td><td>95.5</td><td>70</td><td>252.0</td><td>84.0</td><td>2</td></tr>\n",
              "</tbody>\n",
              "</table>\n"
            ]
          },
          "metadata": {
            "tags": []
          }
        }
      ]
    },
    {
      "cell_type": "code",
      "metadata": {
        "id": "4kJX5_ARlv_G"
      },
      "source": [
        "# aggregate(sungjuk[행, 열], by=list(sungjuk$class), FUN=mean)\n",
        "# aggregate(sungjuk[, c(2,3,4)], by=list(sungjuk$class), FUN=mean)\n",
        "# aggregate(sungjuk[, 2:4], by=list(sungjuk$class), FUN=mean)"
      ],
      "execution_count": null,
      "outputs": []
    },
    {
      "cell_type": "code",
      "metadata": {
        "id": "4x5myB2wmbqI"
      },
      "source": [
        "# mtcars 데이터셋을 이용해서\n",
        "# 실린더cyl별 컬럼을 기준으로 평균, 최대, 최소 연비mpg는?"
      ],
      "execution_count": null,
      "outputs": []
    },
    {
      "cell_type": "code",
      "metadata": {
        "id": "arT3S4i4mzdN"
      },
      "source": [
        "# mtcars : 1973~74, 대중적인 32종 차량 주행테스트 데이터"
      ],
      "execution_count": null,
      "outputs": []
    },
    {
      "cell_type": "code",
      "metadata": {
        "id": "HKK0IGsImsh_",
        "outputId": "61ad59de-ffed-4c90-a219-18c82bf62af3",
        "colab": {
          "base_uri": "https://localhost:8080/",
          "height": 241
        }
      },
      "source": [
        "str(mtcars)"
      ],
      "execution_count": 19,
      "outputs": [
        {
          "output_type": "stream",
          "text": [
            "'data.frame':\t32 obs. of  11 variables:\n",
            " $ mpg : num  21 21 22.8 21.4 18.7 18.1 14.3 24.4 22.8 19.2 ...\n",
            " $ cyl : num  6 6 4 6 8 6 8 4 4 6 ...\n",
            " $ disp: num  160 160 108 258 360 ...\n",
            " $ hp  : num  110 110 93 110 175 105 245 62 95 123 ...\n",
            " $ drat: num  3.9 3.9 3.85 3.08 3.15 2.76 3.21 3.69 3.92 3.92 ...\n",
            " $ wt  : num  2.62 2.88 2.32 3.21 3.44 ...\n",
            " $ qsec: num  16.5 17 18.6 19.4 17 ...\n",
            " $ vs  : num  0 0 1 1 0 1 0 1 1 1 ...\n",
            " $ am  : num  1 1 1 0 0 0 0 0 0 0 ...\n",
            " $ gear: num  4 4 4 3 3 3 3 4 4 4 ...\n",
            " $ carb: num  4 4 1 1 2 1 4 2 2 4 ...\n"
          ],
          "name": "stdout"
        }
      ]
    },
    {
      "cell_type": "code",
      "metadata": {
        "id": "82qPTkGgnDv_",
        "outputId": "c3d598e3-2a6c-4e01-e5a3-6a9dca62fa62",
        "colab": {
          "base_uri": "https://localhost:8080/",
          "height": 157
        }
      },
      "source": [
        "aggregate(mtcars$mpg, by=list(mtcars$cyl), FUN=max)"
      ],
      "execution_count": 20,
      "outputs": [
        {
          "output_type": "display_data",
          "data": {
            "text/plain": [
              "  Group.1 x   \n",
              "1 4       33.9\n",
              "2 6       21.4\n",
              "3 8       19.2"
            ],
            "text/latex": "A data.frame: 3 × 2\n\\begin{tabular}{ll}\n Group.1 & x\\\\\n <dbl> & <dbl>\\\\\n\\hline\n\t 4 & 33.9\\\\\n\t 6 & 21.4\\\\\n\t 8 & 19.2\\\\\n\\end{tabular}\n",
            "text/markdown": "\nA data.frame: 3 × 2\n\n| Group.1 &lt;dbl&gt; | x &lt;dbl&gt; |\n|---|---|\n| 4 | 33.9 |\n| 6 | 21.4 |\n| 8 | 19.2 |\n\n",
            "text/html": [
              "<table>\n",
              "<caption>A data.frame: 3 × 2</caption>\n",
              "<thead>\n",
              "\t<tr><th scope=col>Group.1</th><th scope=col>x</th></tr>\n",
              "\t<tr><th scope=col>&lt;dbl&gt;</th><th scope=col>&lt;dbl&gt;</th></tr>\n",
              "</thead>\n",
              "<tbody>\n",
              "\t<tr><td>4</td><td>33.9</td></tr>\n",
              "\t<tr><td>6</td><td>21.4</td></tr>\n",
              "\t<tr><td>8</td><td>19.2</td></tr>\n",
              "</tbody>\n",
              "</table>\n"
            ]
          },
          "metadata": {
            "tags": []
          }
        }
      ]
    },
    {
      "cell_type": "code",
      "metadata": {
        "id": "g6uQt8Sfnb3d",
        "outputId": "bcaccac2-e90b-4206-afdc-1f981d5205a2",
        "colab": {
          "base_uri": "https://localhost:8080/",
          "height": 157
        }
      },
      "source": [
        "aggregate(mtcars$mpg, by=list(mtcars$cyl), FUN=min)"
      ],
      "execution_count": 21,
      "outputs": [
        {
          "output_type": "display_data",
          "data": {
            "text/plain": [
              "  Group.1 x   \n",
              "1 4       21.4\n",
              "2 6       17.8\n",
              "3 8       10.4"
            ],
            "text/latex": "A data.frame: 3 × 2\n\\begin{tabular}{ll}\n Group.1 & x\\\\\n <dbl> & <dbl>\\\\\n\\hline\n\t 4 & 21.4\\\\\n\t 6 & 17.8\\\\\n\t 8 & 10.4\\\\\n\\end{tabular}\n",
            "text/markdown": "\nA data.frame: 3 × 2\n\n| Group.1 &lt;dbl&gt; | x &lt;dbl&gt; |\n|---|---|\n| 4 | 21.4 |\n| 6 | 17.8 |\n| 8 | 10.4 |\n\n",
            "text/html": [
              "<table>\n",
              "<caption>A data.frame: 3 × 2</caption>\n",
              "<thead>\n",
              "\t<tr><th scope=col>Group.1</th><th scope=col>x</th></tr>\n",
              "\t<tr><th scope=col>&lt;dbl&gt;</th><th scope=col>&lt;dbl&gt;</th></tr>\n",
              "</thead>\n",
              "<tbody>\n",
              "\t<tr><td>4</td><td>21.4</td></tr>\n",
              "\t<tr><td>6</td><td>17.8</td></tr>\n",
              "\t<tr><td>8</td><td>10.4</td></tr>\n",
              "</tbody>\n",
              "</table>\n"
            ]
          },
          "metadata": {
            "tags": []
          }
        }
      ]
    },
    {
      "cell_type": "code",
      "metadata": {
        "id": "8Ov69q8vniLC",
        "outputId": "b0fc50f6-35db-4f8e-a9f1-5e03a5807397",
        "colab": {
          "base_uri": "https://localhost:8080/",
          "height": 157
        }
      },
      "source": [
        "aggregate(mtcars$mpg, by=list(mtcars$cyl), FUN=mean)"
      ],
      "execution_count": 22,
      "outputs": [
        {
          "output_type": "display_data",
          "data": {
            "text/plain": [
              "  Group.1 x       \n",
              "1 4       26.66364\n",
              "2 6       19.74286\n",
              "3 8       15.10000"
            ],
            "text/latex": "A data.frame: 3 × 2\n\\begin{tabular}{ll}\n Group.1 & x\\\\\n <dbl> & <dbl>\\\\\n\\hline\n\t 4 & 26.66364\\\\\n\t 6 & 19.74286\\\\\n\t 8 & 15.10000\\\\\n\\end{tabular}\n",
            "text/markdown": "\nA data.frame: 3 × 2\n\n| Group.1 &lt;dbl&gt; | x &lt;dbl&gt; |\n|---|---|\n| 4 | 26.66364 |\n| 6 | 19.74286 |\n| 8 | 15.10000 |\n\n",
            "text/html": [
              "<table>\n",
              "<caption>A data.frame: 3 × 2</caption>\n",
              "<thead>\n",
              "\t<tr><th scope=col>Group.1</th><th scope=col>x</th></tr>\n",
              "\t<tr><th scope=col>&lt;dbl&gt;</th><th scope=col>&lt;dbl&gt;</th></tr>\n",
              "</thead>\n",
              "<tbody>\n",
              "\t<tr><td>4</td><td>26.66364</td></tr>\n",
              "\t<tr><td>6</td><td>19.74286</td></tr>\n",
              "\t<tr><td>8</td><td>15.10000</td></tr>\n",
              "</tbody>\n",
              "</table>\n"
            ]
          },
          "metadata": {
            "tags": []
          }
        }
      ]
    },
    {
      "cell_type": "code",
      "metadata": {
        "id": "UQiXJBFcoCB-"
      },
      "source": [
        "# dplyr 라이브러리\n",
        "# 하들리위캄이 만든 패키지 모음 중 하나\n",
        "# 데이터 처리, 탐색에 빠르고 유용한 기능들을 제공함\n",
        "# 데이터분석의 사실상의 표준으로 받아들여지고 있음\n",
        "# install.packages('dplyr')\n",
        "# select : 열선택\n",
        "# filter : 조건선택\n",
        "# mutate : 행/열 추가\n",
        "# summarise : 데이터 집계\n",
        "# group_by : 데이터 그룹화\n",
        "# arrange : 데이터 정렬"
      ],
      "execution_count": null,
      "outputs": []
    },
    {
      "cell_type": "code",
      "metadata": {
        "id": "sBnN_84AzyoF",
        "outputId": "15c737ee-0235-4d3a-e4e4-e6e32b8abc40",
        "colab": {
          "base_uri": "https://localhost:8080/",
          "height": 279
        }
      },
      "source": [
        "library(dplyr)"
      ],
      "execution_count": 23,
      "outputs": [
        {
          "output_type": "stream",
          "text": [
            "\n",
            "Attaching package: ‘dplyr’\n",
            "\n",
            "\n",
            "The following objects are masked from ‘package:stats’:\n",
            "\n",
            "    filter, lag\n",
            "\n",
            "\n",
            "The following objects are masked from ‘package:base’:\n",
            "\n",
            "    intersect, setdiff, setequal, union\n",
            "\n",
            "\n"
          ],
          "name": "stderr"
        }
      ]
    },
    {
      "cell_type": "code",
      "metadata": {
        "id": "7gKwTlkf0acl"
      },
      "source": [
        "# 연산 수행시 파이프(>) 패러다임을 이용해서\n",
        "# 체인 형식으로 연산을 수행할 수 있음 \n",
        "# ex) sum(titanic, na.rm=T)\n",
        "      titanic %>% sum(na.rm=T)"
      ],
      "execution_count": null,
      "outputs": []
    },
    {
      "cell_type": "code",
      "metadata": {
        "id": "qCNflOwC1q8r",
        "outputId": "c9e32c09-6689-4ed0-9e14-5f48b4322b5d",
        "colab": {
          "base_uri": "https://localhost:8080/",
          "height": 195
        }
      },
      "source": [
        "# select : 열선택\n",
        "# sungjuk 데이터프레임에서 영어 출력\n",
        "sungjuk %>% select(eng) # 파이프패러다임 이용\n",
        "# select(sungjuk, eng)  # 일반적인 함수 표기"
      ],
      "execution_count": 24,
      "outputs": [
        {
          "output_type": "display_data",
          "data": {
            "text/plain": [
              "  eng\n",
              "1 90 \n",
              "2 95 \n",
              "3 69 \n",
              "4 78 "
            ],
            "text/latex": "A data.frame: 4 × 1\n\\begin{tabular}{l}\n eng\\\\\n <dbl>\\\\\n\\hline\n\t 90\\\\\n\t 95\\\\\n\t 69\\\\\n\t 78\\\\\n\\end{tabular}\n",
            "text/markdown": "\nA data.frame: 4 × 1\n\n| eng &lt;dbl&gt; |\n|---|\n| 90 |\n| 95 |\n| 69 |\n| 78 |\n\n",
            "text/html": [
              "<table>\n",
              "<caption>A data.frame: 4 × 1</caption>\n",
              "<thead>\n",
              "\t<tr><th scope=col>eng</th></tr>\n",
              "\t<tr><th scope=col>&lt;dbl&gt;</th></tr>\n",
              "</thead>\n",
              "<tbody>\n",
              "\t<tr><td>90</td></tr>\n",
              "\t<tr><td>95</td></tr>\n",
              "\t<tr><td>69</td></tr>\n",
              "\t<tr><td>78</td></tr>\n",
              "</tbody>\n",
              "</table>\n"
            ]
          },
          "metadata": {
            "tags": []
          }
        }
      ]
    },
    {
      "cell_type": "code",
      "metadata": {
        "id": "Kcjm_wMn1xsa",
        "outputId": "6294f6f5-7281-4fe1-ec01-5b81bc45fab0",
        "colab": {
          "base_uri": "https://localhost:8080/",
          "height": 161
        }
      },
      "source": [
        "#  sungjuk 데이터프레임에서 영어/수학/과학 출력\n",
        "sungjuk %>% select(eng, mat, sci)"
      ],
      "execution_count": 25,
      "outputs": [
        {
          "output_type": "display_data",
          "data": {
            "text/plain": [
              "  eng mat sci\n",
              "1 90  85  90 \n",
              "2 95  96  80 \n",
              "3 69  49  70 \n",
              "4 78  95  60 "
            ],
            "text/latex": "A data.frame: 4 × 3\n\\begin{tabular}{lll}\n eng & mat & sci\\\\\n <dbl> & <dbl> & <dbl>\\\\\n\\hline\n\t 90 & 85 & 90\\\\\n\t 95 & 96 & 80\\\\\n\t 69 & 49 & 70\\\\\n\t 78 & 95 & 60\\\\\n\\end{tabular}\n",
            "text/markdown": "\nA data.frame: 4 × 3\n\n| eng &lt;dbl&gt; | mat &lt;dbl&gt; | sci &lt;dbl&gt; |\n|---|---|---|\n| 90 | 85 | 90 |\n| 95 | 96 | 80 |\n| 69 | 49 | 70 |\n| 78 | 95 | 60 |\n\n",
            "text/html": [
              "<table>\n",
              "<caption>A data.frame: 4 × 3</caption>\n",
              "<thead>\n",
              "\t<tr><th scope=col>eng</th><th scope=col>mat</th><th scope=col>sci</th></tr>\n",
              "\t<tr><th scope=col>&lt;dbl&gt;</th><th scope=col>&lt;dbl&gt;</th><th scope=col>&lt;dbl&gt;</th></tr>\n",
              "</thead>\n",
              "<tbody>\n",
              "\t<tr><td>90</td><td>85</td><td>90</td></tr>\n",
              "\t<tr><td>95</td><td>96</td><td>80</td></tr>\n",
              "\t<tr><td>69</td><td>49</td><td>70</td></tr>\n",
              "\t<tr><td>78</td><td>95</td><td>60</td></tr>\n",
              "</tbody>\n",
              "</table>\n"
            ]
          },
          "metadata": {
            "tags": []
          }
        }
      ]
    },
    {
      "cell_type": "code",
      "metadata": {
        "id": "q9gZ8Pvw2Tz0",
        "outputId": "73cb1c3c-01bb-44d6-e0dd-d7ce42b7eb4b",
        "colab": {
          "base_uri": "https://localhost:8080/",
          "height": 119
        }
      },
      "source": [
        "# filter : 조건검색\n",
        "# class가 1인 학생들 출력\n",
        "sungjuk %>% filter(class == 1)"
      ],
      "execution_count": 26,
      "outputs": [
        {
          "output_type": "display_data",
          "data": {
            "text/plain": [
              "  name eng mat sci tot avg      class\n",
              "1 John 90  85  90  265 88.33333 1    \n",
              "2 Mark 69  49  70  188 62.66667 1    "
            ],
            "text/latex": "A data.frame: 2 × 7\n\\begin{tabular}{lllllll}\n name & eng & mat & sci & tot & avg & class\\\\\n <fct> & <dbl> & <dbl> & <dbl> & <dbl> & <dbl> & <dbl>\\\\\n\\hline\n\t John & 90 & 85 & 90 & 265 & 88.33333 & 1\\\\\n\t Mark & 69 & 49 & 70 & 188 & 62.66667 & 1\\\\\n\\end{tabular}\n",
            "text/markdown": "\nA data.frame: 2 × 7\n\n| name &lt;fct&gt; | eng &lt;dbl&gt; | mat &lt;dbl&gt; | sci &lt;dbl&gt; | tot &lt;dbl&gt; | avg &lt;dbl&gt; | class &lt;dbl&gt; |\n|---|---|---|---|---|---|---|\n| John | 90 | 85 | 90 | 265 | 88.33333 | 1 |\n| Mark | 69 | 49 | 70 | 188 | 62.66667 | 1 |\n\n",
            "text/html": [
              "<table>\n",
              "<caption>A data.frame: 2 × 7</caption>\n",
              "<thead>\n",
              "\t<tr><th scope=col>name</th><th scope=col>eng</th><th scope=col>mat</th><th scope=col>sci</th><th scope=col>tot</th><th scope=col>avg</th><th scope=col>class</th></tr>\n",
              "\t<tr><th scope=col>&lt;fct&gt;</th><th scope=col>&lt;dbl&gt;</th><th scope=col>&lt;dbl&gt;</th><th scope=col>&lt;dbl&gt;</th><th scope=col>&lt;dbl&gt;</th><th scope=col>&lt;dbl&gt;</th><th scope=col>&lt;dbl&gt;</th></tr>\n",
              "</thead>\n",
              "<tbody>\n",
              "\t<tr><td>John</td><td>90</td><td>85</td><td>90</td><td>265</td><td>88.33333</td><td>1</td></tr>\n",
              "\t<tr><td>Mark</td><td>69</td><td>49</td><td>70</td><td>188</td><td>62.66667</td><td>1</td></tr>\n",
              "</tbody>\n",
              "</table>\n"
            ]
          },
          "metadata": {
            "tags": []
          }
        }
      ]
    },
    {
      "cell_type": "code",
      "metadata": {
        "id": "lMb7Ah6A2i7U",
        "outputId": "d85725a9-5194-4922-cd9f-4b96eb7b9f15",
        "colab": {
          "base_uri": "https://localhost:8080/",
          "height": 140
        }
      },
      "source": [
        "# 영어점수가 70이상, 수학점수 80이상 학생들 출력 (and)\n",
        "sungjuk %>% filter(eng >= 70) %>% filter(mat >=80)"
      ],
      "execution_count": 27,
      "outputs": [
        {
          "output_type": "display_data",
          "data": {
            "text/plain": [
              "  name eng mat sci tot avg      class\n",
              "1 John 90  85  90  265 88.33333 1    \n",
              "2 Tom  95  96  80  271 90.33333 2    \n",
              "3 Jane 78  95  60  233 77.66667 2    "
            ],
            "text/latex": "A data.frame: 3 × 7\n\\begin{tabular}{lllllll}\n name & eng & mat & sci & tot & avg & class\\\\\n <fct> & <dbl> & <dbl> & <dbl> & <dbl> & <dbl> & <dbl>\\\\\n\\hline\n\t John & 90 & 85 & 90 & 265 & 88.33333 & 1\\\\\n\t Tom  & 95 & 96 & 80 & 271 & 90.33333 & 2\\\\\n\t Jane & 78 & 95 & 60 & 233 & 77.66667 & 2\\\\\n\\end{tabular}\n",
            "text/markdown": "\nA data.frame: 3 × 7\n\n| name &lt;fct&gt; | eng &lt;dbl&gt; | mat &lt;dbl&gt; | sci &lt;dbl&gt; | tot &lt;dbl&gt; | avg &lt;dbl&gt; | class &lt;dbl&gt; |\n|---|---|---|---|---|---|---|\n| John | 90 | 85 | 90 | 265 | 88.33333 | 1 |\n| Tom  | 95 | 96 | 80 | 271 | 90.33333 | 2 |\n| Jane | 78 | 95 | 60 | 233 | 77.66667 | 2 |\n\n",
            "text/html": [
              "<table>\n",
              "<caption>A data.frame: 3 × 7</caption>\n",
              "<thead>\n",
              "\t<tr><th scope=col>name</th><th scope=col>eng</th><th scope=col>mat</th><th scope=col>sci</th><th scope=col>tot</th><th scope=col>avg</th><th scope=col>class</th></tr>\n",
              "\t<tr><th scope=col>&lt;fct&gt;</th><th scope=col>&lt;dbl&gt;</th><th scope=col>&lt;dbl&gt;</th><th scope=col>&lt;dbl&gt;</th><th scope=col>&lt;dbl&gt;</th><th scope=col>&lt;dbl&gt;</th><th scope=col>&lt;dbl&gt;</th></tr>\n",
              "</thead>\n",
              "<tbody>\n",
              "\t<tr><td>John</td><td>90</td><td>85</td><td>90</td><td>265</td><td>88.33333</td><td>1</td></tr>\n",
              "\t<tr><td>Tom </td><td>95</td><td>96</td><td>80</td><td>271</td><td>90.33333</td><td>2</td></tr>\n",
              "\t<tr><td>Jane</td><td>78</td><td>95</td><td>60</td><td>233</td><td>77.66667</td><td>2</td></tr>\n",
              "</tbody>\n",
              "</table>\n"
            ]
          },
          "metadata": {
            "tags": []
          }
        }
      ]
    },
    {
      "cell_type": "code",
      "metadata": {
        "id": "weHIW7La2_hj"
      },
      "source": [
        "sungjuk %>% filter(eng >= 70 & mat >= 80)\n",
        "sungjuk %>% filter(eng >= 70, mat >= 80)"
      ],
      "execution_count": null,
      "outputs": []
    },
    {
      "cell_type": "code",
      "metadata": {
        "id": "OLWRBUcC3RSn",
        "outputId": "1c68835f-970c-4794-bc10-769dd3441f4f",
        "colab": {
          "base_uri": "https://localhost:8080/",
          "height": 140
        }
      },
      "source": [
        "# 영어점수가 70이상이거나 수학점수 80이상 학생들 출력 (or)\n",
        "sungjuk %>% filter(eng >= 70 | mat >=80)"
      ],
      "execution_count": 29,
      "outputs": [
        {
          "output_type": "display_data",
          "data": {
            "text/plain": [
              "  name eng mat sci tot avg      class\n",
              "1 John 90  85  90  265 88.33333 1    \n",
              "2 Tom  95  96  80  271 90.33333 2    \n",
              "3 Jane 78  95  60  233 77.66667 2    "
            ],
            "text/latex": "A data.frame: 3 × 7\n\\begin{tabular}{lllllll}\n name & eng & mat & sci & tot & avg & class\\\\\n <fct> & <dbl> & <dbl> & <dbl> & <dbl> & <dbl> & <dbl>\\\\\n\\hline\n\t John & 90 & 85 & 90 & 265 & 88.33333 & 1\\\\\n\t Tom  & 95 & 96 & 80 & 271 & 90.33333 & 2\\\\\n\t Jane & 78 & 95 & 60 & 233 & 77.66667 & 2\\\\\n\\end{tabular}\n",
            "text/markdown": "\nA data.frame: 3 × 7\n\n| name &lt;fct&gt; | eng &lt;dbl&gt; | mat &lt;dbl&gt; | sci &lt;dbl&gt; | tot &lt;dbl&gt; | avg &lt;dbl&gt; | class &lt;dbl&gt; |\n|---|---|---|---|---|---|---|\n| John | 90 | 85 | 90 | 265 | 88.33333 | 1 |\n| Tom  | 95 | 96 | 80 | 271 | 90.33333 | 2 |\n| Jane | 78 | 95 | 60 | 233 | 77.66667 | 2 |\n\n",
            "text/html": [
              "<table>\n",
              "<caption>A data.frame: 3 × 7</caption>\n",
              "<thead>\n",
              "\t<tr><th scope=col>name</th><th scope=col>eng</th><th scope=col>mat</th><th scope=col>sci</th><th scope=col>tot</th><th scope=col>avg</th><th scope=col>class</th></tr>\n",
              "\t<tr><th scope=col>&lt;fct&gt;</th><th scope=col>&lt;dbl&gt;</th><th scope=col>&lt;dbl&gt;</th><th scope=col>&lt;dbl&gt;</th><th scope=col>&lt;dbl&gt;</th><th scope=col>&lt;dbl&gt;</th><th scope=col>&lt;dbl&gt;</th></tr>\n",
              "</thead>\n",
              "<tbody>\n",
              "\t<tr><td>John</td><td>90</td><td>85</td><td>90</td><td>265</td><td>88.33333</td><td>1</td></tr>\n",
              "\t<tr><td>Tom </td><td>95</td><td>96</td><td>80</td><td>271</td><td>90.33333</td><td>2</td></tr>\n",
              "\t<tr><td>Jane</td><td>78</td><td>95</td><td>60</td><td>233</td><td>77.66667</td><td>2</td></tr>\n",
              "</tbody>\n",
              "</table>\n"
            ]
          },
          "metadata": {
            "tags": []
          }
        }
      ]
    },
    {
      "cell_type": "code",
      "metadata": {
        "id": "2e5z350m3o-l",
        "outputId": "f56fb74a-5e0d-416e-b8f8-7985baebc35f",
        "colab": {
          "base_uri": "https://localhost:8080/",
          "height": 157
        }
      },
      "source": [
        "# 영어점수가 70이상, 수학점수 80이상 학생들의 \n",
        "# 클래스와 이름 출력\n",
        "sungjuk %>% filter(eng >= 70, mat >= 80) %>% select(class, name)"
      ],
      "execution_count": 30,
      "outputs": [
        {
          "output_type": "display_data",
          "data": {
            "text/plain": [
              "  class name\n",
              "1 1     John\n",
              "2 2     Tom \n",
              "3 2     Jane"
            ],
            "text/latex": "A data.frame: 3 × 2\n\\begin{tabular}{ll}\n class & name\\\\\n <dbl> & <fct>\\\\\n\\hline\n\t 1 & John\\\\\n\t 2 & Tom \\\\\n\t 2 & Jane\\\\\n\\end{tabular}\n",
            "text/markdown": "\nA data.frame: 3 × 2\n\n| class &lt;dbl&gt; | name &lt;fct&gt; |\n|---|---|\n| 1 | John |\n| 2 | Tom  |\n| 2 | Jane |\n\n",
            "text/html": [
              "<table>\n",
              "<caption>A data.frame: 3 × 2</caption>\n",
              "<thead>\n",
              "\t<tr><th scope=col>class</th><th scope=col>name</th></tr>\n",
              "\t<tr><th scope=col>&lt;dbl&gt;</th><th scope=col>&lt;fct&gt;</th></tr>\n",
              "</thead>\n",
              "<tbody>\n",
              "\t<tr><td>1</td><td>John</td></tr>\n",
              "\t<tr><td>2</td><td>Tom </td></tr>\n",
              "\t<tr><td>2</td><td>Jane</td></tr>\n",
              "</tbody>\n",
              "</table>\n"
            ]
          },
          "metadata": {
            "tags": []
          }
        }
      ]
    },
    {
      "cell_type": "code",
      "metadata": {
        "id": "foYO5WIg4ViD"
      },
      "source": [
        "# 성적데이터 초기화\n",
        "load('sungjuk.rdata')"
      ],
      "execution_count": 31,
      "outputs": []
    },
    {
      "cell_type": "code",
      "metadata": {
        "id": "w3f0oD3f4gsC"
      },
      "source": [
        "# 영어/수학/과학에 대해 총점/평균을 계산하고\n",
        "# tot, avg 컬럼에 저장하세요\n",
        "sungjuk <- sungjuk %>% mutate(tot= eng + mat + sci) \n",
        "sungjuk <- sungjuk %>% mutate(avg = tot / 3)"
      ],
      "execution_count": 32,
      "outputs": []
    },
    {
      "cell_type": "code",
      "metadata": {
        "id": "rebWMhLk5UW1",
        "outputId": "26bdaab6-3e55-4a4d-bd3d-1986b7f386dc",
        "colab": {
          "base_uri": "https://localhost:8080/",
          "height": 161
        }
      },
      "source": [
        "sungjuk %>% mutate(tot = eng + mat + sci, avg = round(tot / 3, 1))"
      ],
      "execution_count": 33,
      "outputs": [
        {
          "output_type": "display_data",
          "data": {
            "text/plain": [
              "  name eng mat sci tot avg \n",
              "1 John 90  85  90  265 88.3\n",
              "2 Tom  95  96  80  271 90.3\n",
              "3 Mark 69  49  70  188 62.7\n",
              "4 Jane 78  95  60  233 77.7"
            ],
            "text/latex": "A data.frame: 4 × 6\n\\begin{tabular}{llllll}\n name & eng & mat & sci & tot & avg\\\\\n <fct> & <dbl> & <dbl> & <dbl> & <dbl> & <dbl>\\\\\n\\hline\n\t John & 90 & 85 & 90 & 265 & 88.3\\\\\n\t Tom  & 95 & 96 & 80 & 271 & 90.3\\\\\n\t Mark & 69 & 49 & 70 & 188 & 62.7\\\\\n\t Jane & 78 & 95 & 60 & 233 & 77.7\\\\\n\\end{tabular}\n",
            "text/markdown": "\nA data.frame: 4 × 6\n\n| name &lt;fct&gt; | eng &lt;dbl&gt; | mat &lt;dbl&gt; | sci &lt;dbl&gt; | tot &lt;dbl&gt; | avg &lt;dbl&gt; |\n|---|---|---|---|---|---|\n| John | 90 | 85 | 90 | 265 | 88.3 |\n| Tom  | 95 | 96 | 80 | 271 | 90.3 |\n| Mark | 69 | 49 | 70 | 188 | 62.7 |\n| Jane | 78 | 95 | 60 | 233 | 77.7 |\n\n",
            "text/html": [
              "<table>\n",
              "<caption>A data.frame: 4 × 6</caption>\n",
              "<thead>\n",
              "\t<tr><th scope=col>name</th><th scope=col>eng</th><th scope=col>mat</th><th scope=col>sci</th><th scope=col>tot</th><th scope=col>avg</th></tr>\n",
              "\t<tr><th scope=col>&lt;fct&gt;</th><th scope=col>&lt;dbl&gt;</th><th scope=col>&lt;dbl&gt;</th><th scope=col>&lt;dbl&gt;</th><th scope=col>&lt;dbl&gt;</th><th scope=col>&lt;dbl&gt;</th></tr>\n",
              "</thead>\n",
              "<tbody>\n",
              "\t<tr><td>John</td><td>90</td><td>85</td><td>90</td><td>265</td><td>88.3</td></tr>\n",
              "\t<tr><td>Tom </td><td>95</td><td>96</td><td>80</td><td>271</td><td>90.3</td></tr>\n",
              "\t<tr><td>Mark</td><td>69</td><td>49</td><td>70</td><td>188</td><td>62.7</td></tr>\n",
              "\t<tr><td>Jane</td><td>78</td><td>95</td><td>60</td><td>233</td><td>77.7</td></tr>\n",
              "</tbody>\n",
              "</table>\n"
            ]
          },
          "metadata": {
            "tags": []
          }
        }
      ]
    },
    {
      "cell_type": "code",
      "metadata": {
        "id": "0988rbsy5r4F",
        "outputId": "aeaa30e8-0a22-4f12-e885-7b888ab78529",
        "colab": {
          "base_uri": "https://localhost:8080/",
          "height": 35
        }
      },
      "source": [
        "# 조건식 함수\n",
        "# ifelse(조건식, 참일경우 값, 거짓일때 값)\n",
        "x <- 55\n",
        "ifelse(x >= 50, '잘했어요!', '노력하세요')\n",
        "result <- ifelse(x >= 50, '잘했어요!', '노력하세요')"
      ],
      "execution_count": 34,
      "outputs": [
        {
          "output_type": "display_data",
          "data": {
            "text/plain": [
              "[1] \"잘했어요!\""
            ],
            "text/latex": "'잘했어요!'",
            "text/markdown": "'잘했어요!'",
            "text/html": [
              "'잘했어요!'"
            ]
          },
          "metadata": {
            "tags": []
          }
        }
      ]
    },
    {
      "cell_type": "code",
      "metadata": {
        "id": "0i6-gnfw6nFF"
      },
      "source": [
        "# 0~30 : 작음 (x <= 30)\n",
        "# 31~60 : 보통 (x <= 60) \n",
        "# 61~100 : 잘했음 (x <= 100)\n",
        "ifelse(x <= 30, '작음',ifelse(x <= 60, '보통), '잘했음'))"
      ],
      "execution_count": null,
      "outputs": []
    },
    {
      "cell_type": "code",
      "metadata": {
        "id": "JbdPKa6M8rcE",
        "outputId": "c4f6d492-c6f7-42c0-ccc4-ebd77d576e4b",
        "colab": {
          "base_uri": "https://localhost:8080/",
          "height": 157
        }
      },
      "source": [
        "# 학점 ABCDF를 계산하는 조건식\n",
        "ifelse 함수로 작성해보세요\n",
        "#90/80/70/60/~)\n",
        "ifelse(x >= 90, \"A\", ifelse(x >= 80, \"B\", ifelse(x >= 70, \"C\", ifelse(x >= 60, \"D\", \"F\")))"
      ],
      "execution_count": 36,
      "outputs": [
        {
          "output_type": "error",
          "ename": "ERROR",
          "evalue": "ignored",
          "traceback": [
            "Error in parse(text = x, srcfile = src): <text>:2:8: unexpected symbol\n1: # 학점 ABCDF를 계산하는 조건식\n2: ifelse 함수로\n          ^\nTraceback:\n"
          ]
        }
      ]
    },
    {
      "cell_type": "code",
      "metadata": {
        "id": "DuXH_LVg9mcl",
        "outputId": "bd9ef63c-f973-4adf-827d-35ac9f1211e2",
        "colab": {
          "base_uri": "https://localhost:8080/",
          "height": 35
        }
      },
      "source": [
        "X <- sungjuk$eng\n",
        "ifelse(x >= 90, \"A\", ifelse(x >= 80, \"B\", ifelse(x >= 70, \"C\", ifelse(x >= 60, \"D\", \"F\"))))"
      ],
      "execution_count": 38,
      "outputs": [
        {
          "output_type": "display_data",
          "data": {
            "text/plain": [
              "[1] \"F\""
            ],
            "text/latex": "'F'",
            "text/markdown": "'F'",
            "text/html": [
              "'F'"
            ]
          },
          "metadata": {
            "tags": []
          }
        }
      ]
    },
    {
      "cell_type": "code",
      "metadata": {
        "id": "bzldAa4P-d8Q",
        "outputId": "72d39230-c82f-482a-b1c2-38455d71b000",
        "colab": {
          "base_uri": "https://localhost:8080/",
          "height": 35
        }
      },
      "source": [
        "x <- sungjuk$eng\n",
        "result <- ifelse(x >= 90, \"A\", ifelse(x >= 80, \"B\", ifelse(x >= 70, \"C\", ifelse(x >= 60, \"D\", \"F\"))))"
      ],
      "execution_count": 41,
      "outputs": [
        {
          "output_type": "display_data",
          "data": {
            "text/plain": [
              "[1] \"A\" \"A\" \"D\" \"C\""
            ],
            "text/latex": "\\begin{enumerate*}\n\\item 'A'\n\\item 'A'\n\\item 'D'\n\\item 'C'\n\\end{enumerate*}\n",
            "text/markdown": "1. 'A'\n2. 'A'\n3. 'D'\n4. 'C'\n\n\n",
            "text/html": [
              "<style>\n",
              ".list-inline {list-style: none; margin:0; padding: 0}\n",
              ".list-inline>li {display: inline-block}\n",
              ".list-inline>li:not(:last-child)::after {content: \"\\00b7\"; padding: 0 .5ex}\n",
              "</style>\n",
              "<ol class=list-inline><li>'A'</li><li>'A'</li><li>'D'</li><li>'C'</li></ol>\n"
            ]
          },
          "metadata": {
            "tags": []
          }
        }
      ]
    },
    {
      "cell_type": "code",
      "metadata": {
        "id": "XMBBZux0BxL8"
      },
      "source": [
        "# ifelse함수로 다중 조건문을 작성하기에 다소 불편\n",
        "# 이럴 경우 case_when함수를 사용하면 다소 수월해짐\n",
        "# case_when(조건식~참일때 값, ...)"
      ],
      "execution_count": null,
      "outputs": []
    },
    {
      "cell_type": "code",
      "metadata": {
        "id": "jvFH7qTdCPk0",
        "outputId": "f7eac059-48d1-4b9c-dd8f-15c89b338aeb",
        "colab": {
          "base_uri": "https://localhost:8080/",
          "height": 35
        }
      },
      "source": [
        "x <- 55\n",
        "case_when(x <= 30~'작음', x <= 60~'보통',TRUE~'잘했음')"
      ],
      "execution_count": 48,
      "outputs": [
        {
          "output_type": "display_data",
          "data": {
            "text/plain": [
              "[1] \"보통\""
            ],
            "text/latex": "'보통'",
            "text/markdown": "'보통'",
            "text/html": [
              "'보통'"
            ]
          },
          "metadata": {
            "tags": []
          }
        }
      ]
    },
    {
      "cell_type": "code",
      "metadata": {
        "id": "-_enC69hC9op",
        "outputId": "f0a2c2b4-e4a3-493a-de68-d5bec1833ef5",
        "colab": {
          "base_uri": "https://localhost:8080/",
          "height": 35
        }
      },
      "source": [
        "case_when(x >= 90~'A', x >= 80~'B', x >= 70~'C', x >= 80~'D', TRUE~'F')"
      ],
      "execution_count": 49,
      "outputs": [
        {
          "output_type": "display_data",
          "data": {
            "text/plain": [
              "[1] \"F\""
            ],
            "text/latex": "'F'",
            "text/markdown": "'F'",
            "text/html": [
              "'F'"
            ]
          },
          "metadata": {
            "tags": []
          }
        }
      ]
    },
    {
      "cell_type": "code",
      "metadata": {
        "id": "ckFhFK5GDXK5",
        "outputId": "baa22e9c-be80-4b42-829c-a998f61e3819",
        "colab": {
          "base_uri": "https://localhost:8080/",
          "height": 35
        }
      },
      "source": [
        "x <- 90\n",
        "case_when(x >= 90~'A', x >= 80~'B', x >= 70~'C', x >= 80~'D', TRUE~'F')"
      ],
      "execution_count": 50,
      "outputs": [
        {
          "output_type": "display_data",
          "data": {
            "text/plain": [
              "[1] \"A\""
            ],
            "text/latex": "'A'",
            "text/markdown": "'A'",
            "text/html": [
              "'A'"
            ]
          },
          "metadata": {
            "tags": []
          }
        }
      ]
    },
    {
      "cell_type": "code",
      "metadata": {
        "id": "bM75JkflDcEq",
        "outputId": "f05b392b-aaf3-4b03-941f-7e0a11d9a748",
        "colab": {
          "base_uri": "https://localhost:8080/",
          "height": 35
        }
      },
      "source": [
        "x <- 80\n",
        "case_when(x >= 90~'A', x >= 80~'B', x >= 70~'C', x >= 80~'D', TRUE~'F')"
      ],
      "execution_count": 51,
      "outputs": [
        {
          "output_type": "display_data",
          "data": {
            "text/plain": [
              "[1] \"B\""
            ],
            "text/latex": "'B'",
            "text/markdown": "'B'",
            "text/html": [
              "'B'"
            ]
          },
          "metadata": {
            "tags": []
          }
        }
      ]
    },
    {
      "cell_type": "code",
      "metadata": {
        "id": "f_EesjYNDgkZ",
        "outputId": "0bb2e4e6-3b28-4fe6-c821-9aeaf28217bb",
        "colab": {
          "base_uri": "https://localhost:8080/",
          "height": 101
        }
      },
      "source": [
        "x <- tot\n",
        "case_when(x >= 90~'A', x >= 80~'B', x >= 70~'C', x >= 80~'D', TRUE~"
      ],
      "execution_count": 53,
      "outputs": [
        {
          "output_type": "error",
          "ename": "ERROR",
          "evalue": "ignored",
          "traceback": [
            "Error in eval(expr, envir, enclos): object 'tot' not found\nTraceback:\n"
          ]
        }
      ]
    },
    {
      "cell_type": "code",
      "metadata": {
        "id": "5ADxZURdEPrs",
        "outputId": "89e90366-39e2-4c8d-fdaf-4677ce23f365",
        "colab": {
          "base_uri": "https://localhost:8080/",
          "height": 178
        }
      },
      "source": [
        "load('sungjuk.rdata')\n",
        "sungjuk <- sungjuk %>% mutate(tot= eng + mat + sci) \n",
        "sungjuk <- sungjuk %>% mutate(avg = tot / 3)\n",
        "sungjuk %>% mutate(tot = eng + mat + sci, avg = round(tot / 3, 1))\n",
        "x <- sungjuk$avg\n",
        "case_when(x >= 90~'수', x >= 80~'우', x >= 70~'미', x >= 80~'양', TRUE~'가')\n",
        "sungjuk <- sungjuk %>% mutate(grd <- case_when(avg >= 90~'수', avg >= 80~'우', avg >= 70~'미', avg >= 60~'양', TRUE~'가'))"
      ],
      "execution_count": 65,
      "outputs": [
        {
          "output_type": "display_data",
          "data": {
            "text/plain": [
              "  name eng mat sci tot avg \n",
              "1 John 90  85  90  265 88.3\n",
              "2 Tom  95  96  80  271 90.3\n",
              "3 Mark 69  49  70  188 62.7\n",
              "4 Jane 78  95  60  233 77.7"
            ],
            "text/latex": "A data.frame: 4 × 6\n\\begin{tabular}{llllll}\n name & eng & mat & sci & tot & avg\\\\\n <fct> & <dbl> & <dbl> & <dbl> & <dbl> & <dbl>\\\\\n\\hline\n\t John & 90 & 85 & 90 & 265 & 88.3\\\\\n\t Tom  & 95 & 96 & 80 & 271 & 90.3\\\\\n\t Mark & 69 & 49 & 70 & 188 & 62.7\\\\\n\t Jane & 78 & 95 & 60 & 233 & 77.7\\\\\n\\end{tabular}\n",
            "text/markdown": "\nA data.frame: 4 × 6\n\n| name &lt;fct&gt; | eng &lt;dbl&gt; | mat &lt;dbl&gt; | sci &lt;dbl&gt; | tot &lt;dbl&gt; | avg &lt;dbl&gt; |\n|---|---|---|---|---|---|\n| John | 90 | 85 | 90 | 265 | 88.3 |\n| Tom  | 95 | 96 | 80 | 271 | 90.3 |\n| Mark | 69 | 49 | 70 | 188 | 62.7 |\n| Jane | 78 | 95 | 60 | 233 | 77.7 |\n\n",
            "text/html": [
              "<table>\n",
              "<caption>A data.frame: 4 × 6</caption>\n",
              "<thead>\n",
              "\t<tr><th scope=col>name</th><th scope=col>eng</th><th scope=col>mat</th><th scope=col>sci</th><th scope=col>tot</th><th scope=col>avg</th></tr>\n",
              "\t<tr><th scope=col>&lt;fct&gt;</th><th scope=col>&lt;dbl&gt;</th><th scope=col>&lt;dbl&gt;</th><th scope=col>&lt;dbl&gt;</th><th scope=col>&lt;dbl&gt;</th><th scope=col>&lt;dbl&gt;</th></tr>\n",
              "</thead>\n",
              "<tbody>\n",
              "\t<tr><td>John</td><td>90</td><td>85</td><td>90</td><td>265</td><td>88.3</td></tr>\n",
              "\t<tr><td>Tom </td><td>95</td><td>96</td><td>80</td><td>271</td><td>90.3</td></tr>\n",
              "\t<tr><td>Mark</td><td>69</td><td>49</td><td>70</td><td>188</td><td>62.7</td></tr>\n",
              "\t<tr><td>Jane</td><td>78</td><td>95</td><td>60</td><td>233</td><td>77.7</td></tr>\n",
              "</tbody>\n",
              "</table>\n"
            ]
          },
          "metadata": {
            "tags": []
          }
        },
        {
          "output_type": "display_data",
          "data": {
            "text/plain": [
              "[1] \"우\" \"수\" \"가\" \"미\""
            ],
            "text/latex": "\\begin{enumerate*}\n\\item '우'\n\\item '수'\n\\item '가'\n\\item '미'\n\\end{enumerate*}\n",
            "text/markdown": "1. '우'\n2. '수'\n3. '가'\n4. '미'\n\n\n",
            "text/html": [
              "<style>\n",
              ".list-inline {list-style: none; margin:0; padding: 0}\n",
              ".list-inline>li {display: inline-block}\n",
              ".list-inline>li:not(:last-child)::after {content: \"\\00b7\"; padding: 0 .5ex}\n",
              "</style>\n",
              "<ol class=list-inline><li>'우'</li><li>'수'</li><li>'가'</li><li>'미'</li></ol>\n"
            ]
          },
          "metadata": {
            "tags": []
          }
        }
      ]
    },
    {
      "cell_type": "code",
      "metadata": {
        "id": "j7uWtNHVE_r0",
        "outputId": "56a5d298-1a53-418b-dbc1-f799ef01f450",
        "colab": {
          "base_uri": "https://localhost:8080/",
          "height": 157
        }
      },
      "source": [
        "# 평균점수를 기준으로 학점(수우미양가)을 계산하고\n",
        "# grd 컬럼에 추가하세요\n",
        "x <- sungjuk$avg\n",
        "sungjuk <- sungjuk %>% mutate(grd <- case_when(x >= 90~'수', x >= 80~'우', x >= 70~'미', x >= 60~'양', TRUE~'가')"
      ],
      "execution_count": 69,
      "outputs": [
        {
          "output_type": "error",
          "ename": "ERROR",
          "evalue": "ignored",
          "traceback": [
            "Error in parse(text = x, srcfile = src): <text>:5:0: unexpected end of input\n3: x <- sungjuk$avg\n4: sungjuk <- sungjuk %>% mutate(grd <- case_when(x >= 90~'수', x >= 80~'우', x >= 70~'미', x >= 60~'양', TRUE~'가')\n  ^\nTraceback:\n"
          ]
        }
      ]
    },
    {
      "cell_type": "code",
      "metadata": {
        "id": "n8DwGHmGHLxy"
      },
      "source": [
        "library(ggplot2)\n",
        "mpg"
      ],
      "execution_count": 70,
      "outputs": []
    },
    {
      "cell_type": "code",
      "metadata": {
        "id": "dH9D_acbHeFB"
      },
      "source": [
        "# 차종class과 도시연비cty를 조회하세요\n",
        "mpg %>% select(class, cty)"
      ],
      "execution_count": null,
      "outputs": []
    },
    {
      "cell_type": "code",
      "metadata": {
        "id": "qPkH0lr-H5DH"
      },
      "source": [
        "# 차종이 suv, compact인 차량중\n",
        "# 어느 차량이 도시연비가 높은지 알아보세요\n",
        "mpg %>% filter(class=='suv'| class=='compact') %>% select(cty)"
      ],
      "execution_count": null,
      "outputs": []
    },
    {
      "cell_type": "code",
      "metadata": {
        "id": "uDHTl8wNJjId",
        "outputId": "ea1d3a33-e8fe-450e-f73f-0113841f4255",
        "colab": {
          "base_uri": "https://localhost:8080/",
          "height": 559
        }
      },
      "source": [
        "# 배기량displ에 따라(4,5)  어느 차량이\n",
        "# 고속도로연비hwy가 높은지 알아보세요\n",
        "mpg_hwy4 <- mpg %>% filter(displ==4) %>% select(hwy)\n",
        "mpg_hwy5 <- mpg %>% filter(displ==5) %>% select(hwy)\n",
        "mpg_hwy4\n",
        "mpg_hwy5"
      ],
      "execution_count": 96,
      "outputs": [
        {
          "output_type": "display_data",
          "data": {
            "text/plain": [
              "   hwy\n",
              "1  23 \n",
              "2  17 \n",
              "3  19 \n",
              "4  17 \n",
              "5  19 \n",
              "6  26 \n",
              "7  24 \n",
              "8  20 \n",
              "9  15 \n",
              "10 17 \n",
              "11 19 \n",
              "12 20 \n",
              "13 20 \n",
              "14 18 \n",
              "15 20 "
            ],
            "text/latex": "A tibble: 15 × 1\n\\begin{tabular}{l}\n hwy\\\\\n <int>\\\\\n\\hline\n\t 23\\\\\n\t 17\\\\\n\t 19\\\\\n\t 17\\\\\n\t 19\\\\\n\t 26\\\\\n\t 24\\\\\n\t 20\\\\\n\t 15\\\\\n\t 17\\\\\n\t 19\\\\\n\t 20\\\\\n\t 20\\\\\n\t 18\\\\\n\t 20\\\\\n\\end{tabular}\n",
            "text/markdown": "\nA tibble: 15 × 1\n\n| hwy &lt;int&gt; |\n|---|\n| 23 |\n| 17 |\n| 19 |\n| 17 |\n| 19 |\n| 26 |\n| 24 |\n| 20 |\n| 15 |\n| 17 |\n| 19 |\n| 20 |\n| 20 |\n| 18 |\n| 20 |\n\n",
            "text/html": [
              "<table>\n",
              "<caption>A tibble: 15 × 1</caption>\n",
              "<thead>\n",
              "\t<tr><th scope=col>hwy</th></tr>\n",
              "\t<tr><th scope=col>&lt;int&gt;</th></tr>\n",
              "</thead>\n",
              "<tbody>\n",
              "\t<tr><td>23</td></tr>\n",
              "\t<tr><td>17</td></tr>\n",
              "\t<tr><td>19</td></tr>\n",
              "\t<tr><td>17</td></tr>\n",
              "\t<tr><td>19</td></tr>\n",
              "\t<tr><td>26</td></tr>\n",
              "\t<tr><td>24</td></tr>\n",
              "\t<tr><td>20</td></tr>\n",
              "\t<tr><td>15</td></tr>\n",
              "\t<tr><td>17</td></tr>\n",
              "\t<tr><td>19</td></tr>\n",
              "\t<tr><td>20</td></tr>\n",
              "\t<tr><td>20</td></tr>\n",
              "\t<tr><td>18</td></tr>\n",
              "\t<tr><td>20</td></tr>\n",
              "</tbody>\n",
              "</table>\n"
            ]
          },
          "metadata": {
            "tags": []
          }
        },
        {
          "output_type": "display_data",
          "data": {
            "text/plain": [
              "  hwy\n",
              "1 17 \n",
              "2 17 "
            ],
            "text/latex": "A tibble: 2 × 1\n\\begin{tabular}{l}\n hwy\\\\\n <int>\\\\\n\\hline\n\t 17\\\\\n\t 17\\\\\n\\end{tabular}\n",
            "text/markdown": "\nA tibble: 2 × 1\n\n| hwy &lt;int&gt; |\n|---|\n| 17 |\n| 17 |\n\n",
            "text/html": [
              "<table>\n",
              "<caption>A tibble: 2 × 1</caption>\n",
              "<thead>\n",
              "\t<tr><th scope=col>hwy</th></tr>\n",
              "\t<tr><th scope=col>&lt;int&gt;</th></tr>\n",
              "</thead>\n",
              "<tbody>\n",
              "\t<tr><td>17</td></tr>\n",
              "\t<tr><td>17</td></tr>\n",
              "</tbody>\n",
              "</table>\n"
            ]
          },
          "metadata": {
            "tags": []
          }
        }
      ]
    },
    {
      "cell_type": "code",
      "metadata": {
        "id": "HtOII1LVMn9d",
        "outputId": "acd129ee-e08a-4da1-ce8b-d12c7c908f91",
        "colab": {
          "base_uri": "https://localhost:8080/",
          "height": 1000
        }
      },
      "source": [
        "# 제조사manufactor에 따라(audi, toyota) \n",
        "# 어느 차량이 도시연비가 높은지 알아보세요\n",
        "head(mpg, 15)\n",
        "cty_audi <- mpg %>% filter(manufacturer==\"audi\") %>% select(cty)\n",
        "cty_audi\n",
        "cty_toyota <- mpg %>% filter(manufacturer==\"toyota\") %>% select(cty)\n",
        "cty_toyota"
      ],
      "execution_count": 107,
      "outputs": [
        {
          "output_type": "display_data",
          "data": {
            "text/plain": [
              "   manufacturer model      displ year cyl trans      drv cty hwy fl class  \n",
              "1  audi         a4         1.8   1999 4   auto(l5)   f   18  29  p  compact\n",
              "2  audi         a4         1.8   1999 4   manual(m5) f   21  29  p  compact\n",
              "3  audi         a4         2.0   2008 4   manual(m6) f   20  31  p  compact\n",
              "4  audi         a4         2.0   2008 4   auto(av)   f   21  30  p  compact\n",
              "5  audi         a4         2.8   1999 6   auto(l5)   f   16  26  p  compact\n",
              "6  audi         a4         2.8   1999 6   manual(m5) f   18  26  p  compact\n",
              "7  audi         a4         3.1   2008 6   auto(av)   f   18  27  p  compact\n",
              "8  audi         a4 quattro 1.8   1999 4   manual(m5) 4   18  26  p  compact\n",
              "9  audi         a4 quattro 1.8   1999 4   auto(l5)   4   16  25  p  compact\n",
              "10 audi         a4 quattro 2.0   2008 4   manual(m6) 4   20  28  p  compact\n",
              "11 audi         a4 quattro 2.0   2008 4   auto(s6)   4   19  27  p  compact\n",
              "12 audi         a4 quattro 2.8   1999 6   auto(l5)   4   15  25  p  compact\n",
              "13 audi         a4 quattro 2.8   1999 6   manual(m5) 4   17  25  p  compact\n",
              "14 audi         a4 quattro 3.1   2008 6   auto(s6)   4   17  25  p  compact\n",
              "15 audi         a4 quattro 3.1   2008 6   manual(m6) 4   15  25  p  compact"
            ],
            "text/latex": "A tibble: 15 × 11\n\\begin{tabular}{lllllllllll}\n manufacturer & model & displ & year & cyl & trans & drv & cty & hwy & fl & class\\\\\n <chr> & <chr> & <dbl> & <int> & <int> & <chr> & <chr> & <int> & <int> & <chr> & <chr>\\\\\n\\hline\n\t audi & a4         & 1.8 & 1999 & 4 & auto(l5)   & f & 18 & 29 & p & compact\\\\\n\t audi & a4         & 1.8 & 1999 & 4 & manual(m5) & f & 21 & 29 & p & compact\\\\\n\t audi & a4         & 2.0 & 2008 & 4 & manual(m6) & f & 20 & 31 & p & compact\\\\\n\t audi & a4         & 2.0 & 2008 & 4 & auto(av)   & f & 21 & 30 & p & compact\\\\\n\t audi & a4         & 2.8 & 1999 & 6 & auto(l5)   & f & 16 & 26 & p & compact\\\\\n\t audi & a4         & 2.8 & 1999 & 6 & manual(m5) & f & 18 & 26 & p & compact\\\\\n\t audi & a4         & 3.1 & 2008 & 6 & auto(av)   & f & 18 & 27 & p & compact\\\\\n\t audi & a4 quattro & 1.8 & 1999 & 4 & manual(m5) & 4 & 18 & 26 & p & compact\\\\\n\t audi & a4 quattro & 1.8 & 1999 & 4 & auto(l5)   & 4 & 16 & 25 & p & compact\\\\\n\t audi & a4 quattro & 2.0 & 2008 & 4 & manual(m6) & 4 & 20 & 28 & p & compact\\\\\n\t audi & a4 quattro & 2.0 & 2008 & 4 & auto(s6)   & 4 & 19 & 27 & p & compact\\\\\n\t audi & a4 quattro & 2.8 & 1999 & 6 & auto(l5)   & 4 & 15 & 25 & p & compact\\\\\n\t audi & a4 quattro & 2.8 & 1999 & 6 & manual(m5) & 4 & 17 & 25 & p & compact\\\\\n\t audi & a4 quattro & 3.1 & 2008 & 6 & auto(s6)   & 4 & 17 & 25 & p & compact\\\\\n\t audi & a4 quattro & 3.1 & 2008 & 6 & manual(m6) & 4 & 15 & 25 & p & compact\\\\\n\\end{tabular}\n",
            "text/markdown": "\nA tibble: 15 × 11\n\n| manufacturer &lt;chr&gt; | model &lt;chr&gt; | displ &lt;dbl&gt; | year &lt;int&gt; | cyl &lt;int&gt; | trans &lt;chr&gt; | drv &lt;chr&gt; | cty &lt;int&gt; | hwy &lt;int&gt; | fl &lt;chr&gt; | class &lt;chr&gt; |\n|---|---|---|---|---|---|---|---|---|---|---|\n| audi | a4         | 1.8 | 1999 | 4 | auto(l5)   | f | 18 | 29 | p | compact |\n| audi | a4         | 1.8 | 1999 | 4 | manual(m5) | f | 21 | 29 | p | compact |\n| audi | a4         | 2.0 | 2008 | 4 | manual(m6) | f | 20 | 31 | p | compact |\n| audi | a4         | 2.0 | 2008 | 4 | auto(av)   | f | 21 | 30 | p | compact |\n| audi | a4         | 2.8 | 1999 | 6 | auto(l5)   | f | 16 | 26 | p | compact |\n| audi | a4         | 2.8 | 1999 | 6 | manual(m5) | f | 18 | 26 | p | compact |\n| audi | a4         | 3.1 | 2008 | 6 | auto(av)   | f | 18 | 27 | p | compact |\n| audi | a4 quattro | 1.8 | 1999 | 4 | manual(m5) | 4 | 18 | 26 | p | compact |\n| audi | a4 quattro | 1.8 | 1999 | 4 | auto(l5)   | 4 | 16 | 25 | p | compact |\n| audi | a4 quattro | 2.0 | 2008 | 4 | manual(m6) | 4 | 20 | 28 | p | compact |\n| audi | a4 quattro | 2.0 | 2008 | 4 | auto(s6)   | 4 | 19 | 27 | p | compact |\n| audi | a4 quattro | 2.8 | 1999 | 6 | auto(l5)   | 4 | 15 | 25 | p | compact |\n| audi | a4 quattro | 2.8 | 1999 | 6 | manual(m5) | 4 | 17 | 25 | p | compact |\n| audi | a4 quattro | 3.1 | 2008 | 6 | auto(s6)   | 4 | 17 | 25 | p | compact |\n| audi | a4 quattro | 3.1 | 2008 | 6 | manual(m6) | 4 | 15 | 25 | p | compact |\n\n",
            "text/html": [
              "<table>\n",
              "<caption>A tibble: 15 × 11</caption>\n",
              "<thead>\n",
              "\t<tr><th scope=col>manufacturer</th><th scope=col>model</th><th scope=col>displ</th><th scope=col>year</th><th scope=col>cyl</th><th scope=col>trans</th><th scope=col>drv</th><th scope=col>cty</th><th scope=col>hwy</th><th scope=col>fl</th><th scope=col>class</th></tr>\n",
              "\t<tr><th scope=col>&lt;chr&gt;</th><th scope=col>&lt;chr&gt;</th><th scope=col>&lt;dbl&gt;</th><th scope=col>&lt;int&gt;</th><th scope=col>&lt;int&gt;</th><th scope=col>&lt;chr&gt;</th><th scope=col>&lt;chr&gt;</th><th scope=col>&lt;int&gt;</th><th scope=col>&lt;int&gt;</th><th scope=col>&lt;chr&gt;</th><th scope=col>&lt;chr&gt;</th></tr>\n",
              "</thead>\n",
              "<tbody>\n",
              "\t<tr><td>audi</td><td>a4        </td><td>1.8</td><td>1999</td><td>4</td><td>auto(l5)  </td><td>f</td><td>18</td><td>29</td><td>p</td><td>compact</td></tr>\n",
              "\t<tr><td>audi</td><td>a4        </td><td>1.8</td><td>1999</td><td>4</td><td>manual(m5)</td><td>f</td><td>21</td><td>29</td><td>p</td><td>compact</td></tr>\n",
              "\t<tr><td>audi</td><td>a4        </td><td>2.0</td><td>2008</td><td>4</td><td>manual(m6)</td><td>f</td><td>20</td><td>31</td><td>p</td><td>compact</td></tr>\n",
              "\t<tr><td>audi</td><td>a4        </td><td>2.0</td><td>2008</td><td>4</td><td>auto(av)  </td><td>f</td><td>21</td><td>30</td><td>p</td><td>compact</td></tr>\n",
              "\t<tr><td>audi</td><td>a4        </td><td>2.8</td><td>1999</td><td>6</td><td>auto(l5)  </td><td>f</td><td>16</td><td>26</td><td>p</td><td>compact</td></tr>\n",
              "\t<tr><td>audi</td><td>a4        </td><td>2.8</td><td>1999</td><td>6</td><td>manual(m5)</td><td>f</td><td>18</td><td>26</td><td>p</td><td>compact</td></tr>\n",
              "\t<tr><td>audi</td><td>a4        </td><td>3.1</td><td>2008</td><td>6</td><td>auto(av)  </td><td>f</td><td>18</td><td>27</td><td>p</td><td>compact</td></tr>\n",
              "\t<tr><td>audi</td><td>a4 quattro</td><td>1.8</td><td>1999</td><td>4</td><td>manual(m5)</td><td>4</td><td>18</td><td>26</td><td>p</td><td>compact</td></tr>\n",
              "\t<tr><td>audi</td><td>a4 quattro</td><td>1.8</td><td>1999</td><td>4</td><td>auto(l5)  </td><td>4</td><td>16</td><td>25</td><td>p</td><td>compact</td></tr>\n",
              "\t<tr><td>audi</td><td>a4 quattro</td><td>2.0</td><td>2008</td><td>4</td><td>manual(m6)</td><td>4</td><td>20</td><td>28</td><td>p</td><td>compact</td></tr>\n",
              "\t<tr><td>audi</td><td>a4 quattro</td><td>2.0</td><td>2008</td><td>4</td><td>auto(s6)  </td><td>4</td><td>19</td><td>27</td><td>p</td><td>compact</td></tr>\n",
              "\t<tr><td>audi</td><td>a4 quattro</td><td>2.8</td><td>1999</td><td>6</td><td>auto(l5)  </td><td>4</td><td>15</td><td>25</td><td>p</td><td>compact</td></tr>\n",
              "\t<tr><td>audi</td><td>a4 quattro</td><td>2.8</td><td>1999</td><td>6</td><td>manual(m5)</td><td>4</td><td>17</td><td>25</td><td>p</td><td>compact</td></tr>\n",
              "\t<tr><td>audi</td><td>a4 quattro</td><td>3.1</td><td>2008</td><td>6</td><td>auto(s6)  </td><td>4</td><td>17</td><td>25</td><td>p</td><td>compact</td></tr>\n",
              "\t<tr><td>audi</td><td>a4 quattro</td><td>3.1</td><td>2008</td><td>6</td><td>manual(m6)</td><td>4</td><td>15</td><td>25</td><td>p</td><td>compact</td></tr>\n",
              "</tbody>\n",
              "</table>\n"
            ]
          },
          "metadata": {
            "tags": []
          }
        },
        {
          "output_type": "display_data",
          "data": {
            "text/plain": [
              "   cty\n",
              "1  18 \n",
              "2  21 \n",
              "3  20 \n",
              "4  21 \n",
              "5  16 \n",
              "6  18 \n",
              "7  18 \n",
              "8  18 \n",
              "9  16 \n",
              "10 20 \n",
              "11 19 \n",
              "12 15 \n",
              "13 17 \n",
              "14 17 \n",
              "15 15 \n",
              "16 15 \n",
              "17 17 \n",
              "18 16 "
            ],
            "text/latex": "A tibble: 18 × 1\n\\begin{tabular}{l}\n cty\\\\\n <int>\\\\\n\\hline\n\t 18\\\\\n\t 21\\\\\n\t 20\\\\\n\t 21\\\\\n\t 16\\\\\n\t 18\\\\\n\t 18\\\\\n\t 18\\\\\n\t 16\\\\\n\t 20\\\\\n\t 19\\\\\n\t 15\\\\\n\t 17\\\\\n\t 17\\\\\n\t 15\\\\\n\t 15\\\\\n\t 17\\\\\n\t 16\\\\\n\\end{tabular}\n",
            "text/markdown": "\nA tibble: 18 × 1\n\n| cty &lt;int&gt; |\n|---|\n| 18 |\n| 21 |\n| 20 |\n| 21 |\n| 16 |\n| 18 |\n| 18 |\n| 18 |\n| 16 |\n| 20 |\n| 19 |\n| 15 |\n| 17 |\n| 17 |\n| 15 |\n| 15 |\n| 17 |\n| 16 |\n\n",
            "text/html": [
              "<table>\n",
              "<caption>A tibble: 18 × 1</caption>\n",
              "<thead>\n",
              "\t<tr><th scope=col>cty</th></tr>\n",
              "\t<tr><th scope=col>&lt;int&gt;</th></tr>\n",
              "</thead>\n",
              "<tbody>\n",
              "\t<tr><td>18</td></tr>\n",
              "\t<tr><td>21</td></tr>\n",
              "\t<tr><td>20</td></tr>\n",
              "\t<tr><td>21</td></tr>\n",
              "\t<tr><td>16</td></tr>\n",
              "\t<tr><td>18</td></tr>\n",
              "\t<tr><td>18</td></tr>\n",
              "\t<tr><td>18</td></tr>\n",
              "\t<tr><td>16</td></tr>\n",
              "\t<tr><td>20</td></tr>\n",
              "\t<tr><td>19</td></tr>\n",
              "\t<tr><td>15</td></tr>\n",
              "\t<tr><td>17</td></tr>\n",
              "\t<tr><td>17</td></tr>\n",
              "\t<tr><td>15</td></tr>\n",
              "\t<tr><td>15</td></tr>\n",
              "\t<tr><td>17</td></tr>\n",
              "\t<tr><td>16</td></tr>\n",
              "</tbody>\n",
              "</table>\n"
            ]
          },
          "metadata": {
            "tags": []
          }
        },
        {
          "output_type": "display_data",
          "data": {
            "text/plain": [
              "   cty\n",
              "1  15 \n",
              "2  16 \n",
              "3  15 \n",
              "4  15 \n",
              "5  16 \n",
              "6  14 \n",
              "7  21 \n",
              "8  21 \n",
              "9  21 \n",
              "10 21 \n",
              "11 18 \n",
              "12 18 \n",
              "13 19 \n",
              "14 21 \n",
              "15 21 \n",
              "16 21 \n",
              "17 22 \n",
              "18 18 \n",
              "19 18 \n",
              "20 18 \n",
              "21 24 \n",
              "22 24 \n",
              "23 26 \n",
              "24 28 \n",
              "25 26 \n",
              "26 11 \n",
              "27 13 \n",
              "28 15 \n",
              "29 16 \n",
              "30 17 \n",
              "31 15 \n",
              "32 15 \n",
              "33 15 \n",
              "34 16 "
            ],
            "text/latex": "A tibble: 34 × 1\n\\begin{tabular}{l}\n cty\\\\\n <int>\\\\\n\\hline\n\t 15\\\\\n\t 16\\\\\n\t 15\\\\\n\t 15\\\\\n\t 16\\\\\n\t 14\\\\\n\t 21\\\\\n\t 21\\\\\n\t 21\\\\\n\t 21\\\\\n\t 18\\\\\n\t 18\\\\\n\t 19\\\\\n\t 21\\\\\n\t 21\\\\\n\t 21\\\\\n\t 22\\\\\n\t 18\\\\\n\t 18\\\\\n\t 18\\\\\n\t 24\\\\\n\t 24\\\\\n\t 26\\\\\n\t 28\\\\\n\t 26\\\\\n\t 11\\\\\n\t 13\\\\\n\t 15\\\\\n\t 16\\\\\n\t 17\\\\\n\t 15\\\\\n\t 15\\\\\n\t 15\\\\\n\t 16\\\\\n\\end{tabular}\n",
            "text/markdown": "\nA tibble: 34 × 1\n\n| cty &lt;int&gt; |\n|---|\n| 15 |\n| 16 |\n| 15 |\n| 15 |\n| 16 |\n| 14 |\n| 21 |\n| 21 |\n| 21 |\n| 21 |\n| 18 |\n| 18 |\n| 19 |\n| 21 |\n| 21 |\n| 21 |\n| 22 |\n| 18 |\n| 18 |\n| 18 |\n| 24 |\n| 24 |\n| 26 |\n| 28 |\n| 26 |\n| 11 |\n| 13 |\n| 15 |\n| 16 |\n| 17 |\n| 15 |\n| 15 |\n| 15 |\n| 16 |\n\n",
            "text/html": [
              "<table>\n",
              "<caption>A tibble: 34 × 1</caption>\n",
              "<thead>\n",
              "\t<tr><th scope=col>cty</th></tr>\n",
              "\t<tr><th scope=col>&lt;int&gt;</th></tr>\n",
              "</thead>\n",
              "<tbody>\n",
              "\t<tr><td>15</td></tr>\n",
              "\t<tr><td>16</td></tr>\n",
              "\t<tr><td>15</td></tr>\n",
              "\t<tr><td>15</td></tr>\n",
              "\t<tr><td>16</td></tr>\n",
              "\t<tr><td>14</td></tr>\n",
              "\t<tr><td>21</td></tr>\n",
              "\t<tr><td>21</td></tr>\n",
              "\t<tr><td>21</td></tr>\n",
              "\t<tr><td>21</td></tr>\n",
              "\t<tr><td>18</td></tr>\n",
              "\t<tr><td>18</td></tr>\n",
              "\t<tr><td>19</td></tr>\n",
              "\t<tr><td>21</td></tr>\n",
              "\t<tr><td>21</td></tr>\n",
              "\t<tr><td>21</td></tr>\n",
              "\t<tr><td>22</td></tr>\n",
              "\t<tr><td>18</td></tr>\n",
              "\t<tr><td>18</td></tr>\n",
              "\t<tr><td>18</td></tr>\n",
              "\t<tr><td>24</td></tr>\n",
              "\t<tr><td>24</td></tr>\n",
              "\t<tr><td>26</td></tr>\n",
              "\t<tr><td>28</td></tr>\n",
              "\t<tr><td>26</td></tr>\n",
              "\t<tr><td>11</td></tr>\n",
              "\t<tr><td>13</td></tr>\n",
              "\t<tr><td>15</td></tr>\n",
              "\t<tr><td>16</td></tr>\n",
              "\t<tr><td>17</td></tr>\n",
              "\t<tr><td>15</td></tr>\n",
              "\t<tr><td>15</td></tr>\n",
              "\t<tr><td>15</td></tr>\n",
              "\t<tr><td>16</td></tr>\n",
              "</tbody>\n",
              "</table>\n"
            ]
          },
          "metadata": {
            "tags": []
          }
        }
      ]
    },
    {
      "cell_type": "code",
      "metadata": {
        "id": "v6YkHWQnNthr",
        "outputId": "f0d371f5-6341-47b5-be08-96ab50c850ce",
        "colab": {
          "base_uri": "https://localhost:8080/",
          "height": 1000
        }
      },
      "source": [
        "cty_audi <- mpg %>% filter(manufacturer==\"audi\") %>% select(cty)\n",
        "cty_audi\n",
        "cty_toyota <- mpg %>% filter(manufacturer==\"toyota\") %>% select(cty)\n",
        "cty_toyota"
      ],
      "execution_count": 108,
      "outputs": [
        {
          "output_type": "display_data",
          "data": {
            "text/plain": [
              "   cty\n",
              "1  18 \n",
              "2  21 \n",
              "3  20 \n",
              "4  21 \n",
              "5  16 \n",
              "6  18 \n",
              "7  18 \n",
              "8  18 \n",
              "9  16 \n",
              "10 20 \n",
              "11 19 \n",
              "12 15 \n",
              "13 17 \n",
              "14 17 \n",
              "15 15 \n",
              "16 15 \n",
              "17 17 \n",
              "18 16 "
            ],
            "text/latex": "A tibble: 18 × 1\n\\begin{tabular}{l}\n cty\\\\\n <int>\\\\\n\\hline\n\t 18\\\\\n\t 21\\\\\n\t 20\\\\\n\t 21\\\\\n\t 16\\\\\n\t 18\\\\\n\t 18\\\\\n\t 18\\\\\n\t 16\\\\\n\t 20\\\\\n\t 19\\\\\n\t 15\\\\\n\t 17\\\\\n\t 17\\\\\n\t 15\\\\\n\t 15\\\\\n\t 17\\\\\n\t 16\\\\\n\\end{tabular}\n",
            "text/markdown": "\nA tibble: 18 × 1\n\n| cty &lt;int&gt; |\n|---|\n| 18 |\n| 21 |\n| 20 |\n| 21 |\n| 16 |\n| 18 |\n| 18 |\n| 18 |\n| 16 |\n| 20 |\n| 19 |\n| 15 |\n| 17 |\n| 17 |\n| 15 |\n| 15 |\n| 17 |\n| 16 |\n\n",
            "text/html": [
              "<table>\n",
              "<caption>A tibble: 18 × 1</caption>\n",
              "<thead>\n",
              "\t<tr><th scope=col>cty</th></tr>\n",
              "\t<tr><th scope=col>&lt;int&gt;</th></tr>\n",
              "</thead>\n",
              "<tbody>\n",
              "\t<tr><td>18</td></tr>\n",
              "\t<tr><td>21</td></tr>\n",
              "\t<tr><td>20</td></tr>\n",
              "\t<tr><td>21</td></tr>\n",
              "\t<tr><td>16</td></tr>\n",
              "\t<tr><td>18</td></tr>\n",
              "\t<tr><td>18</td></tr>\n",
              "\t<tr><td>18</td></tr>\n",
              "\t<tr><td>16</td></tr>\n",
              "\t<tr><td>20</td></tr>\n",
              "\t<tr><td>19</td></tr>\n",
              "\t<tr><td>15</td></tr>\n",
              "\t<tr><td>17</td></tr>\n",
              "\t<tr><td>17</td></tr>\n",
              "\t<tr><td>15</td></tr>\n",
              "\t<tr><td>15</td></tr>\n",
              "\t<tr><td>17</td></tr>\n",
              "\t<tr><td>16</td></tr>\n",
              "</tbody>\n",
              "</table>\n"
            ]
          },
          "metadata": {
            "tags": []
          }
        },
        {
          "output_type": "display_data",
          "data": {
            "text/plain": [
              "   cty\n",
              "1  15 \n",
              "2  16 \n",
              "3  15 \n",
              "4  15 \n",
              "5  16 \n",
              "6  14 \n",
              "7  21 \n",
              "8  21 \n",
              "9  21 \n",
              "10 21 \n",
              "11 18 \n",
              "12 18 \n",
              "13 19 \n",
              "14 21 \n",
              "15 21 \n",
              "16 21 \n",
              "17 22 \n",
              "18 18 \n",
              "19 18 \n",
              "20 18 \n",
              "21 24 \n",
              "22 24 \n",
              "23 26 \n",
              "24 28 \n",
              "25 26 \n",
              "26 11 \n",
              "27 13 \n",
              "28 15 \n",
              "29 16 \n",
              "30 17 \n",
              "31 15 \n",
              "32 15 \n",
              "33 15 \n",
              "34 16 "
            ],
            "text/latex": "A tibble: 34 × 1\n\\begin{tabular}{l}\n cty\\\\\n <int>\\\\\n\\hline\n\t 15\\\\\n\t 16\\\\\n\t 15\\\\\n\t 15\\\\\n\t 16\\\\\n\t 14\\\\\n\t 21\\\\\n\t 21\\\\\n\t 21\\\\\n\t 21\\\\\n\t 18\\\\\n\t 18\\\\\n\t 19\\\\\n\t 21\\\\\n\t 21\\\\\n\t 21\\\\\n\t 22\\\\\n\t 18\\\\\n\t 18\\\\\n\t 18\\\\\n\t 24\\\\\n\t 24\\\\\n\t 26\\\\\n\t 28\\\\\n\t 26\\\\\n\t 11\\\\\n\t 13\\\\\n\t 15\\\\\n\t 16\\\\\n\t 17\\\\\n\t 15\\\\\n\t 15\\\\\n\t 15\\\\\n\t 16\\\\\n\\end{tabular}\n",
            "text/markdown": "\nA tibble: 34 × 1\n\n| cty &lt;int&gt; |\n|---|\n| 15 |\n| 16 |\n| 15 |\n| 15 |\n| 16 |\n| 14 |\n| 21 |\n| 21 |\n| 21 |\n| 21 |\n| 18 |\n| 18 |\n| 19 |\n| 21 |\n| 21 |\n| 21 |\n| 22 |\n| 18 |\n| 18 |\n| 18 |\n| 24 |\n| 24 |\n| 26 |\n| 28 |\n| 26 |\n| 11 |\n| 13 |\n| 15 |\n| 16 |\n| 17 |\n| 15 |\n| 15 |\n| 15 |\n| 16 |\n\n",
            "text/html": [
              "<table>\n",
              "<caption>A tibble: 34 × 1</caption>\n",
              "<thead>\n",
              "\t<tr><th scope=col>cty</th></tr>\n",
              "\t<tr><th scope=col>&lt;int&gt;</th></tr>\n",
              "</thead>\n",
              "<tbody>\n",
              "\t<tr><td>15</td></tr>\n",
              "\t<tr><td>16</td></tr>\n",
              "\t<tr><td>15</td></tr>\n",
              "\t<tr><td>15</td></tr>\n",
              "\t<tr><td>16</td></tr>\n",
              "\t<tr><td>14</td></tr>\n",
              "\t<tr><td>21</td></tr>\n",
              "\t<tr><td>21</td></tr>\n",
              "\t<tr><td>21</td></tr>\n",
              "\t<tr><td>21</td></tr>\n",
              "\t<tr><td>18</td></tr>\n",
              "\t<tr><td>18</td></tr>\n",
              "\t<tr><td>19</td></tr>\n",
              "\t<tr><td>21</td></tr>\n",
              "\t<tr><td>21</td></tr>\n",
              "\t<tr><td>21</td></tr>\n",
              "\t<tr><td>22</td></tr>\n",
              "\t<tr><td>18</td></tr>\n",
              "\t<tr><td>18</td></tr>\n",
              "\t<tr><td>18</td></tr>\n",
              "\t<tr><td>24</td></tr>\n",
              "\t<tr><td>24</td></tr>\n",
              "\t<tr><td>26</td></tr>\n",
              "\t<tr><td>28</td></tr>\n",
              "\t<tr><td>26</td></tr>\n",
              "\t<tr><td>11</td></tr>\n",
              "\t<tr><td>13</td></tr>\n",
              "\t<tr><td>15</td></tr>\n",
              "\t<tr><td>16</td></tr>\n",
              "\t<tr><td>17</td></tr>\n",
              "\t<tr><td>15</td></tr>\n",
              "\t<tr><td>15</td></tr>\n",
              "\t<tr><td>15</td></tr>\n",
              "\t<tr><td>16</td></tr>\n",
              "</tbody>\n",
              "</table>\n"
            ]
          },
          "metadata": {
            "tags": []
          }
        }
      ]
    },
    {
      "cell_type": "code",
      "metadata": {
        "id": "nukEfmnqN2Oq"
      },
      "source": [
        "# chervolet, ford, honda 차량의\n",
        "# 평균 고속도로연비를 조회하시오"
      ],
      "execution_count": null,
      "outputs": []
    },
    {
      "cell_type": "code",
      "metadata": {
        "id": "0Ohgqv3KPHv_"
      },
      "source": [
        "# 고속도로연비와 도시연비를 합산해서 allmpg를, \n",
        "# allmpg를 2로 나눠 avgmpg라는 컬럼을 생성하세요\n",
        "allmpg <- cty + hwy\n",
        "mpg %>% mutate(avgmpg <- allmpg / 2)"
      ],
      "execution_count": null,
      "outputs": []
    },
    {
      "cell_type": "code",
      "metadata": {
        "id": "-zwhfk7sHXs0",
        "outputId": "01f17799-a271-48ad-abb5-2ac0d5fdb142",
        "colab": {
          "base_uri": "https://localhost:8080/",
          "height": 139
        }
      },
      "source": [
        "\n",
        "  \n",
        "\n",
        "\n",
        "\n",
        "\n",
        "\n",
        "\n",
        "# 고속도로연비와 도시연비를 합산해서 allmpg를,\n",
        "# allmpg를 2로 나눠 avgmpg라는 컬럼을 생성하세요\n",
        "\n",
        "\n",
        "# 차량의 실린더cyl가 4면 4기통을\n",
        "# 6이면 6기통을, 그외는 8기통이라고 출력하는\n",
        "# clydesc라는 컬럼을 생성하세요\n"
      ],
      "execution_count": 109,
      "outputs": [
        {
          "output_type": "error",
          "ename": "ERROR",
          "evalue": "ignored",
          "traceback": [
            "Error in mean(chervolet): object 'chervolet' not found\nTraceback:\n",
            "1. mean(chervolet)"
          ]
        }
      ]
    },
    {
      "cell_type": "code",
      "metadata": {
        "id": "jhW74vP0RlSl",
        "outputId": "3372733a-d162-49a3-dda6-e0705411b024",
        "colab": {
          "base_uri": "https://localhost:8080/",
          "height": 1000
        }
      },
      "source": [
        "# 풀이과정\n",
        "# 차종class과 도시연비cty를 조회하세요\n",
        "mpg %>% select(class, cty)"
      ],
      "execution_count": 113,
      "outputs": [
        {
          "output_type": "display_data",
          "data": {
            "text/plain": [
              "    class      cty\n",
              "1   compact    18 \n",
              "2   compact    21 \n",
              "3   compact    20 \n",
              "4   compact    21 \n",
              "5   compact    16 \n",
              "6   compact    18 \n",
              "7   compact    18 \n",
              "8   compact    18 \n",
              "9   compact    16 \n",
              "10  compact    20 \n",
              "11  compact    19 \n",
              "12  compact    15 \n",
              "13  compact    17 \n",
              "14  compact    17 \n",
              "15  compact    15 \n",
              "16  midsize    15 \n",
              "17  midsize    17 \n",
              "18  midsize    16 \n",
              "19  suv        14 \n",
              "20  suv        11 \n",
              "21  suv        14 \n",
              "22  suv        13 \n",
              "23  suv        12 \n",
              "24  2seater    16 \n",
              "25  2seater    15 \n",
              "26  2seater    16 \n",
              "27  2seater    15 \n",
              "28  2seater    15 \n",
              "29  suv        14 \n",
              "30  suv        11 \n",
              "⋮   ⋮          ⋮  \n",
              "205 pickup     15 \n",
              "206 pickup     15 \n",
              "207 pickup     16 \n",
              "208 compact    21 \n",
              "209 compact    19 \n",
              "210 compact    21 \n",
              "211 compact    22 \n",
              "212 compact    17 \n",
              "213 compact    33 \n",
              "214 compact    21 \n",
              "215 compact    19 \n",
              "216 compact    22 \n",
              "217 compact    21 \n",
              "218 compact    21 \n",
              "219 compact    21 \n",
              "220 compact    16 \n",
              "221 compact    17 \n",
              "222 subcompact 35 \n",
              "223 subcompact 29 \n",
              "224 subcompact 21 \n",
              "225 subcompact 19 \n",
              "226 subcompact 20 \n",
              "227 subcompact 20 \n",
              "228 midsize    21 \n",
              "229 midsize    18 \n",
              "230 midsize    19 \n",
              "231 midsize    21 \n",
              "232 midsize    16 \n",
              "233 midsize    18 \n",
              "234 midsize    17 "
            ],
            "text/latex": "A tibble: 234 × 2\n\\begin{tabular}{ll}\n class & cty\\\\\n <chr> & <int>\\\\\n\\hline\n\t compact & 18\\\\\n\t compact & 21\\\\\n\t compact & 20\\\\\n\t compact & 21\\\\\n\t compact & 16\\\\\n\t compact & 18\\\\\n\t compact & 18\\\\\n\t compact & 18\\\\\n\t compact & 16\\\\\n\t compact & 20\\\\\n\t compact & 19\\\\\n\t compact & 15\\\\\n\t compact & 17\\\\\n\t compact & 17\\\\\n\t compact & 15\\\\\n\t midsize & 15\\\\\n\t midsize & 17\\\\\n\t midsize & 16\\\\\n\t suv     & 14\\\\\n\t suv     & 11\\\\\n\t suv     & 14\\\\\n\t suv     & 13\\\\\n\t suv     & 12\\\\\n\t 2seater & 16\\\\\n\t 2seater & 15\\\\\n\t 2seater & 16\\\\\n\t 2seater & 15\\\\\n\t 2seater & 15\\\\\n\t suv     & 14\\\\\n\t suv     & 11\\\\\n\t ⋮ & ⋮\\\\\n\t pickup     & 15\\\\\n\t pickup     & 15\\\\\n\t pickup     & 16\\\\\n\t compact    & 21\\\\\n\t compact    & 19\\\\\n\t compact    & 21\\\\\n\t compact    & 22\\\\\n\t compact    & 17\\\\\n\t compact    & 33\\\\\n\t compact    & 21\\\\\n\t compact    & 19\\\\\n\t compact    & 22\\\\\n\t compact    & 21\\\\\n\t compact    & 21\\\\\n\t compact    & 21\\\\\n\t compact    & 16\\\\\n\t compact    & 17\\\\\n\t subcompact & 35\\\\\n\t subcompact & 29\\\\\n\t subcompact & 21\\\\\n\t subcompact & 19\\\\\n\t subcompact & 20\\\\\n\t subcompact & 20\\\\\n\t midsize    & 21\\\\\n\t midsize    & 18\\\\\n\t midsize    & 19\\\\\n\t midsize    & 21\\\\\n\t midsize    & 16\\\\\n\t midsize    & 18\\\\\n\t midsize    & 17\\\\\n\\end{tabular}\n",
            "text/markdown": "\nA tibble: 234 × 2\n\n| class &lt;chr&gt; | cty &lt;int&gt; |\n|---|---|\n| compact | 18 |\n| compact | 21 |\n| compact | 20 |\n| compact | 21 |\n| compact | 16 |\n| compact | 18 |\n| compact | 18 |\n| compact | 18 |\n| compact | 16 |\n| compact | 20 |\n| compact | 19 |\n| compact | 15 |\n| compact | 17 |\n| compact | 17 |\n| compact | 15 |\n| midsize | 15 |\n| midsize | 17 |\n| midsize | 16 |\n| suv     | 14 |\n| suv     | 11 |\n| suv     | 14 |\n| suv     | 13 |\n| suv     | 12 |\n| 2seater | 16 |\n| 2seater | 15 |\n| 2seater | 16 |\n| 2seater | 15 |\n| 2seater | 15 |\n| suv     | 14 |\n| suv     | 11 |\n| ⋮ | ⋮ |\n| pickup     | 15 |\n| pickup     | 15 |\n| pickup     | 16 |\n| compact    | 21 |\n| compact    | 19 |\n| compact    | 21 |\n| compact    | 22 |\n| compact    | 17 |\n| compact    | 33 |\n| compact    | 21 |\n| compact    | 19 |\n| compact    | 22 |\n| compact    | 21 |\n| compact    | 21 |\n| compact    | 21 |\n| compact    | 16 |\n| compact    | 17 |\n| subcompact | 35 |\n| subcompact | 29 |\n| subcompact | 21 |\n| subcompact | 19 |\n| subcompact | 20 |\n| subcompact | 20 |\n| midsize    | 21 |\n| midsize    | 18 |\n| midsize    | 19 |\n| midsize    | 21 |\n| midsize    | 16 |\n| midsize    | 18 |\n| midsize    | 17 |\n\n",
            "text/html": [
              "<table>\n",
              "<caption>A tibble: 234 × 2</caption>\n",
              "<thead>\n",
              "\t<tr><th scope=col>class</th><th scope=col>cty</th></tr>\n",
              "\t<tr><th scope=col>&lt;chr&gt;</th><th scope=col>&lt;int&gt;</th></tr>\n",
              "</thead>\n",
              "<tbody>\n",
              "\t<tr><td>compact</td><td>18</td></tr>\n",
              "\t<tr><td>compact</td><td>21</td></tr>\n",
              "\t<tr><td>compact</td><td>20</td></tr>\n",
              "\t<tr><td>compact</td><td>21</td></tr>\n",
              "\t<tr><td>compact</td><td>16</td></tr>\n",
              "\t<tr><td>compact</td><td>18</td></tr>\n",
              "\t<tr><td>compact</td><td>18</td></tr>\n",
              "\t<tr><td>compact</td><td>18</td></tr>\n",
              "\t<tr><td>compact</td><td>16</td></tr>\n",
              "\t<tr><td>compact</td><td>20</td></tr>\n",
              "\t<tr><td>compact</td><td>19</td></tr>\n",
              "\t<tr><td>compact</td><td>15</td></tr>\n",
              "\t<tr><td>compact</td><td>17</td></tr>\n",
              "\t<tr><td>compact</td><td>17</td></tr>\n",
              "\t<tr><td>compact</td><td>15</td></tr>\n",
              "\t<tr><td>midsize</td><td>15</td></tr>\n",
              "\t<tr><td>midsize</td><td>17</td></tr>\n",
              "\t<tr><td>midsize</td><td>16</td></tr>\n",
              "\t<tr><td>suv    </td><td>14</td></tr>\n",
              "\t<tr><td>suv    </td><td>11</td></tr>\n",
              "\t<tr><td>suv    </td><td>14</td></tr>\n",
              "\t<tr><td>suv    </td><td>13</td></tr>\n",
              "\t<tr><td>suv    </td><td>12</td></tr>\n",
              "\t<tr><td>2seater</td><td>16</td></tr>\n",
              "\t<tr><td>2seater</td><td>15</td></tr>\n",
              "\t<tr><td>2seater</td><td>16</td></tr>\n",
              "\t<tr><td>2seater</td><td>15</td></tr>\n",
              "\t<tr><td>2seater</td><td>15</td></tr>\n",
              "\t<tr><td>suv    </td><td>14</td></tr>\n",
              "\t<tr><td>suv    </td><td>11</td></tr>\n",
              "\t<tr><td>⋮</td><td>⋮</td></tr>\n",
              "\t<tr><td>pickup    </td><td>15</td></tr>\n",
              "\t<tr><td>pickup    </td><td>15</td></tr>\n",
              "\t<tr><td>pickup    </td><td>16</td></tr>\n",
              "\t<tr><td>compact   </td><td>21</td></tr>\n",
              "\t<tr><td>compact   </td><td>19</td></tr>\n",
              "\t<tr><td>compact   </td><td>21</td></tr>\n",
              "\t<tr><td>compact   </td><td>22</td></tr>\n",
              "\t<tr><td>compact   </td><td>17</td></tr>\n",
              "\t<tr><td>compact   </td><td>33</td></tr>\n",
              "\t<tr><td>compact   </td><td>21</td></tr>\n",
              "\t<tr><td>compact   </td><td>19</td></tr>\n",
              "\t<tr><td>compact   </td><td>22</td></tr>\n",
              "\t<tr><td>compact   </td><td>21</td></tr>\n",
              "\t<tr><td>compact   </td><td>21</td></tr>\n",
              "\t<tr><td>compact   </td><td>21</td></tr>\n",
              "\t<tr><td>compact   </td><td>16</td></tr>\n",
              "\t<tr><td>compact   </td><td>17</td></tr>\n",
              "\t<tr><td>subcompact</td><td>35</td></tr>\n",
              "\t<tr><td>subcompact</td><td>29</td></tr>\n",
              "\t<tr><td>subcompact</td><td>21</td></tr>\n",
              "\t<tr><td>subcompact</td><td>19</td></tr>\n",
              "\t<tr><td>subcompact</td><td>20</td></tr>\n",
              "\t<tr><td>subcompact</td><td>20</td></tr>\n",
              "\t<tr><td>midsize   </td><td>21</td></tr>\n",
              "\t<tr><td>midsize   </td><td>18</td></tr>\n",
              "\t<tr><td>midsize   </td><td>19</td></tr>\n",
              "\t<tr><td>midsize   </td><td>21</td></tr>\n",
              "\t<tr><td>midsize   </td><td>16</td></tr>\n",
              "\t<tr><td>midsize   </td><td>18</td></tr>\n",
              "\t<tr><td>midsize   </td><td>17</td></tr>\n",
              "</tbody>\n",
              "</table>\n"
            ]
          },
          "metadata": {
            "tags": []
          }
        }
      ]
    },
    {
      "cell_type": "code",
      "metadata": {
        "id": "EMlg3QZHRy9N",
        "outputId": "5144d901-56d8-46cb-8f1d-a53f6fbc87b4",
        "colab": {
          "base_uri": "https://localhost:8080/",
          "height": 52
        }
      },
      "source": [
        "# 차종이 suv, compact인 차량중\n",
        "# 어느 차량이 평균 도시연비가 높은지 알아보세요\n",
        "suv <- mpg %>% select(class, cty) %>% filter(class== 'suv')\n",
        "mean(suv$cty)\n",
        "compact <- mpg %>% select(class, cty) %>% filter(class== 'compact')\n",
        "mean(compact$cty)"
      ],
      "execution_count": 115,
      "outputs": [
        {
          "output_type": "display_data",
          "data": {
            "text/plain": [
              "[1] 13.5"
            ],
            "text/latex": "13.5",
            "text/markdown": "13.5",
            "text/html": [
              "13.5"
            ]
          },
          "metadata": {
            "tags": []
          }
        },
        {
          "output_type": "display_data",
          "data": {
            "text/plain": [
              "[1] 20.12766"
            ],
            "text/latex": "20.1276595744681",
            "text/markdown": "20.1276595744681",
            "text/html": [
              "20.1276595744681"
            ]
          },
          "metadata": {
            "tags": []
          }
        }
      ]
    },
    {
      "cell_type": "code",
      "metadata": {
        "id": "Rdkg7N4VSwKb",
        "outputId": "64775718-4d51-41a0-e47f-7ad76d8c4c87",
        "colab": {
          "base_uri": "https://localhost:8080/",
          "height": 52
        }
      },
      "source": [
        "# 배기량displ에 따라(4,5)  어느 차량이\n",
        "# 고속도로연비hwy가 높은지 알아보세요\n",
        "displ4 <- mpg %>% select(displ, hwy) %>% filter(displ == 4)\n",
        "mean(displ4$hwy)\n",
        "displ5 <- mpg %>% select(displ, hwy) %>% filter(displ == 5)\n",
        "mean(displ5$hwy)"
      ],
      "execution_count": 124,
      "outputs": [
        {
          "output_type": "display_data",
          "data": {
            "text/plain": [
              "[1] 19.6"
            ],
            "text/latex": "19.6",
            "text/markdown": "19.6",
            "text/html": [
              "19.6"
            ]
          },
          "metadata": {
            "tags": []
          }
        },
        {
          "output_type": "display_data",
          "data": {
            "text/plain": [
              "[1] 17"
            ],
            "text/latex": "17",
            "text/markdown": "17",
            "text/html": [
              "17"
            ]
          },
          "metadata": {
            "tags": []
          }
        }
      ]
    },
    {
      "cell_type": "code",
      "metadata": {
        "id": "bJ4ODb24Tnmo",
        "outputId": "3d57b266-23e0-41af-bb28-b19ca7c0bde7",
        "colab": {
          "base_uri": "https://localhost:8080/",
          "height": 52
        }
      },
      "source": [
        "# 제조사manufactor에 따라(audi, toyota) \n",
        "# 어느 차량이 도시연비가 높은지 알아보세요\n",
        "audi <- mpg %>% select(manufacturer, cty) %>% filter(manufacturer == 'audi')\n",
        "mean(audi$cty)\n",
        "toyota <- mpg %>% select(manufacturer, cty) %>% filter(manufacturer == 'toyota')\n",
        "mean(toyota$cty)"
      ],
      "execution_count": 125,
      "outputs": [
        {
          "output_type": "display_data",
          "data": {
            "text/plain": [
              "[1] 17.61111"
            ],
            "text/latex": "17.6111111111111",
            "text/markdown": "17.6111111111111",
            "text/html": [
              "17.6111111111111"
            ]
          },
          "metadata": {
            "tags": []
          }
        },
        {
          "output_type": "display_data",
          "data": {
            "text/plain": [
              "[1] 18.52941"
            ],
            "text/latex": "18.5294117647059",
            "text/markdown": "18.5294117647059",
            "text/html": [
              "18.5294117647059"
            ]
          },
          "metadata": {
            "tags": []
          }
        }
      ]
    },
    {
      "cell_type": "code",
      "metadata": {
        "id": "5X2_A5AwTwhf",
        "outputId": "cf0f25e1-14f1-4a08-e5bc-481f3463468d",
        "colab": {
          "base_uri": "https://localhost:8080/",
          "height": 69
        }
      },
      "source": [
        "# chervolet, ford, honda 차량의\n",
        "# 평균 고속도로연비를 조회하시오\n",
        "car3 <- mpg %>% select(manufacturer, hwy) %>% filter(manufacturer == 'chervolet' | manufacturer == 'ford' | manufacturer == 'honda')\n",
        "mean(car3$hwy)\n",
        "car4 <- mpg %>% select(manufacturer, hwy) %>% filter(manufacturer %in% c('chervolet', 'ford', 'honda'))\n",
        "mean(car4$hwy)\n",
        "\n",
        "car5 <-mpg %>% select(manufacturer,hwy) %>% filter(manufacturer =='chevrolet')\n",
        "mean(car5$hwy)"
      ],
      "execution_count": 162,
      "outputs": [
        {
          "output_type": "display_data",
          "data": {
            "text/plain": [
              "[1] 22.85294"
            ],
            "text/latex": "22.8529411764706",
            "text/markdown": "22.8529411764706",
            "text/html": [
              "22.8529411764706"
            ]
          },
          "metadata": {
            "tags": []
          }
        },
        {
          "output_type": "display_data",
          "data": {
            "text/plain": [
              "[1] 22.85294"
            ],
            "text/latex": "22.8529411764706",
            "text/markdown": "22.8529411764706",
            "text/html": [
              "22.8529411764706"
            ]
          },
          "metadata": {
            "tags": []
          }
        },
        {
          "output_type": "display_data",
          "data": {
            "text/plain": [
              "[1] 21.89474"
            ],
            "text/latex": "21.8947368421053",
            "text/markdown": "21.8947368421053",
            "text/html": [
              "21.8947368421053"
            ]
          },
          "metadata": {
            "tags": []
          }
        }
      ]
    },
    {
      "cell_type": "code",
      "metadata": {
        "id": "zoahEKWeVPDa",
        "outputId": "15f32942-a0ed-4a0e-cb07-dbed7f8c6fa0",
        "colab": {
          "base_uri": "https://localhost:8080/",
          "height": 491
        }
      },
      "source": [
        "# 고속도로연비와 도시연비를 합산해서 allmpg를,\n",
        "# allmpg를 2로 나눠 avgmpg라는 컬럼을 생성하세요\n",
        "mpg %>% mutate(allmpg = hwy + cty, avgmpg = allmpg / 2) %>% head(20)"
      ],
      "execution_count": 137,
      "outputs": [
        {
          "output_type": "display_data",
          "data": {
            "text/plain": [
              "   manufacturer model              displ year cyl trans      drv cty hwy fl\n",
              "1  audi         a4                 1.8   1999 4   auto(l5)   f   18  29  p \n",
              "2  audi         a4                 1.8   1999 4   manual(m5) f   21  29  p \n",
              "3  audi         a4                 2.0   2008 4   manual(m6) f   20  31  p \n",
              "4  audi         a4                 2.0   2008 4   auto(av)   f   21  30  p \n",
              "5  audi         a4                 2.8   1999 6   auto(l5)   f   16  26  p \n",
              "6  audi         a4                 2.8   1999 6   manual(m5) f   18  26  p \n",
              "7  audi         a4                 3.1   2008 6   auto(av)   f   18  27  p \n",
              "8  audi         a4 quattro         1.8   1999 4   manual(m5) 4   18  26  p \n",
              "9  audi         a4 quattro         1.8   1999 4   auto(l5)   4   16  25  p \n",
              "10 audi         a4 quattro         2.0   2008 4   manual(m6) 4   20  28  p \n",
              "11 audi         a4 quattro         2.0   2008 4   auto(s6)   4   19  27  p \n",
              "12 audi         a4 quattro         2.8   1999 6   auto(l5)   4   15  25  p \n",
              "13 audi         a4 quattro         2.8   1999 6   manual(m5) 4   17  25  p \n",
              "14 audi         a4 quattro         3.1   2008 6   auto(s6)   4   17  25  p \n",
              "15 audi         a4 quattro         3.1   2008 6   manual(m6) 4   15  25  p \n",
              "16 audi         a6 quattro         2.8   1999 6   auto(l5)   4   15  24  p \n",
              "17 audi         a6 quattro         3.1   2008 6   auto(s6)   4   17  25  p \n",
              "18 audi         a6 quattro         4.2   2008 8   auto(s6)   4   16  23  p \n",
              "19 chevrolet    c1500 suburban 2wd 5.3   2008 8   auto(l4)   r   14  20  r \n",
              "20 chevrolet    c1500 suburban 2wd 5.3   2008 8   auto(l4)   r   11  15  e \n",
              "   class   allmpg avgmpg\n",
              "1  compact 47     23.5  \n",
              "2  compact 50     25.0  \n",
              "3  compact 51     25.5  \n",
              "4  compact 51     25.5  \n",
              "5  compact 42     21.0  \n",
              "6  compact 44     22.0  \n",
              "7  compact 45     22.5  \n",
              "8  compact 44     22.0  \n",
              "9  compact 41     20.5  \n",
              "10 compact 48     24.0  \n",
              "11 compact 46     23.0  \n",
              "12 compact 40     20.0  \n",
              "13 compact 42     21.0  \n",
              "14 compact 42     21.0  \n",
              "15 compact 40     20.0  \n",
              "16 midsize 39     19.5  \n",
              "17 midsize 42     21.0  \n",
              "18 midsize 39     19.5  \n",
              "19 suv     34     17.0  \n",
              "20 suv     26     13.0  "
            ],
            "text/latex": "A tibble: 20 × 13\n\\begin{tabular}{lllllllllllll}\n manufacturer & model & displ & year & cyl & trans & drv & cty & hwy & fl & class & allmpg & avgmpg\\\\\n <chr> & <chr> & <dbl> & <int> & <int> & <chr> & <chr> & <int> & <int> & <chr> & <chr> & <int> & <dbl>\\\\\n\\hline\n\t audi      & a4                 & 1.8 & 1999 & 4 & auto(l5)   & f & 18 & 29 & p & compact & 47 & 23.5\\\\\n\t audi      & a4                 & 1.8 & 1999 & 4 & manual(m5) & f & 21 & 29 & p & compact & 50 & 25.0\\\\\n\t audi      & a4                 & 2.0 & 2008 & 4 & manual(m6) & f & 20 & 31 & p & compact & 51 & 25.5\\\\\n\t audi      & a4                 & 2.0 & 2008 & 4 & auto(av)   & f & 21 & 30 & p & compact & 51 & 25.5\\\\\n\t audi      & a4                 & 2.8 & 1999 & 6 & auto(l5)   & f & 16 & 26 & p & compact & 42 & 21.0\\\\\n\t audi      & a4                 & 2.8 & 1999 & 6 & manual(m5) & f & 18 & 26 & p & compact & 44 & 22.0\\\\\n\t audi      & a4                 & 3.1 & 2008 & 6 & auto(av)   & f & 18 & 27 & p & compact & 45 & 22.5\\\\\n\t audi      & a4 quattro         & 1.8 & 1999 & 4 & manual(m5) & 4 & 18 & 26 & p & compact & 44 & 22.0\\\\\n\t audi      & a4 quattro         & 1.8 & 1999 & 4 & auto(l5)   & 4 & 16 & 25 & p & compact & 41 & 20.5\\\\\n\t audi      & a4 quattro         & 2.0 & 2008 & 4 & manual(m6) & 4 & 20 & 28 & p & compact & 48 & 24.0\\\\\n\t audi      & a4 quattro         & 2.0 & 2008 & 4 & auto(s6)   & 4 & 19 & 27 & p & compact & 46 & 23.0\\\\\n\t audi      & a4 quattro         & 2.8 & 1999 & 6 & auto(l5)   & 4 & 15 & 25 & p & compact & 40 & 20.0\\\\\n\t audi      & a4 quattro         & 2.8 & 1999 & 6 & manual(m5) & 4 & 17 & 25 & p & compact & 42 & 21.0\\\\\n\t audi      & a4 quattro         & 3.1 & 2008 & 6 & auto(s6)   & 4 & 17 & 25 & p & compact & 42 & 21.0\\\\\n\t audi      & a4 quattro         & 3.1 & 2008 & 6 & manual(m6) & 4 & 15 & 25 & p & compact & 40 & 20.0\\\\\n\t audi      & a6 quattro         & 2.8 & 1999 & 6 & auto(l5)   & 4 & 15 & 24 & p & midsize & 39 & 19.5\\\\\n\t audi      & a6 quattro         & 3.1 & 2008 & 6 & auto(s6)   & 4 & 17 & 25 & p & midsize & 42 & 21.0\\\\\n\t audi      & a6 quattro         & 4.2 & 2008 & 8 & auto(s6)   & 4 & 16 & 23 & p & midsize & 39 & 19.5\\\\\n\t chevrolet & c1500 suburban 2wd & 5.3 & 2008 & 8 & auto(l4)   & r & 14 & 20 & r & suv     & 34 & 17.0\\\\\n\t chevrolet & c1500 suburban 2wd & 5.3 & 2008 & 8 & auto(l4)   & r & 11 & 15 & e & suv     & 26 & 13.0\\\\\n\\end{tabular}\n",
            "text/markdown": "\nA tibble: 20 × 13\n\n| manufacturer &lt;chr&gt; | model &lt;chr&gt; | displ &lt;dbl&gt; | year &lt;int&gt; | cyl &lt;int&gt; | trans &lt;chr&gt; | drv &lt;chr&gt; | cty &lt;int&gt; | hwy &lt;int&gt; | fl &lt;chr&gt; | class &lt;chr&gt; | allmpg &lt;int&gt; | avgmpg &lt;dbl&gt; |\n|---|---|---|---|---|---|---|---|---|---|---|---|---|\n| audi      | a4                 | 1.8 | 1999 | 4 | auto(l5)   | f | 18 | 29 | p | compact | 47 | 23.5 |\n| audi      | a4                 | 1.8 | 1999 | 4 | manual(m5) | f | 21 | 29 | p | compact | 50 | 25.0 |\n| audi      | a4                 | 2.0 | 2008 | 4 | manual(m6) | f | 20 | 31 | p | compact | 51 | 25.5 |\n| audi      | a4                 | 2.0 | 2008 | 4 | auto(av)   | f | 21 | 30 | p | compact | 51 | 25.5 |\n| audi      | a4                 | 2.8 | 1999 | 6 | auto(l5)   | f | 16 | 26 | p | compact | 42 | 21.0 |\n| audi      | a4                 | 2.8 | 1999 | 6 | manual(m5) | f | 18 | 26 | p | compact | 44 | 22.0 |\n| audi      | a4                 | 3.1 | 2008 | 6 | auto(av)   | f | 18 | 27 | p | compact | 45 | 22.5 |\n| audi      | a4 quattro         | 1.8 | 1999 | 4 | manual(m5) | 4 | 18 | 26 | p | compact | 44 | 22.0 |\n| audi      | a4 quattro         | 1.8 | 1999 | 4 | auto(l5)   | 4 | 16 | 25 | p | compact | 41 | 20.5 |\n| audi      | a4 quattro         | 2.0 | 2008 | 4 | manual(m6) | 4 | 20 | 28 | p | compact | 48 | 24.0 |\n| audi      | a4 quattro         | 2.0 | 2008 | 4 | auto(s6)   | 4 | 19 | 27 | p | compact | 46 | 23.0 |\n| audi      | a4 quattro         | 2.8 | 1999 | 6 | auto(l5)   | 4 | 15 | 25 | p | compact | 40 | 20.0 |\n| audi      | a4 quattro         | 2.8 | 1999 | 6 | manual(m5) | 4 | 17 | 25 | p | compact | 42 | 21.0 |\n| audi      | a4 quattro         | 3.1 | 2008 | 6 | auto(s6)   | 4 | 17 | 25 | p | compact | 42 | 21.0 |\n| audi      | a4 quattro         | 3.1 | 2008 | 6 | manual(m6) | 4 | 15 | 25 | p | compact | 40 | 20.0 |\n| audi      | a6 quattro         | 2.8 | 1999 | 6 | auto(l5)   | 4 | 15 | 24 | p | midsize | 39 | 19.5 |\n| audi      | a6 quattro         | 3.1 | 2008 | 6 | auto(s6)   | 4 | 17 | 25 | p | midsize | 42 | 21.0 |\n| audi      | a6 quattro         | 4.2 | 2008 | 8 | auto(s6)   | 4 | 16 | 23 | p | midsize | 39 | 19.5 |\n| chevrolet | c1500 suburban 2wd | 5.3 | 2008 | 8 | auto(l4)   | r | 14 | 20 | r | suv     | 34 | 17.0 |\n| chevrolet | c1500 suburban 2wd | 5.3 | 2008 | 8 | auto(l4)   | r | 11 | 15 | e | suv     | 26 | 13.0 |\n\n",
            "text/html": [
              "<table>\n",
              "<caption>A tibble: 20 × 13</caption>\n",
              "<thead>\n",
              "\t<tr><th scope=col>manufacturer</th><th scope=col>model</th><th scope=col>displ</th><th scope=col>year</th><th scope=col>cyl</th><th scope=col>trans</th><th scope=col>drv</th><th scope=col>cty</th><th scope=col>hwy</th><th scope=col>fl</th><th scope=col>class</th><th scope=col>allmpg</th><th scope=col>avgmpg</th></tr>\n",
              "\t<tr><th scope=col>&lt;chr&gt;</th><th scope=col>&lt;chr&gt;</th><th scope=col>&lt;dbl&gt;</th><th scope=col>&lt;int&gt;</th><th scope=col>&lt;int&gt;</th><th scope=col>&lt;chr&gt;</th><th scope=col>&lt;chr&gt;</th><th scope=col>&lt;int&gt;</th><th scope=col>&lt;int&gt;</th><th scope=col>&lt;chr&gt;</th><th scope=col>&lt;chr&gt;</th><th scope=col>&lt;int&gt;</th><th scope=col>&lt;dbl&gt;</th></tr>\n",
              "</thead>\n",
              "<tbody>\n",
              "\t<tr><td>audi     </td><td>a4                </td><td>1.8</td><td>1999</td><td>4</td><td>auto(l5)  </td><td>f</td><td>18</td><td>29</td><td>p</td><td>compact</td><td>47</td><td>23.5</td></tr>\n",
              "\t<tr><td>audi     </td><td>a4                </td><td>1.8</td><td>1999</td><td>4</td><td>manual(m5)</td><td>f</td><td>21</td><td>29</td><td>p</td><td>compact</td><td>50</td><td>25.0</td></tr>\n",
              "\t<tr><td>audi     </td><td>a4                </td><td>2.0</td><td>2008</td><td>4</td><td>manual(m6)</td><td>f</td><td>20</td><td>31</td><td>p</td><td>compact</td><td>51</td><td>25.5</td></tr>\n",
              "\t<tr><td>audi     </td><td>a4                </td><td>2.0</td><td>2008</td><td>4</td><td>auto(av)  </td><td>f</td><td>21</td><td>30</td><td>p</td><td>compact</td><td>51</td><td>25.5</td></tr>\n",
              "\t<tr><td>audi     </td><td>a4                </td><td>2.8</td><td>1999</td><td>6</td><td>auto(l5)  </td><td>f</td><td>16</td><td>26</td><td>p</td><td>compact</td><td>42</td><td>21.0</td></tr>\n",
              "\t<tr><td>audi     </td><td>a4                </td><td>2.8</td><td>1999</td><td>6</td><td>manual(m5)</td><td>f</td><td>18</td><td>26</td><td>p</td><td>compact</td><td>44</td><td>22.0</td></tr>\n",
              "\t<tr><td>audi     </td><td>a4                </td><td>3.1</td><td>2008</td><td>6</td><td>auto(av)  </td><td>f</td><td>18</td><td>27</td><td>p</td><td>compact</td><td>45</td><td>22.5</td></tr>\n",
              "\t<tr><td>audi     </td><td>a4 quattro        </td><td>1.8</td><td>1999</td><td>4</td><td>manual(m5)</td><td>4</td><td>18</td><td>26</td><td>p</td><td>compact</td><td>44</td><td>22.0</td></tr>\n",
              "\t<tr><td>audi     </td><td>a4 quattro        </td><td>1.8</td><td>1999</td><td>4</td><td>auto(l5)  </td><td>4</td><td>16</td><td>25</td><td>p</td><td>compact</td><td>41</td><td>20.5</td></tr>\n",
              "\t<tr><td>audi     </td><td>a4 quattro        </td><td>2.0</td><td>2008</td><td>4</td><td>manual(m6)</td><td>4</td><td>20</td><td>28</td><td>p</td><td>compact</td><td>48</td><td>24.0</td></tr>\n",
              "\t<tr><td>audi     </td><td>a4 quattro        </td><td>2.0</td><td>2008</td><td>4</td><td>auto(s6)  </td><td>4</td><td>19</td><td>27</td><td>p</td><td>compact</td><td>46</td><td>23.0</td></tr>\n",
              "\t<tr><td>audi     </td><td>a4 quattro        </td><td>2.8</td><td>1999</td><td>6</td><td>auto(l5)  </td><td>4</td><td>15</td><td>25</td><td>p</td><td>compact</td><td>40</td><td>20.0</td></tr>\n",
              "\t<tr><td>audi     </td><td>a4 quattro        </td><td>2.8</td><td>1999</td><td>6</td><td>manual(m5)</td><td>4</td><td>17</td><td>25</td><td>p</td><td>compact</td><td>42</td><td>21.0</td></tr>\n",
              "\t<tr><td>audi     </td><td>a4 quattro        </td><td>3.1</td><td>2008</td><td>6</td><td>auto(s6)  </td><td>4</td><td>17</td><td>25</td><td>p</td><td>compact</td><td>42</td><td>21.0</td></tr>\n",
              "\t<tr><td>audi     </td><td>a4 quattro        </td><td>3.1</td><td>2008</td><td>6</td><td>manual(m6)</td><td>4</td><td>15</td><td>25</td><td>p</td><td>compact</td><td>40</td><td>20.0</td></tr>\n",
              "\t<tr><td>audi     </td><td>a6 quattro        </td><td>2.8</td><td>1999</td><td>6</td><td>auto(l5)  </td><td>4</td><td>15</td><td>24</td><td>p</td><td>midsize</td><td>39</td><td>19.5</td></tr>\n",
              "\t<tr><td>audi     </td><td>a6 quattro        </td><td>3.1</td><td>2008</td><td>6</td><td>auto(s6)  </td><td>4</td><td>17</td><td>25</td><td>p</td><td>midsize</td><td>42</td><td>21.0</td></tr>\n",
              "\t<tr><td>audi     </td><td>a6 quattro        </td><td>4.2</td><td>2008</td><td>8</td><td>auto(s6)  </td><td>4</td><td>16</td><td>23</td><td>p</td><td>midsize</td><td>39</td><td>19.5</td></tr>\n",
              "\t<tr><td>chevrolet</td><td>c1500 suburban 2wd</td><td>5.3</td><td>2008</td><td>8</td><td>auto(l4)  </td><td>r</td><td>14</td><td>20</td><td>r</td><td>suv    </td><td>34</td><td>17.0</td></tr>\n",
              "\t<tr><td>chevrolet</td><td>c1500 suburban 2wd</td><td>5.3</td><td>2008</td><td>8</td><td>auto(l4)  </td><td>r</td><td>11</td><td>15</td><td>e</td><td>suv    </td><td>26</td><td>13.0</td></tr>\n",
              "</tbody>\n",
              "</table>\n"
            ]
          },
          "metadata": {
            "tags": []
          }
        }
      ]
    },
    {
      "cell_type": "code",
      "metadata": {
        "id": "YjjdtdxKWswa",
        "outputId": "6d2f4e6a-1489-464e-fb7b-729f291bf8c9",
        "colab": {
          "base_uri": "https://localhost:8080/",
          "height": 302
        }
      },
      "source": [
        "# 차량의 실린더cyl가 4면 4기통을\n",
        "# 6이면 6기통을, 그외는 8기통이라고 출력하는\n",
        "# clydesc라는 컬럼을 생성하세요\n",
        "mpg %>% mutate(clydesc = case_when(cyl == 4~'4기통', cyl == 6~'6기통', TRUE ~'8기통')) %>% select(cyl, clydesc) %>% head(10)"
      ],
      "execution_count": 144,
      "outputs": [
        {
          "output_type": "display_data",
          "data": {
            "text/plain": [
              "   cyl clydesc\n",
              "1  4   4기통  \n",
              "2  4   4기통  \n",
              "3  4   4기통  \n",
              "4  4   4기통  \n",
              "5  6   6기통  \n",
              "6  6   6기통  \n",
              "7  6   6기통  \n",
              "8  4   4기통  \n",
              "9  4   4기통  \n",
              "10 4   4기통  "
            ],
            "text/latex": "A tibble: 10 × 2\n\\begin{tabular}{ll}\n cyl & clydesc\\\\\n <int> & <chr>\\\\\n\\hline\n\t 4 & 4기통\\\\\n\t 4 & 4기통\\\\\n\t 4 & 4기통\\\\\n\t 4 & 4기통\\\\\n\t 6 & 6기통\\\\\n\t 6 & 6기통\\\\\n\t 6 & 6기통\\\\\n\t 4 & 4기통\\\\\n\t 4 & 4기통\\\\\n\t 4 & 4기통\\\\\n\\end{tabular}\n",
            "text/markdown": "\nA tibble: 10 × 2\n\n| cyl &lt;int&gt; | clydesc &lt;chr&gt; |\n|---|---|\n| 4 | 4기통 |\n| 4 | 4기통 |\n| 4 | 4기통 |\n| 4 | 4기통 |\n| 6 | 6기통 |\n| 6 | 6기통 |\n| 6 | 6기통 |\n| 4 | 4기통 |\n| 4 | 4기통 |\n| 4 | 4기통 |\n\n",
            "text/html": [
              "<table>\n",
              "<caption>A tibble: 10 × 2</caption>\n",
              "<thead>\n",
              "\t<tr><th scope=col>cyl</th><th scope=col>clydesc</th></tr>\n",
              "\t<tr><th scope=col>&lt;int&gt;</th><th scope=col>&lt;chr&gt;</th></tr>\n",
              "</thead>\n",
              "<tbody>\n",
              "\t<tr><td>4</td><td>4기통</td></tr>\n",
              "\t<tr><td>4</td><td>4기통</td></tr>\n",
              "\t<tr><td>4</td><td>4기통</td></tr>\n",
              "\t<tr><td>4</td><td>4기통</td></tr>\n",
              "\t<tr><td>6</td><td>6기통</td></tr>\n",
              "\t<tr><td>6</td><td>6기통</td></tr>\n",
              "\t<tr><td>6</td><td>6기통</td></tr>\n",
              "\t<tr><td>4</td><td>4기통</td></tr>\n",
              "\t<tr><td>4</td><td>4기통</td></tr>\n",
              "\t<tr><td>4</td><td>4기통</td></tr>\n",
              "</tbody>\n",
              "</table>\n"
            ]
          },
          "metadata": {
            "tags": []
          }
        }
      ]
    },
    {
      "cell_type": "code",
      "metadata": {
        "id": "xST0uW0YcJ9f",
        "outputId": "73d21d14-3dfe-4641-a07a-9f23d2090b43",
        "colab": {
          "base_uri": "https://localhost:8080/",
          "height": 1000
        }
      },
      "source": [
        "library(ggplot2)\n",
        "library(dplyr)\n",
        "diamonds\n",
        "\n",
        "# carat과 price 변수 출력\n",
        "diamonds %>% select(carat, price)"
      ],
      "execution_count": 179,
      "outputs": [
        {
          "output_type": "display_data",
          "data": {
            "text/plain": [
              "      carat cut       color clarity depth table price x    y    z   \n",
              "1     0.23  Ideal     E     SI2     61.5  55    326   3.95 3.98 2.43\n",
              "2     0.21  Premium   E     SI1     59.8  61    326   3.89 3.84 2.31\n",
              "3     0.23  Good      E     VS1     56.9  65    327   4.05 4.07 2.31\n",
              "4     0.29  Premium   I     VS2     62.4  58    334   4.20 4.23 2.63\n",
              "5     0.31  Good      J     SI2     63.3  58    335   4.34 4.35 2.75\n",
              "6     0.24  Very Good J     VVS2    62.8  57    336   3.94 3.96 2.48\n",
              "7     0.24  Very Good I     VVS1    62.3  57    336   3.95 3.98 2.47\n",
              "8     0.26  Very Good H     SI1     61.9  55    337   4.07 4.11 2.53\n",
              "9     0.22  Fair      E     VS2     65.1  61    337   3.87 3.78 2.49\n",
              "10    0.23  Very Good H     VS1     59.4  61    338   4.00 4.05 2.39\n",
              "11    0.30  Good      J     SI1     64.0  55    339   4.25 4.28 2.73\n",
              "12    0.23  Ideal     J     VS1     62.8  56    340   3.93 3.90 2.46\n",
              "13    0.22  Premium   F     SI1     60.4  61    342   3.88 3.84 2.33\n",
              "14    0.31  Ideal     J     SI2     62.2  54    344   4.35 4.37 2.71\n",
              "15    0.20  Premium   E     SI2     60.2  62    345   3.79 3.75 2.27\n",
              "16    0.32  Premium   E     I1      60.9  58    345   4.38 4.42 2.68\n",
              "17    0.30  Ideal     I     SI2     62.0  54    348   4.31 4.34 2.68\n",
              "18    0.30  Good      J     SI1     63.4  54    351   4.23 4.29 2.70\n",
              "19    0.30  Good      J     SI1     63.8  56    351   4.23 4.26 2.71\n",
              "20    0.30  Very Good J     SI1     62.7  59    351   4.21 4.27 2.66\n",
              "21    0.30  Good      I     SI2     63.3  56    351   4.26 4.30 2.71\n",
              "22    0.23  Very Good E     VS2     63.8  55    352   3.85 3.92 2.48\n",
              "23    0.23  Very Good H     VS1     61.0  57    353   3.94 3.96 2.41\n",
              "24    0.31  Very Good J     SI1     59.4  62    353   4.39 4.43 2.62\n",
              "25    0.31  Very Good J     SI1     58.1  62    353   4.44 4.47 2.59\n",
              "26    0.23  Very Good G     VVS2    60.4  58    354   3.97 4.01 2.41\n",
              "27    0.24  Premium   I     VS1     62.5  57    355   3.97 3.94 2.47\n",
              "28    0.30  Very Good J     VS2     62.2  57    357   4.28 4.30 2.67\n",
              "29    0.23  Very Good D     VS2     60.5  61    357   3.96 3.97 2.40\n",
              "30    0.23  Very Good F     VS1     60.9  57    357   3.96 3.99 2.42\n",
              "⋮     ⋮     ⋮         ⋮     ⋮       ⋮     ⋮     ⋮     ⋮    ⋮    ⋮   \n",
              "53911 0.70  Premium   E     SI1     60.5  58    2753  5.74 5.77 3.48\n",
              "53912 0.57  Premium   E     IF      59.8  60    2753  5.43 5.38 3.23\n",
              "53913 0.61  Premium   F     VVS1    61.8  59    2753  5.48 5.40 3.36\n",
              "53914 0.80  Good      G     VS2     64.2  58    2753  5.84 5.81 3.74\n",
              "53915 0.84  Good      I     VS1     63.7  59    2753  5.94 5.90 3.77\n",
              "53916 0.77  Ideal     E     SI2     62.1  56    2753  5.84 5.86 3.63\n",
              "53917 0.74  Good      D     SI1     63.1  59    2753  5.71 5.74 3.61\n",
              "53918 0.90  Very Good J     SI1     63.2  60    2753  6.12 6.09 3.86\n",
              "53919 0.76  Premium   I     VS1     59.3  62    2753  5.93 5.85 3.49\n",
              "53920 0.76  Ideal     I     VVS1    62.2  55    2753  5.89 5.87 3.66\n",
              "53921 0.70  Very Good E     VS2     62.4  60    2755  5.57 5.61 3.49\n",
              "53922 0.70  Very Good E     VS2     62.8  60    2755  5.59 5.65 3.53\n",
              "53923 0.70  Very Good D     VS1     63.1  59    2755  5.67 5.58 3.55\n",
              "53924 0.73  Ideal     I     VS2     61.3  56    2756  5.80 5.84 3.57\n",
              "53925 0.73  Ideal     I     VS2     61.6  55    2756  5.82 5.84 3.59\n",
              "53926 0.79  Ideal     I     SI1     61.6  56    2756  5.95 5.97 3.67\n",
              "53927 0.71  Ideal     E     SI1     61.9  56    2756  5.71 5.73 3.54\n",
              "53928 0.79  Good      F     SI1     58.1  59    2756  6.06 6.13 3.54\n",
              "53929 0.79  Premium   E     SI2     61.4  58    2756  6.03 5.96 3.68\n",
              "53930 0.71  Ideal     G     VS1     61.4  56    2756  5.76 5.73 3.53\n",
              "53931 0.71  Premium   E     SI1     60.5  55    2756  5.79 5.74 3.49\n",
              "53932 0.71  Premium   F     SI1     59.8  62    2756  5.74 5.73 3.43\n",
              "53933 0.70  Very Good E     VS2     60.5  59    2757  5.71 5.76 3.47\n",
              "53934 0.70  Very Good E     VS2     61.2  59    2757  5.69 5.72 3.49\n",
              "53935 0.72  Premium   D     SI1     62.7  59    2757  5.69 5.73 3.58\n",
              "53936 0.72  Ideal     D     SI1     60.8  57    2757  5.75 5.76 3.50\n",
              "53937 0.72  Good      D     SI1     63.1  55    2757  5.69 5.75 3.61\n",
              "53938 0.70  Very Good D     SI1     62.8  60    2757  5.66 5.68 3.56\n",
              "53939 0.86  Premium   H     SI2     61.0  58    2757  6.15 6.12 3.74\n",
              "53940 0.75  Ideal     D     SI2     62.2  55    2757  5.83 5.87 3.64"
            ],
            "text/latex": "A tibble: 53940 × 10\n\\begin{tabular}{llllllllll}\n carat & cut & color & clarity & depth & table & price & x & y & z\\\\\n <dbl> & <ord> & <ord> & <ord> & <dbl> & <dbl> & <int> & <dbl> & <dbl> & <dbl>\\\\\n\\hline\n\t 0.23 & Ideal     & E & SI2  & 61.5 & 55 & 326 & 3.95 & 3.98 & 2.43\\\\\n\t 0.21 & Premium   & E & SI1  & 59.8 & 61 & 326 & 3.89 & 3.84 & 2.31\\\\\n\t 0.23 & Good      & E & VS1  & 56.9 & 65 & 327 & 4.05 & 4.07 & 2.31\\\\\n\t 0.29 & Premium   & I & VS2  & 62.4 & 58 & 334 & 4.20 & 4.23 & 2.63\\\\\n\t 0.31 & Good      & J & SI2  & 63.3 & 58 & 335 & 4.34 & 4.35 & 2.75\\\\\n\t 0.24 & Very Good & J & VVS2 & 62.8 & 57 & 336 & 3.94 & 3.96 & 2.48\\\\\n\t 0.24 & Very Good & I & VVS1 & 62.3 & 57 & 336 & 3.95 & 3.98 & 2.47\\\\\n\t 0.26 & Very Good & H & SI1  & 61.9 & 55 & 337 & 4.07 & 4.11 & 2.53\\\\\n\t 0.22 & Fair      & E & VS2  & 65.1 & 61 & 337 & 3.87 & 3.78 & 2.49\\\\\n\t 0.23 & Very Good & H & VS1  & 59.4 & 61 & 338 & 4.00 & 4.05 & 2.39\\\\\n\t 0.30 & Good      & J & SI1  & 64.0 & 55 & 339 & 4.25 & 4.28 & 2.73\\\\\n\t 0.23 & Ideal     & J & VS1  & 62.8 & 56 & 340 & 3.93 & 3.90 & 2.46\\\\\n\t 0.22 & Premium   & F & SI1  & 60.4 & 61 & 342 & 3.88 & 3.84 & 2.33\\\\\n\t 0.31 & Ideal     & J & SI2  & 62.2 & 54 & 344 & 4.35 & 4.37 & 2.71\\\\\n\t 0.20 & Premium   & E & SI2  & 60.2 & 62 & 345 & 3.79 & 3.75 & 2.27\\\\\n\t 0.32 & Premium   & E & I1   & 60.9 & 58 & 345 & 4.38 & 4.42 & 2.68\\\\\n\t 0.30 & Ideal     & I & SI2  & 62.0 & 54 & 348 & 4.31 & 4.34 & 2.68\\\\\n\t 0.30 & Good      & J & SI1  & 63.4 & 54 & 351 & 4.23 & 4.29 & 2.70\\\\\n\t 0.30 & Good      & J & SI1  & 63.8 & 56 & 351 & 4.23 & 4.26 & 2.71\\\\\n\t 0.30 & Very Good & J & SI1  & 62.7 & 59 & 351 & 4.21 & 4.27 & 2.66\\\\\n\t 0.30 & Good      & I & SI2  & 63.3 & 56 & 351 & 4.26 & 4.30 & 2.71\\\\\n\t 0.23 & Very Good & E & VS2  & 63.8 & 55 & 352 & 3.85 & 3.92 & 2.48\\\\\n\t 0.23 & Very Good & H & VS1  & 61.0 & 57 & 353 & 3.94 & 3.96 & 2.41\\\\\n\t 0.31 & Very Good & J & SI1  & 59.4 & 62 & 353 & 4.39 & 4.43 & 2.62\\\\\n\t 0.31 & Very Good & J & SI1  & 58.1 & 62 & 353 & 4.44 & 4.47 & 2.59\\\\\n\t 0.23 & Very Good & G & VVS2 & 60.4 & 58 & 354 & 3.97 & 4.01 & 2.41\\\\\n\t 0.24 & Premium   & I & VS1  & 62.5 & 57 & 355 & 3.97 & 3.94 & 2.47\\\\\n\t 0.30 & Very Good & J & VS2  & 62.2 & 57 & 357 & 4.28 & 4.30 & 2.67\\\\\n\t 0.23 & Very Good & D & VS2  & 60.5 & 61 & 357 & 3.96 & 3.97 & 2.40\\\\\n\t 0.23 & Very Good & F & VS1  & 60.9 & 57 & 357 & 3.96 & 3.99 & 2.42\\\\\n\t ⋮ & ⋮ & ⋮ & ⋮ & ⋮ & ⋮ & ⋮ & ⋮ & ⋮ & ⋮\\\\\n\t 0.70 & Premium   & E & SI1  & 60.5 & 58 & 2753 & 5.74 & 5.77 & 3.48\\\\\n\t 0.57 & Premium   & E & IF   & 59.8 & 60 & 2753 & 5.43 & 5.38 & 3.23\\\\\n\t 0.61 & Premium   & F & VVS1 & 61.8 & 59 & 2753 & 5.48 & 5.40 & 3.36\\\\\n\t 0.80 & Good      & G & VS2  & 64.2 & 58 & 2753 & 5.84 & 5.81 & 3.74\\\\\n\t 0.84 & Good      & I & VS1  & 63.7 & 59 & 2753 & 5.94 & 5.90 & 3.77\\\\\n\t 0.77 & Ideal     & E & SI2  & 62.1 & 56 & 2753 & 5.84 & 5.86 & 3.63\\\\\n\t 0.74 & Good      & D & SI1  & 63.1 & 59 & 2753 & 5.71 & 5.74 & 3.61\\\\\n\t 0.90 & Very Good & J & SI1  & 63.2 & 60 & 2753 & 6.12 & 6.09 & 3.86\\\\\n\t 0.76 & Premium   & I & VS1  & 59.3 & 62 & 2753 & 5.93 & 5.85 & 3.49\\\\\n\t 0.76 & Ideal     & I & VVS1 & 62.2 & 55 & 2753 & 5.89 & 5.87 & 3.66\\\\\n\t 0.70 & Very Good & E & VS2  & 62.4 & 60 & 2755 & 5.57 & 5.61 & 3.49\\\\\n\t 0.70 & Very Good & E & VS2  & 62.8 & 60 & 2755 & 5.59 & 5.65 & 3.53\\\\\n\t 0.70 & Very Good & D & VS1  & 63.1 & 59 & 2755 & 5.67 & 5.58 & 3.55\\\\\n\t 0.73 & Ideal     & I & VS2  & 61.3 & 56 & 2756 & 5.80 & 5.84 & 3.57\\\\\n\t 0.73 & Ideal     & I & VS2  & 61.6 & 55 & 2756 & 5.82 & 5.84 & 3.59\\\\\n\t 0.79 & Ideal     & I & SI1  & 61.6 & 56 & 2756 & 5.95 & 5.97 & 3.67\\\\\n\t 0.71 & Ideal     & E & SI1  & 61.9 & 56 & 2756 & 5.71 & 5.73 & 3.54\\\\\n\t 0.79 & Good      & F & SI1  & 58.1 & 59 & 2756 & 6.06 & 6.13 & 3.54\\\\\n\t 0.79 & Premium   & E & SI2  & 61.4 & 58 & 2756 & 6.03 & 5.96 & 3.68\\\\\n\t 0.71 & Ideal     & G & VS1  & 61.4 & 56 & 2756 & 5.76 & 5.73 & 3.53\\\\\n\t 0.71 & Premium   & E & SI1  & 60.5 & 55 & 2756 & 5.79 & 5.74 & 3.49\\\\\n\t 0.71 & Premium   & F & SI1  & 59.8 & 62 & 2756 & 5.74 & 5.73 & 3.43\\\\\n\t 0.70 & Very Good & E & VS2  & 60.5 & 59 & 2757 & 5.71 & 5.76 & 3.47\\\\\n\t 0.70 & Very Good & E & VS2  & 61.2 & 59 & 2757 & 5.69 & 5.72 & 3.49\\\\\n\t 0.72 & Premium   & D & SI1  & 62.7 & 59 & 2757 & 5.69 & 5.73 & 3.58\\\\\n\t 0.72 & Ideal     & D & SI1  & 60.8 & 57 & 2757 & 5.75 & 5.76 & 3.50\\\\\n\t 0.72 & Good      & D & SI1  & 63.1 & 55 & 2757 & 5.69 & 5.75 & 3.61\\\\\n\t 0.70 & Very Good & D & SI1  & 62.8 & 60 & 2757 & 5.66 & 5.68 & 3.56\\\\\n\t 0.86 & Premium   & H & SI2  & 61.0 & 58 & 2757 & 6.15 & 6.12 & 3.74\\\\\n\t 0.75 & Ideal     & D & SI2  & 62.2 & 55 & 2757 & 5.83 & 5.87 & 3.64\\\\\n\\end{tabular}\n",
            "text/markdown": "\nA tibble: 53940 × 10\n\n| carat &lt;dbl&gt; | cut &lt;ord&gt; | color &lt;ord&gt; | clarity &lt;ord&gt; | depth &lt;dbl&gt; | table &lt;dbl&gt; | price &lt;int&gt; | x &lt;dbl&gt; | y &lt;dbl&gt; | z &lt;dbl&gt; |\n|---|---|---|---|---|---|---|---|---|---|\n| 0.23 | Ideal     | E | SI2  | 61.5 | 55 | 326 | 3.95 | 3.98 | 2.43 |\n| 0.21 | Premium   | E | SI1  | 59.8 | 61 | 326 | 3.89 | 3.84 | 2.31 |\n| 0.23 | Good      | E | VS1  | 56.9 | 65 | 327 | 4.05 | 4.07 | 2.31 |\n| 0.29 | Premium   | I | VS2  | 62.4 | 58 | 334 | 4.20 | 4.23 | 2.63 |\n| 0.31 | Good      | J | SI2  | 63.3 | 58 | 335 | 4.34 | 4.35 | 2.75 |\n| 0.24 | Very Good | J | VVS2 | 62.8 | 57 | 336 | 3.94 | 3.96 | 2.48 |\n| 0.24 | Very Good | I | VVS1 | 62.3 | 57 | 336 | 3.95 | 3.98 | 2.47 |\n| 0.26 | Very Good | H | SI1  | 61.9 | 55 | 337 | 4.07 | 4.11 | 2.53 |\n| 0.22 | Fair      | E | VS2  | 65.1 | 61 | 337 | 3.87 | 3.78 | 2.49 |\n| 0.23 | Very Good | H | VS1  | 59.4 | 61 | 338 | 4.00 | 4.05 | 2.39 |\n| 0.30 | Good      | J | SI1  | 64.0 | 55 | 339 | 4.25 | 4.28 | 2.73 |\n| 0.23 | Ideal     | J | VS1  | 62.8 | 56 | 340 | 3.93 | 3.90 | 2.46 |\n| 0.22 | Premium   | F | SI1  | 60.4 | 61 | 342 | 3.88 | 3.84 | 2.33 |\n| 0.31 | Ideal     | J | SI2  | 62.2 | 54 | 344 | 4.35 | 4.37 | 2.71 |\n| 0.20 | Premium   | E | SI2  | 60.2 | 62 | 345 | 3.79 | 3.75 | 2.27 |\n| 0.32 | Premium   | E | I1   | 60.9 | 58 | 345 | 4.38 | 4.42 | 2.68 |\n| 0.30 | Ideal     | I | SI2  | 62.0 | 54 | 348 | 4.31 | 4.34 | 2.68 |\n| 0.30 | Good      | J | SI1  | 63.4 | 54 | 351 | 4.23 | 4.29 | 2.70 |\n| 0.30 | Good      | J | SI1  | 63.8 | 56 | 351 | 4.23 | 4.26 | 2.71 |\n| 0.30 | Very Good | J | SI1  | 62.7 | 59 | 351 | 4.21 | 4.27 | 2.66 |\n| 0.30 | Good      | I | SI2  | 63.3 | 56 | 351 | 4.26 | 4.30 | 2.71 |\n| 0.23 | Very Good | E | VS2  | 63.8 | 55 | 352 | 3.85 | 3.92 | 2.48 |\n| 0.23 | Very Good | H | VS1  | 61.0 | 57 | 353 | 3.94 | 3.96 | 2.41 |\n| 0.31 | Very Good | J | SI1  | 59.4 | 62 | 353 | 4.39 | 4.43 | 2.62 |\n| 0.31 | Very Good | J | SI1  | 58.1 | 62 | 353 | 4.44 | 4.47 | 2.59 |\n| 0.23 | Very Good | G | VVS2 | 60.4 | 58 | 354 | 3.97 | 4.01 | 2.41 |\n| 0.24 | Premium   | I | VS1  | 62.5 | 57 | 355 | 3.97 | 3.94 | 2.47 |\n| 0.30 | Very Good | J | VS2  | 62.2 | 57 | 357 | 4.28 | 4.30 | 2.67 |\n| 0.23 | Very Good | D | VS2  | 60.5 | 61 | 357 | 3.96 | 3.97 | 2.40 |\n| 0.23 | Very Good | F | VS1  | 60.9 | 57 | 357 | 3.96 | 3.99 | 2.42 |\n| ⋮ | ⋮ | ⋮ | ⋮ | ⋮ | ⋮ | ⋮ | ⋮ | ⋮ | ⋮ |\n| 0.70 | Premium   | E | SI1  | 60.5 | 58 | 2753 | 5.74 | 5.77 | 3.48 |\n| 0.57 | Premium   | E | IF   | 59.8 | 60 | 2753 | 5.43 | 5.38 | 3.23 |\n| 0.61 | Premium   | F | VVS1 | 61.8 | 59 | 2753 | 5.48 | 5.40 | 3.36 |\n| 0.80 | Good      | G | VS2  | 64.2 | 58 | 2753 | 5.84 | 5.81 | 3.74 |\n| 0.84 | Good      | I | VS1  | 63.7 | 59 | 2753 | 5.94 | 5.90 | 3.77 |\n| 0.77 | Ideal     | E | SI2  | 62.1 | 56 | 2753 | 5.84 | 5.86 | 3.63 |\n| 0.74 | Good      | D | SI1  | 63.1 | 59 | 2753 | 5.71 | 5.74 | 3.61 |\n| 0.90 | Very Good | J | SI1  | 63.2 | 60 | 2753 | 6.12 | 6.09 | 3.86 |\n| 0.76 | Premium   | I | VS1  | 59.3 | 62 | 2753 | 5.93 | 5.85 | 3.49 |\n| 0.76 | Ideal     | I | VVS1 | 62.2 | 55 | 2753 | 5.89 | 5.87 | 3.66 |\n| 0.70 | Very Good | E | VS2  | 62.4 | 60 | 2755 | 5.57 | 5.61 | 3.49 |\n| 0.70 | Very Good | E | VS2  | 62.8 | 60 | 2755 | 5.59 | 5.65 | 3.53 |\n| 0.70 | Very Good | D | VS1  | 63.1 | 59 | 2755 | 5.67 | 5.58 | 3.55 |\n| 0.73 | Ideal     | I | VS2  | 61.3 | 56 | 2756 | 5.80 | 5.84 | 3.57 |\n| 0.73 | Ideal     | I | VS2  | 61.6 | 55 | 2756 | 5.82 | 5.84 | 3.59 |\n| 0.79 | Ideal     | I | SI1  | 61.6 | 56 | 2756 | 5.95 | 5.97 | 3.67 |\n| 0.71 | Ideal     | E | SI1  | 61.9 | 56 | 2756 | 5.71 | 5.73 | 3.54 |\n| 0.79 | Good      | F | SI1  | 58.1 | 59 | 2756 | 6.06 | 6.13 | 3.54 |\n| 0.79 | Premium   | E | SI2  | 61.4 | 58 | 2756 | 6.03 | 5.96 | 3.68 |\n| 0.71 | Ideal     | G | VS1  | 61.4 | 56 | 2756 | 5.76 | 5.73 | 3.53 |\n| 0.71 | Premium   | E | SI1  | 60.5 | 55 | 2756 | 5.79 | 5.74 | 3.49 |\n| 0.71 | Premium   | F | SI1  | 59.8 | 62 | 2756 | 5.74 | 5.73 | 3.43 |\n| 0.70 | Very Good | E | VS2  | 60.5 | 59 | 2757 | 5.71 | 5.76 | 3.47 |\n| 0.70 | Very Good | E | VS2  | 61.2 | 59 | 2757 | 5.69 | 5.72 | 3.49 |\n| 0.72 | Premium   | D | SI1  | 62.7 | 59 | 2757 | 5.69 | 5.73 | 3.58 |\n| 0.72 | Ideal     | D | SI1  | 60.8 | 57 | 2757 | 5.75 | 5.76 | 3.50 |\n| 0.72 | Good      | D | SI1  | 63.1 | 55 | 2757 | 5.69 | 5.75 | 3.61 |\n| 0.70 | Very Good | D | SI1  | 62.8 | 60 | 2757 | 5.66 | 5.68 | 3.56 |\n| 0.86 | Premium   | H | SI2  | 61.0 | 58 | 2757 | 6.15 | 6.12 | 3.74 |\n| 0.75 | Ideal     | D | SI2  | 62.2 | 55 | 2757 | 5.83 | 5.87 | 3.64 |\n\n",
            "text/html": [
              "<table>\n",
              "<caption>A tibble: 53940 × 10</caption>\n",
              "<thead>\n",
              "\t<tr><th scope=col>carat</th><th scope=col>cut</th><th scope=col>color</th><th scope=col>clarity</th><th scope=col>depth</th><th scope=col>table</th><th scope=col>price</th><th scope=col>x</th><th scope=col>y</th><th scope=col>z</th></tr>\n",
              "\t<tr><th scope=col>&lt;dbl&gt;</th><th scope=col>&lt;ord&gt;</th><th scope=col>&lt;ord&gt;</th><th scope=col>&lt;ord&gt;</th><th scope=col>&lt;dbl&gt;</th><th scope=col>&lt;dbl&gt;</th><th scope=col>&lt;int&gt;</th><th scope=col>&lt;dbl&gt;</th><th scope=col>&lt;dbl&gt;</th><th scope=col>&lt;dbl&gt;</th></tr>\n",
              "</thead>\n",
              "<tbody>\n",
              "\t<tr><td>0.23</td><td>Ideal    </td><td>E</td><td>SI2 </td><td>61.5</td><td>55</td><td>326</td><td>3.95</td><td>3.98</td><td>2.43</td></tr>\n",
              "\t<tr><td>0.21</td><td>Premium  </td><td>E</td><td>SI1 </td><td>59.8</td><td>61</td><td>326</td><td>3.89</td><td>3.84</td><td>2.31</td></tr>\n",
              "\t<tr><td>0.23</td><td>Good     </td><td>E</td><td>VS1 </td><td>56.9</td><td>65</td><td>327</td><td>4.05</td><td>4.07</td><td>2.31</td></tr>\n",
              "\t<tr><td>0.29</td><td>Premium  </td><td>I</td><td>VS2 </td><td>62.4</td><td>58</td><td>334</td><td>4.20</td><td>4.23</td><td>2.63</td></tr>\n",
              "\t<tr><td>0.31</td><td>Good     </td><td>J</td><td>SI2 </td><td>63.3</td><td>58</td><td>335</td><td>4.34</td><td>4.35</td><td>2.75</td></tr>\n",
              "\t<tr><td>0.24</td><td>Very Good</td><td>J</td><td>VVS2</td><td>62.8</td><td>57</td><td>336</td><td>3.94</td><td>3.96</td><td>2.48</td></tr>\n",
              "\t<tr><td>0.24</td><td>Very Good</td><td>I</td><td>VVS1</td><td>62.3</td><td>57</td><td>336</td><td>3.95</td><td>3.98</td><td>2.47</td></tr>\n",
              "\t<tr><td>0.26</td><td>Very Good</td><td>H</td><td>SI1 </td><td>61.9</td><td>55</td><td>337</td><td>4.07</td><td>4.11</td><td>2.53</td></tr>\n",
              "\t<tr><td>0.22</td><td>Fair     </td><td>E</td><td>VS2 </td><td>65.1</td><td>61</td><td>337</td><td>3.87</td><td>3.78</td><td>2.49</td></tr>\n",
              "\t<tr><td>0.23</td><td>Very Good</td><td>H</td><td>VS1 </td><td>59.4</td><td>61</td><td>338</td><td>4.00</td><td>4.05</td><td>2.39</td></tr>\n",
              "\t<tr><td>0.30</td><td>Good     </td><td>J</td><td>SI1 </td><td>64.0</td><td>55</td><td>339</td><td>4.25</td><td>4.28</td><td>2.73</td></tr>\n",
              "\t<tr><td>0.23</td><td>Ideal    </td><td>J</td><td>VS1 </td><td>62.8</td><td>56</td><td>340</td><td>3.93</td><td>3.90</td><td>2.46</td></tr>\n",
              "\t<tr><td>0.22</td><td>Premium  </td><td>F</td><td>SI1 </td><td>60.4</td><td>61</td><td>342</td><td>3.88</td><td>3.84</td><td>2.33</td></tr>\n",
              "\t<tr><td>0.31</td><td>Ideal    </td><td>J</td><td>SI2 </td><td>62.2</td><td>54</td><td>344</td><td>4.35</td><td>4.37</td><td>2.71</td></tr>\n",
              "\t<tr><td>0.20</td><td>Premium  </td><td>E</td><td>SI2 </td><td>60.2</td><td>62</td><td>345</td><td>3.79</td><td>3.75</td><td>2.27</td></tr>\n",
              "\t<tr><td>0.32</td><td>Premium  </td><td>E</td><td>I1  </td><td>60.9</td><td>58</td><td>345</td><td>4.38</td><td>4.42</td><td>2.68</td></tr>\n",
              "\t<tr><td>0.30</td><td>Ideal    </td><td>I</td><td>SI2 </td><td>62.0</td><td>54</td><td>348</td><td>4.31</td><td>4.34</td><td>2.68</td></tr>\n",
              "\t<tr><td>0.30</td><td>Good     </td><td>J</td><td>SI1 </td><td>63.4</td><td>54</td><td>351</td><td>4.23</td><td>4.29</td><td>2.70</td></tr>\n",
              "\t<tr><td>0.30</td><td>Good     </td><td>J</td><td>SI1 </td><td>63.8</td><td>56</td><td>351</td><td>4.23</td><td>4.26</td><td>2.71</td></tr>\n",
              "\t<tr><td>0.30</td><td>Very Good</td><td>J</td><td>SI1 </td><td>62.7</td><td>59</td><td>351</td><td>4.21</td><td>4.27</td><td>2.66</td></tr>\n",
              "\t<tr><td>0.30</td><td>Good     </td><td>I</td><td>SI2 </td><td>63.3</td><td>56</td><td>351</td><td>4.26</td><td>4.30</td><td>2.71</td></tr>\n",
              "\t<tr><td>0.23</td><td>Very Good</td><td>E</td><td>VS2 </td><td>63.8</td><td>55</td><td>352</td><td>3.85</td><td>3.92</td><td>2.48</td></tr>\n",
              "\t<tr><td>0.23</td><td>Very Good</td><td>H</td><td>VS1 </td><td>61.0</td><td>57</td><td>353</td><td>3.94</td><td>3.96</td><td>2.41</td></tr>\n",
              "\t<tr><td>0.31</td><td>Very Good</td><td>J</td><td>SI1 </td><td>59.4</td><td>62</td><td>353</td><td>4.39</td><td>4.43</td><td>2.62</td></tr>\n",
              "\t<tr><td>0.31</td><td>Very Good</td><td>J</td><td>SI1 </td><td>58.1</td><td>62</td><td>353</td><td>4.44</td><td>4.47</td><td>2.59</td></tr>\n",
              "\t<tr><td>0.23</td><td>Very Good</td><td>G</td><td>VVS2</td><td>60.4</td><td>58</td><td>354</td><td>3.97</td><td>4.01</td><td>2.41</td></tr>\n",
              "\t<tr><td>0.24</td><td>Premium  </td><td>I</td><td>VS1 </td><td>62.5</td><td>57</td><td>355</td><td>3.97</td><td>3.94</td><td>2.47</td></tr>\n",
              "\t<tr><td>0.30</td><td>Very Good</td><td>J</td><td>VS2 </td><td>62.2</td><td>57</td><td>357</td><td>4.28</td><td>4.30</td><td>2.67</td></tr>\n",
              "\t<tr><td>0.23</td><td>Very Good</td><td>D</td><td>VS2 </td><td>60.5</td><td>61</td><td>357</td><td>3.96</td><td>3.97</td><td>2.40</td></tr>\n",
              "\t<tr><td>0.23</td><td>Very Good</td><td>F</td><td>VS1 </td><td>60.9</td><td>57</td><td>357</td><td>3.96</td><td>3.99</td><td>2.42</td></tr>\n",
              "\t<tr><td>⋮</td><td>⋮</td><td>⋮</td><td>⋮</td><td>⋮</td><td>⋮</td><td>⋮</td><td>⋮</td><td>⋮</td><td>⋮</td></tr>\n",
              "\t<tr><td>0.70</td><td>Premium  </td><td>E</td><td>SI1 </td><td>60.5</td><td>58</td><td>2753</td><td>5.74</td><td>5.77</td><td>3.48</td></tr>\n",
              "\t<tr><td>0.57</td><td>Premium  </td><td>E</td><td>IF  </td><td>59.8</td><td>60</td><td>2753</td><td>5.43</td><td>5.38</td><td>3.23</td></tr>\n",
              "\t<tr><td>0.61</td><td>Premium  </td><td>F</td><td>VVS1</td><td>61.8</td><td>59</td><td>2753</td><td>5.48</td><td>5.40</td><td>3.36</td></tr>\n",
              "\t<tr><td>0.80</td><td>Good     </td><td>G</td><td>VS2 </td><td>64.2</td><td>58</td><td>2753</td><td>5.84</td><td>5.81</td><td>3.74</td></tr>\n",
              "\t<tr><td>0.84</td><td>Good     </td><td>I</td><td>VS1 </td><td>63.7</td><td>59</td><td>2753</td><td>5.94</td><td>5.90</td><td>3.77</td></tr>\n",
              "\t<tr><td>0.77</td><td>Ideal    </td><td>E</td><td>SI2 </td><td>62.1</td><td>56</td><td>2753</td><td>5.84</td><td>5.86</td><td>3.63</td></tr>\n",
              "\t<tr><td>0.74</td><td>Good     </td><td>D</td><td>SI1 </td><td>63.1</td><td>59</td><td>2753</td><td>5.71</td><td>5.74</td><td>3.61</td></tr>\n",
              "\t<tr><td>0.90</td><td>Very Good</td><td>J</td><td>SI1 </td><td>63.2</td><td>60</td><td>2753</td><td>6.12</td><td>6.09</td><td>3.86</td></tr>\n",
              "\t<tr><td>0.76</td><td>Premium  </td><td>I</td><td>VS1 </td><td>59.3</td><td>62</td><td>2753</td><td>5.93</td><td>5.85</td><td>3.49</td></tr>\n",
              "\t<tr><td>0.76</td><td>Ideal    </td><td>I</td><td>VVS1</td><td>62.2</td><td>55</td><td>2753</td><td>5.89</td><td>5.87</td><td>3.66</td></tr>\n",
              "\t<tr><td>0.70</td><td>Very Good</td><td>E</td><td>VS2 </td><td>62.4</td><td>60</td><td>2755</td><td>5.57</td><td>5.61</td><td>3.49</td></tr>\n",
              "\t<tr><td>0.70</td><td>Very Good</td><td>E</td><td>VS2 </td><td>62.8</td><td>60</td><td>2755</td><td>5.59</td><td>5.65</td><td>3.53</td></tr>\n",
              "\t<tr><td>0.70</td><td>Very Good</td><td>D</td><td>VS1 </td><td>63.1</td><td>59</td><td>2755</td><td>5.67</td><td>5.58</td><td>3.55</td></tr>\n",
              "\t<tr><td>0.73</td><td>Ideal    </td><td>I</td><td>VS2 </td><td>61.3</td><td>56</td><td>2756</td><td>5.80</td><td>5.84</td><td>3.57</td></tr>\n",
              "\t<tr><td>0.73</td><td>Ideal    </td><td>I</td><td>VS2 </td><td>61.6</td><td>55</td><td>2756</td><td>5.82</td><td>5.84</td><td>3.59</td></tr>\n",
              "\t<tr><td>0.79</td><td>Ideal    </td><td>I</td><td>SI1 </td><td>61.6</td><td>56</td><td>2756</td><td>5.95</td><td>5.97</td><td>3.67</td></tr>\n",
              "\t<tr><td>0.71</td><td>Ideal    </td><td>E</td><td>SI1 </td><td>61.9</td><td>56</td><td>2756</td><td>5.71</td><td>5.73</td><td>3.54</td></tr>\n",
              "\t<tr><td>0.79</td><td>Good     </td><td>F</td><td>SI1 </td><td>58.1</td><td>59</td><td>2756</td><td>6.06</td><td>6.13</td><td>3.54</td></tr>\n",
              "\t<tr><td>0.79</td><td>Premium  </td><td>E</td><td>SI2 </td><td>61.4</td><td>58</td><td>2756</td><td>6.03</td><td>5.96</td><td>3.68</td></tr>\n",
              "\t<tr><td>0.71</td><td>Ideal    </td><td>G</td><td>VS1 </td><td>61.4</td><td>56</td><td>2756</td><td>5.76</td><td>5.73</td><td>3.53</td></tr>\n",
              "\t<tr><td>0.71</td><td>Premium  </td><td>E</td><td>SI1 </td><td>60.5</td><td>55</td><td>2756</td><td>5.79</td><td>5.74</td><td>3.49</td></tr>\n",
              "\t<tr><td>0.71</td><td>Premium  </td><td>F</td><td>SI1 </td><td>59.8</td><td>62</td><td>2756</td><td>5.74</td><td>5.73</td><td>3.43</td></tr>\n",
              "\t<tr><td>0.70</td><td>Very Good</td><td>E</td><td>VS2 </td><td>60.5</td><td>59</td><td>2757</td><td>5.71</td><td>5.76</td><td>3.47</td></tr>\n",
              "\t<tr><td>0.70</td><td>Very Good</td><td>E</td><td>VS2 </td><td>61.2</td><td>59</td><td>2757</td><td>5.69</td><td>5.72</td><td>3.49</td></tr>\n",
              "\t<tr><td>0.72</td><td>Premium  </td><td>D</td><td>SI1 </td><td>62.7</td><td>59</td><td>2757</td><td>5.69</td><td>5.73</td><td>3.58</td></tr>\n",
              "\t<tr><td>0.72</td><td>Ideal    </td><td>D</td><td>SI1 </td><td>60.8</td><td>57</td><td>2757</td><td>5.75</td><td>5.76</td><td>3.50</td></tr>\n",
              "\t<tr><td>0.72</td><td>Good     </td><td>D</td><td>SI1 </td><td>63.1</td><td>55</td><td>2757</td><td>5.69</td><td>5.75</td><td>3.61</td></tr>\n",
              "\t<tr><td>0.70</td><td>Very Good</td><td>D</td><td>SI1 </td><td>62.8</td><td>60</td><td>2757</td><td>5.66</td><td>5.68</td><td>3.56</td></tr>\n",
              "\t<tr><td>0.86</td><td>Premium  </td><td>H</td><td>SI2 </td><td>61.0</td><td>58</td><td>2757</td><td>6.15</td><td>6.12</td><td>3.74</td></tr>\n",
              "\t<tr><td>0.75</td><td>Ideal    </td><td>D</td><td>SI2 </td><td>62.2</td><td>55</td><td>2757</td><td>5.83</td><td>5.87</td><td>3.64</td></tr>\n",
              "</tbody>\n",
              "</table>\n"
            ]
          },
          "metadata": {
            "tags": []
          }
        },
        {
          "output_type": "display_data",
          "data": {
            "text/plain": [
              "      carat price\n",
              "1     0.23  326  \n",
              "2     0.21  326  \n",
              "3     0.23  327  \n",
              "4     0.29  334  \n",
              "5     0.31  335  \n",
              "6     0.24  336  \n",
              "7     0.24  336  \n",
              "8     0.26  337  \n",
              "9     0.22  337  \n",
              "10    0.23  338  \n",
              "11    0.30  339  \n",
              "12    0.23  340  \n",
              "13    0.22  342  \n",
              "14    0.31  344  \n",
              "15    0.20  345  \n",
              "16    0.32  345  \n",
              "17    0.30  348  \n",
              "18    0.30  351  \n",
              "19    0.30  351  \n",
              "20    0.30  351  \n",
              "21    0.30  351  \n",
              "22    0.23  352  \n",
              "23    0.23  353  \n",
              "24    0.31  353  \n",
              "25    0.31  353  \n",
              "26    0.23  354  \n",
              "27    0.24  355  \n",
              "28    0.30  357  \n",
              "29    0.23  357  \n",
              "30    0.23  357  \n",
              "⋮     ⋮     ⋮    \n",
              "53911 0.70  2753 \n",
              "53912 0.57  2753 \n",
              "53913 0.61  2753 \n",
              "53914 0.80  2753 \n",
              "53915 0.84  2753 \n",
              "53916 0.77  2753 \n",
              "53917 0.74  2753 \n",
              "53918 0.90  2753 \n",
              "53919 0.76  2753 \n",
              "53920 0.76  2753 \n",
              "53921 0.70  2755 \n",
              "53922 0.70  2755 \n",
              "53923 0.70  2755 \n",
              "53924 0.73  2756 \n",
              "53925 0.73  2756 \n",
              "53926 0.79  2756 \n",
              "53927 0.71  2756 \n",
              "53928 0.79  2756 \n",
              "53929 0.79  2756 \n",
              "53930 0.71  2756 \n",
              "53931 0.71  2756 \n",
              "53932 0.71  2756 \n",
              "53933 0.70  2757 \n",
              "53934 0.70  2757 \n",
              "53935 0.72  2757 \n",
              "53936 0.72  2757 \n",
              "53937 0.72  2757 \n",
              "53938 0.70  2757 \n",
              "53939 0.86  2757 \n",
              "53940 0.75  2757 "
            ],
            "text/latex": "A tibble: 53940 × 2\n\\begin{tabular}{ll}\n carat & price\\\\\n <dbl> & <int>\\\\\n\\hline\n\t 0.23 & 326\\\\\n\t 0.21 & 326\\\\\n\t 0.23 & 327\\\\\n\t 0.29 & 334\\\\\n\t 0.31 & 335\\\\\n\t 0.24 & 336\\\\\n\t 0.24 & 336\\\\\n\t 0.26 & 337\\\\\n\t 0.22 & 337\\\\\n\t 0.23 & 338\\\\\n\t 0.30 & 339\\\\\n\t 0.23 & 340\\\\\n\t 0.22 & 342\\\\\n\t 0.31 & 344\\\\\n\t 0.20 & 345\\\\\n\t 0.32 & 345\\\\\n\t 0.30 & 348\\\\\n\t 0.30 & 351\\\\\n\t 0.30 & 351\\\\\n\t 0.30 & 351\\\\\n\t 0.30 & 351\\\\\n\t 0.23 & 352\\\\\n\t 0.23 & 353\\\\\n\t 0.31 & 353\\\\\n\t 0.31 & 353\\\\\n\t 0.23 & 354\\\\\n\t 0.24 & 355\\\\\n\t 0.30 & 357\\\\\n\t 0.23 & 357\\\\\n\t 0.23 & 357\\\\\n\t ⋮ & ⋮\\\\\n\t 0.70 & 2753\\\\\n\t 0.57 & 2753\\\\\n\t 0.61 & 2753\\\\\n\t 0.80 & 2753\\\\\n\t 0.84 & 2753\\\\\n\t 0.77 & 2753\\\\\n\t 0.74 & 2753\\\\\n\t 0.90 & 2753\\\\\n\t 0.76 & 2753\\\\\n\t 0.76 & 2753\\\\\n\t 0.70 & 2755\\\\\n\t 0.70 & 2755\\\\\n\t 0.70 & 2755\\\\\n\t 0.73 & 2756\\\\\n\t 0.73 & 2756\\\\\n\t 0.79 & 2756\\\\\n\t 0.71 & 2756\\\\\n\t 0.79 & 2756\\\\\n\t 0.79 & 2756\\\\\n\t 0.71 & 2756\\\\\n\t 0.71 & 2756\\\\\n\t 0.71 & 2756\\\\\n\t 0.70 & 2757\\\\\n\t 0.70 & 2757\\\\\n\t 0.72 & 2757\\\\\n\t 0.72 & 2757\\\\\n\t 0.72 & 2757\\\\\n\t 0.70 & 2757\\\\\n\t 0.86 & 2757\\\\\n\t 0.75 & 2757\\\\\n\\end{tabular}\n",
            "text/markdown": "\nA tibble: 53940 × 2\n\n| carat &lt;dbl&gt; | price &lt;int&gt; |\n|---|---|\n| 0.23 | 326 |\n| 0.21 | 326 |\n| 0.23 | 327 |\n| 0.29 | 334 |\n| 0.31 | 335 |\n| 0.24 | 336 |\n| 0.24 | 336 |\n| 0.26 | 337 |\n| 0.22 | 337 |\n| 0.23 | 338 |\n| 0.30 | 339 |\n| 0.23 | 340 |\n| 0.22 | 342 |\n| 0.31 | 344 |\n| 0.20 | 345 |\n| 0.32 | 345 |\n| 0.30 | 348 |\n| 0.30 | 351 |\n| 0.30 | 351 |\n| 0.30 | 351 |\n| 0.30 | 351 |\n| 0.23 | 352 |\n| 0.23 | 353 |\n| 0.31 | 353 |\n| 0.31 | 353 |\n| 0.23 | 354 |\n| 0.24 | 355 |\n| 0.30 | 357 |\n| 0.23 | 357 |\n| 0.23 | 357 |\n| ⋮ | ⋮ |\n| 0.70 | 2753 |\n| 0.57 | 2753 |\n| 0.61 | 2753 |\n| 0.80 | 2753 |\n| 0.84 | 2753 |\n| 0.77 | 2753 |\n| 0.74 | 2753 |\n| 0.90 | 2753 |\n| 0.76 | 2753 |\n| 0.76 | 2753 |\n| 0.70 | 2755 |\n| 0.70 | 2755 |\n| 0.70 | 2755 |\n| 0.73 | 2756 |\n| 0.73 | 2756 |\n| 0.79 | 2756 |\n| 0.71 | 2756 |\n| 0.79 | 2756 |\n| 0.79 | 2756 |\n| 0.71 | 2756 |\n| 0.71 | 2756 |\n| 0.71 | 2756 |\n| 0.70 | 2757 |\n| 0.70 | 2757 |\n| 0.72 | 2757 |\n| 0.72 | 2757 |\n| 0.72 | 2757 |\n| 0.70 | 2757 |\n| 0.86 | 2757 |\n| 0.75 | 2757 |\n\n",
            "text/html": [
              "<table>\n",
              "<caption>A tibble: 53940 × 2</caption>\n",
              "<thead>\n",
              "\t<tr><th scope=col>carat</th><th scope=col>price</th></tr>\n",
              "\t<tr><th scope=col>&lt;dbl&gt;</th><th scope=col>&lt;int&gt;</th></tr>\n",
              "</thead>\n",
              "<tbody>\n",
              "\t<tr><td>0.23</td><td>326</td></tr>\n",
              "\t<tr><td>0.21</td><td>326</td></tr>\n",
              "\t<tr><td>0.23</td><td>327</td></tr>\n",
              "\t<tr><td>0.29</td><td>334</td></tr>\n",
              "\t<tr><td>0.31</td><td>335</td></tr>\n",
              "\t<tr><td>0.24</td><td>336</td></tr>\n",
              "\t<tr><td>0.24</td><td>336</td></tr>\n",
              "\t<tr><td>0.26</td><td>337</td></tr>\n",
              "\t<tr><td>0.22</td><td>337</td></tr>\n",
              "\t<tr><td>0.23</td><td>338</td></tr>\n",
              "\t<tr><td>0.30</td><td>339</td></tr>\n",
              "\t<tr><td>0.23</td><td>340</td></tr>\n",
              "\t<tr><td>0.22</td><td>342</td></tr>\n",
              "\t<tr><td>0.31</td><td>344</td></tr>\n",
              "\t<tr><td>0.20</td><td>345</td></tr>\n",
              "\t<tr><td>0.32</td><td>345</td></tr>\n",
              "\t<tr><td>0.30</td><td>348</td></tr>\n",
              "\t<tr><td>0.30</td><td>351</td></tr>\n",
              "\t<tr><td>0.30</td><td>351</td></tr>\n",
              "\t<tr><td>0.30</td><td>351</td></tr>\n",
              "\t<tr><td>0.30</td><td>351</td></tr>\n",
              "\t<tr><td>0.23</td><td>352</td></tr>\n",
              "\t<tr><td>0.23</td><td>353</td></tr>\n",
              "\t<tr><td>0.31</td><td>353</td></tr>\n",
              "\t<tr><td>0.31</td><td>353</td></tr>\n",
              "\t<tr><td>0.23</td><td>354</td></tr>\n",
              "\t<tr><td>0.24</td><td>355</td></tr>\n",
              "\t<tr><td>0.30</td><td>357</td></tr>\n",
              "\t<tr><td>0.23</td><td>357</td></tr>\n",
              "\t<tr><td>0.23</td><td>357</td></tr>\n",
              "\t<tr><td>⋮</td><td>⋮</td></tr>\n",
              "\t<tr><td>0.70</td><td>2753</td></tr>\n",
              "\t<tr><td>0.57</td><td>2753</td></tr>\n",
              "\t<tr><td>0.61</td><td>2753</td></tr>\n",
              "\t<tr><td>0.80</td><td>2753</td></tr>\n",
              "\t<tr><td>0.84</td><td>2753</td></tr>\n",
              "\t<tr><td>0.77</td><td>2753</td></tr>\n",
              "\t<tr><td>0.74</td><td>2753</td></tr>\n",
              "\t<tr><td>0.90</td><td>2753</td></tr>\n",
              "\t<tr><td>0.76</td><td>2753</td></tr>\n",
              "\t<tr><td>0.76</td><td>2753</td></tr>\n",
              "\t<tr><td>0.70</td><td>2755</td></tr>\n",
              "\t<tr><td>0.70</td><td>2755</td></tr>\n",
              "\t<tr><td>0.70</td><td>2755</td></tr>\n",
              "\t<tr><td>0.73</td><td>2756</td></tr>\n",
              "\t<tr><td>0.73</td><td>2756</td></tr>\n",
              "\t<tr><td>0.79</td><td>2756</td></tr>\n",
              "\t<tr><td>0.71</td><td>2756</td></tr>\n",
              "\t<tr><td>0.79</td><td>2756</td></tr>\n",
              "\t<tr><td>0.79</td><td>2756</td></tr>\n",
              "\t<tr><td>0.71</td><td>2756</td></tr>\n",
              "\t<tr><td>0.71</td><td>2756</td></tr>\n",
              "\t<tr><td>0.71</td><td>2756</td></tr>\n",
              "\t<tr><td>0.70</td><td>2757</td></tr>\n",
              "\t<tr><td>0.70</td><td>2757</td></tr>\n",
              "\t<tr><td>0.72</td><td>2757</td></tr>\n",
              "\t<tr><td>0.72</td><td>2757</td></tr>\n",
              "\t<tr><td>0.72</td><td>2757</td></tr>\n",
              "\t<tr><td>0.70</td><td>2757</td></tr>\n",
              "\t<tr><td>0.86</td><td>2757</td></tr>\n",
              "\t<tr><td>0.75</td><td>2757</td></tr>\n",
              "</tbody>\n",
              "</table>\n"
            ]
          },
          "metadata": {
            "tags": []
          }
        }
      ]
    },
    {
      "cell_type": "code",
      "metadata": {
        "id": "TH9NE1GrcMuW",
        "outputId": "46fe0e8f-bf01-47c3-a347-76eaf556ec92",
        "colab": {
          "base_uri": "https://localhost:8080/",
          "height": 1000
        }
      },
      "source": [
        "# price 가 1000 이상인 데이터 조회\n",
        "diamonds %>% filter(price >= 1000)"
      ],
      "execution_count": 175,
      "outputs": [
        {
          "output_type": "display_data",
          "data": {
            "text/plain": [
              "      carat cut       color clarity depth table price x    y    z   \n",
              "1     0.70  Ideal     E     SI1     62.5  57    2757  5.70 5.72 3.57\n",
              "2     0.86  Fair      E     SI2     55.1  69    2757  6.45 6.33 3.52\n",
              "3     0.70  Ideal     G     VS2     61.6  56    2757  5.70 5.67 3.50\n",
              "4     0.71  Very Good E     VS2     62.4  57    2759  5.68 5.73 3.56\n",
              "5     0.78  Very Good G     SI2     63.8  56    2759  5.81 5.85 3.72\n",
              "6     0.70  Good      E     VS2     57.5  58    2759  5.85 5.90 3.38\n",
              "7     0.70  Good      F     VS1     59.4  62    2759  5.71 5.76 3.40\n",
              "8     0.96  Fair      F     SI2     66.3  62    2759  6.27 5.95 4.07\n",
              "9     0.73  Very Good E     SI1     61.6  59    2760  5.77 5.78 3.56\n",
              "10    0.80  Premium   H     SI1     61.5  58    2760  5.97 5.93 3.66\n",
              "11    0.75  Very Good D     SI1     63.2  56    2760  5.80 5.75 3.65\n",
              "12    0.75  Premium   E     SI1     59.9  54    2760  6.00 5.96 3.58\n",
              "13    0.74  Ideal     G     SI1     61.6  55    2760  5.80 5.85 3.59\n",
              "14    0.75  Premium   G     VS2     61.7  58    2760  5.85 5.79 3.59\n",
              "15    0.80  Ideal     I     VS1     62.9  56    2760  5.94 5.87 3.72\n",
              "16    0.75  Ideal     G     SI1     62.2  55    2760  5.87 5.80 3.63\n",
              "17    0.80  Premium   G     SI1     63.0  59    2760  5.90 5.81 3.69\n",
              "18    0.74  Ideal     I     VVS2    62.3  55    2761  5.77 5.81 3.61\n",
              "19    0.81  Ideal     F     SI2     58.8  57    2761  6.14 6.11 3.60\n",
              "20    0.59  Ideal     E     VVS2    62.0  55    2761  5.38 5.43 3.35\n",
              "21    0.80  Ideal     F     SI2     61.4  57    2761  5.96 6.00 3.67\n",
              "22    0.74  Ideal     E     SI2     62.2  56    2761  5.80 5.84 3.62\n",
              "23    0.90  Premium   I     VS2     63.0  58    2761  6.16 6.12 3.87\n",
              "24    0.74  Very Good G     SI1     62.2  59    2762  5.73 5.82 3.59\n",
              "25    0.73  Ideal     F     VS2     62.6  56    2762  5.77 5.74 3.60\n",
              "26    0.73  Ideal     F     VS2     62.7  53    2762  5.80 5.75 3.62\n",
              "27    0.80  Premium   F     SI2     61.7  58    2762  5.98 5.94 3.68\n",
              "28    0.71  Ideal     G     VS2     62.4  54    2762  5.72 5.76 3.58\n",
              "29    0.70  Ideal     E     VS2     60.7  58    2762  5.73 5.76 3.49\n",
              "30    0.80  Ideal     F     SI2     59.9  59    2762  6.01 6.07 3.62\n",
              "⋮     ⋮     ⋮         ⋮     ⋮       ⋮     ⋮     ⋮     ⋮    ⋮    ⋮   \n",
              "39412 0.70  Premium   E     SI1     60.5  58    2753  5.74 5.77 3.48\n",
              "39413 0.57  Premium   E     IF      59.8  60    2753  5.43 5.38 3.23\n",
              "39414 0.61  Premium   F     VVS1    61.8  59    2753  5.48 5.40 3.36\n",
              "39415 0.80  Good      G     VS2     64.2  58    2753  5.84 5.81 3.74\n",
              "39416 0.84  Good      I     VS1     63.7  59    2753  5.94 5.90 3.77\n",
              "39417 0.77  Ideal     E     SI2     62.1  56    2753  5.84 5.86 3.63\n",
              "39418 0.74  Good      D     SI1     63.1  59    2753  5.71 5.74 3.61\n",
              "39419 0.90  Very Good J     SI1     63.2  60    2753  6.12 6.09 3.86\n",
              "39420 0.76  Premium   I     VS1     59.3  62    2753  5.93 5.85 3.49\n",
              "39421 0.76  Ideal     I     VVS1    62.2  55    2753  5.89 5.87 3.66\n",
              "39422 0.70  Very Good E     VS2     62.4  60    2755  5.57 5.61 3.49\n",
              "39423 0.70  Very Good E     VS2     62.8  60    2755  5.59 5.65 3.53\n",
              "39424 0.70  Very Good D     VS1     63.1  59    2755  5.67 5.58 3.55\n",
              "39425 0.73  Ideal     I     VS2     61.3  56    2756  5.80 5.84 3.57\n",
              "39426 0.73  Ideal     I     VS2     61.6  55    2756  5.82 5.84 3.59\n",
              "39427 0.79  Ideal     I     SI1     61.6  56    2756  5.95 5.97 3.67\n",
              "39428 0.71  Ideal     E     SI1     61.9  56    2756  5.71 5.73 3.54\n",
              "39429 0.79  Good      F     SI1     58.1  59    2756  6.06 6.13 3.54\n",
              "39430 0.79  Premium   E     SI2     61.4  58    2756  6.03 5.96 3.68\n",
              "39431 0.71  Ideal     G     VS1     61.4  56    2756  5.76 5.73 3.53\n",
              "39432 0.71  Premium   E     SI1     60.5  55    2756  5.79 5.74 3.49\n",
              "39433 0.71  Premium   F     SI1     59.8  62    2756  5.74 5.73 3.43\n",
              "39434 0.70  Very Good E     VS2     60.5  59    2757  5.71 5.76 3.47\n",
              "39435 0.70  Very Good E     VS2     61.2  59    2757  5.69 5.72 3.49\n",
              "39436 0.72  Premium   D     SI1     62.7  59    2757  5.69 5.73 3.58\n",
              "39437 0.72  Ideal     D     SI1     60.8  57    2757  5.75 5.76 3.50\n",
              "39438 0.72  Good      D     SI1     63.1  55    2757  5.69 5.75 3.61\n",
              "39439 0.70  Very Good D     SI1     62.8  60    2757  5.66 5.68 3.56\n",
              "39440 0.86  Premium   H     SI2     61.0  58    2757  6.15 6.12 3.74\n",
              "39441 0.75  Ideal     D     SI2     62.2  55    2757  5.83 5.87 3.64"
            ],
            "text/latex": "A tibble: 39441 × 10\n\\begin{tabular}{llllllllll}\n carat & cut & color & clarity & depth & table & price & x & y & z\\\\\n <dbl> & <ord> & <ord> & <ord> & <dbl> & <dbl> & <int> & <dbl> & <dbl> & <dbl>\\\\\n\\hline\n\t 0.70 & Ideal     & E & SI1  & 62.5 & 57 & 2757 & 5.70 & 5.72 & 3.57\\\\\n\t 0.86 & Fair      & E & SI2  & 55.1 & 69 & 2757 & 6.45 & 6.33 & 3.52\\\\\n\t 0.70 & Ideal     & G & VS2  & 61.6 & 56 & 2757 & 5.70 & 5.67 & 3.50\\\\\n\t 0.71 & Very Good & E & VS2  & 62.4 & 57 & 2759 & 5.68 & 5.73 & 3.56\\\\\n\t 0.78 & Very Good & G & SI2  & 63.8 & 56 & 2759 & 5.81 & 5.85 & 3.72\\\\\n\t 0.70 & Good      & E & VS2  & 57.5 & 58 & 2759 & 5.85 & 5.90 & 3.38\\\\\n\t 0.70 & Good      & F & VS1  & 59.4 & 62 & 2759 & 5.71 & 5.76 & 3.40\\\\\n\t 0.96 & Fair      & F & SI2  & 66.3 & 62 & 2759 & 6.27 & 5.95 & 4.07\\\\\n\t 0.73 & Very Good & E & SI1  & 61.6 & 59 & 2760 & 5.77 & 5.78 & 3.56\\\\\n\t 0.80 & Premium   & H & SI1  & 61.5 & 58 & 2760 & 5.97 & 5.93 & 3.66\\\\\n\t 0.75 & Very Good & D & SI1  & 63.2 & 56 & 2760 & 5.80 & 5.75 & 3.65\\\\\n\t 0.75 & Premium   & E & SI1  & 59.9 & 54 & 2760 & 6.00 & 5.96 & 3.58\\\\\n\t 0.74 & Ideal     & G & SI1  & 61.6 & 55 & 2760 & 5.80 & 5.85 & 3.59\\\\\n\t 0.75 & Premium   & G & VS2  & 61.7 & 58 & 2760 & 5.85 & 5.79 & 3.59\\\\\n\t 0.80 & Ideal     & I & VS1  & 62.9 & 56 & 2760 & 5.94 & 5.87 & 3.72\\\\\n\t 0.75 & Ideal     & G & SI1  & 62.2 & 55 & 2760 & 5.87 & 5.80 & 3.63\\\\\n\t 0.80 & Premium   & G & SI1  & 63.0 & 59 & 2760 & 5.90 & 5.81 & 3.69\\\\\n\t 0.74 & Ideal     & I & VVS2 & 62.3 & 55 & 2761 & 5.77 & 5.81 & 3.61\\\\\n\t 0.81 & Ideal     & F & SI2  & 58.8 & 57 & 2761 & 6.14 & 6.11 & 3.60\\\\\n\t 0.59 & Ideal     & E & VVS2 & 62.0 & 55 & 2761 & 5.38 & 5.43 & 3.35\\\\\n\t 0.80 & Ideal     & F & SI2  & 61.4 & 57 & 2761 & 5.96 & 6.00 & 3.67\\\\\n\t 0.74 & Ideal     & E & SI2  & 62.2 & 56 & 2761 & 5.80 & 5.84 & 3.62\\\\\n\t 0.90 & Premium   & I & VS2  & 63.0 & 58 & 2761 & 6.16 & 6.12 & 3.87\\\\\n\t 0.74 & Very Good & G & SI1  & 62.2 & 59 & 2762 & 5.73 & 5.82 & 3.59\\\\\n\t 0.73 & Ideal     & F & VS2  & 62.6 & 56 & 2762 & 5.77 & 5.74 & 3.60\\\\\n\t 0.73 & Ideal     & F & VS2  & 62.7 & 53 & 2762 & 5.80 & 5.75 & 3.62\\\\\n\t 0.80 & Premium   & F & SI2  & 61.7 & 58 & 2762 & 5.98 & 5.94 & 3.68\\\\\n\t 0.71 & Ideal     & G & VS2  & 62.4 & 54 & 2762 & 5.72 & 5.76 & 3.58\\\\\n\t 0.70 & Ideal     & E & VS2  & 60.7 & 58 & 2762 & 5.73 & 5.76 & 3.49\\\\\n\t 0.80 & Ideal     & F & SI2  & 59.9 & 59 & 2762 & 6.01 & 6.07 & 3.62\\\\\n\t ⋮ & ⋮ & ⋮ & ⋮ & ⋮ & ⋮ & ⋮ & ⋮ & ⋮ & ⋮\\\\\n\t 0.70 & Premium   & E & SI1  & 60.5 & 58 & 2753 & 5.74 & 5.77 & 3.48\\\\\n\t 0.57 & Premium   & E & IF   & 59.8 & 60 & 2753 & 5.43 & 5.38 & 3.23\\\\\n\t 0.61 & Premium   & F & VVS1 & 61.8 & 59 & 2753 & 5.48 & 5.40 & 3.36\\\\\n\t 0.80 & Good      & G & VS2  & 64.2 & 58 & 2753 & 5.84 & 5.81 & 3.74\\\\\n\t 0.84 & Good      & I & VS1  & 63.7 & 59 & 2753 & 5.94 & 5.90 & 3.77\\\\\n\t 0.77 & Ideal     & E & SI2  & 62.1 & 56 & 2753 & 5.84 & 5.86 & 3.63\\\\\n\t 0.74 & Good      & D & SI1  & 63.1 & 59 & 2753 & 5.71 & 5.74 & 3.61\\\\\n\t 0.90 & Very Good & J & SI1  & 63.2 & 60 & 2753 & 6.12 & 6.09 & 3.86\\\\\n\t 0.76 & Premium   & I & VS1  & 59.3 & 62 & 2753 & 5.93 & 5.85 & 3.49\\\\\n\t 0.76 & Ideal     & I & VVS1 & 62.2 & 55 & 2753 & 5.89 & 5.87 & 3.66\\\\\n\t 0.70 & Very Good & E & VS2  & 62.4 & 60 & 2755 & 5.57 & 5.61 & 3.49\\\\\n\t 0.70 & Very Good & E & VS2  & 62.8 & 60 & 2755 & 5.59 & 5.65 & 3.53\\\\\n\t 0.70 & Very Good & D & VS1  & 63.1 & 59 & 2755 & 5.67 & 5.58 & 3.55\\\\\n\t 0.73 & Ideal     & I & VS2  & 61.3 & 56 & 2756 & 5.80 & 5.84 & 3.57\\\\\n\t 0.73 & Ideal     & I & VS2  & 61.6 & 55 & 2756 & 5.82 & 5.84 & 3.59\\\\\n\t 0.79 & Ideal     & I & SI1  & 61.6 & 56 & 2756 & 5.95 & 5.97 & 3.67\\\\\n\t 0.71 & Ideal     & E & SI1  & 61.9 & 56 & 2756 & 5.71 & 5.73 & 3.54\\\\\n\t 0.79 & Good      & F & SI1  & 58.1 & 59 & 2756 & 6.06 & 6.13 & 3.54\\\\\n\t 0.79 & Premium   & E & SI2  & 61.4 & 58 & 2756 & 6.03 & 5.96 & 3.68\\\\\n\t 0.71 & Ideal     & G & VS1  & 61.4 & 56 & 2756 & 5.76 & 5.73 & 3.53\\\\\n\t 0.71 & Premium   & E & SI1  & 60.5 & 55 & 2756 & 5.79 & 5.74 & 3.49\\\\\n\t 0.71 & Premium   & F & SI1  & 59.8 & 62 & 2756 & 5.74 & 5.73 & 3.43\\\\\n\t 0.70 & Very Good & E & VS2  & 60.5 & 59 & 2757 & 5.71 & 5.76 & 3.47\\\\\n\t 0.70 & Very Good & E & VS2  & 61.2 & 59 & 2757 & 5.69 & 5.72 & 3.49\\\\\n\t 0.72 & Premium   & D & SI1  & 62.7 & 59 & 2757 & 5.69 & 5.73 & 3.58\\\\\n\t 0.72 & Ideal     & D & SI1  & 60.8 & 57 & 2757 & 5.75 & 5.76 & 3.50\\\\\n\t 0.72 & Good      & D & SI1  & 63.1 & 55 & 2757 & 5.69 & 5.75 & 3.61\\\\\n\t 0.70 & Very Good & D & SI1  & 62.8 & 60 & 2757 & 5.66 & 5.68 & 3.56\\\\\n\t 0.86 & Premium   & H & SI2  & 61.0 & 58 & 2757 & 6.15 & 6.12 & 3.74\\\\\n\t 0.75 & Ideal     & D & SI2  & 62.2 & 55 & 2757 & 5.83 & 5.87 & 3.64\\\\\n\\end{tabular}\n",
            "text/markdown": "\nA tibble: 39441 × 10\n\n| carat &lt;dbl&gt; | cut &lt;ord&gt; | color &lt;ord&gt; | clarity &lt;ord&gt; | depth &lt;dbl&gt; | table &lt;dbl&gt; | price &lt;int&gt; | x &lt;dbl&gt; | y &lt;dbl&gt; | z &lt;dbl&gt; |\n|---|---|---|---|---|---|---|---|---|---|\n| 0.70 | Ideal     | E | SI1  | 62.5 | 57 | 2757 | 5.70 | 5.72 | 3.57 |\n| 0.86 | Fair      | E | SI2  | 55.1 | 69 | 2757 | 6.45 | 6.33 | 3.52 |\n| 0.70 | Ideal     | G | VS2  | 61.6 | 56 | 2757 | 5.70 | 5.67 | 3.50 |\n| 0.71 | Very Good | E | VS2  | 62.4 | 57 | 2759 | 5.68 | 5.73 | 3.56 |\n| 0.78 | Very Good | G | SI2  | 63.8 | 56 | 2759 | 5.81 | 5.85 | 3.72 |\n| 0.70 | Good      | E | VS2  | 57.5 | 58 | 2759 | 5.85 | 5.90 | 3.38 |\n| 0.70 | Good      | F | VS1  | 59.4 | 62 | 2759 | 5.71 | 5.76 | 3.40 |\n| 0.96 | Fair      | F | SI2  | 66.3 | 62 | 2759 | 6.27 | 5.95 | 4.07 |\n| 0.73 | Very Good | E | SI1  | 61.6 | 59 | 2760 | 5.77 | 5.78 | 3.56 |\n| 0.80 | Premium   | H | SI1  | 61.5 | 58 | 2760 | 5.97 | 5.93 | 3.66 |\n| 0.75 | Very Good | D | SI1  | 63.2 | 56 | 2760 | 5.80 | 5.75 | 3.65 |\n| 0.75 | Premium   | E | SI1  | 59.9 | 54 | 2760 | 6.00 | 5.96 | 3.58 |\n| 0.74 | Ideal     | G | SI1  | 61.6 | 55 | 2760 | 5.80 | 5.85 | 3.59 |\n| 0.75 | Premium   | G | VS2  | 61.7 | 58 | 2760 | 5.85 | 5.79 | 3.59 |\n| 0.80 | Ideal     | I | VS1  | 62.9 | 56 | 2760 | 5.94 | 5.87 | 3.72 |\n| 0.75 | Ideal     | G | SI1  | 62.2 | 55 | 2760 | 5.87 | 5.80 | 3.63 |\n| 0.80 | Premium   | G | SI1  | 63.0 | 59 | 2760 | 5.90 | 5.81 | 3.69 |\n| 0.74 | Ideal     | I | VVS2 | 62.3 | 55 | 2761 | 5.77 | 5.81 | 3.61 |\n| 0.81 | Ideal     | F | SI2  | 58.8 | 57 | 2761 | 6.14 | 6.11 | 3.60 |\n| 0.59 | Ideal     | E | VVS2 | 62.0 | 55 | 2761 | 5.38 | 5.43 | 3.35 |\n| 0.80 | Ideal     | F | SI2  | 61.4 | 57 | 2761 | 5.96 | 6.00 | 3.67 |\n| 0.74 | Ideal     | E | SI2  | 62.2 | 56 | 2761 | 5.80 | 5.84 | 3.62 |\n| 0.90 | Premium   | I | VS2  | 63.0 | 58 | 2761 | 6.16 | 6.12 | 3.87 |\n| 0.74 | Very Good | G | SI1  | 62.2 | 59 | 2762 | 5.73 | 5.82 | 3.59 |\n| 0.73 | Ideal     | F | VS2  | 62.6 | 56 | 2762 | 5.77 | 5.74 | 3.60 |\n| 0.73 | Ideal     | F | VS2  | 62.7 | 53 | 2762 | 5.80 | 5.75 | 3.62 |\n| 0.80 | Premium   | F | SI2  | 61.7 | 58 | 2762 | 5.98 | 5.94 | 3.68 |\n| 0.71 | Ideal     | G | VS2  | 62.4 | 54 | 2762 | 5.72 | 5.76 | 3.58 |\n| 0.70 | Ideal     | E | VS2  | 60.7 | 58 | 2762 | 5.73 | 5.76 | 3.49 |\n| 0.80 | Ideal     | F | SI2  | 59.9 | 59 | 2762 | 6.01 | 6.07 | 3.62 |\n| ⋮ | ⋮ | ⋮ | ⋮ | ⋮ | ⋮ | ⋮ | ⋮ | ⋮ | ⋮ |\n| 0.70 | Premium   | E | SI1  | 60.5 | 58 | 2753 | 5.74 | 5.77 | 3.48 |\n| 0.57 | Premium   | E | IF   | 59.8 | 60 | 2753 | 5.43 | 5.38 | 3.23 |\n| 0.61 | Premium   | F | VVS1 | 61.8 | 59 | 2753 | 5.48 | 5.40 | 3.36 |\n| 0.80 | Good      | G | VS2  | 64.2 | 58 | 2753 | 5.84 | 5.81 | 3.74 |\n| 0.84 | Good      | I | VS1  | 63.7 | 59 | 2753 | 5.94 | 5.90 | 3.77 |\n| 0.77 | Ideal     | E | SI2  | 62.1 | 56 | 2753 | 5.84 | 5.86 | 3.63 |\n| 0.74 | Good      | D | SI1  | 63.1 | 59 | 2753 | 5.71 | 5.74 | 3.61 |\n| 0.90 | Very Good | J | SI1  | 63.2 | 60 | 2753 | 6.12 | 6.09 | 3.86 |\n| 0.76 | Premium   | I | VS1  | 59.3 | 62 | 2753 | 5.93 | 5.85 | 3.49 |\n| 0.76 | Ideal     | I | VVS1 | 62.2 | 55 | 2753 | 5.89 | 5.87 | 3.66 |\n| 0.70 | Very Good | E | VS2  | 62.4 | 60 | 2755 | 5.57 | 5.61 | 3.49 |\n| 0.70 | Very Good | E | VS2  | 62.8 | 60 | 2755 | 5.59 | 5.65 | 3.53 |\n| 0.70 | Very Good | D | VS1  | 63.1 | 59 | 2755 | 5.67 | 5.58 | 3.55 |\n| 0.73 | Ideal     | I | VS2  | 61.3 | 56 | 2756 | 5.80 | 5.84 | 3.57 |\n| 0.73 | Ideal     | I | VS2  | 61.6 | 55 | 2756 | 5.82 | 5.84 | 3.59 |\n| 0.79 | Ideal     | I | SI1  | 61.6 | 56 | 2756 | 5.95 | 5.97 | 3.67 |\n| 0.71 | Ideal     | E | SI1  | 61.9 | 56 | 2756 | 5.71 | 5.73 | 3.54 |\n| 0.79 | Good      | F | SI1  | 58.1 | 59 | 2756 | 6.06 | 6.13 | 3.54 |\n| 0.79 | Premium   | E | SI2  | 61.4 | 58 | 2756 | 6.03 | 5.96 | 3.68 |\n| 0.71 | Ideal     | G | VS1  | 61.4 | 56 | 2756 | 5.76 | 5.73 | 3.53 |\n| 0.71 | Premium   | E | SI1  | 60.5 | 55 | 2756 | 5.79 | 5.74 | 3.49 |\n| 0.71 | Premium   | F | SI1  | 59.8 | 62 | 2756 | 5.74 | 5.73 | 3.43 |\n| 0.70 | Very Good | E | VS2  | 60.5 | 59 | 2757 | 5.71 | 5.76 | 3.47 |\n| 0.70 | Very Good | E | VS2  | 61.2 | 59 | 2757 | 5.69 | 5.72 | 3.49 |\n| 0.72 | Premium   | D | SI1  | 62.7 | 59 | 2757 | 5.69 | 5.73 | 3.58 |\n| 0.72 | Ideal     | D | SI1  | 60.8 | 57 | 2757 | 5.75 | 5.76 | 3.50 |\n| 0.72 | Good      | D | SI1  | 63.1 | 55 | 2757 | 5.69 | 5.75 | 3.61 |\n| 0.70 | Very Good | D | SI1  | 62.8 | 60 | 2757 | 5.66 | 5.68 | 3.56 |\n| 0.86 | Premium   | H | SI2  | 61.0 | 58 | 2757 | 6.15 | 6.12 | 3.74 |\n| 0.75 | Ideal     | D | SI2  | 62.2 | 55 | 2757 | 5.83 | 5.87 | 3.64 |\n\n",
            "text/html": [
              "<table>\n",
              "<caption>A tibble: 39441 × 10</caption>\n",
              "<thead>\n",
              "\t<tr><th scope=col>carat</th><th scope=col>cut</th><th scope=col>color</th><th scope=col>clarity</th><th scope=col>depth</th><th scope=col>table</th><th scope=col>price</th><th scope=col>x</th><th scope=col>y</th><th scope=col>z</th></tr>\n",
              "\t<tr><th scope=col>&lt;dbl&gt;</th><th scope=col>&lt;ord&gt;</th><th scope=col>&lt;ord&gt;</th><th scope=col>&lt;ord&gt;</th><th scope=col>&lt;dbl&gt;</th><th scope=col>&lt;dbl&gt;</th><th scope=col>&lt;int&gt;</th><th scope=col>&lt;dbl&gt;</th><th scope=col>&lt;dbl&gt;</th><th scope=col>&lt;dbl&gt;</th></tr>\n",
              "</thead>\n",
              "<tbody>\n",
              "\t<tr><td>0.70</td><td>Ideal    </td><td>E</td><td>SI1 </td><td>62.5</td><td>57</td><td>2757</td><td>5.70</td><td>5.72</td><td>3.57</td></tr>\n",
              "\t<tr><td>0.86</td><td>Fair     </td><td>E</td><td>SI2 </td><td>55.1</td><td>69</td><td>2757</td><td>6.45</td><td>6.33</td><td>3.52</td></tr>\n",
              "\t<tr><td>0.70</td><td>Ideal    </td><td>G</td><td>VS2 </td><td>61.6</td><td>56</td><td>2757</td><td>5.70</td><td>5.67</td><td>3.50</td></tr>\n",
              "\t<tr><td>0.71</td><td>Very Good</td><td>E</td><td>VS2 </td><td>62.4</td><td>57</td><td>2759</td><td>5.68</td><td>5.73</td><td>3.56</td></tr>\n",
              "\t<tr><td>0.78</td><td>Very Good</td><td>G</td><td>SI2 </td><td>63.8</td><td>56</td><td>2759</td><td>5.81</td><td>5.85</td><td>3.72</td></tr>\n",
              "\t<tr><td>0.70</td><td>Good     </td><td>E</td><td>VS2 </td><td>57.5</td><td>58</td><td>2759</td><td>5.85</td><td>5.90</td><td>3.38</td></tr>\n",
              "\t<tr><td>0.70</td><td>Good     </td><td>F</td><td>VS1 </td><td>59.4</td><td>62</td><td>2759</td><td>5.71</td><td>5.76</td><td>3.40</td></tr>\n",
              "\t<tr><td>0.96</td><td>Fair     </td><td>F</td><td>SI2 </td><td>66.3</td><td>62</td><td>2759</td><td>6.27</td><td>5.95</td><td>4.07</td></tr>\n",
              "\t<tr><td>0.73</td><td>Very Good</td><td>E</td><td>SI1 </td><td>61.6</td><td>59</td><td>2760</td><td>5.77</td><td>5.78</td><td>3.56</td></tr>\n",
              "\t<tr><td>0.80</td><td>Premium  </td><td>H</td><td>SI1 </td><td>61.5</td><td>58</td><td>2760</td><td>5.97</td><td>5.93</td><td>3.66</td></tr>\n",
              "\t<tr><td>0.75</td><td>Very Good</td><td>D</td><td>SI1 </td><td>63.2</td><td>56</td><td>2760</td><td>5.80</td><td>5.75</td><td>3.65</td></tr>\n",
              "\t<tr><td>0.75</td><td>Premium  </td><td>E</td><td>SI1 </td><td>59.9</td><td>54</td><td>2760</td><td>6.00</td><td>5.96</td><td>3.58</td></tr>\n",
              "\t<tr><td>0.74</td><td>Ideal    </td><td>G</td><td>SI1 </td><td>61.6</td><td>55</td><td>2760</td><td>5.80</td><td>5.85</td><td>3.59</td></tr>\n",
              "\t<tr><td>0.75</td><td>Premium  </td><td>G</td><td>VS2 </td><td>61.7</td><td>58</td><td>2760</td><td>5.85</td><td>5.79</td><td>3.59</td></tr>\n",
              "\t<tr><td>0.80</td><td>Ideal    </td><td>I</td><td>VS1 </td><td>62.9</td><td>56</td><td>2760</td><td>5.94</td><td>5.87</td><td>3.72</td></tr>\n",
              "\t<tr><td>0.75</td><td>Ideal    </td><td>G</td><td>SI1 </td><td>62.2</td><td>55</td><td>2760</td><td>5.87</td><td>5.80</td><td>3.63</td></tr>\n",
              "\t<tr><td>0.80</td><td>Premium  </td><td>G</td><td>SI1 </td><td>63.0</td><td>59</td><td>2760</td><td>5.90</td><td>5.81</td><td>3.69</td></tr>\n",
              "\t<tr><td>0.74</td><td>Ideal    </td><td>I</td><td>VVS2</td><td>62.3</td><td>55</td><td>2761</td><td>5.77</td><td>5.81</td><td>3.61</td></tr>\n",
              "\t<tr><td>0.81</td><td>Ideal    </td><td>F</td><td>SI2 </td><td>58.8</td><td>57</td><td>2761</td><td>6.14</td><td>6.11</td><td>3.60</td></tr>\n",
              "\t<tr><td>0.59</td><td>Ideal    </td><td>E</td><td>VVS2</td><td>62.0</td><td>55</td><td>2761</td><td>5.38</td><td>5.43</td><td>3.35</td></tr>\n",
              "\t<tr><td>0.80</td><td>Ideal    </td><td>F</td><td>SI2 </td><td>61.4</td><td>57</td><td>2761</td><td>5.96</td><td>6.00</td><td>3.67</td></tr>\n",
              "\t<tr><td>0.74</td><td>Ideal    </td><td>E</td><td>SI2 </td><td>62.2</td><td>56</td><td>2761</td><td>5.80</td><td>5.84</td><td>3.62</td></tr>\n",
              "\t<tr><td>0.90</td><td>Premium  </td><td>I</td><td>VS2 </td><td>63.0</td><td>58</td><td>2761</td><td>6.16</td><td>6.12</td><td>3.87</td></tr>\n",
              "\t<tr><td>0.74</td><td>Very Good</td><td>G</td><td>SI1 </td><td>62.2</td><td>59</td><td>2762</td><td>5.73</td><td>5.82</td><td>3.59</td></tr>\n",
              "\t<tr><td>0.73</td><td>Ideal    </td><td>F</td><td>VS2 </td><td>62.6</td><td>56</td><td>2762</td><td>5.77</td><td>5.74</td><td>3.60</td></tr>\n",
              "\t<tr><td>0.73</td><td>Ideal    </td><td>F</td><td>VS2 </td><td>62.7</td><td>53</td><td>2762</td><td>5.80</td><td>5.75</td><td>3.62</td></tr>\n",
              "\t<tr><td>0.80</td><td>Premium  </td><td>F</td><td>SI2 </td><td>61.7</td><td>58</td><td>2762</td><td>5.98</td><td>5.94</td><td>3.68</td></tr>\n",
              "\t<tr><td>0.71</td><td>Ideal    </td><td>G</td><td>VS2 </td><td>62.4</td><td>54</td><td>2762</td><td>5.72</td><td>5.76</td><td>3.58</td></tr>\n",
              "\t<tr><td>0.70</td><td>Ideal    </td><td>E</td><td>VS2 </td><td>60.7</td><td>58</td><td>2762</td><td>5.73</td><td>5.76</td><td>3.49</td></tr>\n",
              "\t<tr><td>0.80</td><td>Ideal    </td><td>F</td><td>SI2 </td><td>59.9</td><td>59</td><td>2762</td><td>6.01</td><td>6.07</td><td>3.62</td></tr>\n",
              "\t<tr><td>⋮</td><td>⋮</td><td>⋮</td><td>⋮</td><td>⋮</td><td>⋮</td><td>⋮</td><td>⋮</td><td>⋮</td><td>⋮</td></tr>\n",
              "\t<tr><td>0.70</td><td>Premium  </td><td>E</td><td>SI1 </td><td>60.5</td><td>58</td><td>2753</td><td>5.74</td><td>5.77</td><td>3.48</td></tr>\n",
              "\t<tr><td>0.57</td><td>Premium  </td><td>E</td><td>IF  </td><td>59.8</td><td>60</td><td>2753</td><td>5.43</td><td>5.38</td><td>3.23</td></tr>\n",
              "\t<tr><td>0.61</td><td>Premium  </td><td>F</td><td>VVS1</td><td>61.8</td><td>59</td><td>2753</td><td>5.48</td><td>5.40</td><td>3.36</td></tr>\n",
              "\t<tr><td>0.80</td><td>Good     </td><td>G</td><td>VS2 </td><td>64.2</td><td>58</td><td>2753</td><td>5.84</td><td>5.81</td><td>3.74</td></tr>\n",
              "\t<tr><td>0.84</td><td>Good     </td><td>I</td><td>VS1 </td><td>63.7</td><td>59</td><td>2753</td><td>5.94</td><td>5.90</td><td>3.77</td></tr>\n",
              "\t<tr><td>0.77</td><td>Ideal    </td><td>E</td><td>SI2 </td><td>62.1</td><td>56</td><td>2753</td><td>5.84</td><td>5.86</td><td>3.63</td></tr>\n",
              "\t<tr><td>0.74</td><td>Good     </td><td>D</td><td>SI1 </td><td>63.1</td><td>59</td><td>2753</td><td>5.71</td><td>5.74</td><td>3.61</td></tr>\n",
              "\t<tr><td>0.90</td><td>Very Good</td><td>J</td><td>SI1 </td><td>63.2</td><td>60</td><td>2753</td><td>6.12</td><td>6.09</td><td>3.86</td></tr>\n",
              "\t<tr><td>0.76</td><td>Premium  </td><td>I</td><td>VS1 </td><td>59.3</td><td>62</td><td>2753</td><td>5.93</td><td>5.85</td><td>3.49</td></tr>\n",
              "\t<tr><td>0.76</td><td>Ideal    </td><td>I</td><td>VVS1</td><td>62.2</td><td>55</td><td>2753</td><td>5.89</td><td>5.87</td><td>3.66</td></tr>\n",
              "\t<tr><td>0.70</td><td>Very Good</td><td>E</td><td>VS2 </td><td>62.4</td><td>60</td><td>2755</td><td>5.57</td><td>5.61</td><td>3.49</td></tr>\n",
              "\t<tr><td>0.70</td><td>Very Good</td><td>E</td><td>VS2 </td><td>62.8</td><td>60</td><td>2755</td><td>5.59</td><td>5.65</td><td>3.53</td></tr>\n",
              "\t<tr><td>0.70</td><td>Very Good</td><td>D</td><td>VS1 </td><td>63.1</td><td>59</td><td>2755</td><td>5.67</td><td>5.58</td><td>3.55</td></tr>\n",
              "\t<tr><td>0.73</td><td>Ideal    </td><td>I</td><td>VS2 </td><td>61.3</td><td>56</td><td>2756</td><td>5.80</td><td>5.84</td><td>3.57</td></tr>\n",
              "\t<tr><td>0.73</td><td>Ideal    </td><td>I</td><td>VS2 </td><td>61.6</td><td>55</td><td>2756</td><td>5.82</td><td>5.84</td><td>3.59</td></tr>\n",
              "\t<tr><td>0.79</td><td>Ideal    </td><td>I</td><td>SI1 </td><td>61.6</td><td>56</td><td>2756</td><td>5.95</td><td>5.97</td><td>3.67</td></tr>\n",
              "\t<tr><td>0.71</td><td>Ideal    </td><td>E</td><td>SI1 </td><td>61.9</td><td>56</td><td>2756</td><td>5.71</td><td>5.73</td><td>3.54</td></tr>\n",
              "\t<tr><td>0.79</td><td>Good     </td><td>F</td><td>SI1 </td><td>58.1</td><td>59</td><td>2756</td><td>6.06</td><td>6.13</td><td>3.54</td></tr>\n",
              "\t<tr><td>0.79</td><td>Premium  </td><td>E</td><td>SI2 </td><td>61.4</td><td>58</td><td>2756</td><td>6.03</td><td>5.96</td><td>3.68</td></tr>\n",
              "\t<tr><td>0.71</td><td>Ideal    </td><td>G</td><td>VS1 </td><td>61.4</td><td>56</td><td>2756</td><td>5.76</td><td>5.73</td><td>3.53</td></tr>\n",
              "\t<tr><td>0.71</td><td>Premium  </td><td>E</td><td>SI1 </td><td>60.5</td><td>55</td><td>2756</td><td>5.79</td><td>5.74</td><td>3.49</td></tr>\n",
              "\t<tr><td>0.71</td><td>Premium  </td><td>F</td><td>SI1 </td><td>59.8</td><td>62</td><td>2756</td><td>5.74</td><td>5.73</td><td>3.43</td></tr>\n",
              "\t<tr><td>0.70</td><td>Very Good</td><td>E</td><td>VS2 </td><td>60.5</td><td>59</td><td>2757</td><td>5.71</td><td>5.76</td><td>3.47</td></tr>\n",
              "\t<tr><td>0.70</td><td>Very Good</td><td>E</td><td>VS2 </td><td>61.2</td><td>59</td><td>2757</td><td>5.69</td><td>5.72</td><td>3.49</td></tr>\n",
              "\t<tr><td>0.72</td><td>Premium  </td><td>D</td><td>SI1 </td><td>62.7</td><td>59</td><td>2757</td><td>5.69</td><td>5.73</td><td>3.58</td></tr>\n",
              "\t<tr><td>0.72</td><td>Ideal    </td><td>D</td><td>SI1 </td><td>60.8</td><td>57</td><td>2757</td><td>5.75</td><td>5.76</td><td>3.50</td></tr>\n",
              "\t<tr><td>0.72</td><td>Good     </td><td>D</td><td>SI1 </td><td>63.1</td><td>55</td><td>2757</td><td>5.69</td><td>5.75</td><td>3.61</td></tr>\n",
              "\t<tr><td>0.70</td><td>Very Good</td><td>D</td><td>SI1 </td><td>62.8</td><td>60</td><td>2757</td><td>5.66</td><td>5.68</td><td>3.56</td></tr>\n",
              "\t<tr><td>0.86</td><td>Premium  </td><td>H</td><td>SI2 </td><td>61.0</td><td>58</td><td>2757</td><td>6.15</td><td>6.12</td><td>3.74</td></tr>\n",
              "\t<tr><td>0.75</td><td>Ideal    </td><td>D</td><td>SI2 </td><td>62.2</td><td>55</td><td>2757</td><td>5.83</td><td>5.87</td><td>3.64</td></tr>\n",
              "</tbody>\n",
              "</table>\n"
            ]
          },
          "metadata": {
            "tags": []
          }
        }
      ]
    },
    {
      "cell_type": "code",
      "metadata": {
        "id": "E9xG5VN1cOl_",
        "outputId": "7cfa65af-b07c-4e3f-daa8-45ccc17bcf40",
        "colab": {
          "base_uri": "https://localhost:8080/",
          "height": 1000
        }
      },
      "source": [
        "# carat이 2이상, price 가 14000 이하인 데이터 조회 \n",
        "diamonds %>% filter(carat >=2, price <= 14000)"
      ],
      "execution_count": 174,
      "outputs": [
        {
          "output_type": "display_data",
          "data": {
            "text/plain": [
              "    carat cut       color clarity depth table price x    y    z   \n",
              "1   2.00  Premium   J     I1      61.5  59    5051  8.11 8.06 4.97\n",
              "2   2.06  Premium   J     I1      61.2  58    5203  8.10 8.07 4.95\n",
              "3   2.14  Fair      J     I1      69.4  57    5405  7.74 7.70 5.36\n",
              "4   2.15  Fair      J     I1      65.5  57    5430  8.01 7.95 5.23\n",
              "5   2.22  Fair      J     I1      66.7  56    5607  8.04 8.02 5.36\n",
              "6   2.00  Fair      I     I1      66.0  60    5667  7.78 7.74 5.10\n",
              "7   2.01  Fair      I     I1      67.4  58    5696  7.71 7.64 5.17\n",
              "8   2.01  Fair      I     I1      55.9  64    5696  8.48 8.39 4.71\n",
              "9   2.27  Fair      J     I1      67.6  55    5733  8.05 8.00 5.43\n",
              "10  2.00  Fair      H     I1      69.8  54    5914  7.60 7.56 5.29\n",
              "11  2.03  Fair      H     I1      64.4  59    6002  7.91 7.85 5.07\n",
              "12  2.03  Fair      H     I1      66.6  57    6002  7.81 7.75 5.19\n",
              "13  2.06  Good      H     I1      64.3  58    6091  8.03 7.99 5.15\n",
              "14  2.08  Premium   H     I1      61.7  57    6150  8.23 8.18 5.06\n",
              "15  2.49  Fair      J     I1      66.3  58    6289  8.26 8.18 5.45\n",
              "16  2.01  Fair      G     I1      70.2  57    6315  7.53 7.50 5.27\n",
              "17  2.14  Fair      H     I1      66.4  56    6328  8.00 7.92 5.29\n",
              "18  2.00  Premium   H     I1      59.7  62    6344  8.19 8.02 4.85\n",
              "19  2.02  Fair      G     I1      68.0  55    6346  7.77 7.72 5.27\n",
              "20  2.02  Fair      G     I1      65.6  57    6346  7.87 7.80 5.15\n",
              "21  2.15  Premium   H     I1      62.9  57    6357  8.25 8.20 5.18\n",
              "22  2.03  Fair      G     I1      66.3  56    6377  7.81 7.75 5.16\n",
              "23  2.03  Premium   G     I1      61.1  58    6377  8.11 8.06 4.94\n",
              "24  2.07  Fair      G     I1      67.7  56    6503  7.76 7.73 5.25\n",
              "25  3.00  Very Good H     I1      63.1  55    6512  9.23 9.10 5.77\n",
              "26  2.00  Good      J     I1      63.6  62    6521  7.97 7.80 5.02\n",
              "27  2.00  Fair      F     I1      66.1  57    6532  7.84 7.70 5.14\n",
              "28  2.21  Premium   H     I1      62.2  58    6535  8.31 8.27 5.16\n",
              "29  2.22  Fair      H     I1      70.1  55    6564  7.77 7.74 5.44\n",
              "30  2.01  Very Good H     I1      58.1  63    6592  8.30 8.19 4.79\n",
              "⋮   ⋮     ⋮         ⋮     ⋮       ⋮     ⋮     ⋮     ⋮    ⋮    ⋮   \n",
              "740 2.03  Ideal     J     VS2     62.1  57    13880 8.15 8.08 5.04\n",
              "741 2.12  Premium   E     SI2     62.4  58    13884 8.22 8.18 5.12\n",
              "742 2.26  Premium   H     SI2     61.1  57    13885 8.45 8.40 5.15\n",
              "743 2.00  Very Good I     SI2     59.5  61    13892 8.16 8.18 4.86\n",
              "744 2.28  Ideal     G     SI2     61.6  57    13907 8.44 8.37 5.18\n",
              "745 2.06  Premium   G     SI2     60.7  58    13908 8.18 8.25 4.99\n",
              "746 2.06  Premium   I     SI2     61.0  61    13912 8.18 8.10 5.02\n",
              "747 2.20  Good      H     SI2     63.6  58    13919 8.21 8.17 5.21\n",
              "748 2.28  Premium   H     SI1     59.3  58    13919 8.60 8.56 5.09\n",
              "749 2.00  Ideal     I     SI2     61.1  59    13921 8.07 8.11 4.94\n",
              "750 2.26  Very Good H     SI2     63.3  59    13923 8.35 8.26 5.25\n",
              "751 2.01  Good      H     SI1     56.7  58    13929 8.31 8.36 4.73\n",
              "752 2.10  Premium   J     SI1     62.9  58    13930 8.15 8.09 5.11\n",
              "753 2.23  Premium   J     SI2     61.3  60    13931 8.40 8.35 5.13\n",
              "754 2.09  Ideal     I     SI2     61.2  57    13933 8.27 8.19 5.04\n",
              "755 2.18  Premium   J     SI1     62.9  59    13938 8.25 8.21 5.18\n",
              "756 2.01  Very Good G     SI2     61.3  60    13940 8.08 8.17 4.98\n",
              "757 2.06  Very Good J     VS2     61.8  59    13948 8.14 8.20 5.05\n",
              "758 2.08  Good      I     SI2     63.8  58    13956 8.02 8.10 5.14\n",
              "759 2.01  Good      I     SI1     63.8  57    13976 7.95 7.91 5.06\n",
              "760 2.19  Good      G     SI1     63.7  56    13978 8.26 8.17 5.23\n",
              "761 2.21  Premium   H     SI1     61.1  58    13983 8.39 8.34 5.11\n",
              "762 2.00  Premium   H     SI1     59.8  60    13986 8.04 8.01 4.80\n",
              "763 2.00  Premium   G     SI2     61.1  60    13986 8.10 8.03 4.93\n",
              "764 2.02  Premium   I     SI2     61.1  61    13991 8.11 8.08 4.95\n",
              "765 2.02  Premium   I     SI2     62.9  60    13991 8.05 8.01 5.05\n",
              "766 2.07  Premium   H     SI1     62.7  58    13993 8.14 8.09 5.09\n",
              "767 2.07  Good      I     SI1     63.6  58    13993 8.09 7.99 5.11\n",
              "768 2.13  Very Good J     SI1     62.8  58    13996 8.13 8.17 5.12\n",
              "769 2.11  Premium   J     SI1     62.4  58    13996 8.27 8.17 5.13"
            ],
            "text/latex": "A tibble: 769 × 10\n\\begin{tabular}{llllllllll}\n carat & cut & color & clarity & depth & table & price & x & y & z\\\\\n <dbl> & <ord> & <ord> & <ord> & <dbl> & <dbl> & <int> & <dbl> & <dbl> & <dbl>\\\\\n\\hline\n\t 2.00 & Premium   & J & I1 & 61.5 & 59 & 5051 & 8.11 & 8.06 & 4.97\\\\\n\t 2.06 & Premium   & J & I1 & 61.2 & 58 & 5203 & 8.10 & 8.07 & 4.95\\\\\n\t 2.14 & Fair      & J & I1 & 69.4 & 57 & 5405 & 7.74 & 7.70 & 5.36\\\\\n\t 2.15 & Fair      & J & I1 & 65.5 & 57 & 5430 & 8.01 & 7.95 & 5.23\\\\\n\t 2.22 & Fair      & J & I1 & 66.7 & 56 & 5607 & 8.04 & 8.02 & 5.36\\\\\n\t 2.00 & Fair      & I & I1 & 66.0 & 60 & 5667 & 7.78 & 7.74 & 5.10\\\\\n\t 2.01 & Fair      & I & I1 & 67.4 & 58 & 5696 & 7.71 & 7.64 & 5.17\\\\\n\t 2.01 & Fair      & I & I1 & 55.9 & 64 & 5696 & 8.48 & 8.39 & 4.71\\\\\n\t 2.27 & Fair      & J & I1 & 67.6 & 55 & 5733 & 8.05 & 8.00 & 5.43\\\\\n\t 2.00 & Fair      & H & I1 & 69.8 & 54 & 5914 & 7.60 & 7.56 & 5.29\\\\\n\t 2.03 & Fair      & H & I1 & 64.4 & 59 & 6002 & 7.91 & 7.85 & 5.07\\\\\n\t 2.03 & Fair      & H & I1 & 66.6 & 57 & 6002 & 7.81 & 7.75 & 5.19\\\\\n\t 2.06 & Good      & H & I1 & 64.3 & 58 & 6091 & 8.03 & 7.99 & 5.15\\\\\n\t 2.08 & Premium   & H & I1 & 61.7 & 57 & 6150 & 8.23 & 8.18 & 5.06\\\\\n\t 2.49 & Fair      & J & I1 & 66.3 & 58 & 6289 & 8.26 & 8.18 & 5.45\\\\\n\t 2.01 & Fair      & G & I1 & 70.2 & 57 & 6315 & 7.53 & 7.50 & 5.27\\\\\n\t 2.14 & Fair      & H & I1 & 66.4 & 56 & 6328 & 8.00 & 7.92 & 5.29\\\\\n\t 2.00 & Premium   & H & I1 & 59.7 & 62 & 6344 & 8.19 & 8.02 & 4.85\\\\\n\t 2.02 & Fair      & G & I1 & 68.0 & 55 & 6346 & 7.77 & 7.72 & 5.27\\\\\n\t 2.02 & Fair      & G & I1 & 65.6 & 57 & 6346 & 7.87 & 7.80 & 5.15\\\\\n\t 2.15 & Premium   & H & I1 & 62.9 & 57 & 6357 & 8.25 & 8.20 & 5.18\\\\\n\t 2.03 & Fair      & G & I1 & 66.3 & 56 & 6377 & 7.81 & 7.75 & 5.16\\\\\n\t 2.03 & Premium   & G & I1 & 61.1 & 58 & 6377 & 8.11 & 8.06 & 4.94\\\\\n\t 2.07 & Fair      & G & I1 & 67.7 & 56 & 6503 & 7.76 & 7.73 & 5.25\\\\\n\t 3.00 & Very Good & H & I1 & 63.1 & 55 & 6512 & 9.23 & 9.10 & 5.77\\\\\n\t 2.00 & Good      & J & I1 & 63.6 & 62 & 6521 & 7.97 & 7.80 & 5.02\\\\\n\t 2.00 & Fair      & F & I1 & 66.1 & 57 & 6532 & 7.84 & 7.70 & 5.14\\\\\n\t 2.21 & Premium   & H & I1 & 62.2 & 58 & 6535 & 8.31 & 8.27 & 5.16\\\\\n\t 2.22 & Fair      & H & I1 & 70.1 & 55 & 6564 & 7.77 & 7.74 & 5.44\\\\\n\t 2.01 & Very Good & H & I1 & 58.1 & 63 & 6592 & 8.30 & 8.19 & 4.79\\\\\n\t ⋮ & ⋮ & ⋮ & ⋮ & ⋮ & ⋮ & ⋮ & ⋮ & ⋮ & ⋮\\\\\n\t 2.03 & Ideal     & J & VS2 & 62.1 & 57 & 13880 & 8.15 & 8.08 & 5.04\\\\\n\t 2.12 & Premium   & E & SI2 & 62.4 & 58 & 13884 & 8.22 & 8.18 & 5.12\\\\\n\t 2.26 & Premium   & H & SI2 & 61.1 & 57 & 13885 & 8.45 & 8.40 & 5.15\\\\\n\t 2.00 & Very Good & I & SI2 & 59.5 & 61 & 13892 & 8.16 & 8.18 & 4.86\\\\\n\t 2.28 & Ideal     & G & SI2 & 61.6 & 57 & 13907 & 8.44 & 8.37 & 5.18\\\\\n\t 2.06 & Premium   & G & SI2 & 60.7 & 58 & 13908 & 8.18 & 8.25 & 4.99\\\\\n\t 2.06 & Premium   & I & SI2 & 61.0 & 61 & 13912 & 8.18 & 8.10 & 5.02\\\\\n\t 2.20 & Good      & H & SI2 & 63.6 & 58 & 13919 & 8.21 & 8.17 & 5.21\\\\\n\t 2.28 & Premium   & H & SI1 & 59.3 & 58 & 13919 & 8.60 & 8.56 & 5.09\\\\\n\t 2.00 & Ideal     & I & SI2 & 61.1 & 59 & 13921 & 8.07 & 8.11 & 4.94\\\\\n\t 2.26 & Very Good & H & SI2 & 63.3 & 59 & 13923 & 8.35 & 8.26 & 5.25\\\\\n\t 2.01 & Good      & H & SI1 & 56.7 & 58 & 13929 & 8.31 & 8.36 & 4.73\\\\\n\t 2.10 & Premium   & J & SI1 & 62.9 & 58 & 13930 & 8.15 & 8.09 & 5.11\\\\\n\t 2.23 & Premium   & J & SI2 & 61.3 & 60 & 13931 & 8.40 & 8.35 & 5.13\\\\\n\t 2.09 & Ideal     & I & SI2 & 61.2 & 57 & 13933 & 8.27 & 8.19 & 5.04\\\\\n\t 2.18 & Premium   & J & SI1 & 62.9 & 59 & 13938 & 8.25 & 8.21 & 5.18\\\\\n\t 2.01 & Very Good & G & SI2 & 61.3 & 60 & 13940 & 8.08 & 8.17 & 4.98\\\\\n\t 2.06 & Very Good & J & VS2 & 61.8 & 59 & 13948 & 8.14 & 8.20 & 5.05\\\\\n\t 2.08 & Good      & I & SI2 & 63.8 & 58 & 13956 & 8.02 & 8.10 & 5.14\\\\\n\t 2.01 & Good      & I & SI1 & 63.8 & 57 & 13976 & 7.95 & 7.91 & 5.06\\\\\n\t 2.19 & Good      & G & SI1 & 63.7 & 56 & 13978 & 8.26 & 8.17 & 5.23\\\\\n\t 2.21 & Premium   & H & SI1 & 61.1 & 58 & 13983 & 8.39 & 8.34 & 5.11\\\\\n\t 2.00 & Premium   & H & SI1 & 59.8 & 60 & 13986 & 8.04 & 8.01 & 4.80\\\\\n\t 2.00 & Premium   & G & SI2 & 61.1 & 60 & 13986 & 8.10 & 8.03 & 4.93\\\\\n\t 2.02 & Premium   & I & SI2 & 61.1 & 61 & 13991 & 8.11 & 8.08 & 4.95\\\\\n\t 2.02 & Premium   & I & SI2 & 62.9 & 60 & 13991 & 8.05 & 8.01 & 5.05\\\\\n\t 2.07 & Premium   & H & SI1 & 62.7 & 58 & 13993 & 8.14 & 8.09 & 5.09\\\\\n\t 2.07 & Good      & I & SI1 & 63.6 & 58 & 13993 & 8.09 & 7.99 & 5.11\\\\\n\t 2.13 & Very Good & J & SI1 & 62.8 & 58 & 13996 & 8.13 & 8.17 & 5.12\\\\\n\t 2.11 & Premium   & J & SI1 & 62.4 & 58 & 13996 & 8.27 & 8.17 & 5.13\\\\\n\\end{tabular}\n",
            "text/markdown": "\nA tibble: 769 × 10\n\n| carat &lt;dbl&gt; | cut &lt;ord&gt; | color &lt;ord&gt; | clarity &lt;ord&gt; | depth &lt;dbl&gt; | table &lt;dbl&gt; | price &lt;int&gt; | x &lt;dbl&gt; | y &lt;dbl&gt; | z &lt;dbl&gt; |\n|---|---|---|---|---|---|---|---|---|---|\n| 2.00 | Premium   | J | I1 | 61.5 | 59 | 5051 | 8.11 | 8.06 | 4.97 |\n| 2.06 | Premium   | J | I1 | 61.2 | 58 | 5203 | 8.10 | 8.07 | 4.95 |\n| 2.14 | Fair      | J | I1 | 69.4 | 57 | 5405 | 7.74 | 7.70 | 5.36 |\n| 2.15 | Fair      | J | I1 | 65.5 | 57 | 5430 | 8.01 | 7.95 | 5.23 |\n| 2.22 | Fair      | J | I1 | 66.7 | 56 | 5607 | 8.04 | 8.02 | 5.36 |\n| 2.00 | Fair      | I | I1 | 66.0 | 60 | 5667 | 7.78 | 7.74 | 5.10 |\n| 2.01 | Fair      | I | I1 | 67.4 | 58 | 5696 | 7.71 | 7.64 | 5.17 |\n| 2.01 | Fair      | I | I1 | 55.9 | 64 | 5696 | 8.48 | 8.39 | 4.71 |\n| 2.27 | Fair      | J | I1 | 67.6 | 55 | 5733 | 8.05 | 8.00 | 5.43 |\n| 2.00 | Fair      | H | I1 | 69.8 | 54 | 5914 | 7.60 | 7.56 | 5.29 |\n| 2.03 | Fair      | H | I1 | 64.4 | 59 | 6002 | 7.91 | 7.85 | 5.07 |\n| 2.03 | Fair      | H | I1 | 66.6 | 57 | 6002 | 7.81 | 7.75 | 5.19 |\n| 2.06 | Good      | H | I1 | 64.3 | 58 | 6091 | 8.03 | 7.99 | 5.15 |\n| 2.08 | Premium   | H | I1 | 61.7 | 57 | 6150 | 8.23 | 8.18 | 5.06 |\n| 2.49 | Fair      | J | I1 | 66.3 | 58 | 6289 | 8.26 | 8.18 | 5.45 |\n| 2.01 | Fair      | G | I1 | 70.2 | 57 | 6315 | 7.53 | 7.50 | 5.27 |\n| 2.14 | Fair      | H | I1 | 66.4 | 56 | 6328 | 8.00 | 7.92 | 5.29 |\n| 2.00 | Premium   | H | I1 | 59.7 | 62 | 6344 | 8.19 | 8.02 | 4.85 |\n| 2.02 | Fair      | G | I1 | 68.0 | 55 | 6346 | 7.77 | 7.72 | 5.27 |\n| 2.02 | Fair      | G | I1 | 65.6 | 57 | 6346 | 7.87 | 7.80 | 5.15 |\n| 2.15 | Premium   | H | I1 | 62.9 | 57 | 6357 | 8.25 | 8.20 | 5.18 |\n| 2.03 | Fair      | G | I1 | 66.3 | 56 | 6377 | 7.81 | 7.75 | 5.16 |\n| 2.03 | Premium   | G | I1 | 61.1 | 58 | 6377 | 8.11 | 8.06 | 4.94 |\n| 2.07 | Fair      | G | I1 | 67.7 | 56 | 6503 | 7.76 | 7.73 | 5.25 |\n| 3.00 | Very Good | H | I1 | 63.1 | 55 | 6512 | 9.23 | 9.10 | 5.77 |\n| 2.00 | Good      | J | I1 | 63.6 | 62 | 6521 | 7.97 | 7.80 | 5.02 |\n| 2.00 | Fair      | F | I1 | 66.1 | 57 | 6532 | 7.84 | 7.70 | 5.14 |\n| 2.21 | Premium   | H | I1 | 62.2 | 58 | 6535 | 8.31 | 8.27 | 5.16 |\n| 2.22 | Fair      | H | I1 | 70.1 | 55 | 6564 | 7.77 | 7.74 | 5.44 |\n| 2.01 | Very Good | H | I1 | 58.1 | 63 | 6592 | 8.30 | 8.19 | 4.79 |\n| ⋮ | ⋮ | ⋮ | ⋮ | ⋮ | ⋮ | ⋮ | ⋮ | ⋮ | ⋮ |\n| 2.03 | Ideal     | J | VS2 | 62.1 | 57 | 13880 | 8.15 | 8.08 | 5.04 |\n| 2.12 | Premium   | E | SI2 | 62.4 | 58 | 13884 | 8.22 | 8.18 | 5.12 |\n| 2.26 | Premium   | H | SI2 | 61.1 | 57 | 13885 | 8.45 | 8.40 | 5.15 |\n| 2.00 | Very Good | I | SI2 | 59.5 | 61 | 13892 | 8.16 | 8.18 | 4.86 |\n| 2.28 | Ideal     | G | SI2 | 61.6 | 57 | 13907 | 8.44 | 8.37 | 5.18 |\n| 2.06 | Premium   | G | SI2 | 60.7 | 58 | 13908 | 8.18 | 8.25 | 4.99 |\n| 2.06 | Premium   | I | SI2 | 61.0 | 61 | 13912 | 8.18 | 8.10 | 5.02 |\n| 2.20 | Good      | H | SI2 | 63.6 | 58 | 13919 | 8.21 | 8.17 | 5.21 |\n| 2.28 | Premium   | H | SI1 | 59.3 | 58 | 13919 | 8.60 | 8.56 | 5.09 |\n| 2.00 | Ideal     | I | SI2 | 61.1 | 59 | 13921 | 8.07 | 8.11 | 4.94 |\n| 2.26 | Very Good | H | SI2 | 63.3 | 59 | 13923 | 8.35 | 8.26 | 5.25 |\n| 2.01 | Good      | H | SI1 | 56.7 | 58 | 13929 | 8.31 | 8.36 | 4.73 |\n| 2.10 | Premium   | J | SI1 | 62.9 | 58 | 13930 | 8.15 | 8.09 | 5.11 |\n| 2.23 | Premium   | J | SI2 | 61.3 | 60 | 13931 | 8.40 | 8.35 | 5.13 |\n| 2.09 | Ideal     | I | SI2 | 61.2 | 57 | 13933 | 8.27 | 8.19 | 5.04 |\n| 2.18 | Premium   | J | SI1 | 62.9 | 59 | 13938 | 8.25 | 8.21 | 5.18 |\n| 2.01 | Very Good | G | SI2 | 61.3 | 60 | 13940 | 8.08 | 8.17 | 4.98 |\n| 2.06 | Very Good | J | VS2 | 61.8 | 59 | 13948 | 8.14 | 8.20 | 5.05 |\n| 2.08 | Good      | I | SI2 | 63.8 | 58 | 13956 | 8.02 | 8.10 | 5.14 |\n| 2.01 | Good      | I | SI1 | 63.8 | 57 | 13976 | 7.95 | 7.91 | 5.06 |\n| 2.19 | Good      | G | SI1 | 63.7 | 56 | 13978 | 8.26 | 8.17 | 5.23 |\n| 2.21 | Premium   | H | SI1 | 61.1 | 58 | 13983 | 8.39 | 8.34 | 5.11 |\n| 2.00 | Premium   | H | SI1 | 59.8 | 60 | 13986 | 8.04 | 8.01 | 4.80 |\n| 2.00 | Premium   | G | SI2 | 61.1 | 60 | 13986 | 8.10 | 8.03 | 4.93 |\n| 2.02 | Premium   | I | SI2 | 61.1 | 61 | 13991 | 8.11 | 8.08 | 4.95 |\n| 2.02 | Premium   | I | SI2 | 62.9 | 60 | 13991 | 8.05 | 8.01 | 5.05 |\n| 2.07 | Premium   | H | SI1 | 62.7 | 58 | 13993 | 8.14 | 8.09 | 5.09 |\n| 2.07 | Good      | I | SI1 | 63.6 | 58 | 13993 | 8.09 | 7.99 | 5.11 |\n| 2.13 | Very Good | J | SI1 | 62.8 | 58 | 13996 | 8.13 | 8.17 | 5.12 |\n| 2.11 | Premium   | J | SI1 | 62.4 | 58 | 13996 | 8.27 | 8.17 | 5.13 |\n\n",
            "text/html": [
              "<table>\n",
              "<caption>A tibble: 769 × 10</caption>\n",
              "<thead>\n",
              "\t<tr><th scope=col>carat</th><th scope=col>cut</th><th scope=col>color</th><th scope=col>clarity</th><th scope=col>depth</th><th scope=col>table</th><th scope=col>price</th><th scope=col>x</th><th scope=col>y</th><th scope=col>z</th></tr>\n",
              "\t<tr><th scope=col>&lt;dbl&gt;</th><th scope=col>&lt;ord&gt;</th><th scope=col>&lt;ord&gt;</th><th scope=col>&lt;ord&gt;</th><th scope=col>&lt;dbl&gt;</th><th scope=col>&lt;dbl&gt;</th><th scope=col>&lt;int&gt;</th><th scope=col>&lt;dbl&gt;</th><th scope=col>&lt;dbl&gt;</th><th scope=col>&lt;dbl&gt;</th></tr>\n",
              "</thead>\n",
              "<tbody>\n",
              "\t<tr><td>2.00</td><td>Premium  </td><td>J</td><td>I1</td><td>61.5</td><td>59</td><td>5051</td><td>8.11</td><td>8.06</td><td>4.97</td></tr>\n",
              "\t<tr><td>2.06</td><td>Premium  </td><td>J</td><td>I1</td><td>61.2</td><td>58</td><td>5203</td><td>8.10</td><td>8.07</td><td>4.95</td></tr>\n",
              "\t<tr><td>2.14</td><td>Fair     </td><td>J</td><td>I1</td><td>69.4</td><td>57</td><td>5405</td><td>7.74</td><td>7.70</td><td>5.36</td></tr>\n",
              "\t<tr><td>2.15</td><td>Fair     </td><td>J</td><td>I1</td><td>65.5</td><td>57</td><td>5430</td><td>8.01</td><td>7.95</td><td>5.23</td></tr>\n",
              "\t<tr><td>2.22</td><td>Fair     </td><td>J</td><td>I1</td><td>66.7</td><td>56</td><td>5607</td><td>8.04</td><td>8.02</td><td>5.36</td></tr>\n",
              "\t<tr><td>2.00</td><td>Fair     </td><td>I</td><td>I1</td><td>66.0</td><td>60</td><td>5667</td><td>7.78</td><td>7.74</td><td>5.10</td></tr>\n",
              "\t<tr><td>2.01</td><td>Fair     </td><td>I</td><td>I1</td><td>67.4</td><td>58</td><td>5696</td><td>7.71</td><td>7.64</td><td>5.17</td></tr>\n",
              "\t<tr><td>2.01</td><td>Fair     </td><td>I</td><td>I1</td><td>55.9</td><td>64</td><td>5696</td><td>8.48</td><td>8.39</td><td>4.71</td></tr>\n",
              "\t<tr><td>2.27</td><td>Fair     </td><td>J</td><td>I1</td><td>67.6</td><td>55</td><td>5733</td><td>8.05</td><td>8.00</td><td>5.43</td></tr>\n",
              "\t<tr><td>2.00</td><td>Fair     </td><td>H</td><td>I1</td><td>69.8</td><td>54</td><td>5914</td><td>7.60</td><td>7.56</td><td>5.29</td></tr>\n",
              "\t<tr><td>2.03</td><td>Fair     </td><td>H</td><td>I1</td><td>64.4</td><td>59</td><td>6002</td><td>7.91</td><td>7.85</td><td>5.07</td></tr>\n",
              "\t<tr><td>2.03</td><td>Fair     </td><td>H</td><td>I1</td><td>66.6</td><td>57</td><td>6002</td><td>7.81</td><td>7.75</td><td>5.19</td></tr>\n",
              "\t<tr><td>2.06</td><td>Good     </td><td>H</td><td>I1</td><td>64.3</td><td>58</td><td>6091</td><td>8.03</td><td>7.99</td><td>5.15</td></tr>\n",
              "\t<tr><td>2.08</td><td>Premium  </td><td>H</td><td>I1</td><td>61.7</td><td>57</td><td>6150</td><td>8.23</td><td>8.18</td><td>5.06</td></tr>\n",
              "\t<tr><td>2.49</td><td>Fair     </td><td>J</td><td>I1</td><td>66.3</td><td>58</td><td>6289</td><td>8.26</td><td>8.18</td><td>5.45</td></tr>\n",
              "\t<tr><td>2.01</td><td>Fair     </td><td>G</td><td>I1</td><td>70.2</td><td>57</td><td>6315</td><td>7.53</td><td>7.50</td><td>5.27</td></tr>\n",
              "\t<tr><td>2.14</td><td>Fair     </td><td>H</td><td>I1</td><td>66.4</td><td>56</td><td>6328</td><td>8.00</td><td>7.92</td><td>5.29</td></tr>\n",
              "\t<tr><td>2.00</td><td>Premium  </td><td>H</td><td>I1</td><td>59.7</td><td>62</td><td>6344</td><td>8.19</td><td>8.02</td><td>4.85</td></tr>\n",
              "\t<tr><td>2.02</td><td>Fair     </td><td>G</td><td>I1</td><td>68.0</td><td>55</td><td>6346</td><td>7.77</td><td>7.72</td><td>5.27</td></tr>\n",
              "\t<tr><td>2.02</td><td>Fair     </td><td>G</td><td>I1</td><td>65.6</td><td>57</td><td>6346</td><td>7.87</td><td>7.80</td><td>5.15</td></tr>\n",
              "\t<tr><td>2.15</td><td>Premium  </td><td>H</td><td>I1</td><td>62.9</td><td>57</td><td>6357</td><td>8.25</td><td>8.20</td><td>5.18</td></tr>\n",
              "\t<tr><td>2.03</td><td>Fair     </td><td>G</td><td>I1</td><td>66.3</td><td>56</td><td>6377</td><td>7.81</td><td>7.75</td><td>5.16</td></tr>\n",
              "\t<tr><td>2.03</td><td>Premium  </td><td>G</td><td>I1</td><td>61.1</td><td>58</td><td>6377</td><td>8.11</td><td>8.06</td><td>4.94</td></tr>\n",
              "\t<tr><td>2.07</td><td>Fair     </td><td>G</td><td>I1</td><td>67.7</td><td>56</td><td>6503</td><td>7.76</td><td>7.73</td><td>5.25</td></tr>\n",
              "\t<tr><td>3.00</td><td>Very Good</td><td>H</td><td>I1</td><td>63.1</td><td>55</td><td>6512</td><td>9.23</td><td>9.10</td><td>5.77</td></tr>\n",
              "\t<tr><td>2.00</td><td>Good     </td><td>J</td><td>I1</td><td>63.6</td><td>62</td><td>6521</td><td>7.97</td><td>7.80</td><td>5.02</td></tr>\n",
              "\t<tr><td>2.00</td><td>Fair     </td><td>F</td><td>I1</td><td>66.1</td><td>57</td><td>6532</td><td>7.84</td><td>7.70</td><td>5.14</td></tr>\n",
              "\t<tr><td>2.21</td><td>Premium  </td><td>H</td><td>I1</td><td>62.2</td><td>58</td><td>6535</td><td>8.31</td><td>8.27</td><td>5.16</td></tr>\n",
              "\t<tr><td>2.22</td><td>Fair     </td><td>H</td><td>I1</td><td>70.1</td><td>55</td><td>6564</td><td>7.77</td><td>7.74</td><td>5.44</td></tr>\n",
              "\t<tr><td>2.01</td><td>Very Good</td><td>H</td><td>I1</td><td>58.1</td><td>63</td><td>6592</td><td>8.30</td><td>8.19</td><td>4.79</td></tr>\n",
              "\t<tr><td>⋮</td><td>⋮</td><td>⋮</td><td>⋮</td><td>⋮</td><td>⋮</td><td>⋮</td><td>⋮</td><td>⋮</td><td>⋮</td></tr>\n",
              "\t<tr><td>2.03</td><td>Ideal    </td><td>J</td><td>VS2</td><td>62.1</td><td>57</td><td>13880</td><td>8.15</td><td>8.08</td><td>5.04</td></tr>\n",
              "\t<tr><td>2.12</td><td>Premium  </td><td>E</td><td>SI2</td><td>62.4</td><td>58</td><td>13884</td><td>8.22</td><td>8.18</td><td>5.12</td></tr>\n",
              "\t<tr><td>2.26</td><td>Premium  </td><td>H</td><td>SI2</td><td>61.1</td><td>57</td><td>13885</td><td>8.45</td><td>8.40</td><td>5.15</td></tr>\n",
              "\t<tr><td>2.00</td><td>Very Good</td><td>I</td><td>SI2</td><td>59.5</td><td>61</td><td>13892</td><td>8.16</td><td>8.18</td><td>4.86</td></tr>\n",
              "\t<tr><td>2.28</td><td>Ideal    </td><td>G</td><td>SI2</td><td>61.6</td><td>57</td><td>13907</td><td>8.44</td><td>8.37</td><td>5.18</td></tr>\n",
              "\t<tr><td>2.06</td><td>Premium  </td><td>G</td><td>SI2</td><td>60.7</td><td>58</td><td>13908</td><td>8.18</td><td>8.25</td><td>4.99</td></tr>\n",
              "\t<tr><td>2.06</td><td>Premium  </td><td>I</td><td>SI2</td><td>61.0</td><td>61</td><td>13912</td><td>8.18</td><td>8.10</td><td>5.02</td></tr>\n",
              "\t<tr><td>2.20</td><td>Good     </td><td>H</td><td>SI2</td><td>63.6</td><td>58</td><td>13919</td><td>8.21</td><td>8.17</td><td>5.21</td></tr>\n",
              "\t<tr><td>2.28</td><td>Premium  </td><td>H</td><td>SI1</td><td>59.3</td><td>58</td><td>13919</td><td>8.60</td><td>8.56</td><td>5.09</td></tr>\n",
              "\t<tr><td>2.00</td><td>Ideal    </td><td>I</td><td>SI2</td><td>61.1</td><td>59</td><td>13921</td><td>8.07</td><td>8.11</td><td>4.94</td></tr>\n",
              "\t<tr><td>2.26</td><td>Very Good</td><td>H</td><td>SI2</td><td>63.3</td><td>59</td><td>13923</td><td>8.35</td><td>8.26</td><td>5.25</td></tr>\n",
              "\t<tr><td>2.01</td><td>Good     </td><td>H</td><td>SI1</td><td>56.7</td><td>58</td><td>13929</td><td>8.31</td><td>8.36</td><td>4.73</td></tr>\n",
              "\t<tr><td>2.10</td><td>Premium  </td><td>J</td><td>SI1</td><td>62.9</td><td>58</td><td>13930</td><td>8.15</td><td>8.09</td><td>5.11</td></tr>\n",
              "\t<tr><td>2.23</td><td>Premium  </td><td>J</td><td>SI2</td><td>61.3</td><td>60</td><td>13931</td><td>8.40</td><td>8.35</td><td>5.13</td></tr>\n",
              "\t<tr><td>2.09</td><td>Ideal    </td><td>I</td><td>SI2</td><td>61.2</td><td>57</td><td>13933</td><td>8.27</td><td>8.19</td><td>5.04</td></tr>\n",
              "\t<tr><td>2.18</td><td>Premium  </td><td>J</td><td>SI1</td><td>62.9</td><td>59</td><td>13938</td><td>8.25</td><td>8.21</td><td>5.18</td></tr>\n",
              "\t<tr><td>2.01</td><td>Very Good</td><td>G</td><td>SI2</td><td>61.3</td><td>60</td><td>13940</td><td>8.08</td><td>8.17</td><td>4.98</td></tr>\n",
              "\t<tr><td>2.06</td><td>Very Good</td><td>J</td><td>VS2</td><td>61.8</td><td>59</td><td>13948</td><td>8.14</td><td>8.20</td><td>5.05</td></tr>\n",
              "\t<tr><td>2.08</td><td>Good     </td><td>I</td><td>SI2</td><td>63.8</td><td>58</td><td>13956</td><td>8.02</td><td>8.10</td><td>5.14</td></tr>\n",
              "\t<tr><td>2.01</td><td>Good     </td><td>I</td><td>SI1</td><td>63.8</td><td>57</td><td>13976</td><td>7.95</td><td>7.91</td><td>5.06</td></tr>\n",
              "\t<tr><td>2.19</td><td>Good     </td><td>G</td><td>SI1</td><td>63.7</td><td>56</td><td>13978</td><td>8.26</td><td>8.17</td><td>5.23</td></tr>\n",
              "\t<tr><td>2.21</td><td>Premium  </td><td>H</td><td>SI1</td><td>61.1</td><td>58</td><td>13983</td><td>8.39</td><td>8.34</td><td>5.11</td></tr>\n",
              "\t<tr><td>2.00</td><td>Premium  </td><td>H</td><td>SI1</td><td>59.8</td><td>60</td><td>13986</td><td>8.04</td><td>8.01</td><td>4.80</td></tr>\n",
              "\t<tr><td>2.00</td><td>Premium  </td><td>G</td><td>SI2</td><td>61.1</td><td>60</td><td>13986</td><td>8.10</td><td>8.03</td><td>4.93</td></tr>\n",
              "\t<tr><td>2.02</td><td>Premium  </td><td>I</td><td>SI2</td><td>61.1</td><td>61</td><td>13991</td><td>8.11</td><td>8.08</td><td>4.95</td></tr>\n",
              "\t<tr><td>2.02</td><td>Premium  </td><td>I</td><td>SI2</td><td>62.9</td><td>60</td><td>13991</td><td>8.05</td><td>8.01</td><td>5.05</td></tr>\n",
              "\t<tr><td>2.07</td><td>Premium  </td><td>H</td><td>SI1</td><td>62.7</td><td>58</td><td>13993</td><td>8.14</td><td>8.09</td><td>5.09</td></tr>\n",
              "\t<tr><td>2.07</td><td>Good     </td><td>I</td><td>SI1</td><td>63.6</td><td>58</td><td>13993</td><td>8.09</td><td>7.99</td><td>5.11</td></tr>\n",
              "\t<tr><td>2.13</td><td>Very Good</td><td>J</td><td>SI1</td><td>62.8</td><td>58</td><td>13996</td><td>8.13</td><td>8.17</td><td>5.12</td></tr>\n",
              "\t<tr><td>2.11</td><td>Premium  </td><td>J</td><td>SI1</td><td>62.4</td><td>58</td><td>13996</td><td>8.27</td><td>8.17</td><td>5.13</td></tr>\n",
              "</tbody>\n",
              "</table>\n"
            ]
          },
          "metadata": {
            "tags": []
          }
        }
      ]
    },
    {
      "cell_type": "code",
      "metadata": {
        "id": "5zHO8CpwcQ39",
        "outputId": "3ca1cdbe-fb45-4ed4-fd89-c2ccd6cd6ce0",
        "colab": {
          "base_uri": "https://localhost:8080/",
          "height": 1000
        }
      },
      "source": [
        "# cut이 'Ideal'이거나 'Good'인 데이터 조회\n",
        "diamonds %>% filter(cut=='Ideal' | cut == 'Good')"
      ],
      "execution_count": 173,
      "outputs": [
        {
          "output_type": "display_data",
          "data": {
            "text/plain": [
              "      carat cut   color clarity depth table price x    y    z   \n",
              "1     0.23  Ideal E     SI2     61.5  55.0  326   3.95 3.98 2.43\n",
              "2     0.23  Good  E     VS1     56.9  65.0  327   4.05 4.07 2.31\n",
              "3     0.31  Good  J     SI2     63.3  58.0  335   4.34 4.35 2.75\n",
              "4     0.30  Good  J     SI1     64.0  55.0  339   4.25 4.28 2.73\n",
              "5     0.23  Ideal J     VS1     62.8  56.0  340   3.93 3.90 2.46\n",
              "6     0.31  Ideal J     SI2     62.2  54.0  344   4.35 4.37 2.71\n",
              "7     0.30  Ideal I     SI2     62.0  54.0  348   4.31 4.34 2.68\n",
              "8     0.30  Good  J     SI1     63.4  54.0  351   4.23 4.29 2.70\n",
              "9     0.30  Good  J     SI1     63.8  56.0  351   4.23 4.26 2.71\n",
              "10    0.30  Good  I     SI2     63.3  56.0  351   4.26 4.30 2.71\n",
              "11    0.23  Good  F     VS1     58.2  59.0  402   4.06 4.08 2.37\n",
              "12    0.23  Good  E     VS1     64.1  59.0  402   3.83 3.85 2.46\n",
              "13    0.31  Good  H     SI1     64.0  54.0  402   4.29 4.31 2.75\n",
              "14    0.33  Ideal I     SI2     61.8  55.0  403   4.49 4.51 2.78\n",
              "15    0.33  Ideal I     SI2     61.2  56.0  403   4.49 4.50 2.75\n",
              "16    0.33  Ideal J     SI1     61.1  56.0  403   4.49 4.55 2.76\n",
              "17    0.26  Good  D     VS2     65.2  56.0  403   3.99 4.02 2.61\n",
              "18    0.26  Good  D     VS1     58.4  63.0  403   4.19 4.24 2.46\n",
              "19    0.32  Good  H     SI2     63.1  56.0  403   4.34 4.37 2.75\n",
              "20    0.32  Good  H     SI2     63.8  56.0  403   4.36 4.38 2.79\n",
              "21    0.23  Ideal G     VS1     61.9  54.0  404   3.93 3.95 2.44\n",
              "22    0.32  Ideal I     SI1     60.9  55.0  404   4.45 4.48 2.72\n",
              "23    0.30  Ideal I     SI2     61.0  59.0  405   4.30 4.33 2.63\n",
              "24    0.30  Good  I     SI1     63.2  55.0  405   4.25 4.29 2.70\n",
              "25    0.35  Ideal I     VS1     60.9  57.0  552   4.54 4.59 2.78\n",
              "26    0.30  Ideal D     SI1     62.5  57.0  552   4.29 4.32 2.69\n",
              "27    0.30  Ideal D     SI1     62.1  56.0  552   4.30 4.33 2.68\n",
              "28    0.28  Ideal G     VVS2    61.4  56.0  553   4.19 4.22 2.58\n",
              "29    0.32  Ideal I     VVS1    62.0  55.3  553   4.39 4.42 2.73\n",
              "30    0.30  Good  H     SI1     63.7  57.0  554   4.28 4.26 2.72\n",
              "⋮     ⋮     ⋮     ⋮     ⋮       ⋮     ⋮     ⋮     ⋮    ⋮    ⋮   \n",
              "26428 0.51  Ideal E     VVS1    61.9  54.0  2745  5.17 5.11 3.18\n",
              "26429 0.72  Ideal G     VS1     62.6  53.0  2746  5.76 5.78 3.61\n",
              "26430 0.81  Ideal D     SI1     61.5  57.0  2748  6.00 6.03 3.70\n",
              "26431 0.70  Good  D     VS2     58.0  62.0  2749  5.78 5.87 3.38\n",
              "26432 0.52  Ideal F     IF      61.5  57.0  2749  5.15 5.19 3.18\n",
              "26433 0.80  Ideal G     SI2     62.2  56.0  2749  5.95 5.91 3.69\n",
              "26434 0.73  Good  E     SI1     57.9  55.0  2749  6.00 5.96 3.46\n",
              "26435 0.56  Ideal E     VVS1    62.1  56.0  2750  5.28 5.29 3.28\n",
              "26436 0.70  Ideal F     VS1     62.5  56.0  2751  5.73 5.70 3.57\n",
              "26437 0.70  Ideal F     VS1     62.0  55.0  2751  5.74 5.71 3.55\n",
              "26438 0.71  Ideal G     SI1     60.5  56.4  2751  5.76 5.80 3.50\n",
              "26439 0.70  Good  F     VS1     57.8  61.0  2751  5.83 5.79 3.36\n",
              "26440 0.83  Ideal G     SI2     62.4  54.0  2751  6.01 6.08 3.77\n",
              "26441 1.02  Good  H     I1      64.3  63.0  2751  6.28 6.23 4.02\n",
              "26442 0.72  Ideal H     VVS2    62.3  56.0  2752  5.74 5.81 3.60\n",
              "26443 0.73  Ideal H     VS2     62.5  58.0  2752  5.71 5.75 3.58\n",
              "26444 0.80  Good  G     VS2     64.2  58.0  2753  5.84 5.81 3.74\n",
              "26445 0.84  Good  I     VS1     63.7  59.0  2753  5.94 5.90 3.77\n",
              "26446 0.77  Ideal E     SI2     62.1  56.0  2753  5.84 5.86 3.63\n",
              "26447 0.74  Good  D     SI1     63.1  59.0  2753  5.71 5.74 3.61\n",
              "26448 0.76  Ideal I     VVS1    62.2  55.0  2753  5.89 5.87 3.66\n",
              "26449 0.73  Ideal I     VS2     61.3  56.0  2756  5.80 5.84 3.57\n",
              "26450 0.73  Ideal I     VS2     61.6  55.0  2756  5.82 5.84 3.59\n",
              "26451 0.79  Ideal I     SI1     61.6  56.0  2756  5.95 5.97 3.67\n",
              "26452 0.71  Ideal E     SI1     61.9  56.0  2756  5.71 5.73 3.54\n",
              "26453 0.79  Good  F     SI1     58.1  59.0  2756  6.06 6.13 3.54\n",
              "26454 0.71  Ideal G     VS1     61.4  56.0  2756  5.76 5.73 3.53\n",
              "26455 0.72  Ideal D     SI1     60.8  57.0  2757  5.75 5.76 3.50\n",
              "26456 0.72  Good  D     SI1     63.1  55.0  2757  5.69 5.75 3.61\n",
              "26457 0.75  Ideal D     SI2     62.2  55.0  2757  5.83 5.87 3.64"
            ],
            "text/latex": "A tibble: 26457 × 10\n\\begin{tabular}{llllllllll}\n carat & cut & color & clarity & depth & table & price & x & y & z\\\\\n <dbl> & <ord> & <ord> & <ord> & <dbl> & <dbl> & <int> & <dbl> & <dbl> & <dbl>\\\\\n\\hline\n\t 0.23 & Ideal & E & SI2  & 61.5 & 55.0 & 326 & 3.95 & 3.98 & 2.43\\\\\n\t 0.23 & Good  & E & VS1  & 56.9 & 65.0 & 327 & 4.05 & 4.07 & 2.31\\\\\n\t 0.31 & Good  & J & SI2  & 63.3 & 58.0 & 335 & 4.34 & 4.35 & 2.75\\\\\n\t 0.30 & Good  & J & SI1  & 64.0 & 55.0 & 339 & 4.25 & 4.28 & 2.73\\\\\n\t 0.23 & Ideal & J & VS1  & 62.8 & 56.0 & 340 & 3.93 & 3.90 & 2.46\\\\\n\t 0.31 & Ideal & J & SI2  & 62.2 & 54.0 & 344 & 4.35 & 4.37 & 2.71\\\\\n\t 0.30 & Ideal & I & SI2  & 62.0 & 54.0 & 348 & 4.31 & 4.34 & 2.68\\\\\n\t 0.30 & Good  & J & SI1  & 63.4 & 54.0 & 351 & 4.23 & 4.29 & 2.70\\\\\n\t 0.30 & Good  & J & SI1  & 63.8 & 56.0 & 351 & 4.23 & 4.26 & 2.71\\\\\n\t 0.30 & Good  & I & SI2  & 63.3 & 56.0 & 351 & 4.26 & 4.30 & 2.71\\\\\n\t 0.23 & Good  & F & VS1  & 58.2 & 59.0 & 402 & 4.06 & 4.08 & 2.37\\\\\n\t 0.23 & Good  & E & VS1  & 64.1 & 59.0 & 402 & 3.83 & 3.85 & 2.46\\\\\n\t 0.31 & Good  & H & SI1  & 64.0 & 54.0 & 402 & 4.29 & 4.31 & 2.75\\\\\n\t 0.33 & Ideal & I & SI2  & 61.8 & 55.0 & 403 & 4.49 & 4.51 & 2.78\\\\\n\t 0.33 & Ideal & I & SI2  & 61.2 & 56.0 & 403 & 4.49 & 4.50 & 2.75\\\\\n\t 0.33 & Ideal & J & SI1  & 61.1 & 56.0 & 403 & 4.49 & 4.55 & 2.76\\\\\n\t 0.26 & Good  & D & VS2  & 65.2 & 56.0 & 403 & 3.99 & 4.02 & 2.61\\\\\n\t 0.26 & Good  & D & VS1  & 58.4 & 63.0 & 403 & 4.19 & 4.24 & 2.46\\\\\n\t 0.32 & Good  & H & SI2  & 63.1 & 56.0 & 403 & 4.34 & 4.37 & 2.75\\\\\n\t 0.32 & Good  & H & SI2  & 63.8 & 56.0 & 403 & 4.36 & 4.38 & 2.79\\\\\n\t 0.23 & Ideal & G & VS1  & 61.9 & 54.0 & 404 & 3.93 & 3.95 & 2.44\\\\\n\t 0.32 & Ideal & I & SI1  & 60.9 & 55.0 & 404 & 4.45 & 4.48 & 2.72\\\\\n\t 0.30 & Ideal & I & SI2  & 61.0 & 59.0 & 405 & 4.30 & 4.33 & 2.63\\\\\n\t 0.30 & Good  & I & SI1  & 63.2 & 55.0 & 405 & 4.25 & 4.29 & 2.70\\\\\n\t 0.35 & Ideal & I & VS1  & 60.9 & 57.0 & 552 & 4.54 & 4.59 & 2.78\\\\\n\t 0.30 & Ideal & D & SI1  & 62.5 & 57.0 & 552 & 4.29 & 4.32 & 2.69\\\\\n\t 0.30 & Ideal & D & SI1  & 62.1 & 56.0 & 552 & 4.30 & 4.33 & 2.68\\\\\n\t 0.28 & Ideal & G & VVS2 & 61.4 & 56.0 & 553 & 4.19 & 4.22 & 2.58\\\\\n\t 0.32 & Ideal & I & VVS1 & 62.0 & 55.3 & 553 & 4.39 & 4.42 & 2.73\\\\\n\t 0.30 & Good  & H & SI1  & 63.7 & 57.0 & 554 & 4.28 & 4.26 & 2.72\\\\\n\t ⋮ & ⋮ & ⋮ & ⋮ & ⋮ & ⋮ & ⋮ & ⋮ & ⋮ & ⋮\\\\\n\t 0.51 & Ideal & E & VVS1 & 61.9 & 54.0 & 2745 & 5.17 & 5.11 & 3.18\\\\\n\t 0.72 & Ideal & G & VS1  & 62.6 & 53.0 & 2746 & 5.76 & 5.78 & 3.61\\\\\n\t 0.81 & Ideal & D & SI1  & 61.5 & 57.0 & 2748 & 6.00 & 6.03 & 3.70\\\\\n\t 0.70 & Good  & D & VS2  & 58.0 & 62.0 & 2749 & 5.78 & 5.87 & 3.38\\\\\n\t 0.52 & Ideal & F & IF   & 61.5 & 57.0 & 2749 & 5.15 & 5.19 & 3.18\\\\\n\t 0.80 & Ideal & G & SI2  & 62.2 & 56.0 & 2749 & 5.95 & 5.91 & 3.69\\\\\n\t 0.73 & Good  & E & SI1  & 57.9 & 55.0 & 2749 & 6.00 & 5.96 & 3.46\\\\\n\t 0.56 & Ideal & E & VVS1 & 62.1 & 56.0 & 2750 & 5.28 & 5.29 & 3.28\\\\\n\t 0.70 & Ideal & F & VS1  & 62.5 & 56.0 & 2751 & 5.73 & 5.70 & 3.57\\\\\n\t 0.70 & Ideal & F & VS1  & 62.0 & 55.0 & 2751 & 5.74 & 5.71 & 3.55\\\\\n\t 0.71 & Ideal & G & SI1  & 60.5 & 56.4 & 2751 & 5.76 & 5.80 & 3.50\\\\\n\t 0.70 & Good  & F & VS1  & 57.8 & 61.0 & 2751 & 5.83 & 5.79 & 3.36\\\\\n\t 0.83 & Ideal & G & SI2  & 62.4 & 54.0 & 2751 & 6.01 & 6.08 & 3.77\\\\\n\t 1.02 & Good  & H & I1   & 64.3 & 63.0 & 2751 & 6.28 & 6.23 & 4.02\\\\\n\t 0.72 & Ideal & H & VVS2 & 62.3 & 56.0 & 2752 & 5.74 & 5.81 & 3.60\\\\\n\t 0.73 & Ideal & H & VS2  & 62.5 & 58.0 & 2752 & 5.71 & 5.75 & 3.58\\\\\n\t 0.80 & Good  & G & VS2  & 64.2 & 58.0 & 2753 & 5.84 & 5.81 & 3.74\\\\\n\t 0.84 & Good  & I & VS1  & 63.7 & 59.0 & 2753 & 5.94 & 5.90 & 3.77\\\\\n\t 0.77 & Ideal & E & SI2  & 62.1 & 56.0 & 2753 & 5.84 & 5.86 & 3.63\\\\\n\t 0.74 & Good  & D & SI1  & 63.1 & 59.0 & 2753 & 5.71 & 5.74 & 3.61\\\\\n\t 0.76 & Ideal & I & VVS1 & 62.2 & 55.0 & 2753 & 5.89 & 5.87 & 3.66\\\\\n\t 0.73 & Ideal & I & VS2  & 61.3 & 56.0 & 2756 & 5.80 & 5.84 & 3.57\\\\\n\t 0.73 & Ideal & I & VS2  & 61.6 & 55.0 & 2756 & 5.82 & 5.84 & 3.59\\\\\n\t 0.79 & Ideal & I & SI1  & 61.6 & 56.0 & 2756 & 5.95 & 5.97 & 3.67\\\\\n\t 0.71 & Ideal & E & SI1  & 61.9 & 56.0 & 2756 & 5.71 & 5.73 & 3.54\\\\\n\t 0.79 & Good  & F & SI1  & 58.1 & 59.0 & 2756 & 6.06 & 6.13 & 3.54\\\\\n\t 0.71 & Ideal & G & VS1  & 61.4 & 56.0 & 2756 & 5.76 & 5.73 & 3.53\\\\\n\t 0.72 & Ideal & D & SI1  & 60.8 & 57.0 & 2757 & 5.75 & 5.76 & 3.50\\\\\n\t 0.72 & Good  & D & SI1  & 63.1 & 55.0 & 2757 & 5.69 & 5.75 & 3.61\\\\\n\t 0.75 & Ideal & D & SI2  & 62.2 & 55.0 & 2757 & 5.83 & 5.87 & 3.64\\\\\n\\end{tabular}\n",
            "text/markdown": "\nA tibble: 26457 × 10\n\n| carat &lt;dbl&gt; | cut &lt;ord&gt; | color &lt;ord&gt; | clarity &lt;ord&gt; | depth &lt;dbl&gt; | table &lt;dbl&gt; | price &lt;int&gt; | x &lt;dbl&gt; | y &lt;dbl&gt; | z &lt;dbl&gt; |\n|---|---|---|---|---|---|---|---|---|---|\n| 0.23 | Ideal | E | SI2  | 61.5 | 55.0 | 326 | 3.95 | 3.98 | 2.43 |\n| 0.23 | Good  | E | VS1  | 56.9 | 65.0 | 327 | 4.05 | 4.07 | 2.31 |\n| 0.31 | Good  | J | SI2  | 63.3 | 58.0 | 335 | 4.34 | 4.35 | 2.75 |\n| 0.30 | Good  | J | SI1  | 64.0 | 55.0 | 339 | 4.25 | 4.28 | 2.73 |\n| 0.23 | Ideal | J | VS1  | 62.8 | 56.0 | 340 | 3.93 | 3.90 | 2.46 |\n| 0.31 | Ideal | J | SI2  | 62.2 | 54.0 | 344 | 4.35 | 4.37 | 2.71 |\n| 0.30 | Ideal | I | SI2  | 62.0 | 54.0 | 348 | 4.31 | 4.34 | 2.68 |\n| 0.30 | Good  | J | SI1  | 63.4 | 54.0 | 351 | 4.23 | 4.29 | 2.70 |\n| 0.30 | Good  | J | SI1  | 63.8 | 56.0 | 351 | 4.23 | 4.26 | 2.71 |\n| 0.30 | Good  | I | SI2  | 63.3 | 56.0 | 351 | 4.26 | 4.30 | 2.71 |\n| 0.23 | Good  | F | VS1  | 58.2 | 59.0 | 402 | 4.06 | 4.08 | 2.37 |\n| 0.23 | Good  | E | VS1  | 64.1 | 59.0 | 402 | 3.83 | 3.85 | 2.46 |\n| 0.31 | Good  | H | SI1  | 64.0 | 54.0 | 402 | 4.29 | 4.31 | 2.75 |\n| 0.33 | Ideal | I | SI2  | 61.8 | 55.0 | 403 | 4.49 | 4.51 | 2.78 |\n| 0.33 | Ideal | I | SI2  | 61.2 | 56.0 | 403 | 4.49 | 4.50 | 2.75 |\n| 0.33 | Ideal | J | SI1  | 61.1 | 56.0 | 403 | 4.49 | 4.55 | 2.76 |\n| 0.26 | Good  | D | VS2  | 65.2 | 56.0 | 403 | 3.99 | 4.02 | 2.61 |\n| 0.26 | Good  | D | VS1  | 58.4 | 63.0 | 403 | 4.19 | 4.24 | 2.46 |\n| 0.32 | Good  | H | SI2  | 63.1 | 56.0 | 403 | 4.34 | 4.37 | 2.75 |\n| 0.32 | Good  | H | SI2  | 63.8 | 56.0 | 403 | 4.36 | 4.38 | 2.79 |\n| 0.23 | Ideal | G | VS1  | 61.9 | 54.0 | 404 | 3.93 | 3.95 | 2.44 |\n| 0.32 | Ideal | I | SI1  | 60.9 | 55.0 | 404 | 4.45 | 4.48 | 2.72 |\n| 0.30 | Ideal | I | SI2  | 61.0 | 59.0 | 405 | 4.30 | 4.33 | 2.63 |\n| 0.30 | Good  | I | SI1  | 63.2 | 55.0 | 405 | 4.25 | 4.29 | 2.70 |\n| 0.35 | Ideal | I | VS1  | 60.9 | 57.0 | 552 | 4.54 | 4.59 | 2.78 |\n| 0.30 | Ideal | D | SI1  | 62.5 | 57.0 | 552 | 4.29 | 4.32 | 2.69 |\n| 0.30 | Ideal | D | SI1  | 62.1 | 56.0 | 552 | 4.30 | 4.33 | 2.68 |\n| 0.28 | Ideal | G | VVS2 | 61.4 | 56.0 | 553 | 4.19 | 4.22 | 2.58 |\n| 0.32 | Ideal | I | VVS1 | 62.0 | 55.3 | 553 | 4.39 | 4.42 | 2.73 |\n| 0.30 | Good  | H | SI1  | 63.7 | 57.0 | 554 | 4.28 | 4.26 | 2.72 |\n| ⋮ | ⋮ | ⋮ | ⋮ | ⋮ | ⋮ | ⋮ | ⋮ | ⋮ | ⋮ |\n| 0.51 | Ideal | E | VVS1 | 61.9 | 54.0 | 2745 | 5.17 | 5.11 | 3.18 |\n| 0.72 | Ideal | G | VS1  | 62.6 | 53.0 | 2746 | 5.76 | 5.78 | 3.61 |\n| 0.81 | Ideal | D | SI1  | 61.5 | 57.0 | 2748 | 6.00 | 6.03 | 3.70 |\n| 0.70 | Good  | D | VS2  | 58.0 | 62.0 | 2749 | 5.78 | 5.87 | 3.38 |\n| 0.52 | Ideal | F | IF   | 61.5 | 57.0 | 2749 | 5.15 | 5.19 | 3.18 |\n| 0.80 | Ideal | G | SI2  | 62.2 | 56.0 | 2749 | 5.95 | 5.91 | 3.69 |\n| 0.73 | Good  | E | SI1  | 57.9 | 55.0 | 2749 | 6.00 | 5.96 | 3.46 |\n| 0.56 | Ideal | E | VVS1 | 62.1 | 56.0 | 2750 | 5.28 | 5.29 | 3.28 |\n| 0.70 | Ideal | F | VS1  | 62.5 | 56.0 | 2751 | 5.73 | 5.70 | 3.57 |\n| 0.70 | Ideal | F | VS1  | 62.0 | 55.0 | 2751 | 5.74 | 5.71 | 3.55 |\n| 0.71 | Ideal | G | SI1  | 60.5 | 56.4 | 2751 | 5.76 | 5.80 | 3.50 |\n| 0.70 | Good  | F | VS1  | 57.8 | 61.0 | 2751 | 5.83 | 5.79 | 3.36 |\n| 0.83 | Ideal | G | SI2  | 62.4 | 54.0 | 2751 | 6.01 | 6.08 | 3.77 |\n| 1.02 | Good  | H | I1   | 64.3 | 63.0 | 2751 | 6.28 | 6.23 | 4.02 |\n| 0.72 | Ideal | H | VVS2 | 62.3 | 56.0 | 2752 | 5.74 | 5.81 | 3.60 |\n| 0.73 | Ideal | H | VS2  | 62.5 | 58.0 | 2752 | 5.71 | 5.75 | 3.58 |\n| 0.80 | Good  | G | VS2  | 64.2 | 58.0 | 2753 | 5.84 | 5.81 | 3.74 |\n| 0.84 | Good  | I | VS1  | 63.7 | 59.0 | 2753 | 5.94 | 5.90 | 3.77 |\n| 0.77 | Ideal | E | SI2  | 62.1 | 56.0 | 2753 | 5.84 | 5.86 | 3.63 |\n| 0.74 | Good  | D | SI1  | 63.1 | 59.0 | 2753 | 5.71 | 5.74 | 3.61 |\n| 0.76 | Ideal | I | VVS1 | 62.2 | 55.0 | 2753 | 5.89 | 5.87 | 3.66 |\n| 0.73 | Ideal | I | VS2  | 61.3 | 56.0 | 2756 | 5.80 | 5.84 | 3.57 |\n| 0.73 | Ideal | I | VS2  | 61.6 | 55.0 | 2756 | 5.82 | 5.84 | 3.59 |\n| 0.79 | Ideal | I | SI1  | 61.6 | 56.0 | 2756 | 5.95 | 5.97 | 3.67 |\n| 0.71 | Ideal | E | SI1  | 61.9 | 56.0 | 2756 | 5.71 | 5.73 | 3.54 |\n| 0.79 | Good  | F | SI1  | 58.1 | 59.0 | 2756 | 6.06 | 6.13 | 3.54 |\n| 0.71 | Ideal | G | VS1  | 61.4 | 56.0 | 2756 | 5.76 | 5.73 | 3.53 |\n| 0.72 | Ideal | D | SI1  | 60.8 | 57.0 | 2757 | 5.75 | 5.76 | 3.50 |\n| 0.72 | Good  | D | SI1  | 63.1 | 55.0 | 2757 | 5.69 | 5.75 | 3.61 |\n| 0.75 | Ideal | D | SI2  | 62.2 | 55.0 | 2757 | 5.83 | 5.87 | 3.64 |\n\n",
            "text/html": [
              "<table>\n",
              "<caption>A tibble: 26457 × 10</caption>\n",
              "<thead>\n",
              "\t<tr><th scope=col>carat</th><th scope=col>cut</th><th scope=col>color</th><th scope=col>clarity</th><th scope=col>depth</th><th scope=col>table</th><th scope=col>price</th><th scope=col>x</th><th scope=col>y</th><th scope=col>z</th></tr>\n",
              "\t<tr><th scope=col>&lt;dbl&gt;</th><th scope=col>&lt;ord&gt;</th><th scope=col>&lt;ord&gt;</th><th scope=col>&lt;ord&gt;</th><th scope=col>&lt;dbl&gt;</th><th scope=col>&lt;dbl&gt;</th><th scope=col>&lt;int&gt;</th><th scope=col>&lt;dbl&gt;</th><th scope=col>&lt;dbl&gt;</th><th scope=col>&lt;dbl&gt;</th></tr>\n",
              "</thead>\n",
              "<tbody>\n",
              "\t<tr><td>0.23</td><td>Ideal</td><td>E</td><td>SI2 </td><td>61.5</td><td>55.0</td><td>326</td><td>3.95</td><td>3.98</td><td>2.43</td></tr>\n",
              "\t<tr><td>0.23</td><td>Good </td><td>E</td><td>VS1 </td><td>56.9</td><td>65.0</td><td>327</td><td>4.05</td><td>4.07</td><td>2.31</td></tr>\n",
              "\t<tr><td>0.31</td><td>Good </td><td>J</td><td>SI2 </td><td>63.3</td><td>58.0</td><td>335</td><td>4.34</td><td>4.35</td><td>2.75</td></tr>\n",
              "\t<tr><td>0.30</td><td>Good </td><td>J</td><td>SI1 </td><td>64.0</td><td>55.0</td><td>339</td><td>4.25</td><td>4.28</td><td>2.73</td></tr>\n",
              "\t<tr><td>0.23</td><td>Ideal</td><td>J</td><td>VS1 </td><td>62.8</td><td>56.0</td><td>340</td><td>3.93</td><td>3.90</td><td>2.46</td></tr>\n",
              "\t<tr><td>0.31</td><td>Ideal</td><td>J</td><td>SI2 </td><td>62.2</td><td>54.0</td><td>344</td><td>4.35</td><td>4.37</td><td>2.71</td></tr>\n",
              "\t<tr><td>0.30</td><td>Ideal</td><td>I</td><td>SI2 </td><td>62.0</td><td>54.0</td><td>348</td><td>4.31</td><td>4.34</td><td>2.68</td></tr>\n",
              "\t<tr><td>0.30</td><td>Good </td><td>J</td><td>SI1 </td><td>63.4</td><td>54.0</td><td>351</td><td>4.23</td><td>4.29</td><td>2.70</td></tr>\n",
              "\t<tr><td>0.30</td><td>Good </td><td>J</td><td>SI1 </td><td>63.8</td><td>56.0</td><td>351</td><td>4.23</td><td>4.26</td><td>2.71</td></tr>\n",
              "\t<tr><td>0.30</td><td>Good </td><td>I</td><td>SI2 </td><td>63.3</td><td>56.0</td><td>351</td><td>4.26</td><td>4.30</td><td>2.71</td></tr>\n",
              "\t<tr><td>0.23</td><td>Good </td><td>F</td><td>VS1 </td><td>58.2</td><td>59.0</td><td>402</td><td>4.06</td><td>4.08</td><td>2.37</td></tr>\n",
              "\t<tr><td>0.23</td><td>Good </td><td>E</td><td>VS1 </td><td>64.1</td><td>59.0</td><td>402</td><td>3.83</td><td>3.85</td><td>2.46</td></tr>\n",
              "\t<tr><td>0.31</td><td>Good </td><td>H</td><td>SI1 </td><td>64.0</td><td>54.0</td><td>402</td><td>4.29</td><td>4.31</td><td>2.75</td></tr>\n",
              "\t<tr><td>0.33</td><td>Ideal</td><td>I</td><td>SI2 </td><td>61.8</td><td>55.0</td><td>403</td><td>4.49</td><td>4.51</td><td>2.78</td></tr>\n",
              "\t<tr><td>0.33</td><td>Ideal</td><td>I</td><td>SI2 </td><td>61.2</td><td>56.0</td><td>403</td><td>4.49</td><td>4.50</td><td>2.75</td></tr>\n",
              "\t<tr><td>0.33</td><td>Ideal</td><td>J</td><td>SI1 </td><td>61.1</td><td>56.0</td><td>403</td><td>4.49</td><td>4.55</td><td>2.76</td></tr>\n",
              "\t<tr><td>0.26</td><td>Good </td><td>D</td><td>VS2 </td><td>65.2</td><td>56.0</td><td>403</td><td>3.99</td><td>4.02</td><td>2.61</td></tr>\n",
              "\t<tr><td>0.26</td><td>Good </td><td>D</td><td>VS1 </td><td>58.4</td><td>63.0</td><td>403</td><td>4.19</td><td>4.24</td><td>2.46</td></tr>\n",
              "\t<tr><td>0.32</td><td>Good </td><td>H</td><td>SI2 </td><td>63.1</td><td>56.0</td><td>403</td><td>4.34</td><td>4.37</td><td>2.75</td></tr>\n",
              "\t<tr><td>0.32</td><td>Good </td><td>H</td><td>SI2 </td><td>63.8</td><td>56.0</td><td>403</td><td>4.36</td><td>4.38</td><td>2.79</td></tr>\n",
              "\t<tr><td>0.23</td><td>Ideal</td><td>G</td><td>VS1 </td><td>61.9</td><td>54.0</td><td>404</td><td>3.93</td><td>3.95</td><td>2.44</td></tr>\n",
              "\t<tr><td>0.32</td><td>Ideal</td><td>I</td><td>SI1 </td><td>60.9</td><td>55.0</td><td>404</td><td>4.45</td><td>4.48</td><td>2.72</td></tr>\n",
              "\t<tr><td>0.30</td><td>Ideal</td><td>I</td><td>SI2 </td><td>61.0</td><td>59.0</td><td>405</td><td>4.30</td><td>4.33</td><td>2.63</td></tr>\n",
              "\t<tr><td>0.30</td><td>Good </td><td>I</td><td>SI1 </td><td>63.2</td><td>55.0</td><td>405</td><td>4.25</td><td>4.29</td><td>2.70</td></tr>\n",
              "\t<tr><td>0.35</td><td>Ideal</td><td>I</td><td>VS1 </td><td>60.9</td><td>57.0</td><td>552</td><td>4.54</td><td>4.59</td><td>2.78</td></tr>\n",
              "\t<tr><td>0.30</td><td>Ideal</td><td>D</td><td>SI1 </td><td>62.5</td><td>57.0</td><td>552</td><td>4.29</td><td>4.32</td><td>2.69</td></tr>\n",
              "\t<tr><td>0.30</td><td>Ideal</td><td>D</td><td>SI1 </td><td>62.1</td><td>56.0</td><td>552</td><td>4.30</td><td>4.33</td><td>2.68</td></tr>\n",
              "\t<tr><td>0.28</td><td>Ideal</td><td>G</td><td>VVS2</td><td>61.4</td><td>56.0</td><td>553</td><td>4.19</td><td>4.22</td><td>2.58</td></tr>\n",
              "\t<tr><td>0.32</td><td>Ideal</td><td>I</td><td>VVS1</td><td>62.0</td><td>55.3</td><td>553</td><td>4.39</td><td>4.42</td><td>2.73</td></tr>\n",
              "\t<tr><td>0.30</td><td>Good </td><td>H</td><td>SI1 </td><td>63.7</td><td>57.0</td><td>554</td><td>4.28</td><td>4.26</td><td>2.72</td></tr>\n",
              "\t<tr><td>⋮</td><td>⋮</td><td>⋮</td><td>⋮</td><td>⋮</td><td>⋮</td><td>⋮</td><td>⋮</td><td>⋮</td><td>⋮</td></tr>\n",
              "\t<tr><td>0.51</td><td>Ideal</td><td>E</td><td>VVS1</td><td>61.9</td><td>54.0</td><td>2745</td><td>5.17</td><td>5.11</td><td>3.18</td></tr>\n",
              "\t<tr><td>0.72</td><td>Ideal</td><td>G</td><td>VS1 </td><td>62.6</td><td>53.0</td><td>2746</td><td>5.76</td><td>5.78</td><td>3.61</td></tr>\n",
              "\t<tr><td>0.81</td><td>Ideal</td><td>D</td><td>SI1 </td><td>61.5</td><td>57.0</td><td>2748</td><td>6.00</td><td>6.03</td><td>3.70</td></tr>\n",
              "\t<tr><td>0.70</td><td>Good </td><td>D</td><td>VS2 </td><td>58.0</td><td>62.0</td><td>2749</td><td>5.78</td><td>5.87</td><td>3.38</td></tr>\n",
              "\t<tr><td>0.52</td><td>Ideal</td><td>F</td><td>IF  </td><td>61.5</td><td>57.0</td><td>2749</td><td>5.15</td><td>5.19</td><td>3.18</td></tr>\n",
              "\t<tr><td>0.80</td><td>Ideal</td><td>G</td><td>SI2 </td><td>62.2</td><td>56.0</td><td>2749</td><td>5.95</td><td>5.91</td><td>3.69</td></tr>\n",
              "\t<tr><td>0.73</td><td>Good </td><td>E</td><td>SI1 </td><td>57.9</td><td>55.0</td><td>2749</td><td>6.00</td><td>5.96</td><td>3.46</td></tr>\n",
              "\t<tr><td>0.56</td><td>Ideal</td><td>E</td><td>VVS1</td><td>62.1</td><td>56.0</td><td>2750</td><td>5.28</td><td>5.29</td><td>3.28</td></tr>\n",
              "\t<tr><td>0.70</td><td>Ideal</td><td>F</td><td>VS1 </td><td>62.5</td><td>56.0</td><td>2751</td><td>5.73</td><td>5.70</td><td>3.57</td></tr>\n",
              "\t<tr><td>0.70</td><td>Ideal</td><td>F</td><td>VS1 </td><td>62.0</td><td>55.0</td><td>2751</td><td>5.74</td><td>5.71</td><td>3.55</td></tr>\n",
              "\t<tr><td>0.71</td><td>Ideal</td><td>G</td><td>SI1 </td><td>60.5</td><td>56.4</td><td>2751</td><td>5.76</td><td>5.80</td><td>3.50</td></tr>\n",
              "\t<tr><td>0.70</td><td>Good </td><td>F</td><td>VS1 </td><td>57.8</td><td>61.0</td><td>2751</td><td>5.83</td><td>5.79</td><td>3.36</td></tr>\n",
              "\t<tr><td>0.83</td><td>Ideal</td><td>G</td><td>SI2 </td><td>62.4</td><td>54.0</td><td>2751</td><td>6.01</td><td>6.08</td><td>3.77</td></tr>\n",
              "\t<tr><td>1.02</td><td>Good </td><td>H</td><td>I1  </td><td>64.3</td><td>63.0</td><td>2751</td><td>6.28</td><td>6.23</td><td>4.02</td></tr>\n",
              "\t<tr><td>0.72</td><td>Ideal</td><td>H</td><td>VVS2</td><td>62.3</td><td>56.0</td><td>2752</td><td>5.74</td><td>5.81</td><td>3.60</td></tr>\n",
              "\t<tr><td>0.73</td><td>Ideal</td><td>H</td><td>VS2 </td><td>62.5</td><td>58.0</td><td>2752</td><td>5.71</td><td>5.75</td><td>3.58</td></tr>\n",
              "\t<tr><td>0.80</td><td>Good </td><td>G</td><td>VS2 </td><td>64.2</td><td>58.0</td><td>2753</td><td>5.84</td><td>5.81</td><td>3.74</td></tr>\n",
              "\t<tr><td>0.84</td><td>Good </td><td>I</td><td>VS1 </td><td>63.7</td><td>59.0</td><td>2753</td><td>5.94</td><td>5.90</td><td>3.77</td></tr>\n",
              "\t<tr><td>0.77</td><td>Ideal</td><td>E</td><td>SI2 </td><td>62.1</td><td>56.0</td><td>2753</td><td>5.84</td><td>5.86</td><td>3.63</td></tr>\n",
              "\t<tr><td>0.74</td><td>Good </td><td>D</td><td>SI1 </td><td>63.1</td><td>59.0</td><td>2753</td><td>5.71</td><td>5.74</td><td>3.61</td></tr>\n",
              "\t<tr><td>0.76</td><td>Ideal</td><td>I</td><td>VVS1</td><td>62.2</td><td>55.0</td><td>2753</td><td>5.89</td><td>5.87</td><td>3.66</td></tr>\n",
              "\t<tr><td>0.73</td><td>Ideal</td><td>I</td><td>VS2 </td><td>61.3</td><td>56.0</td><td>2756</td><td>5.80</td><td>5.84</td><td>3.57</td></tr>\n",
              "\t<tr><td>0.73</td><td>Ideal</td><td>I</td><td>VS2 </td><td>61.6</td><td>55.0</td><td>2756</td><td>5.82</td><td>5.84</td><td>3.59</td></tr>\n",
              "\t<tr><td>0.79</td><td>Ideal</td><td>I</td><td>SI1 </td><td>61.6</td><td>56.0</td><td>2756</td><td>5.95</td><td>5.97</td><td>3.67</td></tr>\n",
              "\t<tr><td>0.71</td><td>Ideal</td><td>E</td><td>SI1 </td><td>61.9</td><td>56.0</td><td>2756</td><td>5.71</td><td>5.73</td><td>3.54</td></tr>\n",
              "\t<tr><td>0.79</td><td>Good </td><td>F</td><td>SI1 </td><td>58.1</td><td>59.0</td><td>2756</td><td>6.06</td><td>6.13</td><td>3.54</td></tr>\n",
              "\t<tr><td>0.71</td><td>Ideal</td><td>G</td><td>VS1 </td><td>61.4</td><td>56.0</td><td>2756</td><td>5.76</td><td>5.73</td><td>3.53</td></tr>\n",
              "\t<tr><td>0.72</td><td>Ideal</td><td>D</td><td>SI1 </td><td>60.8</td><td>57.0</td><td>2757</td><td>5.75</td><td>5.76</td><td>3.50</td></tr>\n",
              "\t<tr><td>0.72</td><td>Good </td><td>D</td><td>SI1 </td><td>63.1</td><td>55.0</td><td>2757</td><td>5.69</td><td>5.75</td><td>3.61</td></tr>\n",
              "\t<tr><td>0.75</td><td>Ideal</td><td>D</td><td>SI2 </td><td>62.2</td><td>55.0</td><td>2757</td><td>5.83</td><td>5.87</td><td>3.64</td></tr>\n",
              "</tbody>\n",
              "</table>\n"
            ]
          },
          "metadata": {
            "tags": []
          }
        }
      ]
    }
  ]
}